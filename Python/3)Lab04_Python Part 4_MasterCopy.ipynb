{
 "cells": [
  {
   "cell_type": "markdown",
   "metadata": {},
   "source": [
    "### Agenda\n",
    "* Modules\n",
    "    * What is Module\n",
    "    * Ways to import a Module\n",
    "* Classes basics\n",
    "* Excepton handling basics\n",
    "    * try and except block\n",
    "    * Raising exception\n",
    "* Assert Keyword"
   ]
  },
  {
   "cell_type": "markdown",
   "metadata": {},
   "source": [
    "## Modules\n",
    "* A `module` is a __file__ containing Python `definitions` and `statements`. \n",
    "* The `file` __name__ is the `module` __name__ with the suffix `.py` appended. \n",
    "* Within a module, the module’s name (as a string) is available as the value of the global variable __name__. "
   ]
  },
  {
   "cell_type": "markdown",
   "metadata": {},
   "source": [
    "#### Create a file called `calculator.py` with the following:"
   ]
  },
  {
   "cell_type": "code",
   "execution_count": null,
   "metadata": {},
   "outputs": [],
   "source": [
    "def add(num1, num2):                  \n",
    "    return num1 + num2 \n",
    "\n",
    "def subtract(num1, num2):\n",
    "    return num1 + num2\n",
    "\n",
    "def multiply(num1, num2): \n",
    "    return num1 * num2\n",
    "\n",
    "def divide(num1, num2): \n",
    "    return num1 / num2"
   ]
  },
  {
   "cell_type": "markdown",
   "metadata": {},
   "source": [
    "#### Import `calculator` module with the following command"
   ]
  },
  {
   "cell_type": "code",
   "execution_count": null,
   "metadata": {},
   "outputs": [],
   "source": [
    "import calculator\n",
    "\n",
    "# Calling functions in calculator module\n",
    "print(calculator.add(20, 10))\n",
    "print(calculator.subtract(20, 10))\n",
    "print(calculator.multiply(20, 10))\n",
    "print(calculator.divide(20, 10))"
   ]
  },
  {
   "cell_type": "markdown",
   "metadata": {},
   "source": [
    "#### Import `calculator` module with the following command"
   ]
  },
  {
   "cell_type": "code",
   "execution_count": null,
   "metadata": {},
   "outputs": [],
   "source": [
    "import calculator as cal\n",
    "\n",
    "# Calling add and subtract function in the calculator module\n",
    "print(cal.add(20, 10))\n",
    "print(cal.subtract(20, 10))"
   ]
  },
  {
   "cell_type": "markdown",
   "metadata": {},
   "source": [
    "#### Import only `multiply()` function in the `calculator` module with the following command"
   ]
  },
  {
   "cell_type": "code",
   "execution_count": null,
   "metadata": {},
   "outputs": [],
   "source": [
    "from calculator import multiply\n",
    "\n",
    "# Calling multiply() function in Calculator module\n",
    "multiply(2, 5)"
   ]
  },
  {
   "cell_type": "markdown",
   "metadata": {},
   "source": [
    "#### import `all names` that a module defines:\n",
    "Note: This imports all names except those beginning with an underscore `_`."
   ]
  },
  {
   "cell_type": "code",
   "execution_count": null,
   "metadata": {},
   "outputs": [],
   "source": [
    "from calculator import *\n",
    "\n",
    "print(add(20, 10))\n",
    "print(subtract(20, 10))\n",
    "print(multiply(20, 10))\n",
    "print(divide(20, 10))"
   ]
  },
  {
   "cell_type": "markdown",
   "metadata": {},
   "source": [
    "## Classes basics\n",
    "\n",
    "    Classes provide a means of bundling data and functionality together. \n",
    "\n",
    "    Creating a new class creates a new type of object, allowing new instances of that type to be made. "
   ]
  },
  {
   "cell_type": "code",
   "execution_count": null,
   "metadata": {},
   "outputs": [],
   "source": [
    "class User:\n",
    "    \"\"\"This is a user created class\"\"\""
   ]
  },
  {
   "cell_type": "code",
   "execution_count": null,
   "metadata": {},
   "outputs": [],
   "source": [
    "user1 = User()"
   ]
  },
  {
   "cell_type": "markdown",
   "metadata": {},
   "source": [
    "    user1 is an \"instance\" of User\n",
    "\n",
    "    user1 is an \"object\" of type User"
   ]
  },
  {
   "cell_type": "code",
   "execution_count": null,
   "metadata": {},
   "outputs": [],
   "source": [
    "class Person:\n",
    "\n",
    "    ''' Person is allergic to apples'''\n",
    "    \n",
    "    def __init__(self, name):\n",
    "        self.name = name\n",
    "        self.health = 100\n",
    "        \n",
    "    def eat(self, food):\n",
    "        if(food == \"apple\"):\n",
    "            self.health -= 100\n",
    "        elif(food == \"orange\"):\n",
    "            self.health += 50\n",
    "\n",
    "bob = Person(\"Bob\")\n",
    "\n",
    "print(bob.name)\n",
    "\n",
    "print(type(bob))\n",
    "\n",
    "# Person.eat(bob, \"apple\")\n",
    "\n",
    "bob.eat(\"apple\")\n",
    "\n",
    "print(bob.health)"
   ]
  },
  {
   "cell_type": "markdown",
   "metadata": {},
   "source": [
    "## Errors and Exceptions\n",
    "There are (at least) two distinguishable kinds of `errors`: __syntax errors__ and __exceptions__."
   ]
  },
  {
   "cell_type": "markdown",
   "metadata": {},
   "source": [
    "### Syntax Errors\n",
    "\n",
    "    Syntax errors occur when the parser detects an incorrect statement. For e.g."
   ]
  },
  {
   "cell_type": "code",
   "execution_count": null,
   "metadata": {},
   "outputs": [],
   "source": [
    "(20 / 0))"
   ]
  },
  {
   "cell_type": "code",
   "execution_count": null,
   "metadata": {},
   "outputs": [],
   "source": [
    "(20 / 0)"
   ]
  },
  {
   "cell_type": "markdown",
   "metadata": {},
   "source": [
    "### Exceptions\n",
    "\n",
    "    Even if a statement or expression is syntactically correct, it may cause an error when an attempt is made to execute it. Errors detected during execution are called exceptions and are not unconditionally fatal:\n",
    "\n",
    "In the above code you ran into an `exception`. The last line of the message indicated what type of exception you ran into."
   ]
  },
  {
   "cell_type": "markdown",
   "metadata": {},
   "source": [
    "### Intro to Python Exceptions\n",
    "\n",
    "    It is possible to write programs that handle selected exceptions."
   ]
  },
  {
   "cell_type": "code",
   "execution_count": null,
   "metadata": {},
   "outputs": [],
   "source": [
    "def divide(x, y):\n",
    "        result = x / y"
   ]
  },
  {
   "cell_type": "code",
   "execution_count": null,
   "metadata": {},
   "outputs": [],
   "source": [
    "divide(2, 1)"
   ]
  },
  {
   "cell_type": "code",
   "execution_count": null,
   "metadata": {},
   "outputs": [],
   "source": [
    "divide(2, 0)"
   ]
  },
  {
   "cell_type": "markdown",
   "metadata": {},
   "source": [
    "![](img/PythonExceptions.png)"
   ]
  },
  {
   "cell_type": "code",
   "execution_count": null,
   "metadata": {},
   "outputs": [],
   "source": [
    "def divide(x, y):\n",
    "    try:\n",
    "        result = x / y\n",
    "    except ZeroDivisionError:\n",
    "        print(\"Shouldn't divide by zero\")"
   ]
  },
  {
   "cell_type": "code",
   "execution_count": null,
   "metadata": {},
   "outputs": [],
   "source": [
    "divide(2, 1)"
   ]
  },
  {
   "cell_type": "code",
   "execution_count": null,
   "metadata": {},
   "outputs": [],
   "source": [
    "divide(2, 0)"
   ]
  },
  {
   "cell_type": "markdown",
   "metadata": {},
   "source": [
    "#### Raising Exceptions in Python\n",
    "In Python programming, exceptions are raised when errors occur at runtime. We can also manually raise exceptions using the `raise` keyword."
   ]
  },
  {
   "cell_type": "code",
   "execution_count": null,
   "metadata": {},
   "outputs": [],
   "source": [
    "try:\n",
    "    a = int(input(\"Enter a positive integer: \"))\n",
    "    if a <= 0:\n",
    "        raise ValueError(\"That is not a positive number!\")\n",
    "except ValueError as ve:\n",
    "    print(ve)"
   ]
  },
  {
   "cell_type": "markdown",
   "metadata": {},
   "source": [
    "### Python assert Keyword\n",
    "\n",
    "* The `assert` keyword is used when debugging code.\n",
    "* The `assert` keyword lets you test if a condition in your code returns True, if not, the program will raise an AssertionError.\n",
    "\n",
    "if condition returns True, then nothing happens:"
   ]
  },
  {
   "cell_type": "code",
   "execution_count": null,
   "metadata": {},
   "outputs": [],
   "source": [
    "x = \"INSOFE\"\n",
    "assert x == \"INSOFE\""
   ]
  },
  {
   "cell_type": "markdown",
   "metadata": {},
   "source": [
    "if condition returns False, AssertionError is raised:"
   ]
  },
  {
   "cell_type": "code",
   "execution_count": null,
   "metadata": {},
   "outputs": [],
   "source": [
    "x = \"INFOSYS\"\n",
    "assert x == \"INSOFE\""
   ]
  },
  {
   "cell_type": "markdown",
   "metadata": {},
   "source": [
    "### Learning Outcomes\n",
    "* Be able to understand Modules\n",
    "* Be able to understand Classes basics\n",
    "* Be able to understand basic Excepton handling\n",
    "* Be able to understand Assert Keyword\n",
    "\n",
    "Ref: \n",
    "* https://docs.python.org/3.7/tutorial\n",
    "* http://cs231n.github.io/python-numpy-tutorial/\n",
    "* https://www.python-course.eu/\n",
    "* https://realpython.com/"
   ]
  }
 ],
 "metadata": {
  "kernelspec": {
   "display_name": "Python 3",
   "language": "python",
   "name": "python3"
  },
  "language_info": {
   "codemirror_mode": {
    "name": "ipython",
    "version": 3
   },
   "file_extension": ".py",
   "mimetype": "text/x-python",
   "name": "python",
   "nbconvert_exporter": "python",
   "pygments_lexer": "ipython3",
   "version": "3.6.4"
  }
 },
 "nbformat": 4,
 "nbformat_minor": 2
}
