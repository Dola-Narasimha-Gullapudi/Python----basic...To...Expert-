{
 "cells": [
  {
   "cell_type": "markdown",
   "metadata": {
    "colab_type": "text",
    "id": "4HyuvmpXAk6A"
   },
   "source": [
    "## Data analysis and manipulations using Pandas"
   ]
  },
  {
   "cell_type": "markdown",
   "metadata": {},
   "source": [
    "**Agenda**\n",
    "\n",
    "* Pandas Introduction\n",
    "* Loading DataFrames from file data\n",
    "* Preliminary data analysis\n",
    "* Data type conversion\n",
    "* Merging dataframes\n",
    "* Handling duplicate data\n",
    "* Handling missing data\n",
    "* Identifying anamolies in the data\n",
    "* Data aggregations\n",
    "* Date and Time related data manipulations\n",
    "* Understanding multi-indexing\n",
    "* Pivot tables - data reshape\n",
    "* Writing custom functions"
   ]
  },
  {
   "cell_type": "markdown",
   "metadata": {
    "colab_type": "text",
    "id": "BmCvDsYxAk6D"
   },
   "source": [
    "### <font color='blue'>Problem Statement:</font>\n",
    "A retail giant which operates a chain of hyper markets across the multiple cities wants to develop new strategies for improving the business. \n",
    "\n",
    "In this process, the marketing team has provided a data to data analytics team to understand the patterns in their customer transactions in addition to profiling the customers based on their demographics and transactions. \n",
    "\n",
    "The data analytics team is tasked to extract insights in the data which should help in developing new strategies for improving the business. \n",
    "\n",
    "High level overview of the data:\n",
    "- Data has been provided for July- Sep 2018 Quarter which is from multiple data sources\n",
    "  - `Demographics.csv`: Consists of demographic data of about 5.9k records that has  information about the customer demographics.\n",
    "  - `Transactions.xlsx`: Consists of transactions data of about 260k records that has information about what product the customer purchased for what price\n",
    "  - `Products.tsv`: Consists of products data of about 3.5k records which has a mapping of the product ids with product category.\n",
    "\n",
    "- Given this data, we need to provide insights for developing new strategies\n",
    "- We use basic statistics and aggregations in this context."
   ]
  },
  {
   "cell_type": "markdown",
   "metadata": {},
   "source": [
    "Datasets shared in compressed file or\n",
    "In the shared server, data sets are available at the path **`/home/datasets/lab/`**."
   ]
  },
  {
   "cell_type": "markdown",
   "metadata": {
    "colab_type": "text",
    "id": "LbaZHzpnAk6E"
   },
   "source": [
    "Import libraries under the respective aliases"
   ]
  },
  {
   "cell_type": "code",
   "execution_count": 1,
   "metadata": {
    "colab": {},
    "colab_type": "code",
    "id": "R8NCheqTAk6E"
   },
   "outputs": [],
   "source": [
    "import os\n",
    "import numpy as np\n",
    "import pandas as pd"
   ]
  },
  {
   "cell_type": "code",
   "execution_count": 2,
   "metadata": {
    "colab": {},
    "colab_type": "code",
    "id": "HJ-j1hMM6_BJ"
   },
   "outputs": [],
   "source": [
    "# data_path = \"./datasets/\"\n",
    "# Comment above line and uncomment below line if you are working on shared server.\n",
    "data_path = \"/home/datasets/lab/\""
   ]
  },
  {
   "cell_type": "code",
   "execution_count": 3,
   "metadata": {},
   "outputs": [
    {
     "data": {
      "text/plain": [
       "['pd_Transactions.xlsx',\n",
       " 'New_Data.csv',\n",
       " 'Housing_Data.csv',\n",
       " 'CSE7215o_HOT_Data',\n",
       " 'Transactions_New.csv',\n",
       " 'CustomerData.csv',\n",
       " 'Transactions.csv',\n",
       " 'MEM_GermanData.csv',\n",
       " 'pd_Products.tsv',\n",
       " 'stuff.csv',\n",
       " 'CombineLevels.csv',\n",
       " 'CUTe',\n",
       " 'GDPandSP500.csv',\n",
       " 'Products.tsv',\n",
       " 'German_Data.csv',\n",
       " 'Data.rds',\n",
       " 'Flights_Data.csv',\n",
       " 'MergeData.xlsx',\n",
       " 'pd_Demographics.csv',\n",
       " 'cars.csv',\n",
       " 'MEM_HeartData.csv',\n",
       " 'pd_matches2008_2016.csv',\n",
       " 'housingdata.csv',\n",
       " 'Demographics.csv',\n",
       " 'Ames_Housing_Data.csv',\n",
       " 'Customer_Demographics_MV_DOB.csv',\n",
       " 'data_SR.csv',\n",
       " 'Transactions.xlsx',\n",
       " 'MEM_HeartTestData.csv',\n",
       " 'chickegg.csv',\n",
       " 'Products.xlsx',\n",
       " 'Customer_Bank Details_MV.csv',\n",
       " 'pd_MergeData.xlsx',\n",
       " 'RealEstateData.csv',\n",
       " 'Tennis_Data.csv',\n",
       " 'ReduceLevels.csv',\n",
       " 'Salesdata_hypermart42.csv',\n",
       " 'productWeeklyData.csv',\n",
       " 'Flights_Delay.csv',\n",
       " 'Eval.csv',\n",
       " 'AmesHousingData.csv',\n",
       " 'Data.csv',\n",
       " 'Demographics.xlsx',\n",
       " 'Bank.csv',\n",
       " 'Eval2.csv',\n",
       " 'Bank_Data.csv',\n",
       " 'MEM_GermanTestData.csv',\n",
       " 'pd_matches2017.csv',\n",
       " 'WeatherData.csv',\n",
       " 'Flights_Delay_Data.csv',\n",
       " 'HousingData.csv']"
      ]
     },
     "execution_count": 3,
     "metadata": {},
     "output_type": "execute_result"
    }
   ],
   "source": [
    "os.listdir(data_path)"
   ]
  },
  {
   "cell_type": "code",
   "execution_count": 4,
   "metadata": {
    "colab": {},
    "colab_type": "code",
    "id": "dQPFe6dH6--c"
   },
   "outputs": [],
   "source": [
    "demo_path = os.path.join(data_path, \"pd_Demographics.csv\")\n",
    "prod_path = os.path.join(data_path, \"pd_Products.tsv\")\n",
    "txns_path = os.path.join(data_path, \"pd_Transactions.xlsx\")\n",
    "merg_path = os.path.join(data_path, \"pd_MergeData.xlsx\")"
   ]
  },
  {
   "cell_type": "code",
   "execution_count": 5,
   "metadata": {},
   "outputs": [
    {
     "data": {
      "text/plain": [
       "'/home/datasets/lab/pd_Demographics.csv'"
      ]
     },
     "execution_count": 5,
     "metadata": {},
     "output_type": "execute_result"
    }
   ],
   "source": [
    "demo_path"
   ]
  },
  {
   "cell_type": "code",
   "execution_count": 6,
   "metadata": {},
   "outputs": [
    {
     "name": "stdout",
     "output_type": "stream",
     "text": [
      "User_ID,Gender,Age,Occupation,City_Category,Stay_In_Current_City_Years,Marital_Status\r\n",
      "1000001,F,15.0,10,A,2,0\r\n",
      "1000002,M,69.0,16,C,4+,0\r\n",
      "1000003,M,34.0,15,A,3,0\r\n",
      "1000004,M,46.0,7,B,2,1\r\n",
      "1000005,M,27.0,20,A,1,1\r\n",
      "1000006,F,51.0,9,A,1,0\r\n",
      "1000007,M,37.0,1,B,1,1\r\n",
      "1000008,M,34.0,12,C,4+,1\r\n",
      "1000009,M,30.0,17,C,0,0\r\n"
     ]
    }
   ],
   "source": [
    "!head /home/datasets/lab/pd_Demographics.csv"
   ]
  },
  {
   "cell_type": "code",
   "execution_count": 7,
   "metadata": {},
   "outputs": [
    {
     "name": "stdout",
     "output_type": "stream",
     "text": [
      "Product_ID\tProduct_Category\r\n",
      "P00000142\t3\r\n",
      "P00000242\t2\r\n",
      "P00000342\t4\r\n",
      "P00000442\t4\r\n",
      "P00000542\t4\r\n",
      "P00000642\t1\r\n",
      "P00000742\t4\r\n",
      "P00000842\t2\r\n",
      "P00000942\t1\r\n"
     ]
    }
   ],
   "source": [
    "!head /home/datasets/lab/pd_Products.tsv"
   ]
  },
  {
   "cell_type": "markdown",
   "metadata": {
    "colab_type": "text",
    "id": "VFkHcHC86W4T"
   },
   "source": [
    "### Load data and create dataframes\n",
    "\n",
    "- Read csv files using the read_csv function.\n",
    "- Read tsv files using the read_csv function with a `tab \\t` seperator.\n",
    "- Read excel files using the read_excel function."
   ]
  },
  {
   "cell_type": "code",
   "execution_count": 8,
   "metadata": {
    "colab": {},
    "colab_type": "code",
    "id": "6wyDvjG36M4d"
   },
   "outputs": [],
   "source": [
    "demographics = pd.read_csv(demo_path)\n",
    "#demographics = pd.read_csv(\"/home/datasets/lab/Demographics.csv\")"
   ]
  },
  {
   "cell_type": "code",
   "execution_count": 9,
   "metadata": {
    "colab": {},
    "colab_type": "code",
    "id": "dXCHO_x07okE"
   },
   "outputs": [],
   "source": [
    "products = pd.read_csv(prod_path, sep = \"\\t\")"
   ]
  },
  {
   "cell_type": "code",
   "execution_count": 10,
   "metadata": {
    "colab": {},
    "colab_type": "code",
    "id": "2dMuFwzb7zzx"
   },
   "outputs": [],
   "source": [
    "transactions = pd.read_excel(txns_path, sheet_name=\"TransactionsData\")"
   ]
  },
  {
   "cell_type": "markdown",
   "metadata": {
    "colab_type": "text",
    "id": "ybBsOCwr7_MT"
   },
   "source": [
    "Display the sample content from each dataframe"
   ]
  },
  {
   "cell_type": "code",
   "execution_count": 11,
   "metadata": {
    "colab": {
     "base_uri": "https://localhost:8080/",
     "height": 204
    },
    "colab_type": "code",
    "executionInfo": {
     "elapsed": 115215,
     "status": "ok",
     "timestamp": 1585196988503,
     "user": {
      "displayName": "Ramesh Melapu",
      "photoUrl": "",
      "userId": "14700472000537727532"
     },
     "user_tz": -330
    },
    "id": "ymyxvxfH75tz",
    "outputId": "f2d7f65c-22a5-4dff-c537-a71ef247b73e"
   },
   "outputs": [
    {
     "data": {
      "text/html": [
       "<div>\n",
       "<style scoped>\n",
       "    .dataframe tbody tr th:only-of-type {\n",
       "        vertical-align: middle;\n",
       "    }\n",
       "\n",
       "    .dataframe tbody tr th {\n",
       "        vertical-align: top;\n",
       "    }\n",
       "\n",
       "    .dataframe thead th {\n",
       "        text-align: right;\n",
       "    }\n",
       "</style>\n",
       "<table border=\"1\" class=\"dataframe\">\n",
       "  <thead>\n",
       "    <tr style=\"text-align: right;\">\n",
       "      <th></th>\n",
       "      <th>User_ID</th>\n",
       "      <th>Gender</th>\n",
       "      <th>Age</th>\n",
       "      <th>Occupation</th>\n",
       "      <th>City_Category</th>\n",
       "      <th>Stay_In_Current_City_Years</th>\n",
       "      <th>Marital_Status</th>\n",
       "    </tr>\n",
       "  </thead>\n",
       "  <tbody>\n",
       "    <tr>\n",
       "      <th>0</th>\n",
       "      <td>1000001</td>\n",
       "      <td>F</td>\n",
       "      <td>15.0</td>\n",
       "      <td>10</td>\n",
       "      <td>A</td>\n",
       "      <td>2</td>\n",
       "      <td>0</td>\n",
       "    </tr>\n",
       "    <tr>\n",
       "      <th>1</th>\n",
       "      <td>1000002</td>\n",
       "      <td>M</td>\n",
       "      <td>69.0</td>\n",
       "      <td>16</td>\n",
       "      <td>C</td>\n",
       "      <td>4+</td>\n",
       "      <td>0</td>\n",
       "    </tr>\n",
       "    <tr>\n",
       "      <th>2</th>\n",
       "      <td>1000003</td>\n",
       "      <td>M</td>\n",
       "      <td>34.0</td>\n",
       "      <td>15</td>\n",
       "      <td>A</td>\n",
       "      <td>3</td>\n",
       "      <td>0</td>\n",
       "    </tr>\n",
       "    <tr>\n",
       "      <th>3</th>\n",
       "      <td>1000004</td>\n",
       "      <td>M</td>\n",
       "      <td>46.0</td>\n",
       "      <td>7</td>\n",
       "      <td>B</td>\n",
       "      <td>2</td>\n",
       "      <td>1</td>\n",
       "    </tr>\n",
       "    <tr>\n",
       "      <th>4</th>\n",
       "      <td>1000005</td>\n",
       "      <td>M</td>\n",
       "      <td>27.0</td>\n",
       "      <td>20</td>\n",
       "      <td>A</td>\n",
       "      <td>1</td>\n",
       "      <td>1</td>\n",
       "    </tr>\n",
       "  </tbody>\n",
       "</table>\n",
       "</div>"
      ],
      "text/plain": [
       "   User_ID Gender   Age  Occupation City_Category Stay_In_Current_City_Years  \\\n",
       "0  1000001      F  15.0          10             A                          2   \n",
       "1  1000002      M  69.0          16             C                         4+   \n",
       "2  1000003      M  34.0          15             A                          3   \n",
       "3  1000004      M  46.0           7             B                          2   \n",
       "4  1000005      M  27.0          20             A                          1   \n",
       "\n",
       "   Marital_Status  \n",
       "0               0  \n",
       "1               0  \n",
       "2               0  \n",
       "3               1  \n",
       "4               1  "
      ]
     },
     "execution_count": 11,
     "metadata": {},
     "output_type": "execute_result"
    }
   ],
   "source": [
    "demographics.head()"
   ]
  },
  {
   "cell_type": "code",
   "execution_count": 12,
   "metadata": {
    "colab": {
     "base_uri": "https://localhost:8080/",
     "height": 204
    },
    "colab_type": "code",
    "executionInfo": {
     "elapsed": 115197,
     "status": "ok",
     "timestamp": 1585196988509,
     "user": {
      "displayName": "Ramesh Melapu",
      "photoUrl": "",
      "userId": "14700472000537727532"
     },
     "user_tz": -330
    },
    "id": "4ZDN7nxB8BNz",
    "outputId": "faadc5bf-3361-48dc-99f3-f9b53fa2af94"
   },
   "outputs": [
    {
     "data": {
      "text/html": [
       "<div>\n",
       "<style scoped>\n",
       "    .dataframe tbody tr th:only-of-type {\n",
       "        vertical-align: middle;\n",
       "    }\n",
       "\n",
       "    .dataframe tbody tr th {\n",
       "        vertical-align: top;\n",
       "    }\n",
       "\n",
       "    .dataframe thead th {\n",
       "        text-align: right;\n",
       "    }\n",
       "</style>\n",
       "<table border=\"1\" class=\"dataframe\">\n",
       "  <thead>\n",
       "    <tr style=\"text-align: right;\">\n",
       "      <th></th>\n",
       "      <th>Product_ID</th>\n",
       "      <th>Product_Category</th>\n",
       "    </tr>\n",
       "  </thead>\n",
       "  <tbody>\n",
       "    <tr>\n",
       "      <th>0</th>\n",
       "      <td>P00000142</td>\n",
       "      <td>3</td>\n",
       "    </tr>\n",
       "    <tr>\n",
       "      <th>1</th>\n",
       "      <td>P00000242</td>\n",
       "      <td>2</td>\n",
       "    </tr>\n",
       "    <tr>\n",
       "      <th>2</th>\n",
       "      <td>P00000342</td>\n",
       "      <td>4</td>\n",
       "    </tr>\n",
       "    <tr>\n",
       "      <th>3</th>\n",
       "      <td>P00000442</td>\n",
       "      <td>4</td>\n",
       "    </tr>\n",
       "    <tr>\n",
       "      <th>4</th>\n",
       "      <td>P00000542</td>\n",
       "      <td>4</td>\n",
       "    </tr>\n",
       "  </tbody>\n",
       "</table>\n",
       "</div>"
      ],
      "text/plain": [
       "  Product_ID  Product_Category\n",
       "0  P00000142                 3\n",
       "1  P00000242                 2\n",
       "2  P00000342                 4\n",
       "3  P00000442                 4\n",
       "4  P00000542                 4"
      ]
     },
     "execution_count": 12,
     "metadata": {},
     "output_type": "execute_result"
    }
   ],
   "source": [
    "products.head()"
   ]
  },
  {
   "cell_type": "code",
   "execution_count": 13,
   "metadata": {
    "colab": {
     "base_uri": "https://localhost:8080/",
     "height": 204
    },
    "colab_type": "code",
    "executionInfo": {
     "elapsed": 115154,
     "status": "ok",
     "timestamp": 1585196988510,
     "user": {
      "displayName": "Ramesh Melapu",
      "photoUrl": "",
      "userId": "14700472000537727532"
     },
     "user_tz": -330
    },
    "id": "Wxe6G3n88DK3",
    "outputId": "271e1858-802f-4f37-fe2c-7eb146787d21"
   },
   "outputs": [
    {
     "data": {
      "text/html": [
       "<div>\n",
       "<style scoped>\n",
       "    .dataframe tbody tr th:only-of-type {\n",
       "        vertical-align: middle;\n",
       "    }\n",
       "\n",
       "    .dataframe tbody tr th {\n",
       "        vertical-align: top;\n",
       "    }\n",
       "\n",
       "    .dataframe thead th {\n",
       "        text-align: right;\n",
       "    }\n",
       "</style>\n",
       "<table border=\"1\" class=\"dataframe\">\n",
       "  <thead>\n",
       "    <tr style=\"text-align: right;\">\n",
       "      <th></th>\n",
       "      <th>Date</th>\n",
       "      <th>User_ID</th>\n",
       "      <th>Product_ID</th>\n",
       "      <th>Purchase</th>\n",
       "    </tr>\n",
       "  </thead>\n",
       "  <tbody>\n",
       "    <tr>\n",
       "      <th>0</th>\n",
       "      <td>28-9-2018</td>\n",
       "      <td>1000001</td>\n",
       "      <td>P00069042</td>\n",
       "      <td>837</td>\n",
       "    </tr>\n",
       "    <tr>\n",
       "      <th>1</th>\n",
       "      <td>29-7-2018</td>\n",
       "      <td>1000001</td>\n",
       "      <td>P00117942</td>\n",
       "      <td>884</td>\n",
       "    </tr>\n",
       "    <tr>\n",
       "      <th>2</th>\n",
       "      <td>28-7-2018</td>\n",
       "      <td>1000001</td>\n",
       "      <td>P00258742</td>\n",
       "      <td>691</td>\n",
       "    </tr>\n",
       "    <tr>\n",
       "      <th>3</th>\n",
       "      <td>27-7-2018</td>\n",
       "      <td>1000001</td>\n",
       "      <td>P00142242</td>\n",
       "      <td>788</td>\n",
       "    </tr>\n",
       "    <tr>\n",
       "      <th>4</th>\n",
       "      <td>29-7-2018</td>\n",
       "      <td>1000001</td>\n",
       "      <td>P00297042</td>\n",
       "      <td>784</td>\n",
       "    </tr>\n",
       "  </tbody>\n",
       "</table>\n",
       "</div>"
      ],
      "text/plain": [
       "        Date  User_ID Product_ID  Purchase\n",
       "0  28-9-2018  1000001  P00069042       837\n",
       "1  29-7-2018  1000001  P00117942       884\n",
       "2  28-7-2018  1000001  P00258742       691\n",
       "3  27-7-2018  1000001  P00142242       788\n",
       "4  29-7-2018  1000001  P00297042       784"
      ]
     },
     "execution_count": 13,
     "metadata": {},
     "output_type": "execute_result"
    }
   ],
   "source": [
    "transactions.head()"
   ]
  },
  {
   "cell_type": "markdown",
   "metadata": {
    "colab_type": "text",
    "id": "JUEKspuU8HlT"
   },
   "source": [
    "List column names from each dataframe"
   ]
  },
  {
   "cell_type": "code",
   "execution_count": 14,
   "metadata": {
    "colab": {
     "base_uri": "https://localhost:8080/",
     "height": 68
    },
    "colab_type": "code",
    "executionInfo": {
     "elapsed": 115088,
     "status": "ok",
     "timestamp": 1585196988511,
     "user": {
      "displayName": "Ramesh Melapu",
      "photoUrl": "",
      "userId": "14700472000537727532"
     },
     "user_tz": -330
    },
    "id": "Lwgqr_tF8Gl7",
    "outputId": "bed8efdf-77f7-48c3-c976-9e414de51542"
   },
   "outputs": [
    {
     "data": {
      "text/plain": [
       "Index(['User_ID', 'Gender', 'Age', 'Occupation', 'City_Category',\n",
       "       'Stay_In_Current_City_Years', 'Marital_Status'],\n",
       "      dtype='object')"
      ]
     },
     "execution_count": 14,
     "metadata": {},
     "output_type": "execute_result"
    }
   ],
   "source": [
    "demographics.columns"
   ]
  },
  {
   "cell_type": "code",
   "execution_count": 15,
   "metadata": {
    "colab": {
     "base_uri": "https://localhost:8080/",
     "height": 34
    },
    "colab_type": "code",
    "executionInfo": {
     "elapsed": 115054,
     "status": "ok",
     "timestamp": 1585196988511,
     "user": {
      "displayName": "Ramesh Melapu",
      "photoUrl": "",
      "userId": "14700472000537727532"
     },
     "user_tz": -330
    },
    "id": "AhJExjbj8RLO",
    "outputId": "ad4368f7-d5e5-4aff-88d9-04a155938ff3"
   },
   "outputs": [
    {
     "data": {
      "text/plain": [
       "Index(['Product_ID', 'Product_Category'], dtype='object')"
      ]
     },
     "execution_count": 15,
     "metadata": {},
     "output_type": "execute_result"
    }
   ],
   "source": [
    "products.columns"
   ]
  },
  {
   "cell_type": "code",
   "execution_count": 16,
   "metadata": {
    "colab": {
     "base_uri": "https://localhost:8080/",
     "height": 34
    },
    "colab_type": "code",
    "executionInfo": {
     "elapsed": 115022,
     "status": "ok",
     "timestamp": 1585196988512,
     "user": {
      "displayName": "Ramesh Melapu",
      "photoUrl": "",
      "userId": "14700472000537727532"
     },
     "user_tz": -330
    },
    "id": "15W_-wKJ8UqD",
    "outputId": "afa544cc-fbb4-4b79-9412-05693d28bf8d"
   },
   "outputs": [
    {
     "data": {
      "text/plain": [
       "Index(['Date', 'User_ID', 'Product_ID', 'Purchase'], dtype='object')"
      ]
     },
     "execution_count": 16,
     "metadata": {},
     "output_type": "execute_result"
    }
   ],
   "source": [
    "\n",
    "transactions.columns"
   ]
  },
  {
   "cell_type": "markdown",
   "metadata": {
    "colab_type": "text",
    "id": "BQh-vvs495mr"
   },
   "source": [
    "### Preliminary data analysis\n",
    "\n",
    "As the files are read, Do preliminary data analysis\n",
    "\n",
    "Generally this consists of understanding the data.\n",
    "- How many records and how many attributes are there?\n",
    "- What are the datatypes of these attributes?\n",
    "- Are there any missing values in the data?\n",
    "\n",
    "To check the first and last 5 records of the data, we use head and tail\n",
    "- dataframe.head() and \n",
    "- dataframe.tail(). \n",
    "\n",
    "We can specify a number in the parenthesis and those many records would be displayed.\n"
   ]
  },
  {
   "cell_type": "code",
   "execution_count": 17,
   "metadata": {},
   "outputs": [
    {
     "data": {
      "text/html": [
       "<div>\n",
       "<style scoped>\n",
       "    .dataframe tbody tr th:only-of-type {\n",
       "        vertical-align: middle;\n",
       "    }\n",
       "\n",
       "    .dataframe tbody tr th {\n",
       "        vertical-align: top;\n",
       "    }\n",
       "\n",
       "    .dataframe thead th {\n",
       "        text-align: right;\n",
       "    }\n",
       "</style>\n",
       "<table border=\"1\" class=\"dataframe\">\n",
       "  <thead>\n",
       "    <tr style=\"text-align: right;\">\n",
       "      <th></th>\n",
       "      <th>User_ID</th>\n",
       "      <th>Gender</th>\n",
       "      <th>Age</th>\n",
       "      <th>Occupation</th>\n",
       "      <th>City_Category</th>\n",
       "      <th>Stay_In_Current_City_Years</th>\n",
       "      <th>Marital_Status</th>\n",
       "    </tr>\n",
       "  </thead>\n",
       "  <tbody>\n",
       "    <tr>\n",
       "      <th>0</th>\n",
       "      <td>1000001</td>\n",
       "      <td>F</td>\n",
       "      <td>15.0</td>\n",
       "      <td>10</td>\n",
       "      <td>A</td>\n",
       "      <td>2</td>\n",
       "      <td>0</td>\n",
       "    </tr>\n",
       "    <tr>\n",
       "      <th>1</th>\n",
       "      <td>1000002</td>\n",
       "      <td>M</td>\n",
       "      <td>69.0</td>\n",
       "      <td>16</td>\n",
       "      <td>C</td>\n",
       "      <td>4+</td>\n",
       "      <td>0</td>\n",
       "    </tr>\n",
       "    <tr>\n",
       "      <th>2</th>\n",
       "      <td>1000003</td>\n",
       "      <td>M</td>\n",
       "      <td>34.0</td>\n",
       "      <td>15</td>\n",
       "      <td>A</td>\n",
       "      <td>3</td>\n",
       "      <td>0</td>\n",
       "    </tr>\n",
       "    <tr>\n",
       "      <th>3</th>\n",
       "      <td>1000004</td>\n",
       "      <td>M</td>\n",
       "      <td>46.0</td>\n",
       "      <td>7</td>\n",
       "      <td>B</td>\n",
       "      <td>2</td>\n",
       "      <td>1</td>\n",
       "    </tr>\n",
       "    <tr>\n",
       "      <th>4</th>\n",
       "      <td>1000005</td>\n",
       "      <td>M</td>\n",
       "      <td>27.0</td>\n",
       "      <td>20</td>\n",
       "      <td>A</td>\n",
       "      <td>1</td>\n",
       "      <td>1</td>\n",
       "    </tr>\n",
       "  </tbody>\n",
       "</table>\n",
       "</div>"
      ],
      "text/plain": [
       "   User_ID Gender   Age  Occupation City_Category Stay_In_Current_City_Years  \\\n",
       "0  1000001      F  15.0          10             A                          2   \n",
       "1  1000002      M  69.0          16             C                         4+   \n",
       "2  1000003      M  34.0          15             A                          3   \n",
       "3  1000004      M  46.0           7             B                          2   \n",
       "4  1000005      M  27.0          20             A                          1   \n",
       "\n",
       "   Marital_Status  \n",
       "0               0  \n",
       "1               0  \n",
       "2               0  \n",
       "3               1  \n",
       "4               1  "
      ]
     },
     "execution_count": 17,
     "metadata": {},
     "output_type": "execute_result"
    }
   ],
   "source": [
    "demographics.head()"
   ]
  },
  {
   "cell_type": "code",
   "execution_count": 18,
   "metadata": {},
   "outputs": [
    {
     "data": {
      "text/html": [
       "<div>\n",
       "<style scoped>\n",
       "    .dataframe tbody tr th:only-of-type {\n",
       "        vertical-align: middle;\n",
       "    }\n",
       "\n",
       "    .dataframe tbody tr th {\n",
       "        vertical-align: top;\n",
       "    }\n",
       "\n",
       "    .dataframe thead th {\n",
       "        text-align: right;\n",
       "    }\n",
       "</style>\n",
       "<table border=\"1\" class=\"dataframe\">\n",
       "  <thead>\n",
       "    <tr style=\"text-align: right;\">\n",
       "      <th></th>\n",
       "      <th>User_ID</th>\n",
       "      <th>Gender</th>\n",
       "      <th>Age</th>\n",
       "      <th>Occupation</th>\n",
       "      <th>City_Category</th>\n",
       "      <th>Stay_In_Current_City_Years</th>\n",
       "      <th>Marital_Status</th>\n",
       "    </tr>\n",
       "  </thead>\n",
       "  <tbody>\n",
       "    <tr>\n",
       "      <th>5903</th>\n",
       "      <td>1007081</td>\n",
       "      <td>F</td>\n",
       "      <td>NaN</td>\n",
       "      <td>17</td>\n",
       "      <td>B</td>\n",
       "      <td>4+</td>\n",
       "      <td>0</td>\n",
       "    </tr>\n",
       "    <tr>\n",
       "      <th>5904</th>\n",
       "      <td>1007091</td>\n",
       "      <td>M</td>\n",
       "      <td>40.0</td>\n",
       "      <td>8</td>\n",
       "      <td>C</td>\n",
       "      <td>4+</td>\n",
       "      <td>1</td>\n",
       "    </tr>\n",
       "    <tr>\n",
       "      <th>5905</th>\n",
       "      <td>1007092</td>\n",
       "      <td>M</td>\n",
       "      <td>45.0</td>\n",
       "      <td>8</td>\n",
       "      <td>C</td>\n",
       "      <td>4+</td>\n",
       "      <td>1</td>\n",
       "    </tr>\n",
       "    <tr>\n",
       "      <th>5906</th>\n",
       "      <td>1007095</td>\n",
       "      <td>M</td>\n",
       "      <td>41.0</td>\n",
       "      <td>8</td>\n",
       "      <td>C</td>\n",
       "      <td>4+</td>\n",
       "      <td>1</td>\n",
       "    </tr>\n",
       "    <tr>\n",
       "      <th>5907</th>\n",
       "      <td>1007099</td>\n",
       "      <td>F</td>\n",
       "      <td>47.0</td>\n",
       "      <td>8</td>\n",
       "      <td>C</td>\n",
       "      <td>4+</td>\n",
       "      <td>1</td>\n",
       "    </tr>\n",
       "  </tbody>\n",
       "</table>\n",
       "</div>"
      ],
      "text/plain": [
       "      User_ID Gender   Age  Occupation City_Category  \\\n",
       "5903  1007081      F   NaN          17             B   \n",
       "5904  1007091      M  40.0           8             C   \n",
       "5905  1007092      M  45.0           8             C   \n",
       "5906  1007095      M  41.0           8             C   \n",
       "5907  1007099      F  47.0           8             C   \n",
       "\n",
       "     Stay_In_Current_City_Years  Marital_Status  \n",
       "5903                         4+               0  \n",
       "5904                         4+               1  \n",
       "5905                         4+               1  \n",
       "5906                         4+               1  \n",
       "5907                         4+               1  "
      ]
     },
     "execution_count": 18,
     "metadata": {},
     "output_type": "execute_result"
    }
   ],
   "source": [
    "demographics.tail()"
   ]
  },
  {
   "cell_type": "markdown",
   "metadata": {
    "colab_type": "text",
    "id": "m-dLuoxh-kOH"
   },
   "source": [
    "Verify first 3 records"
   ]
  },
  {
   "cell_type": "code",
   "execution_count": 19,
   "metadata": {
    "colab": {
     "base_uri": "https://localhost:8080/",
     "height": 142
    },
    "colab_type": "code",
    "executionInfo": {
     "elapsed": 114986,
     "status": "ok",
     "timestamp": 1585196988513,
     "user": {
      "displayName": "Ramesh Melapu",
      "photoUrl": "",
      "userId": "14700472000537727532"
     },
     "user_tz": -330
    },
    "id": "K5u_e3ay-jgY",
    "outputId": "65536f0e-9d55-4f48-af56-9ace0fa2d9f1"
   },
   "outputs": [
    {
     "data": {
      "text/html": [
       "<div>\n",
       "<style scoped>\n",
       "    .dataframe tbody tr th:only-of-type {\n",
       "        vertical-align: middle;\n",
       "    }\n",
       "\n",
       "    .dataframe tbody tr th {\n",
       "        vertical-align: top;\n",
       "    }\n",
       "\n",
       "    .dataframe thead th {\n",
       "        text-align: right;\n",
       "    }\n",
       "</style>\n",
       "<table border=\"1\" class=\"dataframe\">\n",
       "  <thead>\n",
       "    <tr style=\"text-align: right;\">\n",
       "      <th></th>\n",
       "      <th>User_ID</th>\n",
       "      <th>Gender</th>\n",
       "      <th>Age</th>\n",
       "      <th>Occupation</th>\n",
       "      <th>City_Category</th>\n",
       "      <th>Stay_In_Current_City_Years</th>\n",
       "      <th>Marital_Status</th>\n",
       "    </tr>\n",
       "  </thead>\n",
       "  <tbody>\n",
       "    <tr>\n",
       "      <th>0</th>\n",
       "      <td>1000001</td>\n",
       "      <td>F</td>\n",
       "      <td>15.0</td>\n",
       "      <td>10</td>\n",
       "      <td>A</td>\n",
       "      <td>2</td>\n",
       "      <td>0</td>\n",
       "    </tr>\n",
       "    <tr>\n",
       "      <th>1</th>\n",
       "      <td>1000002</td>\n",
       "      <td>M</td>\n",
       "      <td>69.0</td>\n",
       "      <td>16</td>\n",
       "      <td>C</td>\n",
       "      <td>4+</td>\n",
       "      <td>0</td>\n",
       "    </tr>\n",
       "    <tr>\n",
       "      <th>2</th>\n",
       "      <td>1000003</td>\n",
       "      <td>M</td>\n",
       "      <td>34.0</td>\n",
       "      <td>15</td>\n",
       "      <td>A</td>\n",
       "      <td>3</td>\n",
       "      <td>0</td>\n",
       "    </tr>\n",
       "  </tbody>\n",
       "</table>\n",
       "</div>"
      ],
      "text/plain": [
       "   User_ID Gender   Age  Occupation City_Category Stay_In_Current_City_Years  \\\n",
       "0  1000001      F  15.0          10             A                          2   \n",
       "1  1000002      M  69.0          16             C                         4+   \n",
       "2  1000003      M  34.0          15             A                          3   \n",
       "\n",
       "   Marital_Status  \n",
       "0               0  \n",
       "1               0  \n",
       "2               0  "
      ]
     },
     "execution_count": 19,
     "metadata": {},
     "output_type": "execute_result"
    }
   ],
   "source": [
    "demographics.head(3)"
   ]
  },
  {
   "cell_type": "markdown",
   "metadata": {
    "colab_type": "text",
    "id": "-GJ53dNe-s0Y"
   },
   "source": [
    "Verify the last 3 records"
   ]
  },
  {
   "cell_type": "code",
   "execution_count": 20,
   "metadata": {
    "colab": {
     "base_uri": "https://localhost:8080/",
     "height": 142
    },
    "colab_type": "code",
    "executionInfo": {
     "elapsed": 114899,
     "status": "ok",
     "timestamp": 1585196988514,
     "user": {
      "displayName": "Ramesh Melapu",
      "photoUrl": "",
      "userId": "14700472000537727532"
     },
     "user_tz": -330
    },
    "id": "1kqhhbOL8Wsc",
    "outputId": "0226d659-c77d-4d80-ff68-62001f810aae"
   },
   "outputs": [
    {
     "data": {
      "text/html": [
       "<div>\n",
       "<style scoped>\n",
       "    .dataframe tbody tr th:only-of-type {\n",
       "        vertical-align: middle;\n",
       "    }\n",
       "\n",
       "    .dataframe tbody tr th {\n",
       "        vertical-align: top;\n",
       "    }\n",
       "\n",
       "    .dataframe thead th {\n",
       "        text-align: right;\n",
       "    }\n",
       "</style>\n",
       "<table border=\"1\" class=\"dataframe\">\n",
       "  <thead>\n",
       "    <tr style=\"text-align: right;\">\n",
       "      <th></th>\n",
       "      <th>User_ID</th>\n",
       "      <th>Gender</th>\n",
       "      <th>Age</th>\n",
       "      <th>Occupation</th>\n",
       "      <th>City_Category</th>\n",
       "      <th>Stay_In_Current_City_Years</th>\n",
       "      <th>Marital_Status</th>\n",
       "    </tr>\n",
       "  </thead>\n",
       "  <tbody>\n",
       "    <tr>\n",
       "      <th>5905</th>\n",
       "      <td>1007092</td>\n",
       "      <td>M</td>\n",
       "      <td>45.0</td>\n",
       "      <td>8</td>\n",
       "      <td>C</td>\n",
       "      <td>4+</td>\n",
       "      <td>1</td>\n",
       "    </tr>\n",
       "    <tr>\n",
       "      <th>5906</th>\n",
       "      <td>1007095</td>\n",
       "      <td>M</td>\n",
       "      <td>41.0</td>\n",
       "      <td>8</td>\n",
       "      <td>C</td>\n",
       "      <td>4+</td>\n",
       "      <td>1</td>\n",
       "    </tr>\n",
       "    <tr>\n",
       "      <th>5907</th>\n",
       "      <td>1007099</td>\n",
       "      <td>F</td>\n",
       "      <td>47.0</td>\n",
       "      <td>8</td>\n",
       "      <td>C</td>\n",
       "      <td>4+</td>\n",
       "      <td>1</td>\n",
       "    </tr>\n",
       "  </tbody>\n",
       "</table>\n",
       "</div>"
      ],
      "text/plain": [
       "      User_ID Gender   Age  Occupation City_Category  \\\n",
       "5905  1007092      M  45.0           8             C   \n",
       "5906  1007095      M  41.0           8             C   \n",
       "5907  1007099      F  47.0           8             C   \n",
       "\n",
       "     Stay_In_Current_City_Years  Marital_Status  \n",
       "5905                         4+               1  \n",
       "5906                         4+               1  \n",
       "5907                         4+               1  "
      ]
     },
     "execution_count": 20,
     "metadata": {},
     "output_type": "execute_result"
    }
   ],
   "source": [
    "demographics.tail(3)"
   ]
  },
  {
   "cell_type": "markdown",
   "metadata": {},
   "source": [
    "Verify random sample data"
   ]
  },
  {
   "cell_type": "code",
   "execution_count": 21,
   "metadata": {},
   "outputs": [
    {
     "data": {
      "text/html": [
       "<div>\n",
       "<style scoped>\n",
       "    .dataframe tbody tr th:only-of-type {\n",
       "        vertical-align: middle;\n",
       "    }\n",
       "\n",
       "    .dataframe tbody tr th {\n",
       "        vertical-align: top;\n",
       "    }\n",
       "\n",
       "    .dataframe thead th {\n",
       "        text-align: right;\n",
       "    }\n",
       "</style>\n",
       "<table border=\"1\" class=\"dataframe\">\n",
       "  <thead>\n",
       "    <tr style=\"text-align: right;\">\n",
       "      <th></th>\n",
       "      <th>User_ID</th>\n",
       "      <th>Gender</th>\n",
       "      <th>Age</th>\n",
       "      <th>Occupation</th>\n",
       "      <th>City_Category</th>\n",
       "      <th>Stay_In_Current_City_Years</th>\n",
       "      <th>Marital_Status</th>\n",
       "    </tr>\n",
       "  </thead>\n",
       "  <tbody>\n",
       "    <tr>\n",
       "      <th>3711</th>\n",
       "      <td>1003803</td>\n",
       "      <td>F</td>\n",
       "      <td>41.0</td>\n",
       "      <td>9</td>\n",
       "      <td>C</td>\n",
       "      <td>0</td>\n",
       "      <td>0</td>\n",
       "    </tr>\n",
       "    <tr>\n",
       "      <th>3078</th>\n",
       "      <td>1003155</td>\n",
       "      <td>M</td>\n",
       "      <td>28.0</td>\n",
       "      <td>7</td>\n",
       "      <td>A</td>\n",
       "      <td>1</td>\n",
       "      <td>0</td>\n",
       "    </tr>\n",
       "    <tr>\n",
       "      <th>928</th>\n",
       "      <td>1000952</td>\n",
       "      <td>M</td>\n",
       "      <td>72.0</td>\n",
       "      <td>16</td>\n",
       "      <td>C</td>\n",
       "      <td>0</td>\n",
       "      <td>1</td>\n",
       "    </tr>\n",
       "    <tr>\n",
       "      <th>3784</th>\n",
       "      <td>1003877</td>\n",
       "      <td>M</td>\n",
       "      <td>49.0</td>\n",
       "      <td>1</td>\n",
       "      <td>C</td>\n",
       "      <td>1</td>\n",
       "      <td>1</td>\n",
       "    </tr>\n",
       "    <tr>\n",
       "      <th>1079</th>\n",
       "      <td>1001111</td>\n",
       "      <td>F</td>\n",
       "      <td>53.0</td>\n",
       "      <td>16</td>\n",
       "      <td>C</td>\n",
       "      <td>1</td>\n",
       "      <td>1</td>\n",
       "    </tr>\n",
       "    <tr>\n",
       "      <th>2074</th>\n",
       "      <td>1002127</td>\n",
       "      <td>M</td>\n",
       "      <td>25.0</td>\n",
       "      <td>4</td>\n",
       "      <td>C</td>\n",
       "      <td>0</td>\n",
       "      <td>1</td>\n",
       "    </tr>\n",
       "    <tr>\n",
       "      <th>3787</th>\n",
       "      <td>1003880</td>\n",
       "      <td>M</td>\n",
       "      <td>28.0</td>\n",
       "      <td>7</td>\n",
       "      <td>C</td>\n",
       "      <td>2</td>\n",
       "      <td>0</td>\n",
       "    </tr>\n",
       "    <tr>\n",
       "      <th>1827</th>\n",
       "      <td>1001873</td>\n",
       "      <td>M</td>\n",
       "      <td>36.0</td>\n",
       "      <td>7</td>\n",
       "      <td>B</td>\n",
       "      <td>2</td>\n",
       "      <td>0</td>\n",
       "    </tr>\n",
       "    <tr>\n",
       "      <th>3810</th>\n",
       "      <td>1003903</td>\n",
       "      <td>M</td>\n",
       "      <td>33.0</td>\n",
       "      <td>0</td>\n",
       "      <td>C</td>\n",
       "      <td>1</td>\n",
       "      <td>0</td>\n",
       "    </tr>\n",
       "    <tr>\n",
       "      <th>505</th>\n",
       "      <td>1000511</td>\n",
       "      <td>F</td>\n",
       "      <td>50.0</td>\n",
       "      <td>4</td>\n",
       "      <td>C</td>\n",
       "      <td>1</td>\n",
       "      <td>1</td>\n",
       "    </tr>\n",
       "  </tbody>\n",
       "</table>\n",
       "</div>"
      ],
      "text/plain": [
       "      User_ID Gender   Age  Occupation City_Category  \\\n",
       "3711  1003803      F  41.0           9             C   \n",
       "3078  1003155      M  28.0           7             A   \n",
       "928   1000952      M  72.0          16             C   \n",
       "3784  1003877      M  49.0           1             C   \n",
       "1079  1001111      F  53.0          16             C   \n",
       "2074  1002127      M  25.0           4             C   \n",
       "3787  1003880      M  28.0           7             C   \n",
       "1827  1001873      M  36.0           7             B   \n",
       "3810  1003903      M  33.0           0             C   \n",
       "505   1000511      F  50.0           4             C   \n",
       "\n",
       "     Stay_In_Current_City_Years  Marital_Status  \n",
       "3711                          0               0  \n",
       "3078                          1               0  \n",
       "928                           0               1  \n",
       "3784                          1               1  \n",
       "1079                          1               1  \n",
       "2074                          0               1  \n",
       "3787                          2               0  \n",
       "1827                          2               0  \n",
       "3810                          1               0  \n",
       "505                           1               1  "
      ]
     },
     "execution_count": 21,
     "metadata": {},
     "output_type": "execute_result"
    }
   ],
   "source": [
    "demographics.sample(10)"
   ]
  },
  {
   "cell_type": "markdown",
   "metadata": {
    "colab_type": "text",
    "id": "rItAXFZ9-_ag"
   },
   "source": [
    "To get an overall understanding of data at a high level\n",
    "- we use data.describe() function\n",
    "\n",
    "describe produces multiple summary statistics in one shot."
   ]
  },
  {
   "cell_type": "code",
   "execution_count": 22,
   "metadata": {
    "colab": {
     "base_uri": "https://localhost:8080/",
     "height": 297
    },
    "colab_type": "code",
    "executionInfo": {
     "elapsed": 114820,
     "status": "ok",
     "timestamp": 1585196988514,
     "user": {
      "displayName": "Ramesh Melapu",
      "photoUrl": "",
      "userId": "14700472000537727532"
     },
     "user_tz": -330
    },
    "id": "-6wnzP0w-uyk",
    "outputId": "b9593d78-5d8c-4a36-fdb1-ade5d7e3b7c8"
   },
   "outputs": [
    {
     "data": {
      "text/html": [
       "<div>\n",
       "<style scoped>\n",
       "    .dataframe tbody tr th:only-of-type {\n",
       "        vertical-align: middle;\n",
       "    }\n",
       "\n",
       "    .dataframe tbody tr th {\n",
       "        vertical-align: top;\n",
       "    }\n",
       "\n",
       "    .dataframe thead th {\n",
       "        text-align: right;\n",
       "    }\n",
       "</style>\n",
       "<table border=\"1\" class=\"dataframe\">\n",
       "  <thead>\n",
       "    <tr style=\"text-align: right;\">\n",
       "      <th></th>\n",
       "      <th>User_ID</th>\n",
       "      <th>Age</th>\n",
       "      <th>Occupation</th>\n",
       "      <th>Marital_Status</th>\n",
       "    </tr>\n",
       "  </thead>\n",
       "  <tbody>\n",
       "    <tr>\n",
       "      <th>count</th>\n",
       "      <td>5.908000e+03</td>\n",
       "      <td>5905.000000</td>\n",
       "      <td>5908.000000</td>\n",
       "      <td>5908.000000</td>\n",
       "    </tr>\n",
       "    <tr>\n",
       "      <th>mean</th>\n",
       "      <td>1.003027e+06</td>\n",
       "      <td>35.960711</td>\n",
       "      <td>8.155890</td>\n",
       "      <td>0.420785</td>\n",
       "    </tr>\n",
       "    <tr>\n",
       "      <th>std</th>\n",
       "      <td>1.749989e+03</td>\n",
       "      <td>12.986736</td>\n",
       "      <td>6.318067</td>\n",
       "      <td>0.493727</td>\n",
       "    </tr>\n",
       "    <tr>\n",
       "      <th>min</th>\n",
       "      <td>1.000001e+06</td>\n",
       "      <td>15.000000</td>\n",
       "      <td>0.000000</td>\n",
       "      <td>0.000000</td>\n",
       "    </tr>\n",
       "    <tr>\n",
       "      <th>25%</th>\n",
       "      <td>1.001515e+06</td>\n",
       "      <td>26.000000</td>\n",
       "      <td>3.000000</td>\n",
       "      <td>0.000000</td>\n",
       "    </tr>\n",
       "    <tr>\n",
       "      <th>50%</th>\n",
       "      <td>1.003026e+06</td>\n",
       "      <td>34.000000</td>\n",
       "      <td>7.000000</td>\n",
       "      <td>0.000000</td>\n",
       "    </tr>\n",
       "    <tr>\n",
       "      <th>75%</th>\n",
       "      <td>1.004536e+06</td>\n",
       "      <td>45.000000</td>\n",
       "      <td>14.000000</td>\n",
       "      <td>1.000000</td>\n",
       "    </tr>\n",
       "    <tr>\n",
       "      <th>max</th>\n",
       "      <td>1.007099e+06</td>\n",
       "      <td>129.000000</td>\n",
       "      <td>20.000000</td>\n",
       "      <td>1.000000</td>\n",
       "    </tr>\n",
       "  </tbody>\n",
       "</table>\n",
       "</div>"
      ],
      "text/plain": [
       "            User_ID          Age   Occupation  Marital_Status\n",
       "count  5.908000e+03  5905.000000  5908.000000     5908.000000\n",
       "mean   1.003027e+06    35.960711     8.155890        0.420785\n",
       "std    1.749989e+03    12.986736     6.318067        0.493727\n",
       "min    1.000001e+06    15.000000     0.000000        0.000000\n",
       "25%    1.001515e+06    26.000000     3.000000        0.000000\n",
       "50%    1.003026e+06    34.000000     7.000000        0.000000\n",
       "75%    1.004536e+06    45.000000    14.000000        1.000000\n",
       "max    1.007099e+06   129.000000    20.000000        1.000000"
      ]
     },
     "execution_count": 22,
     "metadata": {},
     "output_type": "execute_result"
    }
   ],
   "source": [
    "demographics.describe()"
   ]
  },
  {
   "cell_type": "markdown",
   "metadata": {
    "colab_type": "text",
    "id": "npPd2nzp_fq-"
   },
   "source": [
    "Observe that we have only the partial information. This is because, describe by default gives the summary of only numeric attributes. If we need to get information about all the attributes then we need to pass additional parameter to describe function.\n",
    "\n",
    "On non-numeric data, describe produces alternative summary statistics."
   ]
  },
  {
   "cell_type": "code",
   "execution_count": 23,
   "metadata": {
    "colab": {
     "base_uri": "https://localhost:8080/",
     "height": 390
    },
    "colab_type": "code",
    "executionInfo": {
     "elapsed": 114797,
     "status": "ok",
     "timestamp": 1585196988515,
     "user": {
      "displayName": "Ramesh Melapu",
      "photoUrl": "",
      "userId": "14700472000537727532"
     },
     "user_tz": -330
    },
    "id": "xDpwFN8O_XCK",
    "outputId": "9cb16bed-3a2c-46ec-934f-1794b3dc1568"
   },
   "outputs": [
    {
     "data": {
      "text/html": [
       "<div>\n",
       "<style scoped>\n",
       "    .dataframe tbody tr th:only-of-type {\n",
       "        vertical-align: middle;\n",
       "    }\n",
       "\n",
       "    .dataframe tbody tr th {\n",
       "        vertical-align: top;\n",
       "    }\n",
       "\n",
       "    .dataframe thead th {\n",
       "        text-align: right;\n",
       "    }\n",
       "</style>\n",
       "<table border=\"1\" class=\"dataframe\">\n",
       "  <thead>\n",
       "    <tr style=\"text-align: right;\">\n",
       "      <th></th>\n",
       "      <th>User_ID</th>\n",
       "      <th>Gender</th>\n",
       "      <th>Age</th>\n",
       "      <th>Occupation</th>\n",
       "      <th>City_Category</th>\n",
       "      <th>Stay_In_Current_City_Years</th>\n",
       "      <th>Marital_Status</th>\n",
       "    </tr>\n",
       "  </thead>\n",
       "  <tbody>\n",
       "    <tr>\n",
       "      <th>count</th>\n",
       "      <td>5.908000e+03</td>\n",
       "      <td>5908</td>\n",
       "      <td>5905.000000</td>\n",
       "      <td>5908.000000</td>\n",
       "      <td>5908</td>\n",
       "      <td>5908</td>\n",
       "      <td>5908.000000</td>\n",
       "    </tr>\n",
       "    <tr>\n",
       "      <th>unique</th>\n",
       "      <td>NaN</td>\n",
       "      <td>2</td>\n",
       "      <td>NaN</td>\n",
       "      <td>NaN</td>\n",
       "      <td>3</td>\n",
       "      <td>5</td>\n",
       "      <td>NaN</td>\n",
       "    </tr>\n",
       "    <tr>\n",
       "      <th>top</th>\n",
       "      <td>NaN</td>\n",
       "      <td>M</td>\n",
       "      <td>NaN</td>\n",
       "      <td>NaN</td>\n",
       "      <td>C</td>\n",
       "      <td>1</td>\n",
       "      <td>NaN</td>\n",
       "    </tr>\n",
       "    <tr>\n",
       "      <th>freq</th>\n",
       "      <td>NaN</td>\n",
       "      <td>4235</td>\n",
       "      <td>NaN</td>\n",
       "      <td>NaN</td>\n",
       "      <td>3149</td>\n",
       "      <td>2087</td>\n",
       "      <td>NaN</td>\n",
       "    </tr>\n",
       "    <tr>\n",
       "      <th>mean</th>\n",
       "      <td>1.003027e+06</td>\n",
       "      <td>NaN</td>\n",
       "      <td>35.960711</td>\n",
       "      <td>8.155890</td>\n",
       "      <td>NaN</td>\n",
       "      <td>NaN</td>\n",
       "      <td>0.420785</td>\n",
       "    </tr>\n",
       "    <tr>\n",
       "      <th>std</th>\n",
       "      <td>1.749989e+03</td>\n",
       "      <td>NaN</td>\n",
       "      <td>12.986736</td>\n",
       "      <td>6.318067</td>\n",
       "      <td>NaN</td>\n",
       "      <td>NaN</td>\n",
       "      <td>0.493727</td>\n",
       "    </tr>\n",
       "    <tr>\n",
       "      <th>min</th>\n",
       "      <td>1.000001e+06</td>\n",
       "      <td>NaN</td>\n",
       "      <td>15.000000</td>\n",
       "      <td>0.000000</td>\n",
       "      <td>NaN</td>\n",
       "      <td>NaN</td>\n",
       "      <td>0.000000</td>\n",
       "    </tr>\n",
       "    <tr>\n",
       "      <th>25%</th>\n",
       "      <td>1.001515e+06</td>\n",
       "      <td>NaN</td>\n",
       "      <td>26.000000</td>\n",
       "      <td>3.000000</td>\n",
       "      <td>NaN</td>\n",
       "      <td>NaN</td>\n",
       "      <td>0.000000</td>\n",
       "    </tr>\n",
       "    <tr>\n",
       "      <th>50%</th>\n",
       "      <td>1.003026e+06</td>\n",
       "      <td>NaN</td>\n",
       "      <td>34.000000</td>\n",
       "      <td>7.000000</td>\n",
       "      <td>NaN</td>\n",
       "      <td>NaN</td>\n",
       "      <td>0.000000</td>\n",
       "    </tr>\n",
       "    <tr>\n",
       "      <th>75%</th>\n",
       "      <td>1.004536e+06</td>\n",
       "      <td>NaN</td>\n",
       "      <td>45.000000</td>\n",
       "      <td>14.000000</td>\n",
       "      <td>NaN</td>\n",
       "      <td>NaN</td>\n",
       "      <td>1.000000</td>\n",
       "    </tr>\n",
       "    <tr>\n",
       "      <th>max</th>\n",
       "      <td>1.007099e+06</td>\n",
       "      <td>NaN</td>\n",
       "      <td>129.000000</td>\n",
       "      <td>20.000000</td>\n",
       "      <td>NaN</td>\n",
       "      <td>NaN</td>\n",
       "      <td>1.000000</td>\n",
       "    </tr>\n",
       "  </tbody>\n",
       "</table>\n",
       "</div>"
      ],
      "text/plain": [
       "             User_ID Gender          Age   Occupation City_Category  \\\n",
       "count   5.908000e+03   5908  5905.000000  5908.000000          5908   \n",
       "unique           NaN      2          NaN          NaN             3   \n",
       "top              NaN      M          NaN          NaN             C   \n",
       "freq             NaN   4235          NaN          NaN          3149   \n",
       "mean    1.003027e+06    NaN    35.960711     8.155890           NaN   \n",
       "std     1.749989e+03    NaN    12.986736     6.318067           NaN   \n",
       "min     1.000001e+06    NaN    15.000000     0.000000           NaN   \n",
       "25%     1.001515e+06    NaN    26.000000     3.000000           NaN   \n",
       "50%     1.003026e+06    NaN    34.000000     7.000000           NaN   \n",
       "75%     1.004536e+06    NaN    45.000000    14.000000           NaN   \n",
       "max     1.007099e+06    NaN   129.000000    20.000000           NaN   \n",
       "\n",
       "       Stay_In_Current_City_Years  Marital_Status  \n",
       "count                        5908     5908.000000  \n",
       "unique                          5             NaN  \n",
       "top                             1             NaN  \n",
       "freq                         2087             NaN  \n",
       "mean                          NaN        0.420785  \n",
       "std                           NaN        0.493727  \n",
       "min                           NaN        0.000000  \n",
       "25%                           NaN        0.000000  \n",
       "50%                           NaN        0.000000  \n",
       "75%                           NaN        1.000000  \n",
       "max                           NaN        1.000000  "
      ]
     },
     "execution_count": 23,
     "metadata": {},
     "output_type": "execute_result"
    }
   ],
   "source": [
    "demographics.describe(include=\"all\")"
   ]
  },
  {
   "cell_type": "code",
   "execution_count": 24,
   "metadata": {
    "colab": {
     "base_uri": "https://localhost:8080/",
     "height": 286
    },
    "colab_type": "code",
    "executionInfo": {
     "elapsed": 114762,
     "status": "ok",
     "timestamp": 1585196988517,
     "user": {
      "displayName": "Ramesh Melapu",
      "photoUrl": "",
      "userId": "14700472000537727532"
     },
     "user_tz": -330
    },
    "id": "KgaTf66d_oYx",
    "outputId": "a89011d1-3fd5-45a7-f15a-afdc4b015ca6"
   },
   "outputs": [
    {
     "data": {
      "text/html": [
       "<div>\n",
       "<style scoped>\n",
       "    .dataframe tbody tr th:only-of-type {\n",
       "        vertical-align: middle;\n",
       "    }\n",
       "\n",
       "    .dataframe tbody tr th {\n",
       "        vertical-align: top;\n",
       "    }\n",
       "\n",
       "    .dataframe thead th {\n",
       "        text-align: right;\n",
       "    }\n",
       "</style>\n",
       "<table border=\"1\" class=\"dataframe\">\n",
       "  <thead>\n",
       "    <tr style=\"text-align: right;\">\n",
       "      <th></th>\n",
       "      <th>count</th>\n",
       "      <th>unique</th>\n",
       "      <th>top</th>\n",
       "      <th>freq</th>\n",
       "      <th>mean</th>\n",
       "      <th>std</th>\n",
       "      <th>min</th>\n",
       "      <th>25%</th>\n",
       "      <th>50%</th>\n",
       "      <th>75%</th>\n",
       "      <th>max</th>\n",
       "    </tr>\n",
       "  </thead>\n",
       "  <tbody>\n",
       "    <tr>\n",
       "      <th>User_ID</th>\n",
       "      <td>5908</td>\n",
       "      <td>NaN</td>\n",
       "      <td>NaN</td>\n",
       "      <td>NaN</td>\n",
       "      <td>1.00303e+06</td>\n",
       "      <td>1749.99</td>\n",
       "      <td>1e+06</td>\n",
       "      <td>1.00151e+06</td>\n",
       "      <td>1.00303e+06</td>\n",
       "      <td>1.00454e+06</td>\n",
       "      <td>1.0071e+06</td>\n",
       "    </tr>\n",
       "    <tr>\n",
       "      <th>Gender</th>\n",
       "      <td>5908</td>\n",
       "      <td>2</td>\n",
       "      <td>M</td>\n",
       "      <td>4235</td>\n",
       "      <td>NaN</td>\n",
       "      <td>NaN</td>\n",
       "      <td>NaN</td>\n",
       "      <td>NaN</td>\n",
       "      <td>NaN</td>\n",
       "      <td>NaN</td>\n",
       "      <td>NaN</td>\n",
       "    </tr>\n",
       "    <tr>\n",
       "      <th>Age</th>\n",
       "      <td>5905</td>\n",
       "      <td>NaN</td>\n",
       "      <td>NaN</td>\n",
       "      <td>NaN</td>\n",
       "      <td>35.9607</td>\n",
       "      <td>12.9867</td>\n",
       "      <td>15</td>\n",
       "      <td>26</td>\n",
       "      <td>34</td>\n",
       "      <td>45</td>\n",
       "      <td>129</td>\n",
       "    </tr>\n",
       "    <tr>\n",
       "      <th>Occupation</th>\n",
       "      <td>5908</td>\n",
       "      <td>NaN</td>\n",
       "      <td>NaN</td>\n",
       "      <td>NaN</td>\n",
       "      <td>8.15589</td>\n",
       "      <td>6.31807</td>\n",
       "      <td>0</td>\n",
       "      <td>3</td>\n",
       "      <td>7</td>\n",
       "      <td>14</td>\n",
       "      <td>20</td>\n",
       "    </tr>\n",
       "    <tr>\n",
       "      <th>City_Category</th>\n",
       "      <td>5908</td>\n",
       "      <td>3</td>\n",
       "      <td>C</td>\n",
       "      <td>3149</td>\n",
       "      <td>NaN</td>\n",
       "      <td>NaN</td>\n",
       "      <td>NaN</td>\n",
       "      <td>NaN</td>\n",
       "      <td>NaN</td>\n",
       "      <td>NaN</td>\n",
       "      <td>NaN</td>\n",
       "    </tr>\n",
       "    <tr>\n",
       "      <th>Stay_In_Current_City_Years</th>\n",
       "      <td>5908</td>\n",
       "      <td>5</td>\n",
       "      <td>1</td>\n",
       "      <td>2087</td>\n",
       "      <td>NaN</td>\n",
       "      <td>NaN</td>\n",
       "      <td>NaN</td>\n",
       "      <td>NaN</td>\n",
       "      <td>NaN</td>\n",
       "      <td>NaN</td>\n",
       "      <td>NaN</td>\n",
       "    </tr>\n",
       "    <tr>\n",
       "      <th>Marital_Status</th>\n",
       "      <td>5908</td>\n",
       "      <td>NaN</td>\n",
       "      <td>NaN</td>\n",
       "      <td>NaN</td>\n",
       "      <td>0.420785</td>\n",
       "      <td>0.493727</td>\n",
       "      <td>0</td>\n",
       "      <td>0</td>\n",
       "      <td>0</td>\n",
       "      <td>1</td>\n",
       "      <td>1</td>\n",
       "    </tr>\n",
       "  </tbody>\n",
       "</table>\n",
       "</div>"
      ],
      "text/plain": [
       "                           count unique  top  freq         mean       std  \\\n",
       "User_ID                     5908    NaN  NaN   NaN  1.00303e+06   1749.99   \n",
       "Gender                      5908      2    M  4235          NaN       NaN   \n",
       "Age                         5905    NaN  NaN   NaN      35.9607   12.9867   \n",
       "Occupation                  5908    NaN  NaN   NaN      8.15589   6.31807   \n",
       "City_Category               5908      3    C  3149          NaN       NaN   \n",
       "Stay_In_Current_City_Years  5908      5    1  2087          NaN       NaN   \n",
       "Marital_Status              5908    NaN  NaN   NaN     0.420785  0.493727   \n",
       "\n",
       "                              min          25%          50%          75%  \\\n",
       "User_ID                     1e+06  1.00151e+06  1.00303e+06  1.00454e+06   \n",
       "Gender                        NaN          NaN          NaN          NaN   \n",
       "Age                            15           26           34           45   \n",
       "Occupation                      0            3            7           14   \n",
       "City_Category                 NaN          NaN          NaN          NaN   \n",
       "Stay_In_Current_City_Years    NaN          NaN          NaN          NaN   \n",
       "Marital_Status                  0            0            0            1   \n",
       "\n",
       "                                   max  \n",
       "User_ID                     1.0071e+06  \n",
       "Gender                             NaN  \n",
       "Age                                129  \n",
       "Occupation                          20  \n",
       "City_Category                      NaN  \n",
       "Stay_In_Current_City_Years         NaN  \n",
       "Marital_Status                       1  "
      ]
     },
     "execution_count": 24,
     "metadata": {},
     "output_type": "execute_result"
    }
   ],
   "source": [
    "demographics.describe(include=\"all\").T"
   ]
  },
  {
   "cell_type": "markdown",
   "metadata": {},
   "source": [
    "**Task**\n",
    "\n",
    "Apply `describe` on a single column (Series) - Apply on `Age` column\n",
    "result into `summary_stats_age`\n",
    "\n",
    "What is the mean value"
   ]
  },
  {
   "cell_type": "code",
   "execution_count": 25,
   "metadata": {
    "deletable": false,
    "nbgrader": {
     "cell_type": "code",
     "checksum": "a04f45068aac65fff1b0b6cdf64e1651",
     "grade": false,
     "grade_id": "Task_5_4",
     "locked": false,
     "schema_version": 3,
     "solution": true,
     "task": false
    }
   },
   "outputs": [],
   "source": [
    "## Write 1 line of code.\n",
    "# YOUR CODE HERE\n",
    "summary_stats_age = demographics['Age'].describe()"
   ]
  },
  {
   "cell_type": "code",
   "execution_count": 26,
   "metadata": {},
   "outputs": [
    {
     "data": {
      "text/plain": [
       "count    5905.000000\n",
       "mean       35.960711\n",
       "std        12.986736\n",
       "min        15.000000\n",
       "25%        26.000000\n",
       "50%        34.000000\n",
       "75%        45.000000\n",
       "max       129.000000\n",
       "Name: Age, dtype: float64"
      ]
     },
     "execution_count": 26,
     "metadata": {},
     "output_type": "execute_result"
    }
   ],
   "source": [
    "summary_stats_age"
   ]
  },
  {
   "cell_type": "code",
   "execution_count": 27,
   "metadata": {
    "deletable": false,
    "editable": false,
    "nbgrader": {
     "cell_type": "code",
     "checksum": "e8be833e6eb80464ad5ddb4462726ff6",
     "grade": true,
     "grade_id": "Task_5_4_Ans",
     "locked": true,
     "points": 0,
     "schema_version": 3,
     "solution": false,
     "task": false
    }
   },
   "outputs": [
    {
     "name": "stdout",
     "output_type": "stream",
     "text": [
      "36.0\n"
     ]
    }
   ],
   "source": [
    "# Check\n",
    "print(round(summary_stats_age['mean']))"
   ]
  },
  {
   "cell_type": "markdown",
   "metadata": {
    "colab_type": "text",
    "id": "sT_0G_fPAFif"
   },
   "source": [
    "To get the dimensions of the data. To obtain how many attributes and records are available in the data\n",
    "- We use dataframe.shape"
   ]
  },
  {
   "cell_type": "code",
   "execution_count": 28,
   "metadata": {
    "colab": {
     "base_uri": "https://localhost:8080/",
     "height": 34
    },
    "colab_type": "code",
    "executionInfo": {
     "elapsed": 114744,
     "status": "ok",
     "timestamp": 1585196988518,
     "user": {
      "displayName": "Ramesh Melapu",
      "photoUrl": "",
      "userId": "14700472000537727532"
     },
     "user_tz": -330
    },
    "id": "vnfz2odaAATg",
    "outputId": "8479b309-a434-4769-877c-7bf11319e2de"
   },
   "outputs": [
    {
     "data": {
      "text/plain": [
       "(5908, 7)"
      ]
     },
     "execution_count": 28,
     "metadata": {},
     "output_type": "execute_result"
    }
   ],
   "source": [
    "### Get the dimensions of the data\n",
    "demographics.shape"
   ]
  },
  {
   "cell_type": "markdown",
   "metadata": {
    "colab_type": "text",
    "id": "35okhkp7AVlo"
   },
   "source": [
    "**Task** \n",
    "\n",
    "How many records and attributes are there in transactions and products dataframes?\n",
    "- transactions dimensions into `trans_dims`\n",
    "- products dimensions into `prod_dims`"
   ]
  },
  {
   "cell_type": "code",
   "execution_count": 29,
   "metadata": {
    "deletable": false,
    "nbgrader": {
     "cell_type": "code",
     "checksum": "f23c4bfb6518b311e4873b9ee54e6a9d",
     "grade": false,
     "grade_id": "Task_5_5",
     "locked": false,
     "schema_version": 3,
     "solution": true,
     "task": false
    }
   },
   "outputs": [],
   "source": [
    "## Write 2 lines of code.\n",
    "# YOUR CODE HERE\n",
    "trans_dims = transactions.shape\n",
    "prod_dims = products.shape"
   ]
  },
  {
   "cell_type": "code",
   "execution_count": 30,
   "metadata": {
    "colab": {
     "base_uri": "https://localhost:8080/",
     "height": 51
    },
    "colab_type": "code",
    "deletable": false,
    "editable": false,
    "executionInfo": {
     "elapsed": 115846,
     "status": "ok",
     "timestamp": 1585196989671,
     "user": {
      "displayName": "Ramesh Melapu",
      "photoUrl": "",
      "userId": "14700472000537727532"
     },
     "user_tz": -330
    },
    "id": "yllANMjTAKsQ",
    "nbgrader": {
     "cell_type": "code",
     "checksum": "27ed24cc2b1d7593a4f9ff9b8561612a",
     "grade": true,
     "grade_id": "Task_5_5_Ans",
     "locked": true,
     "points": 0,
     "schema_version": 3,
     "solution": false,
     "task": false
    },
    "outputId": "b558d037-00b4-4dba-cdb6-105ed32e85f3"
   },
   "outputs": [
    {
     "name": "stdout",
     "output_type": "stream",
     "text": [
      "(261507, 4)\n",
      "(3449, 2)\n"
     ]
    }
   ],
   "source": [
    "## Check\n",
    "print(transactions.shape)\n",
    "print(products.shape)"
   ]
  },
  {
   "cell_type": "markdown",
   "metadata": {
    "colab_type": "text",
    "id": "ydp0vzjdAwam"
   },
   "source": [
    "- Observe that, all the three files correspond to transactions, products and demographics data based on the information from each customer, products they purchased and amount they spent. However, these are in different files and we need to consolidate and bring them into one single file, where we have all the attributes as columns and each record corresponds to one customer- their demographic information, products purchased and amount spent\n",
    "\n",
    "- You all might have been to super markets right. If we observe the bill generated, each product we purchased would be printed in separate line i.e., \n",
    "    - If a customer purchases 10 products, there would be 10 records for that customer in transactions data, but the demographics information would still be one record. How would we consolidate these two files? We will look into this in a moment."
   ]
  },
  {
   "cell_type": "markdown",
   "metadata": {
    "colab_type": "text",
    "id": "DKma8fggA1cp"
   },
   "source": [
    "To observe the data types of each attribute\n",
    "- We use dataframe.dtypes\n",
    "- The data types given are how python interpreted them. Sometimes, they may be interpreted incorrectly. \n",
    "\n",
    "In such cases, we may have to change them to appropriate data types\n",
    "    - Data types we have Integer/Numeric, Object (Category), Boolean."
   ]
  },
  {
   "cell_type": "code",
   "execution_count": 31,
   "metadata": {
    "colab": {
     "base_uri": "https://localhost:8080/",
     "height": 153
    },
    "colab_type": "code",
    "executionInfo": {
     "elapsed": 115822,
     "status": "ok",
     "timestamp": 1585196989673,
     "user": {
      "displayName": "Ramesh Melapu",
      "photoUrl": "",
      "userId": "14700472000537727532"
     },
     "user_tz": -330
    },
    "id": "EjwkAeE9AaTj",
    "outputId": "3bffa082-37c4-4043-de73-940f38424d07"
   },
   "outputs": [
    {
     "data": {
      "text/plain": [
       "User_ID                         int64\n",
       "Gender                         object\n",
       "Age                           float64\n",
       "Occupation                      int64\n",
       "City_Category                  object\n",
       "Stay_In_Current_City_Years     object\n",
       "Marital_Status                  int64\n",
       "dtype: object"
      ]
     },
     "execution_count": 31,
     "metadata": {},
     "output_type": "execute_result"
    }
   ],
   "source": [
    "# Understanding the data types for each data\n",
    "demographics.dtypes"
   ]
  },
  {
   "cell_type": "markdown",
   "metadata": {},
   "source": [
    "#### Know the columns, memory information"
   ]
  },
  {
   "cell_type": "code",
   "execution_count": 32,
   "metadata": {},
   "outputs": [
    {
     "name": "stdout",
     "output_type": "stream",
     "text": [
      "<class 'pandas.core.frame.DataFrame'>\n",
      "RangeIndex: 5908 entries, 0 to 5907\n",
      "Data columns (total 7 columns):\n",
      " #   Column                      Non-Null Count  Dtype  \n",
      "---  ------                      --------------  -----  \n",
      " 0   User_ID                     5908 non-null   int64  \n",
      " 1   Gender                      5908 non-null   object \n",
      " 2   Age                         5905 non-null   float64\n",
      " 3   Occupation                  5908 non-null   int64  \n",
      " 4   City_Category               5908 non-null   object \n",
      " 5   Stay_In_Current_City_Years  5908 non-null   object \n",
      " 6   Marital_Status              5908 non-null   int64  \n",
      "dtypes: float64(1), int64(3), object(3)\n",
      "memory usage: 323.2+ KB\n"
     ]
    }
   ],
   "source": [
    "# memory usage for object type is not counted\n",
    "\n",
    "demographics.info()"
   ]
  },
  {
   "cell_type": "code",
   "execution_count": 33,
   "metadata": {},
   "outputs": [
    {
     "name": "stdout",
     "output_type": "stream",
     "text": [
      "<class 'pandas.core.frame.DataFrame'>\n",
      "RangeIndex: 5908 entries, 0 to 5907\n",
      "Data columns (total 7 columns):\n",
      " #   Column                      Non-Null Count  Dtype  \n",
      "---  ------                      --------------  -----  \n",
      " 0   User_ID                     5908 non-null   int64  \n",
      " 1   Gender                      5908 non-null   object \n",
      " 2   Age                         5905 non-null   float64\n",
      " 3   Occupation                  5908 non-null   int64  \n",
      " 4   City_Category               5908 non-null   object \n",
      " 5   Stay_In_Current_City_Years  5908 non-null   object \n",
      " 6   Marital_Status              5908 non-null   int64  \n",
      "dtypes: float64(1), int64(3), object(3)\n",
      "memory usage: 1.3 MB\n"
     ]
    }
   ],
   "source": [
    "# memory usage for object type is now counted\n",
    "\n",
    "demographics.info(memory_usage='deep')"
   ]
  },
  {
   "cell_type": "markdown",
   "metadata": {
    "colab_type": "text",
    "id": "PzxDcR0lBi_e"
   },
   "source": [
    "### How do we differentiate between numeric and categorical attributes?\n",
    "\n",
    "- Understading the variable names and doing a simple test. Does applying a statistical function like mean/average makes sense on that variable. If it does, then it is numeric else it is categorical\n",
    "- Looking at the data. If a particular variable has only a few values which are repeating, probably they are categorical."
   ]
  },
  {
   "cell_type": "code",
   "execution_count": 34,
   "metadata": {},
   "outputs": [],
   "source": [
    "# convert the datatypes to appropriate type\n",
    "demographics.Gender = demographics.Gender.astype('category')\n",
    "demographics.Occupation = demographics.Occupation.astype('category')\n",
    "demographics.City_Category = demographics.City_Category.astype('category')\n",
    "demographics.Stay_In_Current_City_Years = demographics.Stay_In_Current_City_Years.astype('category')\n",
    "demographics.Marital_Status = demographics.Marital_Status.astype('category')"
   ]
  },
  {
   "cell_type": "code",
   "execution_count": 35,
   "metadata": {},
   "outputs": [
    {
     "name": "stdout",
     "output_type": "stream",
     "text": [
      "<class 'pandas.core.frame.DataFrame'>\n",
      "RangeIndex: 5908 entries, 0 to 5907\n",
      "Data columns (total 7 columns):\n",
      " #   Column                      Non-Null Count  Dtype   \n",
      "---  ------                      --------------  -----   \n",
      " 0   User_ID                     5908 non-null   int64   \n",
      " 1   Gender                      5908 non-null   category\n",
      " 2   Age                         5905 non-null   float64 \n",
      " 3   Occupation                  5908 non-null   category\n",
      " 4   City_Category               5908 non-null   category\n",
      " 5   Stay_In_Current_City_Years  5908 non-null   category\n",
      " 6   Marital_Status              5908 non-null   category\n",
      "dtypes: category(5), float64(1), int64(1)\n",
      "memory usage: 123.1 KB\n"
     ]
    }
   ],
   "source": [
    "demographics.info(memory_usage='deep')"
   ]
  },
  {
   "cell_type": "markdown",
   "metadata": {},
   "source": [
    "Total memory usage is reduced because the object type occupies more memory than category."
   ]
  },
  {
   "cell_type": "markdown",
   "metadata": {
    "colab_type": "text",
    "id": "ItSiS0VtEp77"
   },
   "source": [
    "**Question: What are data types of products and transactions dataframes?**"
   ]
  },
  {
   "cell_type": "code",
   "execution_count": 36,
   "metadata": {
    "colab": {
     "base_uri": "https://localhost:8080/",
     "height": 238
    },
    "colab_type": "code",
    "executionInfo": {
     "elapsed": 115764,
     "status": "ok",
     "timestamp": 1585196989674,
     "user": {
      "displayName": "Ramesh Melapu",
      "photoUrl": "",
      "userId": "14700472000537727532"
     },
     "user_tz": -330
    },
    "id": "gpMzn1FxBGGx",
    "outputId": "6993acdd-0a02-478d-895b-b5f2baef6160"
   },
   "outputs": [
    {
     "name": "stdout",
     "output_type": "stream",
     "text": [
      "TRANSACTIONS DATA TYPES\n",
      "Date          object\n",
      "User_ID        int64\n",
      "Product_ID    object\n",
      "Purchase       int64\n",
      "dtype: object\n"
     ]
    }
   ],
   "source": [
    "print(\"TRANSACTIONS DATA TYPES\")\n",
    "print(transactions.dtypes)"
   ]
  },
  {
   "cell_type": "code",
   "execution_count": 37,
   "metadata": {},
   "outputs": [
    {
     "name": "stdout",
     "output_type": "stream",
     "text": [
      "PRODUCTS DATA TYPES\n",
      "Product_ID          object\n",
      "Product_Category     int64\n",
      "dtype: object\n"
     ]
    }
   ],
   "source": [
    "print(\"PRODUCTS DATA TYPES\")\n",
    "print(products.dtypes)"
   ]
  },
  {
   "cell_type": "markdown",
   "metadata": {
    "colab_type": "text",
    "id": "_R8IIuG5Fi6E"
   },
   "source": [
    "- Observe that the Product Category data type is interpreted as integer but we know that it should be a category. Just because it was represented in numbers, it was interpreted as numeric. So we need to convert it to category\n",
    "\n",
    "    - We use column.astype() function to change the data type"
   ]
  },
  {
   "cell_type": "code",
   "execution_count": 38,
   "metadata": {
    "colab": {
     "base_uri": "https://localhost:8080/",
     "height": 68
    },
    "colab_type": "code",
    "executionInfo": {
     "elapsed": 115718,
     "status": "ok",
     "timestamp": 1585196989675,
     "user": {
      "displayName": "Ramesh Melapu",
      "photoUrl": "",
      "userId": "14700472000537727532"
     },
     "user_tz": -330
    },
    "id": "bu57edSqE1vR",
    "outputId": "1cd6309b-fd1e-40e3-f75c-ea6ea3bb01b8"
   },
   "outputs": [
    {
     "name": "stdout",
     "output_type": "stream",
     "text": [
      "Product_ID            object\n",
      "Product_Category    category\n",
      "dtype: object\n"
     ]
    }
   ],
   "source": [
    "# We need to assign the change to the attribute and hence, syntax is as shown below\n",
    "products['Product_Category'] = products['Product_Category'].astype('category')\n",
    "\n",
    "# Verify the datatypes after changes\n",
    "print(products.dtypes)"
   ]
  },
  {
   "cell_type": "markdown",
   "metadata": {
    "colab_type": "text",
    "id": "KJPV7KNkGOqU"
   },
   "source": [
    "### Understand what is there in each data file\n",
    "\n",
    "- Are there any duplicates in the data?"
   ]
  },
  {
   "cell_type": "code",
   "execution_count": 39,
   "metadata": {
    "colab": {
     "base_uri": "https://localhost:8080/",
     "height": 34
    },
    "colab_type": "code",
    "executionInfo": {
     "elapsed": 115684,
     "status": "ok",
     "timestamp": 1585196989676,
     "user": {
      "displayName": "Ramesh Melapu",
      "photoUrl": "",
      "userId": "14700472000537727532"
     },
     "user_tz": -330
    },
    "id": "irtqwoC2GFFo",
    "outputId": "408221dd-9de2-486b-e3b0-d75e69341df4"
   },
   "outputs": [
    {
     "data": {
      "text/plain": [
       "5900"
      ]
     },
     "execution_count": 39,
     "metadata": {},
     "output_type": "execute_result"
    }
   ],
   "source": [
    "# Solution: To answer this question we need to see how many unique customers are \n",
    "# there and are these equal to total number of records\n",
    "\n",
    "# Which does not match the total number of records (5908) in the data. \n",
    "# That means the User_ID are not unique and there duplicates.\n",
    "demographics.User_ID.nunique() "
   ]
  },
  {
   "cell_type": "markdown",
   "metadata": {
    "colab_type": "text",
    "id": "O9BKReK-GtUj"
   },
   "source": [
    "- Observe that there are 5908 records in the customer data however there are only 5900 unique customers. What does this mean?\n",
    "    - Are there any duplicates in the data. Is it ok to have duplicate records for the customers in this data?"
   ]
  },
  {
   "cell_type": "code",
   "execution_count": 40,
   "metadata": {
    "colab": {
     "base_uri": "https://localhost:8080/",
     "height": 297
    },
    "colab_type": "code",
    "executionInfo": {
     "elapsed": 115649,
     "status": "ok",
     "timestamp": 1585196989676,
     "user": {
      "displayName": "Ramesh Melapu",
      "photoUrl": "",
      "userId": "14700472000537727532"
     },
     "user_tz": -330
    },
    "id": "LdcA2VhfGnCW",
    "outputId": "e99f4fa0-09dd-4eae-8eb6-56b137b04918"
   },
   "outputs": [
    {
     "data": {
      "text/html": [
       "<div>\n",
       "<style scoped>\n",
       "    .dataframe tbody tr th:only-of-type {\n",
       "        vertical-align: middle;\n",
       "    }\n",
       "\n",
       "    .dataframe tbody tr th {\n",
       "        vertical-align: top;\n",
       "    }\n",
       "\n",
       "    .dataframe thead th {\n",
       "        text-align: right;\n",
       "    }\n",
       "</style>\n",
       "<table border=\"1\" class=\"dataframe\">\n",
       "  <thead>\n",
       "    <tr style=\"text-align: right;\">\n",
       "      <th></th>\n",
       "      <th>User_ID</th>\n",
       "      <th>Gender</th>\n",
       "      <th>Age</th>\n",
       "      <th>Occupation</th>\n",
       "      <th>City_Category</th>\n",
       "      <th>Stay_In_Current_City_Years</th>\n",
       "      <th>Marital_Status</th>\n",
       "    </tr>\n",
       "  </thead>\n",
       "  <tbody>\n",
       "    <tr>\n",
       "      <th>12</th>\n",
       "      <td>1000012</td>\n",
       "      <td>M</td>\n",
       "      <td>30.0</td>\n",
       "      <td>12</td>\n",
       "      <td>C</td>\n",
       "      <td>2</td>\n",
       "      <td>0</td>\n",
       "    </tr>\n",
       "    <tr>\n",
       "      <th>66</th>\n",
       "      <td>1000067</td>\n",
       "      <td>F</td>\n",
       "      <td>55.0</td>\n",
       "      <td>5</td>\n",
       "      <td>C</td>\n",
       "      <td>4+</td>\n",
       "      <td>1</td>\n",
       "    </tr>\n",
       "    <tr>\n",
       "      <th>67</th>\n",
       "      <td>1000067</td>\n",
       "      <td>F</td>\n",
       "      <td>55.0</td>\n",
       "      <td>5</td>\n",
       "      <td>C</td>\n",
       "      <td>4+</td>\n",
       "      <td>1</td>\n",
       "    </tr>\n",
       "    <tr>\n",
       "      <th>68</th>\n",
       "      <td>1000067</td>\n",
       "      <td>F</td>\n",
       "      <td>55.0</td>\n",
       "      <td>5</td>\n",
       "      <td>C</td>\n",
       "      <td>4+</td>\n",
       "      <td>1</td>\n",
       "    </tr>\n",
       "    <tr>\n",
       "      <th>221</th>\n",
       "      <td>1000220</td>\n",
       "      <td>M</td>\n",
       "      <td>34.0</td>\n",
       "      <td>12</td>\n",
       "      <td>A</td>\n",
       "      <td>3</td>\n",
       "      <td>0</td>\n",
       "    </tr>\n",
       "    <tr>\n",
       "      <th>222</th>\n",
       "      <td>1000220</td>\n",
       "      <td>M</td>\n",
       "      <td>34.0</td>\n",
       "      <td>12</td>\n",
       "      <td>A</td>\n",
       "      <td>3</td>\n",
       "      <td>0</td>\n",
       "    </tr>\n",
       "    <tr>\n",
       "      <th>1126</th>\n",
       "      <td>1001158</td>\n",
       "      <td>F</td>\n",
       "      <td>39.0</td>\n",
       "      <td>1</td>\n",
       "      <td>C</td>\n",
       "      <td>2</td>\n",
       "      <td>1</td>\n",
       "    </tr>\n",
       "    <tr>\n",
       "      <th>2151</th>\n",
       "      <td>1002203</td>\n",
       "      <td>M</td>\n",
       "      <td>49.0</td>\n",
       "      <td>12</td>\n",
       "      <td>B</td>\n",
       "      <td>4+</td>\n",
       "      <td>1</td>\n",
       "    </tr>\n",
       "  </tbody>\n",
       "</table>\n",
       "</div>"
      ],
      "text/plain": [
       "      User_ID Gender   Age Occupation City_Category  \\\n",
       "12    1000012      M  30.0         12             C   \n",
       "66    1000067      F  55.0          5             C   \n",
       "67    1000067      F  55.0          5             C   \n",
       "68    1000067      F  55.0          5             C   \n",
       "221   1000220      M  34.0         12             A   \n",
       "222   1000220      M  34.0         12             A   \n",
       "1126  1001158      F  39.0          1             C   \n",
       "2151  1002203      M  49.0         12             B   \n",
       "\n",
       "     Stay_In_Current_City_Years Marital_Status  \n",
       "12                            2              0  \n",
       "66                           4+              1  \n",
       "67                           4+              1  \n",
       "68                           4+              1  \n",
       "221                           3              0  \n",
       "222                           3              0  \n",
       "1126                          2              1  \n",
       "2151                         4+              1  "
      ]
     },
     "execution_count": 40,
     "metadata": {},
     "output_type": "execute_result"
    }
   ],
   "source": [
    "# Analysing the duplicate records\n",
    "duplicate_rows = demographics.duplicated(keep='first')\n",
    "demographics[duplicate_rows]"
   ]
  },
  {
   "cell_type": "code",
   "execution_count": 41,
   "metadata": {
    "colab": {
     "base_uri": "https://localhost:8080/",
     "height": 51
    },
    "colab_type": "code",
    "executionInfo": {
     "elapsed": 115607,
     "status": "ok",
     "timestamp": 1585196989677,
     "user": {
      "displayName": "Ramesh Melapu",
      "photoUrl": "",
      "userId": "14700472000537727532"
     },
     "user_tz": -330
    },
    "id": "HJ0fSOCKG5Ui",
    "outputId": "b8e472f9-e9c8-4786-d97e-04fb8a1991c7"
   },
   "outputs": [
    {
     "name": "stdout",
     "output_type": "stream",
     "text": [
      "(5900, 7)\n",
      "5900\n"
     ]
    }
   ],
   "source": [
    "# Ignoring the duplicate records\n",
    "demo_no_duplicates = demographics.drop_duplicates(keep='first')\n",
    "# demo_no_duplicates = demographics.[~demographics.duplicated()]\n",
    "\n",
    "print(demo_no_duplicates.shape)\n",
    "print(demo_no_duplicates['User_ID'].nunique())"
   ]
  },
  {
   "cell_type": "code",
   "execution_count": 42,
   "metadata": {
    "colab": {
     "base_uri": "https://localhost:8080/",
     "height": 68
    },
    "colab_type": "code",
    "executionInfo": {
     "elapsed": 115587,
     "status": "ok",
     "timestamp": 1585196989677,
     "user": {
      "displayName": "Ramesh Melapu",
      "photoUrl": "",
      "userId": "14700472000537727532"
     },
     "user_tz": -330
    },
    "id": "sQpHCvCqH3s_",
    "outputId": "822e0bcd-6fa8-4094-ea6f-125bf309930d"
   },
   "outputs": [
    {
     "data": {
      "text/plain": [
       "M    4231\n",
       "F    1669\n",
       "Name: Gender, dtype: int64"
      ]
     },
     "execution_count": 42,
     "metadata": {},
     "output_type": "execute_result"
    }
   ],
   "source": [
    "# Of these 5900 customers, how many are male and how many are female\n",
    "demo_no_duplicates.Gender.value_counts()"
   ]
  },
  {
   "cell_type": "code",
   "execution_count": 43,
   "metadata": {},
   "outputs": [
    {
     "data": {
      "text/plain": [
       "M    0.717119\n",
       "F    0.282881\n",
       "Name: Gender, dtype: float64"
      ]
     },
     "execution_count": 43,
     "metadata": {},
     "output_type": "execute_result"
    }
   ],
   "source": [
    "demo_no_duplicates.Gender.value_counts(normalize=True)"
   ]
  },
  {
   "cell_type": "markdown",
   "metadata": {
    "colab_type": "text",
    "id": "cjv35BtOIBID"
   },
   "source": [
    "- Observe that there are 4231 (≈72%) Males and 1669 (≈28%) Females. Males are nearly 2.5 times more than Females."
   ]
  },
  {
   "cell_type": "markdown",
   "metadata": {
    "colab_type": "text",
    "id": "SAXrppXeKGdC"
   },
   "source": [
    "### Explore demographics data\n",
    "Is customer data dominating by any particular demographic segment? Or uniform?"
   ]
  },
  {
   "cell_type": "code",
   "execution_count": 44,
   "metadata": {
    "colab": {
     "base_uri": "https://localhost:8080/",
     "height": 68
    },
    "colab_type": "code",
    "executionInfo": {
     "elapsed": 115561,
     "status": "ok",
     "timestamp": 1585196989678,
     "user": {
      "displayName": "Ramesh Melapu",
      "photoUrl": "",
      "userId": "14700472000537727532"
     },
     "user_tz": -330
    },
    "id": "9PJPMdusH8fd",
    "outputId": "98f3c908-7d91-48a3-8475-68604091f34e"
   },
   "outputs": [
    {
     "data": {
      "text/plain": [
       "M    0.717119\n",
       "F    0.282881\n",
       "Name: Gender, dtype: float64"
      ]
     },
     "execution_count": 44,
     "metadata": {},
     "output_type": "execute_result"
    }
   ],
   "source": [
    "# What is the proportion of Male and Female?\n",
    "demo_no_duplicates.Gender.value_counts(normalize=True) ## So we have about 72% male and 28% female."
   ]
  },
  {
   "cell_type": "markdown",
   "metadata": {},
   "source": [
    "Subset people whose Age is less than 30 years"
   ]
  },
  {
   "cell_type": "code",
   "execution_count": 45,
   "metadata": {},
   "outputs": [
    {
     "data": {
      "text/plain": [
       "0        True\n",
       "1       False\n",
       "2       False\n",
       "3       False\n",
       "4        True\n",
       "        ...  \n",
       "5903    False\n",
       "5904    False\n",
       "5905    False\n",
       "5906    False\n",
       "5907    False\n",
       "Name: Age, Length: 5900, dtype: bool"
      ]
     },
     "execution_count": 45,
     "metadata": {},
     "output_type": "execute_result"
    }
   ],
   "source": [
    "demo_no_duplicates.Age < 30"
   ]
  },
  {
   "cell_type": "code",
   "execution_count": 46,
   "metadata": {},
   "outputs": [
    {
     "data": {
      "text/html": [
       "<div>\n",
       "<style scoped>\n",
       "    .dataframe tbody tr th:only-of-type {\n",
       "        vertical-align: middle;\n",
       "    }\n",
       "\n",
       "    .dataframe tbody tr th {\n",
       "        vertical-align: top;\n",
       "    }\n",
       "\n",
       "    .dataframe thead th {\n",
       "        text-align: right;\n",
       "    }\n",
       "</style>\n",
       "<table border=\"1\" class=\"dataframe\">\n",
       "  <thead>\n",
       "    <tr style=\"text-align: right;\">\n",
       "      <th></th>\n",
       "      <th>User_ID</th>\n",
       "      <th>Gender</th>\n",
       "      <th>Age</th>\n",
       "      <th>Occupation</th>\n",
       "      <th>City_Category</th>\n",
       "      <th>Stay_In_Current_City_Years</th>\n",
       "      <th>Marital_Status</th>\n",
       "    </tr>\n",
       "  </thead>\n",
       "  <tbody>\n",
       "    <tr>\n",
       "      <th>0</th>\n",
       "      <td>1000001</td>\n",
       "      <td>F</td>\n",
       "      <td>15.0</td>\n",
       "      <td>10</td>\n",
       "      <td>A</td>\n",
       "      <td>2</td>\n",
       "      <td>0</td>\n",
       "    </tr>\n",
       "    <tr>\n",
       "      <th>4</th>\n",
       "      <td>1000005</td>\n",
       "      <td>M</td>\n",
       "      <td>27.0</td>\n",
       "      <td>20</td>\n",
       "      <td>A</td>\n",
       "      <td>1</td>\n",
       "      <td>1</td>\n",
       "    </tr>\n",
       "    <tr>\n",
       "      <th>18</th>\n",
       "      <td>1000018</td>\n",
       "      <td>F</td>\n",
       "      <td>23.0</td>\n",
       "      <td>3</td>\n",
       "      <td>B</td>\n",
       "      <td>3</td>\n",
       "      <td>0</td>\n",
       "    </tr>\n",
       "    <tr>\n",
       "      <th>19</th>\n",
       "      <td>1000019</td>\n",
       "      <td>M</td>\n",
       "      <td>15.0</td>\n",
       "      <td>10</td>\n",
       "      <td>A</td>\n",
       "      <td>3</td>\n",
       "      <td>0</td>\n",
       "    </tr>\n",
       "    <tr>\n",
       "      <th>20</th>\n",
       "      <td>1000020</td>\n",
       "      <td>M</td>\n",
       "      <td>29.0</td>\n",
       "      <td>14</td>\n",
       "      <td>A</td>\n",
       "      <td>0</td>\n",
       "      <td>0</td>\n",
       "    </tr>\n",
       "  </tbody>\n",
       "</table>\n",
       "</div>"
      ],
      "text/plain": [
       "    User_ID Gender   Age Occupation City_Category Stay_In_Current_City_Years  \\\n",
       "0   1000001      F  15.0         10             A                          2   \n",
       "4   1000005      M  27.0         20             A                          1   \n",
       "18  1000018      F  23.0          3             B                          3   \n",
       "19  1000019      M  15.0         10             A                          3   \n",
       "20  1000020      M  29.0         14             A                          0   \n",
       "\n",
       "   Marital_Status  \n",
       "0               0  \n",
       "4               1  \n",
       "18              0  \n",
       "19              0  \n",
       "20              0  "
      ]
     },
     "execution_count": 46,
     "metadata": {},
     "output_type": "execute_result"
    }
   ],
   "source": [
    "subset_age_less_than_30 = demo_no_duplicates[demo_no_duplicates.Age < 30]\n",
    "subset_age_less_than_30.head()"
   ]
  },
  {
   "cell_type": "code",
   "execution_count": 47,
   "metadata": {},
   "outputs": [
    {
     "data": {
      "text/plain": [
       "(2125, 7)"
      ]
     },
     "execution_count": 47,
     "metadata": {},
     "output_type": "execute_result"
    }
   ],
   "source": [
    "subset_age_less_than_30.shape"
   ]
  },
  {
   "cell_type": "markdown",
   "metadata": {
    "colab_type": "text",
    "id": "mY8n1LATKz6s"
   },
   "source": [
    "**Question: How many customers are there by each City_Category?**\n",
    "\n",
    "***These questions will allow us to analyse if there are more number of customers belonging to one particular city or it is uniform and so on***"
   ]
  },
  {
   "cell_type": "code",
   "execution_count": 48,
   "metadata": {},
   "outputs": [
    {
     "data": {
      "text/plain": [
       "C    3144\n",
       "B    1708\n",
       "A    1048\n",
       "Name: City_Category, dtype: int64"
      ]
     },
     "execution_count": 48,
     "metadata": {},
     "output_type": "execute_result"
    }
   ],
   "source": [
    "demo_no_duplicates.City_Category.value_counts()"
   ]
  },
  {
   "cell_type": "code",
   "execution_count": 49,
   "metadata": {},
   "outputs": [
    {
     "data": {
      "text/html": [
       "<div>\n",
       "<style scoped>\n",
       "    .dataframe tbody tr th:only-of-type {\n",
       "        vertical-align: middle;\n",
       "    }\n",
       "\n",
       "    .dataframe tbody tr th {\n",
       "        vertical-align: top;\n",
       "    }\n",
       "\n",
       "    .dataframe thead th {\n",
       "        text-align: right;\n",
       "    }\n",
       "</style>\n",
       "<table border=\"1\" class=\"dataframe\">\n",
       "  <thead>\n",
       "    <tr style=\"text-align: right;\">\n",
       "      <th></th>\n",
       "      <th>User_ID</th>\n",
       "      <th>Gender</th>\n",
       "      <th>Age</th>\n",
       "      <th>Occupation</th>\n",
       "      <th>City_Category</th>\n",
       "      <th>Stay_In_Current_City_Years</th>\n",
       "      <th>Marital_Status</th>\n",
       "    </tr>\n",
       "  </thead>\n",
       "  <tbody>\n",
       "    <tr>\n",
       "      <th>0</th>\n",
       "      <td>1000001</td>\n",
       "      <td>F</td>\n",
       "      <td>15.0</td>\n",
       "      <td>10</td>\n",
       "      <td>A</td>\n",
       "      <td>2</td>\n",
       "      <td>0</td>\n",
       "    </tr>\n",
       "    <tr>\n",
       "      <th>1</th>\n",
       "      <td>1000002</td>\n",
       "      <td>M</td>\n",
       "      <td>69.0</td>\n",
       "      <td>16</td>\n",
       "      <td>C</td>\n",
       "      <td>4+</td>\n",
       "      <td>0</td>\n",
       "    </tr>\n",
       "    <tr>\n",
       "      <th>2</th>\n",
       "      <td>1000003</td>\n",
       "      <td>M</td>\n",
       "      <td>34.0</td>\n",
       "      <td>15</td>\n",
       "      <td>A</td>\n",
       "      <td>3</td>\n",
       "      <td>0</td>\n",
       "    </tr>\n",
       "    <tr>\n",
       "      <th>3</th>\n",
       "      <td>1000004</td>\n",
       "      <td>M</td>\n",
       "      <td>46.0</td>\n",
       "      <td>7</td>\n",
       "      <td>B</td>\n",
       "      <td>2</td>\n",
       "      <td>1</td>\n",
       "    </tr>\n",
       "    <tr>\n",
       "      <th>4</th>\n",
       "      <td>1000005</td>\n",
       "      <td>M</td>\n",
       "      <td>27.0</td>\n",
       "      <td>20</td>\n",
       "      <td>A</td>\n",
       "      <td>1</td>\n",
       "      <td>1</td>\n",
       "    </tr>\n",
       "  </tbody>\n",
       "</table>\n",
       "</div>"
      ],
      "text/plain": [
       "   User_ID Gender   Age Occupation City_Category Stay_In_Current_City_Years  \\\n",
       "0  1000001      F  15.0         10             A                          2   \n",
       "1  1000002      M  69.0         16             C                         4+   \n",
       "2  1000003      M  34.0         15             A                          3   \n",
       "3  1000004      M  46.0          7             B                          2   \n",
       "4  1000005      M  27.0         20             A                          1   \n",
       "\n",
       "  Marital_Status  \n",
       "0              0  \n",
       "1              0  \n",
       "2              0  \n",
       "3              1  \n",
       "4              1  "
      ]
     },
     "execution_count": 49,
     "metadata": {},
     "output_type": "execute_result"
    }
   ],
   "source": [
    "demo_no_duplicates.head()"
   ]
  },
  {
   "cell_type": "code",
   "execution_count": 50,
   "metadata": {
    "colab": {
     "base_uri": "https://localhost:8080/",
     "height": 173
    },
    "colab_type": "code",
    "executionInfo": {
     "elapsed": 115469,
     "status": "ok",
     "timestamp": 1585196989680,
     "user": {
      "displayName": "Ramesh Melapu",
      "photoUrl": "",
      "userId": "14700472000537727532"
     },
     "user_tz": -330
    },
    "id": "bOJ6q3RaLDx9",
    "outputId": "8d9830f6-d626-434d-9d3d-f9c6895b1cb9"
   },
   "outputs": [
    {
     "data": {
      "text/html": [
       "<div>\n",
       "<style scoped>\n",
       "    .dataframe tbody tr th:only-of-type {\n",
       "        vertical-align: middle;\n",
       "    }\n",
       "\n",
       "    .dataframe tbody tr th {\n",
       "        vertical-align: top;\n",
       "    }\n",
       "\n",
       "    .dataframe thead th {\n",
       "        text-align: right;\n",
       "    }\n",
       "</style>\n",
       "<table border=\"1\" class=\"dataframe\">\n",
       "  <thead>\n",
       "    <tr style=\"text-align: right;\">\n",
       "      <th></th>\n",
       "      <th>User_ID</th>\n",
       "      <th>Gender</th>\n",
       "      <th>Age</th>\n",
       "      <th>Occupation</th>\n",
       "      <th>Stay_In_Current_City_Years</th>\n",
       "      <th>Marital_Status</th>\n",
       "    </tr>\n",
       "    <tr>\n",
       "      <th>City_Category</th>\n",
       "      <th></th>\n",
       "      <th></th>\n",
       "      <th></th>\n",
       "      <th></th>\n",
       "      <th></th>\n",
       "      <th></th>\n",
       "    </tr>\n",
       "  </thead>\n",
       "  <tbody>\n",
       "    <tr>\n",
       "      <th>A</th>\n",
       "      <td>1048</td>\n",
       "      <td>1048</td>\n",
       "      <td>1046</td>\n",
       "      <td>1048</td>\n",
       "      <td>1048</td>\n",
       "      <td>1048</td>\n",
       "    </tr>\n",
       "    <tr>\n",
       "      <th>B</th>\n",
       "      <td>1708</td>\n",
       "      <td>1708</td>\n",
       "      <td>1707</td>\n",
       "      <td>1708</td>\n",
       "      <td>1708</td>\n",
       "      <td>1708</td>\n",
       "    </tr>\n",
       "    <tr>\n",
       "      <th>C</th>\n",
       "      <td>3144</td>\n",
       "      <td>3144</td>\n",
       "      <td>3144</td>\n",
       "      <td>3144</td>\n",
       "      <td>3144</td>\n",
       "      <td>3144</td>\n",
       "    </tr>\n",
       "  </tbody>\n",
       "</table>\n",
       "</div>"
      ],
      "text/plain": [
       "               User_ID  Gender   Age  Occupation  Stay_In_Current_City_Years  \\\n",
       "City_Category                                                                  \n",
       "A                 1048    1048  1046        1048                        1048   \n",
       "B                 1708    1708  1707        1708                        1708   \n",
       "C                 3144    3144  3144        3144                        3144   \n",
       "\n",
       "               Marital_Status  \n",
       "City_Category                  \n",
       "A                        1048  \n",
       "B                        1708  \n",
       "C                        3144  "
      ]
     },
     "execution_count": 50,
     "metadata": {},
     "output_type": "execute_result"
    }
   ],
   "source": [
    "demo_no_duplicates.groupby(['City_Category']).count()"
   ]
  },
  {
   "cell_type": "code",
   "execution_count": 51,
   "metadata": {
    "colab": {
     "base_uri": "https://localhost:8080/",
     "height": 102
    },
    "colab_type": "code",
    "executionInfo": {
     "elapsed": 115532,
     "status": "ok",
     "timestamp": 1585196989680,
     "user": {
      "displayName": "Ramesh Melapu",
      "photoUrl": "",
      "userId": "14700472000537727532"
     },
     "user_tz": -330
    },
    "id": "hdS8YMfTKao8",
    "outputId": "0fc0c8bc-9658-458f-b969-55c9c87b9b84"
   },
   "outputs": [
    {
     "data": {
      "text/plain": [
       "City_Category\n",
       "A    1048\n",
       "B    1708\n",
       "C    3144\n",
       "Name: User_ID, dtype: int64"
      ]
     },
     "execution_count": 51,
     "metadata": {},
     "output_type": "execute_result"
    }
   ],
   "source": [
    "demo_no_duplicates.groupby(['City_Category'])['User_ID'].count()"
   ]
  },
  {
   "cell_type": "markdown",
   "metadata": {
    "colab_type": "text",
    "id": "mO-PwokINFC1"
   },
   "source": [
    "**Data Aggregations**\n",
    "Aggregations refer to any data transformation that produces scalar values from\n",
    "arrays. The preceding examples have used several of them, including mean, count,\n",
    "min, and sum. Many common aggregations, \n",
    "have optimized implementations. \n",
    "\n",
    "- `count`: Number of non-NA values in the group\n",
    "- `sum`: Sum of non-NA values\n",
    "- `mean`: Mean of non-NA values\n",
    "- `median`: Arithmetic median of non-NA values\n",
    "- `std`, `var`: Unbiased (n – 1 denominator) standard deviation and variance\n",
    "- `min`, `max`: Minimum and maximum of non-NA values\n",
    "- `prod`: Product of non-NA values\n",
    "- `first`, `last`: First and last non-NA values"
   ]
  },
  {
   "cell_type": "markdown",
   "metadata": {},
   "source": [
    "**Task**\n",
    "\n",
    "Which `City_Category` has the most number of people with `Occupation` value `4` \n",
    "\n",
    "result into `city_occupation_max_counts`"
   ]
  },
  {
   "cell_type": "code",
   "execution_count": 52,
   "metadata": {
    "deletable": false,
    "nbgrader": {
     "cell_type": "code",
     "checksum": "63fa39791bec9a13b37bbbcfc22ed97a",
     "grade": false,
     "grade_id": "Task_5_6",
     "locked": false,
     "schema_version": 3,
     "solution": true,
     "task": false
    }
   },
   "outputs": [
    {
     "data": {
      "text/plain": [
       "City_Category\n",
       "C    332\n",
       "B    236\n",
       "A    172\n",
       "Name: Age, dtype: int64"
      ]
     },
     "execution_count": 52,
     "metadata": {},
     "output_type": "execute_result"
    }
   ],
   "source": [
    "# YOUR CODE HERE\n",
    "city_occupation_counts = demo_no_duplicates[demo_no_duplicates.Occupation == 4].\\\n",
    "    groupby('City_Category')['Age'].\\\n",
    "    count().\\\n",
    "    sort_values(ascending=False)\n",
    "city_occupation_counts"
   ]
  },
  {
   "cell_type": "code",
   "execution_count": 53,
   "metadata": {},
   "outputs": [],
   "source": [
    "city_occupation_max_counts =city_occupation_counts.reset_index()['City_Category'][0]"
   ]
  },
  {
   "cell_type": "code",
   "execution_count": 54,
   "metadata": {
    "deletable": false,
    "editable": false,
    "nbgrader": {
     "cell_type": "code",
     "checksum": "2415095b74a3d7e358324a798957a8ff",
     "grade": true,
     "grade_id": "Task_5_6_Ans",
     "locked": true,
     "points": 0,
     "schema_version": 3,
     "solution": false,
     "task": false
    }
   },
   "outputs": [
    {
     "name": "stdout",
     "output_type": "stream",
     "text": [
      "C\n"
     ]
    }
   ],
   "source": [
    "# Check\n",
    "print(city_occupation_max_counts)"
   ]
  },
  {
   "cell_type": "markdown",
   "metadata": {
    "colab_type": "text",
    "id": "RmzYiFaIPlPF"
   },
   "source": [
    "### Missing Value and Extreme Value analysis\n",
    "\n",
    "- Whenever we get the data, we need to check if the data has any missing or extreme values/ anomalies in the data which might affect our analysis"
   ]
  },
  {
   "cell_type": "code",
   "execution_count": 55,
   "metadata": {
    "colab": {
     "base_uri": "https://localhost:8080/",
     "height": 419
    },
    "colab_type": "code",
    "executionInfo": {
     "elapsed": 115421,
     "status": "ok",
     "timestamp": 1585196989681,
     "user": {
      "displayName": "Ramesh Melapu",
      "photoUrl": "",
      "userId": "14700472000537727532"
     },
     "user_tz": -330
    },
    "id": "pkwngkB5ON6t",
    "outputId": "44f65ab0-6cb8-4e71-8608-98dc0fb07661"
   },
   "outputs": [
    {
     "data": {
      "text/html": [
       "<div>\n",
       "<style scoped>\n",
       "    .dataframe tbody tr th:only-of-type {\n",
       "        vertical-align: middle;\n",
       "    }\n",
       "\n",
       "    .dataframe tbody tr th {\n",
       "        vertical-align: top;\n",
       "    }\n",
       "\n",
       "    .dataframe thead th {\n",
       "        text-align: right;\n",
       "    }\n",
       "</style>\n",
       "<table border=\"1\" class=\"dataframe\">\n",
       "  <thead>\n",
       "    <tr style=\"text-align: right;\">\n",
       "      <th></th>\n",
       "      <th>User_ID</th>\n",
       "      <th>Gender</th>\n",
       "      <th>Age</th>\n",
       "      <th>Occupation</th>\n",
       "      <th>City_Category</th>\n",
       "      <th>Stay_In_Current_City_Years</th>\n",
       "      <th>Marital_Status</th>\n",
       "    </tr>\n",
       "  </thead>\n",
       "  <tbody>\n",
       "    <tr>\n",
       "      <th>0</th>\n",
       "      <td>False</td>\n",
       "      <td>False</td>\n",
       "      <td>False</td>\n",
       "      <td>False</td>\n",
       "      <td>False</td>\n",
       "      <td>False</td>\n",
       "      <td>False</td>\n",
       "    </tr>\n",
       "    <tr>\n",
       "      <th>1</th>\n",
       "      <td>False</td>\n",
       "      <td>False</td>\n",
       "      <td>False</td>\n",
       "      <td>False</td>\n",
       "      <td>False</td>\n",
       "      <td>False</td>\n",
       "      <td>False</td>\n",
       "    </tr>\n",
       "    <tr>\n",
       "      <th>2</th>\n",
       "      <td>False</td>\n",
       "      <td>False</td>\n",
       "      <td>False</td>\n",
       "      <td>False</td>\n",
       "      <td>False</td>\n",
       "      <td>False</td>\n",
       "      <td>False</td>\n",
       "    </tr>\n",
       "    <tr>\n",
       "      <th>3</th>\n",
       "      <td>False</td>\n",
       "      <td>False</td>\n",
       "      <td>False</td>\n",
       "      <td>False</td>\n",
       "      <td>False</td>\n",
       "      <td>False</td>\n",
       "      <td>False</td>\n",
       "    </tr>\n",
       "    <tr>\n",
       "      <th>4</th>\n",
       "      <td>False</td>\n",
       "      <td>False</td>\n",
       "      <td>False</td>\n",
       "      <td>False</td>\n",
       "      <td>False</td>\n",
       "      <td>False</td>\n",
       "      <td>False</td>\n",
       "    </tr>\n",
       "    <tr>\n",
       "      <th>...</th>\n",
       "      <td>...</td>\n",
       "      <td>...</td>\n",
       "      <td>...</td>\n",
       "      <td>...</td>\n",
       "      <td>...</td>\n",
       "      <td>...</td>\n",
       "      <td>...</td>\n",
       "    </tr>\n",
       "    <tr>\n",
       "      <th>5903</th>\n",
       "      <td>False</td>\n",
       "      <td>False</td>\n",
       "      <td>True</td>\n",
       "      <td>False</td>\n",
       "      <td>False</td>\n",
       "      <td>False</td>\n",
       "      <td>False</td>\n",
       "    </tr>\n",
       "    <tr>\n",
       "      <th>5904</th>\n",
       "      <td>False</td>\n",
       "      <td>False</td>\n",
       "      <td>False</td>\n",
       "      <td>False</td>\n",
       "      <td>False</td>\n",
       "      <td>False</td>\n",
       "      <td>False</td>\n",
       "    </tr>\n",
       "    <tr>\n",
       "      <th>5905</th>\n",
       "      <td>False</td>\n",
       "      <td>False</td>\n",
       "      <td>False</td>\n",
       "      <td>False</td>\n",
       "      <td>False</td>\n",
       "      <td>False</td>\n",
       "      <td>False</td>\n",
       "    </tr>\n",
       "    <tr>\n",
       "      <th>5906</th>\n",
       "      <td>False</td>\n",
       "      <td>False</td>\n",
       "      <td>False</td>\n",
       "      <td>False</td>\n",
       "      <td>False</td>\n",
       "      <td>False</td>\n",
       "      <td>False</td>\n",
       "    </tr>\n",
       "    <tr>\n",
       "      <th>5907</th>\n",
       "      <td>False</td>\n",
       "      <td>False</td>\n",
       "      <td>False</td>\n",
       "      <td>False</td>\n",
       "      <td>False</td>\n",
       "      <td>False</td>\n",
       "      <td>False</td>\n",
       "    </tr>\n",
       "  </tbody>\n",
       "</table>\n",
       "<p>5900 rows × 7 columns</p>\n",
       "</div>"
      ],
      "text/plain": [
       "      User_ID  Gender    Age  Occupation  City_Category  \\\n",
       "0       False   False  False       False          False   \n",
       "1       False   False  False       False          False   \n",
       "2       False   False  False       False          False   \n",
       "3       False   False  False       False          False   \n",
       "4       False   False  False       False          False   \n",
       "...       ...     ...    ...         ...            ...   \n",
       "5903    False   False   True       False          False   \n",
       "5904    False   False  False       False          False   \n",
       "5905    False   False  False       False          False   \n",
       "5906    False   False  False       False          False   \n",
       "5907    False   False  False       False          False   \n",
       "\n",
       "      Stay_In_Current_City_Years  Marital_Status  \n",
       "0                          False           False  \n",
       "1                          False           False  \n",
       "2                          False           False  \n",
       "3                          False           False  \n",
       "4                          False           False  \n",
       "...                          ...             ...  \n",
       "5903                       False           False  \n",
       "5904                       False           False  \n",
       "5905                       False           False  \n",
       "5906                       False           False  \n",
       "5907                       False           False  \n",
       "\n",
       "[5900 rows x 7 columns]"
      ]
     },
     "execution_count": 55,
     "metadata": {},
     "output_type": "execute_result"
    }
   ],
   "source": [
    "demo_no_duplicates.isnull()"
   ]
  },
  {
   "cell_type": "code",
   "execution_count": 56,
   "metadata": {
    "colab": {
     "base_uri": "https://localhost:8080/",
     "height": 153
    },
    "colab_type": "code",
    "executionInfo": {
     "elapsed": 115393,
     "status": "ok",
     "timestamp": 1585196989681,
     "user": {
      "displayName": "Ramesh Melapu",
      "photoUrl": "",
      "userId": "14700472000537727532"
     },
     "user_tz": -330
    },
    "id": "q0HtP2kqQDEV",
    "outputId": "098f2fea-04e9-4b56-db8d-9d8400e274d6"
   },
   "outputs": [
    {
     "data": {
      "text/plain": [
       "User_ID                       0\n",
       "Gender                        0\n",
       "Age                           3\n",
       "Occupation                    0\n",
       "City_Category                 0\n",
       "Stay_In_Current_City_Years    0\n",
       "Marital_Status                0\n",
       "dtype: int64"
      ]
     },
     "execution_count": 56,
     "metadata": {},
     "output_type": "execute_result"
    }
   ],
   "source": [
    "demo_no_duplicates.isnull().sum()"
   ]
  },
  {
   "cell_type": "code",
   "execution_count": 57,
   "metadata": {
    "colab": {
     "base_uri": "https://localhost:8080/",
     "height": 153
    },
    "colab_type": "code",
    "executionInfo": {
     "elapsed": 115325,
     "status": "ok",
     "timestamp": 1585196989682,
     "user": {
      "displayName": "Ramesh Melapu",
      "photoUrl": "",
      "userId": "14700472000537727532"
     },
     "user_tz": -330
    },
    "id": "F2ZFIp2dQGvA",
    "outputId": "a48a3e53-8f58-42b7-d30d-eb3509556dcc"
   },
   "outputs": [
    {
     "data": {
      "text/plain": [
       "User_ID                       0\n",
       "Gender                        0\n",
       "Age                           3\n",
       "Occupation                    0\n",
       "City_Category                 0\n",
       "Stay_In_Current_City_Years    0\n",
       "Marital_Status                0\n",
       "dtype: int64"
      ]
     },
     "execution_count": 57,
     "metadata": {},
     "output_type": "execute_result"
    }
   ],
   "source": [
    "demo_no_duplicates.isna().sum()"
   ]
  },
  {
   "cell_type": "markdown",
   "metadata": {
    "colab_type": "text",
    "id": "TupeFXp2QUFZ"
   },
   "source": [
    "Observe that there are 3 missing values in the Age column. \n",
    "\n",
    "How to deal with these missing values?\n",
    "  -  We ask the business if the data for these missing records available. If yes, then we can get this information from them else we need to look at other approaches.\n",
    "  - One approach is to see what proportion of the data we have missing values. Is this a large value or a small value. If this value is very small compared to the number of records, we may choose to ignore these records. \n",
    "  -Other approach is to impute these missing values. "
   ]
  },
  {
   "cell_type": "markdown",
   "metadata": {
    "colab_type": "text",
    "id": "21NZ1oMdRVZW"
   },
   "source": [
    "**Dropping the records**"
   ]
  },
  {
   "cell_type": "code",
   "execution_count": 58,
   "metadata": {
    "colab": {
     "base_uri": "https://localhost:8080/",
     "height": 408
    },
    "colab_type": "code",
    "executionInfo": {
     "elapsed": 115284,
     "status": "ok",
     "timestamp": 1585196989682,
     "user": {
      "displayName": "Ramesh Melapu",
      "photoUrl": "",
      "userId": "14700472000537727532"
     },
     "user_tz": -330
    },
    "id": "MHLsgeI0QOy7",
    "outputId": "c56765a7-4288-4d26-eecb-cb097ed33c6e"
   },
   "outputs": [
    {
     "name": "stdout",
     "output_type": "stream",
     "text": [
      "Records after removing rows with missing values are:  (5897, 7)\n",
      "Records in original dataframe are:  (5900, 7)\n"
     ]
    }
   ],
   "source": [
    "# Method 1\n",
    "data_ig = demo_no_duplicates.dropna()\n",
    "print(\"Records after removing rows with missing values are: \",data_ig.shape)\n",
    "print(\"Records in original dataframe are: \",demo_no_duplicates.shape)"
   ]
  },
  {
   "cell_type": "code",
   "execution_count": 59,
   "metadata": {},
   "outputs": [
    {
     "name": "stdout",
     "output_type": "stream",
     "text": [
      "Missing values in the dataframe after removal:\n",
      "User_ID                       0\n",
      "Gender                        0\n",
      "Age                           0\n",
      "Occupation                    0\n",
      "City_Category                 0\n",
      "Stay_In_Current_City_Years    0\n",
      "Marital_Status                0\n",
      "dtype: int64\n",
      "\n",
      "Missing values in the original dataframe:\n",
      "User_ID                       0\n",
      "Gender                        0\n",
      "Age                           3\n",
      "Occupation                    0\n",
      "City_Category                 0\n",
      "Stay_In_Current_City_Years    0\n",
      "Marital_Status                0\n",
      "dtype: int64\n"
     ]
    }
   ],
   "source": [
    "print(\"Missing values in the dataframe after removal:\")\n",
    "print(data_ig.isna().sum())\n",
    "print(\"\\nMissing values in the original dataframe:\")\n",
    "print(demo_no_duplicates.isna().sum())"
   ]
  },
  {
   "cell_type": "code",
   "execution_count": 60,
   "metadata": {
    "colab": {
     "base_uri": "https://localhost:8080/",
     "height": 170
    },
    "colab_type": "code",
    "executionInfo": {
     "elapsed": 115261,
     "status": "ok",
     "timestamp": 1585196989683,
     "user": {
      "displayName": "Ramesh Melapu",
      "photoUrl": "",
      "userId": "14700472000537727532"
     },
     "user_tz": -330
    },
    "id": "9gRjotV7Rqff",
    "outputId": "3d3ae56e-e495-4526-c4de-9423116f6623"
   },
   "outputs": [
    {
     "data": {
      "text/plain": [
       "count    5897.000000\n",
       "mean       35.949975\n",
       "std        12.986988\n",
       "min        15.000000\n",
       "25%        26.000000\n",
       "50%        33.000000\n",
       "75%        45.000000\n",
       "max       129.000000\n",
       "Name: Age, dtype: float64"
      ]
     },
     "execution_count": 60,
     "metadata": {},
     "output_type": "execute_result"
    }
   ],
   "source": [
    "data_ig[\"Age\"].describe()"
   ]
  },
  {
   "cell_type": "markdown",
   "metadata": {
    "colab_type": "text",
    "id": "d_rMxSguSf30"
   },
   "source": [
    "**Imputing the missing values**\n",
    "  - Imputing is basically a method of \"guessing\" the value in place of missing value. One method of imputation is central imputation where you replace the null value with the mean value of the column\n",
    "  - But before imputing, we need to check if there are any extreme values in the data because the extreme values can impact the mean values.\n",
    "\n",
    "Observe that there are some points above 100 and the max is about 129 (recall that we got the max value when we used the describe function on the data. These values could be anamolies. One of the approaches to tackle these extremevalues isto ignore the records before imputing the data. We can discuss other methods later."
   ]
  },
  {
   "cell_type": "code",
   "execution_count": 61,
   "metadata": {
    "colab": {
     "base_uri": "https://localhost:8080/",
     "height": 170
    },
    "colab_type": "code",
    "executionInfo": {
     "elapsed": 115235,
     "status": "ok",
     "timestamp": 1585196989683,
     "user": {
      "displayName": "Ramesh Melapu",
      "photoUrl": "",
      "userId": "14700472000537727532"
     },
     "user_tz": -330
    },
    "id": "X-NOoptySb9a",
    "outputId": "6b73b8eb-dab8-4352-82b3-c8f8b8acb478"
   },
   "outputs": [
    {
     "name": "stdout",
     "output_type": "stream",
     "text": [
      "Dimensions of the processed data:  (5898, 7)\n",
      "Missing values in Data processed User_ID                       0\n",
      "Gender                        0\n",
      "Age                           3\n",
      "Occupation                    0\n",
      "City_Category                 0\n",
      "Stay_In_Current_City_Years    0\n",
      "Marital_Status                0\n",
      "dtype: int64\n"
     ]
    }
   ],
   "source": [
    "# Removing the extreme values\n",
    "# demo_no_duplicates[demo_no_duplicates.Age <= 100].shape\n",
    "# demo_no_duplicates[~(demo_no_duplicates.Age > 100)].shape\n",
    "data1 = demo_no_duplicates[~demo_no_duplicates.Age.isin(range(100,200))]\n",
    "print(\"Dimensions of the processed data: \", data1.shape)\n",
    "print(\"Missing values in Data processed\", data1.isna().sum())"
   ]
  },
  {
   "cell_type": "code",
   "execution_count": 62,
   "metadata": {
    "colab": {
     "base_uri": "https://localhost:8080/",
     "height": 170
    },
    "colab_type": "code",
    "executionInfo": {
     "elapsed": 115211,
     "status": "ok",
     "timestamp": 1585196989684,
     "user": {
      "displayName": "Ramesh Melapu",
      "photoUrl": "",
      "userId": "14700472000537727532"
     },
     "user_tz": -330
    },
    "id": "CaXFeviBTACu",
    "outputId": "25bf74ae-7d8d-464a-a00a-9a31c87c448f"
   },
   "outputs": [
    {
     "name": "stdout",
     "output_type": "stream",
     "text": [
      "count    5895.000000\n",
      "mean       35.922477\n",
      "std        12.901177\n",
      "min        15.000000\n",
      "25%        26.000000\n",
      "50%        33.000000\n",
      "75%        45.000000\n",
      "max        75.000000\n",
      "Name: Age, dtype: float64\n"
     ]
    }
   ],
   "source": [
    "# Lets describe the data again\n",
    "print(data1['Age'].describe())"
   ]
  },
  {
   "cell_type": "code",
   "execution_count": 63,
   "metadata": {
    "colab": {
     "base_uri": "https://localhost:8080/",
     "height": 615
    },
    "colab_type": "code",
    "executionInfo": {
     "elapsed": 115181,
     "status": "ok",
     "timestamp": 1585196989684,
     "user": {
      "displayName": "Ramesh Melapu",
      "photoUrl": "",
      "userId": "14700472000537727532"
     },
     "user_tz": -330
    },
    "id": "n5QFz7VXTA-q",
    "outputId": "460cce07-1123-4912-f1f0-6b90bbcc9b30"
   },
   "outputs": [
    {
     "name": "stdout",
     "output_type": "stream",
     "text": [
      "The number of missing values before imputation:  User_ID                       0\n",
      "Gender                        0\n",
      "Age                           3\n",
      "Occupation                    0\n",
      "City_Category                 0\n",
      "Stay_In_Current_City_Years    0\n",
      "Marital_Status                0\n",
      "dtype: int64\n",
      "\n",
      "\n",
      "count    5898.000000\n",
      "mean       35.922477\n",
      "std        12.897895\n",
      "min        15.000000\n",
      "25%        26.000000\n",
      "50%        33.000000\n",
      "75%        45.000000\n",
      "max        75.000000\n",
      "Name: Age, dtype: float64\n",
      "\n",
      "\n",
      "The number of missing values after imputation:  User_ID                       0\n",
      "Gender                        0\n",
      "Age                           0\n",
      "Occupation                    0\n",
      "City_Category                 0\n",
      "Stay_In_Current_City_Years    0\n",
      "Marital_Status                0\n",
      "dtype: int64\n"
     ]
    },
    {
     "name": "stderr",
     "output_type": "stream",
     "text": [
      "/usr/share/anaconda3/lib/python3.7/site-packages/pandas/core/series.py:4523: SettingWithCopyWarning: \n",
      "A value is trying to be set on a copy of a slice from a DataFrame\n",
      "\n",
      "See the caveats in the documentation: https://pandas.pydata.org/pandas-docs/stable/user_guide/indexing.html#returning-a-view-versus-a-copy\n",
      "  downcast=downcast,\n"
     ]
    }
   ],
   "source": [
    "# Now let's impute the age\n",
    "print(\"The number of missing values before imputation: \",data1.isna().sum())\n",
    "print(\"\\n\")\n",
    "data1['Age'].fillna(data1['Age'].mean(), inplace=True)\n",
    "\n",
    "print(data1.Age.describe())\n",
    "print(\"\\n\")\n",
    "print(\"The number of missing values after imputation: \",data1.isna().sum())"
   ]
  },
  {
   "cell_type": "code",
   "execution_count": 64,
   "metadata": {
    "colab": {},
    "colab_type": "code",
    "id": "tvH0jquKTHN9"
   },
   "outputs": [],
   "source": [
    "# Fill with a value\n",
    "# data1.fillna(0)\n",
    "# Fill with different values for different columns\n",
    "# data1.fillna({'Age': 0, 'Gender': 'M'})\n",
    "# Fill using ffill\n",
    "# data1.fillna(method='ffill')"
   ]
  },
  {
   "cell_type": "code",
   "execution_count": 65,
   "metadata": {},
   "outputs": [],
   "source": [
    "# data1.fillna() # shift + tab for the help"
   ]
  },
  {
   "cell_type": "markdown",
   "metadata": {
    "colab_type": "text",
    "id": "ceyWSnlwdKW0"
   },
   "source": [
    " ### Discretization and Binning\n",
    "\n",
    "Continuous data is often discretized or otherwise separated into “bins” for analysis.\n",
    "\n",
    "Suppose if we want to group Age into discrete age buckets.\n",
    "\n",
    "- Age Group binning\n",
    "    - Age is numeric data. But the question we need to ask is does a 50 year old person behaviur would be different from 51 year old. Or a 21 year old behaviour be different from 22 year old. If not, then we need not want individual information on age but we need a collective information like what products are being purchased by a specific age group ( and not individual)\n",
    "    - In order to group the customers based on Age we create our custom bins like 0-17 years, 18-25 years, 26-35 years, 36-45 years, 46-50 years, 51-55 years and 55+."
   ]
  },
  {
   "cell_type": "code",
   "execution_count": 66,
   "metadata": {
    "colab": {},
    "colab_type": "code",
    "id": "lXSkThz-d3dL"
   },
   "outputs": [],
   "source": [
    "bins = [0, 17, 25, 35, 45, 50, 55, 100]\n",
    "labels=['0-17','18-25','26-35','36-45','46-50','51-55','55+'] "
   ]
  },
  {
   "cell_type": "code",
   "execution_count": 67,
   "metadata": {
    "colab": {
     "base_uri": "https://localhost:8080/",
     "height": 139
    },
    "colab_type": "code",
    "executionInfo": {
     "elapsed": 115084,
     "status": "ok",
     "timestamp": 1585196989686,
     "user": {
      "displayName": "Ramesh Melapu",
      "photoUrl": "",
      "userId": "14700472000537727532"
     },
     "user_tz": -330
    },
    "id": "R4BF14RkdyGa",
    "outputId": "949a27ca-d951-4b09-8775-9fa735ab1d8b"
   },
   "outputs": [
    {
     "name": "stderr",
     "output_type": "stream",
     "text": [
      "/usr/share/anaconda3/lib/python3.7/site-packages/ipykernel_launcher.py:1: SettingWithCopyWarning: \n",
      "A value is trying to be set on a copy of a slice from a DataFrame.\n",
      "Try using .loc[row_indexer,col_indexer] = value instead\n",
      "\n",
      "See the caveats in the documentation: https://pandas.pydata.org/pandas-docs/stable/user_guide/indexing.html#returning-a-view-versus-a-copy\n",
      "  \"\"\"Entry point for launching an IPython kernel.\n"
     ]
    }
   ],
   "source": [
    "data1['Age_Group'] = pd.cut(data1['Age'], bins=bins, labels=labels)"
   ]
  },
  {
   "cell_type": "code",
   "execution_count": 68,
   "metadata": {
    "colab": {
     "base_uri": "https://localhost:8080/",
     "height": 204
    },
    "colab_type": "code",
    "executionInfo": {
     "elapsed": 115025,
     "status": "ok",
     "timestamp": 1585196989686,
     "user": {
      "displayName": "Ramesh Melapu",
      "photoUrl": "",
      "userId": "14700472000537727532"
     },
     "user_tz": -330
    },
    "id": "hFllCapMdA_I",
    "outputId": "aac77bc9-0a77-4257-e1b8-50c27869ac1a"
   },
   "outputs": [
    {
     "data": {
      "text/html": [
       "<div>\n",
       "<style scoped>\n",
       "    .dataframe tbody tr th:only-of-type {\n",
       "        vertical-align: middle;\n",
       "    }\n",
       "\n",
       "    .dataframe tbody tr th {\n",
       "        vertical-align: top;\n",
       "    }\n",
       "\n",
       "    .dataframe thead th {\n",
       "        text-align: right;\n",
       "    }\n",
       "</style>\n",
       "<table border=\"1\" class=\"dataframe\">\n",
       "  <thead>\n",
       "    <tr style=\"text-align: right;\">\n",
       "      <th></th>\n",
       "      <th>User_ID</th>\n",
       "      <th>Gender</th>\n",
       "      <th>Age</th>\n",
       "      <th>Occupation</th>\n",
       "      <th>City_Category</th>\n",
       "      <th>Stay_In_Current_City_Years</th>\n",
       "      <th>Marital_Status</th>\n",
       "      <th>Age_Group</th>\n",
       "    </tr>\n",
       "  </thead>\n",
       "  <tbody>\n",
       "    <tr>\n",
       "      <th>0</th>\n",
       "      <td>1000001</td>\n",
       "      <td>F</td>\n",
       "      <td>15.0</td>\n",
       "      <td>10</td>\n",
       "      <td>A</td>\n",
       "      <td>2</td>\n",
       "      <td>0</td>\n",
       "      <td>0-17</td>\n",
       "    </tr>\n",
       "    <tr>\n",
       "      <th>1</th>\n",
       "      <td>1000002</td>\n",
       "      <td>M</td>\n",
       "      <td>69.0</td>\n",
       "      <td>16</td>\n",
       "      <td>C</td>\n",
       "      <td>4+</td>\n",
       "      <td>0</td>\n",
       "      <td>55+</td>\n",
       "    </tr>\n",
       "    <tr>\n",
       "      <th>2</th>\n",
       "      <td>1000003</td>\n",
       "      <td>M</td>\n",
       "      <td>34.0</td>\n",
       "      <td>15</td>\n",
       "      <td>A</td>\n",
       "      <td>3</td>\n",
       "      <td>0</td>\n",
       "      <td>26-35</td>\n",
       "    </tr>\n",
       "    <tr>\n",
       "      <th>3</th>\n",
       "      <td>1000004</td>\n",
       "      <td>M</td>\n",
       "      <td>46.0</td>\n",
       "      <td>7</td>\n",
       "      <td>B</td>\n",
       "      <td>2</td>\n",
       "      <td>1</td>\n",
       "      <td>46-50</td>\n",
       "    </tr>\n",
       "    <tr>\n",
       "      <th>4</th>\n",
       "      <td>1000005</td>\n",
       "      <td>M</td>\n",
       "      <td>27.0</td>\n",
       "      <td>20</td>\n",
       "      <td>A</td>\n",
       "      <td>1</td>\n",
       "      <td>1</td>\n",
       "      <td>26-35</td>\n",
       "    </tr>\n",
       "  </tbody>\n",
       "</table>\n",
       "</div>"
      ],
      "text/plain": [
       "   User_ID Gender   Age Occupation City_Category Stay_In_Current_City_Years  \\\n",
       "0  1000001      F  15.0         10             A                          2   \n",
       "1  1000002      M  69.0         16             C                         4+   \n",
       "2  1000003      M  34.0         15             A                          3   \n",
       "3  1000004      M  46.0          7             B                          2   \n",
       "4  1000005      M  27.0         20             A                          1   \n",
       "\n",
       "  Marital_Status Age_Group  \n",
       "0              0      0-17  \n",
       "1              0       55+  \n",
       "2              0     26-35  \n",
       "3              1     46-50  \n",
       "4              1     26-35  "
      ]
     },
     "execution_count": 68,
     "metadata": {},
     "output_type": "execute_result"
    }
   ],
   "source": [
    "data1.head()"
   ]
  },
  {
   "cell_type": "markdown",
   "metadata": {
    "colab_type": "text",
    "id": "JEDuIXw8e3nX"
   },
   "source": [
    "**Question: Is there are particular age group that are more in number or is it uniform?**"
   ]
  },
  {
   "cell_type": "code",
   "execution_count": 69,
   "metadata": {
    "colab": {
     "base_uri": "https://localhost:8080/",
     "height": 170
    },
    "colab_type": "code",
    "executionInfo": {
     "elapsed": 116164,
     "status": "ok",
     "timestamp": 1585196990883,
     "user": {
      "displayName": "Ramesh Melapu",
      "photoUrl": "",
      "userId": "14700472000537727532"
     },
     "user_tz": -330
    },
    "id": "Om5bPnlAd6GM",
    "outputId": "aaab9beb-a2ca-403d-d5a7-a0c5c1689451"
   },
   "outputs": [
    {
     "data": {
      "text/plain": [
       "Age_Group\n",
       "0-17      218\n",
       "18-25    1069\n",
       "26-35    2053\n",
       "36-45    1173\n",
       "46-50     532\n",
       "51-55     494\n",
       "55+       359\n",
       "Name: User_ID, dtype: int64"
      ]
     },
     "execution_count": 69,
     "metadata": {},
     "output_type": "execute_result"
    }
   ],
   "source": [
    "data1.groupby(['Age_Group'])['User_ID'].count()"
   ]
  },
  {
   "cell_type": "code",
   "execution_count": 70,
   "metadata": {},
   "outputs": [
    {
     "data": {
      "text/plain": [
       "26-35    2053\n",
       "36-45    1173\n",
       "18-25    1069\n",
       "46-50     532\n",
       "51-55     494\n",
       "55+       359\n",
       "0-17      218\n",
       "Name: Age_Group, dtype: int64"
      ]
     },
     "execution_count": 70,
     "metadata": {},
     "output_type": "execute_result"
    }
   ],
   "source": [
    "data1['Age_Group'].value_counts()"
   ]
  },
  {
   "cell_type": "code",
   "execution_count": 71,
   "metadata": {},
   "outputs": [
    {
     "data": {
      "text/plain": [
       "26-35    0.348084\n",
       "36-45    0.198881\n",
       "18-25    0.181248\n",
       "46-50    0.090200\n",
       "51-55    0.083757\n",
       "55+      0.060868\n",
       "0-17     0.036962\n",
       "Name: Age_Group, dtype: float64"
      ]
     },
     "execution_count": 71,
     "metadata": {},
     "output_type": "execute_result"
    }
   ],
   "source": [
    "data1['Age_Group'].value_counts(normalize = True)"
   ]
  },
  {
   "cell_type": "markdown",
   "metadata": {
    "colab_type": "text",
    "id": "MJGZ1k9JfTJP"
   },
   "source": [
    "Observe that people in the age group of 26-35 followed by 36-45 are more in number compared to other groups.\n",
    "\n",
    "\n",
    "**Pair-wise frequencies**\n",
    "- Let's visualize each of these in the form of a table. In excel we have a pivot table to do such analysis, here we have a crosstab\n",
    "    - How many customers from each Age_Group are there in each City_Category.\n",
    "\n"
   ]
  },
  {
   "cell_type": "code",
   "execution_count": 72,
   "metadata": {
    "colab": {
     "base_uri": "https://localhost:8080/",
     "height": 297
    },
    "colab_type": "code",
    "executionInfo": {
     "elapsed": 116132,
     "status": "ok",
     "timestamp": 1585196990884,
     "user": {
      "displayName": "Ramesh Melapu",
      "photoUrl": "",
      "userId": "14700472000537727532"
     },
     "user_tz": -330
    },
    "id": "HLtdCrJweHdB",
    "outputId": "4e414229-ce89-47c9-9a64-98db9b8a81df"
   },
   "outputs": [
    {
     "data": {
      "text/html": [
       "<div>\n",
       "<style scoped>\n",
       "    .dataframe tbody tr th:only-of-type {\n",
       "        vertical-align: middle;\n",
       "    }\n",
       "\n",
       "    .dataframe tbody tr th {\n",
       "        vertical-align: top;\n",
       "    }\n",
       "\n",
       "    .dataframe thead th {\n",
       "        text-align: right;\n",
       "    }\n",
       "</style>\n",
       "<table border=\"1\" class=\"dataframe\">\n",
       "  <thead>\n",
       "    <tr style=\"text-align: right;\">\n",
       "      <th>City_Category</th>\n",
       "      <th>A</th>\n",
       "      <th>B</th>\n",
       "      <th>C</th>\n",
       "    </tr>\n",
       "    <tr>\n",
       "      <th>Age_Group</th>\n",
       "      <th></th>\n",
       "      <th></th>\n",
       "      <th></th>\n",
       "    </tr>\n",
       "  </thead>\n",
       "  <tbody>\n",
       "    <tr>\n",
       "      <th>0-17</th>\n",
       "      <td>25</td>\n",
       "      <td>50</td>\n",
       "      <td>143</td>\n",
       "    </tr>\n",
       "    <tr>\n",
       "      <th>18-25</th>\n",
       "      <td>214</td>\n",
       "      <td>331</td>\n",
       "      <td>524</td>\n",
       "    </tr>\n",
       "    <tr>\n",
       "      <th>26-35</th>\n",
       "      <td>461</td>\n",
       "      <td>652</td>\n",
       "      <td>940</td>\n",
       "    </tr>\n",
       "    <tr>\n",
       "      <th>36-45</th>\n",
       "      <td>178</td>\n",
       "      <td>336</td>\n",
       "      <td>659</td>\n",
       "    </tr>\n",
       "    <tr>\n",
       "      <th>46-50</th>\n",
       "      <td>53</td>\n",
       "      <td>146</td>\n",
       "      <td>333</td>\n",
       "    </tr>\n",
       "    <tr>\n",
       "      <th>51-55</th>\n",
       "      <td>69</td>\n",
       "      <td>136</td>\n",
       "      <td>289</td>\n",
       "    </tr>\n",
       "    <tr>\n",
       "      <th>55+</th>\n",
       "      <td>47</td>\n",
       "      <td>57</td>\n",
       "      <td>255</td>\n",
       "    </tr>\n",
       "  </tbody>\n",
       "</table>\n",
       "</div>"
      ],
      "text/plain": [
       "City_Category    A    B    C\n",
       "Age_Group                   \n",
       "0-17            25   50  143\n",
       "18-25          214  331  524\n",
       "26-35          461  652  940\n",
       "36-45          178  336  659\n",
       "46-50           53  146  333\n",
       "51-55           69  136  289\n",
       "55+             47   57  255"
      ]
     },
     "execution_count": 72,
     "metadata": {},
     "output_type": "execute_result"
    }
   ],
   "source": [
    "pd.crosstab(data1['Age_Group'], data1['City_Category'])"
   ]
  },
  {
   "cell_type": "markdown",
   "metadata": {
    "colab_type": "text",
    "id": "g1ASIqhpfwBe"
   },
   "source": [
    "Observe that City_Category C has more customers in all the age groups\n",
    "\n",
    "**Question: How many customers of each gender belonging to each occupation?**"
   ]
  },
  {
   "cell_type": "code",
   "execution_count": 73,
   "metadata": {
    "colab": {
     "base_uri": "https://localhost:8080/",
     "height": 142
    },
    "colab_type": "code",
    "executionInfo": {
     "elapsed": 116046,
     "status": "ok",
     "timestamp": 1585196990885,
     "user": {
      "displayName": "Ramesh Melapu",
      "photoUrl": "",
      "userId": "14700472000537727532"
     },
     "user_tz": -330
    },
    "id": "GSVImkTvfr9m",
    "outputId": "18a90479-9853-453b-a26c-8b6c544e6ebe"
   },
   "outputs": [
    {
     "data": {
      "text/html": [
       "<div>\n",
       "<style scoped>\n",
       "    .dataframe tbody tr th:only-of-type {\n",
       "        vertical-align: middle;\n",
       "    }\n",
       "\n",
       "    .dataframe tbody tr th {\n",
       "        vertical-align: top;\n",
       "    }\n",
       "\n",
       "    .dataframe thead th {\n",
       "        text-align: right;\n",
       "    }\n",
       "</style>\n",
       "<table border=\"1\" class=\"dataframe\">\n",
       "  <thead>\n",
       "    <tr style=\"text-align: right;\">\n",
       "      <th>Occupation</th>\n",
       "      <th>0</th>\n",
       "      <th>1</th>\n",
       "      <th>2</th>\n",
       "      <th>3</th>\n",
       "      <th>4</th>\n",
       "      <th>5</th>\n",
       "      <th>6</th>\n",
       "      <th>7</th>\n",
       "      <th>8</th>\n",
       "      <th>9</th>\n",
       "      <th>...</th>\n",
       "      <th>11</th>\n",
       "      <th>12</th>\n",
       "      <th>13</th>\n",
       "      <th>14</th>\n",
       "      <th>15</th>\n",
       "      <th>16</th>\n",
       "      <th>17</th>\n",
       "      <th>18</th>\n",
       "      <th>19</th>\n",
       "      <th>20</th>\n",
       "    </tr>\n",
       "    <tr>\n",
       "      <th>Gender</th>\n",
       "      <th></th>\n",
       "      <th></th>\n",
       "      <th></th>\n",
       "      <th></th>\n",
       "      <th></th>\n",
       "      <th></th>\n",
       "      <th></th>\n",
       "      <th></th>\n",
       "      <th></th>\n",
       "      <th></th>\n",
       "      <th></th>\n",
       "      <th></th>\n",
       "      <th></th>\n",
       "      <th></th>\n",
       "      <th></th>\n",
       "      <th></th>\n",
       "      <th></th>\n",
       "      <th></th>\n",
       "      <th></th>\n",
       "      <th></th>\n",
       "      <th></th>\n",
       "    </tr>\n",
       "  </thead>\n",
       "  <tbody>\n",
       "    <tr>\n",
       "      <th>F</th>\n",
       "      <td>226</td>\n",
       "      <td>203</td>\n",
       "      <td>88</td>\n",
       "      <td>98</td>\n",
       "      <td>229</td>\n",
       "      <td>31</td>\n",
       "      <td>99</td>\n",
       "      <td>137</td>\n",
       "      <td>4</td>\n",
       "      <td>85</td>\n",
       "      <td>...</td>\n",
       "      <td>22</td>\n",
       "      <td>46</td>\n",
       "      <td>33</td>\n",
       "      <td>78</td>\n",
       "      <td>28</td>\n",
       "      <td>49</td>\n",
       "      <td>51</td>\n",
       "      <td>4</td>\n",
       "      <td>15</td>\n",
       "      <td>77</td>\n",
       "    </tr>\n",
       "    <tr>\n",
       "      <th>M</th>\n",
       "      <td>462</td>\n",
       "      <td>314</td>\n",
       "      <td>168</td>\n",
       "      <td>72</td>\n",
       "      <td>512</td>\n",
       "      <td>80</td>\n",
       "      <td>129</td>\n",
       "      <td>532</td>\n",
       "      <td>17</td>\n",
       "      <td>3</td>\n",
       "      <td>...</td>\n",
       "      <td>106</td>\n",
       "      <td>330</td>\n",
       "      <td>107</td>\n",
       "      <td>216</td>\n",
       "      <td>113</td>\n",
       "      <td>186</td>\n",
       "      <td>441</td>\n",
       "      <td>63</td>\n",
       "      <td>56</td>\n",
       "      <td>196</td>\n",
       "    </tr>\n",
       "  </tbody>\n",
       "</table>\n",
       "<p>2 rows × 21 columns</p>\n",
       "</div>"
      ],
      "text/plain": [
       "Occupation    0    1    2   3    4   5    6    7   8   9  ...   11   12   13  \\\n",
       "Gender                                                    ...                  \n",
       "F           226  203   88  98  229  31   99  137   4  85  ...   22   46   33   \n",
       "M           462  314  168  72  512  80  129  532  17   3  ...  106  330  107   \n",
       "\n",
       "Occupation   14   15   16   17  18  19   20  \n",
       "Gender                                       \n",
       "F            78   28   49   51   4  15   77  \n",
       "M           216  113  186  441  63  56  196  \n",
       "\n",
       "[2 rows x 21 columns]"
      ]
     },
     "execution_count": 73,
     "metadata": {},
     "output_type": "execute_result"
    }
   ],
   "source": [
    "pd.crosstab(data1['Gender'], data1['Occupation'])"
   ]
  },
  {
   "cell_type": "code",
   "execution_count": 74,
   "metadata": {},
   "outputs": [
    {
     "data": {
      "text/plain": [
       "Occupation  Gender\n",
       "0           M         462\n",
       "            F         226\n",
       "1           M         314\n",
       "            F         203\n",
       "2           M         168\n",
       "            F          88\n",
       "3           F          98\n",
       "            M          72\n",
       "4           M         512\n",
       "            F         229\n",
       "5           M          80\n",
       "            F          31\n",
       "6           M         129\n",
       "            F          99\n",
       "7           M         532\n",
       "            F         137\n",
       "8           M          17\n",
       "            F           4\n",
       "9           F          85\n",
       "            M           3\n",
       "10          M         126\n",
       "            F          66\n",
       "11          M         106\n",
       "            F          22\n",
       "12          M         330\n",
       "            F          46\n",
       "13          M         107\n",
       "            F          33\n",
       "14          M         216\n",
       "            F          78\n",
       "15          M         113\n",
       "            F          28\n",
       "16          M         186\n",
       "            F          49\n",
       "17          M         441\n",
       "            F          51\n",
       "18          M          63\n",
       "            F           4\n",
       "19          M          56\n",
       "            F          15\n",
       "20          M         196\n",
       "            F          77\n",
       "Name: Gender, dtype: int64"
      ]
     },
     "execution_count": 74,
     "metadata": {},
     "output_type": "execute_result"
    }
   ],
   "source": [
    "data1.groupby('Occupation')['Gender'].value_counts()"
   ]
  },
  {
   "cell_type": "code",
   "execution_count": 75,
   "metadata": {
    "colab": {},
    "colab_type": "code",
    "id": "09mSRt8Ff-1C"
   },
   "outputs": [],
   "source": [
    "pd.set_option('display.max_columns', None)"
   ]
  },
  {
   "cell_type": "code",
   "execution_count": 76,
   "metadata": {
    "colab": {
     "base_uri": "https://localhost:8080/",
     "height": 142
    },
    "colab_type": "code",
    "executionInfo": {
     "elapsed": 115967,
     "status": "ok",
     "timestamp": 1585196990887,
     "user": {
      "displayName": "Ramesh Melapu",
      "photoUrl": "",
      "userId": "14700472000537727532"
     },
     "user_tz": -330
    },
    "id": "_bS2z74xgDZs",
    "outputId": "b792d86a-e0c9-4a32-defb-34f425690085"
   },
   "outputs": [
    {
     "data": {
      "text/html": [
       "<div>\n",
       "<style scoped>\n",
       "    .dataframe tbody tr th:only-of-type {\n",
       "        vertical-align: middle;\n",
       "    }\n",
       "\n",
       "    .dataframe tbody tr th {\n",
       "        vertical-align: top;\n",
       "    }\n",
       "\n",
       "    .dataframe thead th {\n",
       "        text-align: right;\n",
       "    }\n",
       "</style>\n",
       "<table border=\"1\" class=\"dataframe\">\n",
       "  <thead>\n",
       "    <tr style=\"text-align: right;\">\n",
       "      <th>Occupation</th>\n",
       "      <th>0</th>\n",
       "      <th>1</th>\n",
       "      <th>2</th>\n",
       "      <th>3</th>\n",
       "      <th>4</th>\n",
       "      <th>5</th>\n",
       "      <th>6</th>\n",
       "      <th>7</th>\n",
       "      <th>8</th>\n",
       "      <th>9</th>\n",
       "      <th>10</th>\n",
       "      <th>11</th>\n",
       "      <th>12</th>\n",
       "      <th>13</th>\n",
       "      <th>14</th>\n",
       "      <th>15</th>\n",
       "      <th>16</th>\n",
       "      <th>17</th>\n",
       "      <th>18</th>\n",
       "      <th>19</th>\n",
       "      <th>20</th>\n",
       "    </tr>\n",
       "    <tr>\n",
       "      <th>Gender</th>\n",
       "      <th></th>\n",
       "      <th></th>\n",
       "      <th></th>\n",
       "      <th></th>\n",
       "      <th></th>\n",
       "      <th></th>\n",
       "      <th></th>\n",
       "      <th></th>\n",
       "      <th></th>\n",
       "      <th></th>\n",
       "      <th></th>\n",
       "      <th></th>\n",
       "      <th></th>\n",
       "      <th></th>\n",
       "      <th></th>\n",
       "      <th></th>\n",
       "      <th></th>\n",
       "      <th></th>\n",
       "      <th></th>\n",
       "      <th></th>\n",
       "      <th></th>\n",
       "    </tr>\n",
       "  </thead>\n",
       "  <tbody>\n",
       "    <tr>\n",
       "      <th>F</th>\n",
       "      <td>226</td>\n",
       "      <td>203</td>\n",
       "      <td>88</td>\n",
       "      <td>98</td>\n",
       "      <td>229</td>\n",
       "      <td>31</td>\n",
       "      <td>99</td>\n",
       "      <td>137</td>\n",
       "      <td>4</td>\n",
       "      <td>85</td>\n",
       "      <td>66</td>\n",
       "      <td>22</td>\n",
       "      <td>46</td>\n",
       "      <td>33</td>\n",
       "      <td>78</td>\n",
       "      <td>28</td>\n",
       "      <td>49</td>\n",
       "      <td>51</td>\n",
       "      <td>4</td>\n",
       "      <td>15</td>\n",
       "      <td>77</td>\n",
       "    </tr>\n",
       "    <tr>\n",
       "      <th>M</th>\n",
       "      <td>462</td>\n",
       "      <td>314</td>\n",
       "      <td>168</td>\n",
       "      <td>72</td>\n",
       "      <td>512</td>\n",
       "      <td>80</td>\n",
       "      <td>129</td>\n",
       "      <td>532</td>\n",
       "      <td>17</td>\n",
       "      <td>3</td>\n",
       "      <td>126</td>\n",
       "      <td>106</td>\n",
       "      <td>330</td>\n",
       "      <td>107</td>\n",
       "      <td>216</td>\n",
       "      <td>113</td>\n",
       "      <td>186</td>\n",
       "      <td>441</td>\n",
       "      <td>63</td>\n",
       "      <td>56</td>\n",
       "      <td>196</td>\n",
       "    </tr>\n",
       "  </tbody>\n",
       "</table>\n",
       "</div>"
      ],
      "text/plain": [
       "Occupation    0    1    2   3    4   5    6    7   8   9   10   11   12   13  \\\n",
       "Gender                                                                         \n",
       "F           226  203   88  98  229  31   99  137   4  85   66   22   46   33   \n",
       "M           462  314  168  72  512  80  129  532  17   3  126  106  330  107   \n",
       "\n",
       "Occupation   14   15   16   17  18  19   20  \n",
       "Gender                                       \n",
       "F            78   28   49   51   4  15   77  \n",
       "M           216  113  186  441  63  56  196  "
      ]
     },
     "execution_count": 76,
     "metadata": {},
     "output_type": "execute_result"
    }
   ],
   "source": [
    "pd.crosstab(data1['Gender'], data1['Occupation'])"
   ]
  },
  {
   "cell_type": "code",
   "execution_count": 77,
   "metadata": {
    "colab": {
     "base_uri": "https://localhost:8080/",
     "height": 142
    },
    "colab_type": "code",
    "executionInfo": {
     "elapsed": 115912,
     "status": "ok",
     "timestamp": 1585196990888,
     "user": {
      "displayName": "Ramesh Melapu",
      "photoUrl": "",
      "userId": "14700472000537727532"
     },
     "user_tz": -330
    },
    "id": "Ttmwph07gG4f",
    "outputId": "25b467be-c98e-4c69-ec12-1fe4c16d0b62"
   },
   "outputs": [
    {
     "data": {
      "text/html": [
       "<div>\n",
       "<style scoped>\n",
       "    .dataframe tbody tr th:only-of-type {\n",
       "        vertical-align: middle;\n",
       "    }\n",
       "\n",
       "    .dataframe tbody tr th {\n",
       "        vertical-align: top;\n",
       "    }\n",
       "\n",
       "    .dataframe thead th {\n",
       "        text-align: right;\n",
       "    }\n",
       "</style>\n",
       "<table border=\"1\" class=\"dataframe\">\n",
       "  <thead>\n",
       "    <tr style=\"text-align: right;\">\n",
       "      <th>Marital_Status</th>\n",
       "      <th>0</th>\n",
       "      <th>1</th>\n",
       "    </tr>\n",
       "    <tr>\n",
       "      <th>Gender</th>\n",
       "      <th></th>\n",
       "      <th></th>\n",
       "    </tr>\n",
       "  </thead>\n",
       "  <tbody>\n",
       "    <tr>\n",
       "      <th>F</th>\n",
       "      <td>948</td>\n",
       "      <td>721</td>\n",
       "    </tr>\n",
       "    <tr>\n",
       "      <th>M</th>\n",
       "      <td>2471</td>\n",
       "      <td>1758</td>\n",
       "    </tr>\n",
       "  </tbody>\n",
       "</table>\n",
       "</div>"
      ],
      "text/plain": [
       "Marital_Status     0     1\n",
       "Gender                    \n",
       "F                948   721\n",
       "M               2471  1758"
      ]
     },
     "execution_count": 77,
     "metadata": {},
     "output_type": "execute_result"
    }
   ],
   "source": [
    "pd.crosstab(data1['Gender'], data1['Marital_Status'])"
   ]
  },
  {
   "cell_type": "markdown",
   "metadata": {},
   "source": [
    "**Task**\n",
    "\n",
    "Find the `male`, `female` counts for each `City_Category` into `mf_counts_in_each_city`"
   ]
  },
  {
   "cell_type": "code",
   "execution_count": 78,
   "metadata": {
    "deletable": false,
    "nbgrader": {
     "cell_type": "code",
     "checksum": "da15575b355fb9cdd998eb2560c127b9",
     "grade": false,
     "grade_id": "Task_5_7",
     "locked": false,
     "schema_version": 3,
     "solution": true,
     "task": false
    }
   },
   "outputs": [],
   "source": [
    "## Write 1 line of code.\n",
    "# YOUR CODE HERE\n",
    "mf_counts_in_each_city = pd.crosstab(data1['Gender'], data1['City_Category'])"
   ]
  },
  {
   "cell_type": "code",
   "execution_count": 79,
   "metadata": {
    "deletable": false,
    "editable": false,
    "nbgrader": {
     "cell_type": "code",
     "checksum": "26628baf64a92b5ca3894ace034e5c45",
     "grade": true,
     "grade_id": "Task_5_7_Ans",
     "locked": true,
     "points": 0,
     "schema_version": 3,
     "solution": false,
     "task": false
    }
   },
   "outputs": [
    {
     "name": "stdout",
     "output_type": "stream",
     "text": [
      "City_Category    A     B     C\n",
      "Gender                        \n",
      "F              296   504   869\n",
      "M              751  1204  2274\n"
     ]
    }
   ],
   "source": [
    "# Check\n",
    "print(mf_counts_in_each_city)"
   ]
  },
  {
   "cell_type": "markdown",
   "metadata": {
    "colab_type": "text",
    "id": "EMJS3ZD9gW_C"
   },
   "source": [
    "Observe that in both Male and Female, we have more number of unmarried customers than married.\n",
    "\n",
    "\n",
    "### Transactions data analysis.\n",
    "\n",
    "Find high revenue generating customers?"
   ]
  },
  {
   "cell_type": "code",
   "execution_count": 80,
   "metadata": {
    "colab": {
     "base_uri": "https://localhost:8080/",
     "height": 204
    },
    "colab_type": "code",
    "executionInfo": {
     "elapsed": 115859,
     "status": "ok",
     "timestamp": 1585196990888,
     "user": {
      "displayName": "Ramesh Melapu",
      "photoUrl": "",
      "userId": "14700472000537727532"
     },
     "user_tz": -330
    },
    "id": "UyiKdzKog6O9",
    "outputId": "9bc66b90-59e9-477d-f492-6445aae1b924"
   },
   "outputs": [
    {
     "data": {
      "text/html": [
       "<div>\n",
       "<style scoped>\n",
       "    .dataframe tbody tr th:only-of-type {\n",
       "        vertical-align: middle;\n",
       "    }\n",
       "\n",
       "    .dataframe tbody tr th {\n",
       "        vertical-align: top;\n",
       "    }\n",
       "\n",
       "    .dataframe thead th {\n",
       "        text-align: right;\n",
       "    }\n",
       "</style>\n",
       "<table border=\"1\" class=\"dataframe\">\n",
       "  <thead>\n",
       "    <tr style=\"text-align: right;\">\n",
       "      <th></th>\n",
       "      <th>Date</th>\n",
       "      <th>User_ID</th>\n",
       "      <th>Product_ID</th>\n",
       "      <th>Purchase</th>\n",
       "    </tr>\n",
       "  </thead>\n",
       "  <tbody>\n",
       "    <tr>\n",
       "      <th>0</th>\n",
       "      <td>28-9-2018</td>\n",
       "      <td>1000001</td>\n",
       "      <td>P00069042</td>\n",
       "      <td>837</td>\n",
       "    </tr>\n",
       "    <tr>\n",
       "      <th>1</th>\n",
       "      <td>29-7-2018</td>\n",
       "      <td>1000001</td>\n",
       "      <td>P00117942</td>\n",
       "      <td>884</td>\n",
       "    </tr>\n",
       "    <tr>\n",
       "      <th>2</th>\n",
       "      <td>28-7-2018</td>\n",
       "      <td>1000001</td>\n",
       "      <td>P00258742</td>\n",
       "      <td>691</td>\n",
       "    </tr>\n",
       "    <tr>\n",
       "      <th>3</th>\n",
       "      <td>27-7-2018</td>\n",
       "      <td>1000001</td>\n",
       "      <td>P00142242</td>\n",
       "      <td>788</td>\n",
       "    </tr>\n",
       "    <tr>\n",
       "      <th>4</th>\n",
       "      <td>29-7-2018</td>\n",
       "      <td>1000001</td>\n",
       "      <td>P00297042</td>\n",
       "      <td>784</td>\n",
       "    </tr>\n",
       "  </tbody>\n",
       "</table>\n",
       "</div>"
      ],
      "text/plain": [
       "        Date  User_ID Product_ID  Purchase\n",
       "0  28-9-2018  1000001  P00069042       837\n",
       "1  29-7-2018  1000001  P00117942       884\n",
       "2  28-7-2018  1000001  P00258742       691\n",
       "3  27-7-2018  1000001  P00142242       788\n",
       "4  29-7-2018  1000001  P00297042       784"
      ]
     },
     "execution_count": 80,
     "metadata": {},
     "output_type": "execute_result"
    }
   ],
   "source": [
    "transactions.head()"
   ]
  },
  {
   "cell_type": "code",
   "execution_count": 81,
   "metadata": {
    "colab": {},
    "colab_type": "code",
    "id": "---EU1_tgSfT"
   },
   "outputs": [],
   "source": [
    "high_revenue_customers = transactions.groupby(['User_ID'])['Purchase'].sum()"
   ]
  },
  {
   "cell_type": "code",
   "execution_count": 82,
   "metadata": {
    "colab": {
     "base_uri": "https://localhost:8080/",
     "height": 136
    },
    "colab_type": "code",
    "executionInfo": {
     "elapsed": 115836,
     "status": "ok",
     "timestamp": 1585196990890,
     "user": {
      "displayName": "Ramesh Melapu",
      "photoUrl": "",
      "userId": "14700472000537727532"
     },
     "user_tz": -330
    },
    "id": "Bjt_HoishIcU",
    "outputId": "03831a3e-67b5-4f67-9159-acff65780ea5"
   },
   "outputs": [
    {
     "data": {
      "text/plain": [
       "User_ID\n",
       "1000001     9979\n",
       "1000002    28416\n",
       "1000003     7329\n",
       "1000005    38641\n",
       "1000006    14162\n",
       "Name: Purchase, dtype: int64"
      ]
     },
     "execution_count": 82,
     "metadata": {},
     "output_type": "execute_result"
    }
   ],
   "source": [
    "high_revenue_customers.head()"
   ]
  },
  {
   "cell_type": "code",
   "execution_count": 83,
   "metadata": {
    "colab": {
     "base_uri": "https://localhost:8080/",
     "height": 221
    },
    "colab_type": "code",
    "executionInfo": {
     "elapsed": 115814,
     "status": "ok",
     "timestamp": 1585196990891,
     "user": {
      "displayName": "Ramesh Melapu",
      "photoUrl": "",
      "userId": "14700472000537727532"
     },
     "user_tz": -330
    },
    "id": "pamP1PgMhLkj",
    "outputId": "26b96403-754f-4a11-d666-375b43cd67b5"
   },
   "outputs": [
    {
     "data": {
      "text/plain": [
       "User_ID\n",
       "1001680    401302\n",
       "1004277    382836\n",
       "1001015    317057\n",
       "1001980    284272\n",
       "1003224    282424\n",
       "1005831    281230\n",
       "1003391    281033\n",
       "1001181    280374\n",
       "1003618    274230\n",
       "1000889    269989\n",
       "Name: Purchase, dtype: int64"
      ]
     },
     "execution_count": 83,
     "metadata": {},
     "output_type": "execute_result"
    }
   ],
   "source": [
    "# Top 10 revenue generating customers\n",
    "high_revenue_customers.sort_values(ascending = False).head(10)"
   ]
  },
  {
   "cell_type": "markdown",
   "metadata": {
    "colab_type": "text",
    "id": "YrbGoFwklkaA"
   },
   "source": [
    "**Question: High revenue products?**"
   ]
  },
  {
   "cell_type": "code",
   "execution_count": 84,
   "metadata": {
    "colab": {
     "base_uri": "https://localhost:8080/",
     "height": 221
    },
    "colab_type": "code",
    "executionInfo": {
     "elapsed": 115778,
     "status": "ok",
     "timestamp": 1585196990893,
     "user": {
      "displayName": "Ramesh Melapu",
      "photoUrl": "",
      "userId": "14700472000537727532"
     },
     "user_tz": -330
    },
    "id": "0ondPW8yhTpI",
    "outputId": "1421f19f-9c04-4eec-e1c5-571eae27305a"
   },
   "outputs": [
    {
     "data": {
      "text/plain": [
       "Product_ID\n",
       "P00265242    1364054\n",
       "P00058042    1037815\n",
       "P00117942     918574\n",
       "P00051442     916621\n",
       "P00031042     889063\n",
       "P00220442     878291\n",
       "P00278642     853454\n",
       "P00034742     828964\n",
       "P00117442     825619\n",
       "P00251242     777853\n",
       "Name: Purchase, dtype: int64"
      ]
     },
     "execution_count": 84,
     "metadata": {},
     "output_type": "execute_result"
    }
   ],
   "source": [
    "# Sorting the products based on descending order of purchase\n",
    "high_revenue_products = transactions.groupby(['Product_ID'])['Purchase'].sum()\n",
    "high_revenue_products.sort_values(ascending=False)[:10]"
   ]
  },
  {
   "cell_type": "markdown",
   "metadata": {},
   "source": [
    "Sort the transactions data based on Date and UserID"
   ]
  },
  {
   "cell_type": "code",
   "execution_count": 85,
   "metadata": {},
   "outputs": [
    {
     "data": {
      "text/html": [
       "<div>\n",
       "<style scoped>\n",
       "    .dataframe tbody tr th:only-of-type {\n",
       "        vertical-align: middle;\n",
       "    }\n",
       "\n",
       "    .dataframe tbody tr th {\n",
       "        vertical-align: top;\n",
       "    }\n",
       "\n",
       "    .dataframe thead th {\n",
       "        text-align: right;\n",
       "    }\n",
       "</style>\n",
       "<table border=\"1\" class=\"dataframe\">\n",
       "  <thead>\n",
       "    <tr style=\"text-align: right;\">\n",
       "      <th></th>\n",
       "      <th>Date</th>\n",
       "      <th>User_ID</th>\n",
       "      <th>Product_ID</th>\n",
       "      <th>Purchase</th>\n",
       "    </tr>\n",
       "  </thead>\n",
       "  <tbody>\n",
       "    <tr>\n",
       "      <th>18896</th>\n",
       "      <td>1-7-2018</td>\n",
       "      <td>1000466</td>\n",
       "      <td>P00007142</td>\n",
       "      <td>686</td>\n",
       "    </tr>\n",
       "    <tr>\n",
       "      <th>18961</th>\n",
       "      <td>1-7-2018</td>\n",
       "      <td>1000470</td>\n",
       "      <td>P00003942</td>\n",
       "      <td>718</td>\n",
       "    </tr>\n",
       "    <tr>\n",
       "      <th>18990</th>\n",
       "      <td>1-7-2018</td>\n",
       "      <td>1000471</td>\n",
       "      <td>P00109742</td>\n",
       "      <td>978</td>\n",
       "    </tr>\n",
       "    <tr>\n",
       "      <th>19030</th>\n",
       "      <td>1-7-2018</td>\n",
       "      <td>1000474</td>\n",
       "      <td>P00090842</td>\n",
       "      <td>760</td>\n",
       "    </tr>\n",
       "    <tr>\n",
       "      <th>19199</th>\n",
       "      <td>1-7-2018</td>\n",
       "      <td>1000477</td>\n",
       "      <td>P00143342</td>\n",
       "      <td>772</td>\n",
       "    </tr>\n",
       "    <tr>\n",
       "      <th>...</th>\n",
       "      <td>...</td>\n",
       "      <td>...</td>\n",
       "      <td>...</td>\n",
       "      <td>...</td>\n",
       "    </tr>\n",
       "    <tr>\n",
       "      <th>261116</th>\n",
       "      <td>9-9-2018</td>\n",
       "      <td>1006036</td>\n",
       "      <td>P00050242</td>\n",
       "      <td>808</td>\n",
       "    </tr>\n",
       "    <tr>\n",
       "      <th>261151</th>\n",
       "      <td>9-9-2018</td>\n",
       "      <td>1006036</td>\n",
       "      <td>P00173842</td>\n",
       "      <td>804</td>\n",
       "    </tr>\n",
       "    <tr>\n",
       "      <th>261215</th>\n",
       "      <td>9-9-2018</td>\n",
       "      <td>1006036</td>\n",
       "      <td>P00089142</td>\n",
       "      <td>695</td>\n",
       "    </tr>\n",
       "    <tr>\n",
       "      <th>261453</th>\n",
       "      <td>9-9-2018</td>\n",
       "      <td>1006040</td>\n",
       "      <td>P00244042</td>\n",
       "      <td>829</td>\n",
       "    </tr>\n",
       "    <tr>\n",
       "      <th>261498</th>\n",
       "      <td>9-9-2018</td>\n",
       "      <td>1007091</td>\n",
       "      <td>P00123142</td>\n",
       "      <td>597</td>\n",
       "    </tr>\n",
       "  </tbody>\n",
       "</table>\n",
       "<p>261507 rows × 4 columns</p>\n",
       "</div>"
      ],
      "text/plain": [
       "            Date  User_ID Product_ID  Purchase\n",
       "18896   1-7-2018  1000466  P00007142       686\n",
       "18961   1-7-2018  1000470  P00003942       718\n",
       "18990   1-7-2018  1000471  P00109742       978\n",
       "19030   1-7-2018  1000474  P00090842       760\n",
       "19199   1-7-2018  1000477  P00143342       772\n",
       "...          ...      ...        ...       ...\n",
       "261116  9-9-2018  1006036  P00050242       808\n",
       "261151  9-9-2018  1006036  P00173842       804\n",
       "261215  9-9-2018  1006036  P00089142       695\n",
       "261453  9-9-2018  1006040  P00244042       829\n",
       "261498  9-9-2018  1007091  P00123142       597\n",
       "\n",
       "[261507 rows x 4 columns]"
      ]
     },
     "execution_count": 85,
     "metadata": {},
     "output_type": "execute_result"
    }
   ],
   "source": [
    "# sorting by Date and UserID\n",
    "transactions.sort_values(['Date','User_ID'])"
   ]
  },
  {
   "cell_type": "markdown",
   "metadata": {},
   "source": [
    "**Question: Find top 3 revenue generating customers?**"
   ]
  },
  {
   "cell_type": "code",
   "execution_count": 178,
   "metadata": {},
   "outputs": [
    {
     "data": {
      "text/html": [
       "<div>\n",
       "<style scoped>\n",
       "    .dataframe tbody tr th:only-of-type {\n",
       "        vertical-align: middle;\n",
       "    }\n",
       "\n",
       "    .dataframe tbody tr th {\n",
       "        vertical-align: top;\n",
       "    }\n",
       "\n",
       "    .dataframe thead th {\n",
       "        text-align: right;\n",
       "    }\n",
       "</style>\n",
       "<table border=\"1\" class=\"dataframe\">\n",
       "  <thead>\n",
       "    <tr style=\"text-align: right;\">\n",
       "      <th></th>\n",
       "      <th>Purchase</th>\n",
       "      <th>Product_ID</th>\n",
       "    </tr>\n",
       "    <tr>\n",
       "      <th>User_ID</th>\n",
       "      <th></th>\n",
       "      <th></th>\n",
       "    </tr>\n",
       "  </thead>\n",
       "  <tbody>\n",
       "    <tr>\n",
       "      <th>1000001</th>\n",
       "      <td>9979</td>\n",
       "      <td>12</td>\n",
       "    </tr>\n",
       "    <tr>\n",
       "      <th>1000002</th>\n",
       "      <td>28416</td>\n",
       "      <td>37</td>\n",
       "    </tr>\n",
       "    <tr>\n",
       "      <th>1000003</th>\n",
       "      <td>7329</td>\n",
       "      <td>10</td>\n",
       "    </tr>\n",
       "    <tr>\n",
       "      <th>1000005</th>\n",
       "      <td>38641</td>\n",
       "      <td>55</td>\n",
       "    </tr>\n",
       "    <tr>\n",
       "      <th>1000006</th>\n",
       "      <td>14162</td>\n",
       "      <td>19</td>\n",
       "    </tr>\n",
       "    <tr>\n",
       "      <th>...</th>\n",
       "      <td>...</td>\n",
       "      <td>...</td>\n",
       "    </tr>\n",
       "    <tr>\n",
       "      <th>1007081</th>\n",
       "      <td>3550</td>\n",
       "      <td>1</td>\n",
       "    </tr>\n",
       "    <tr>\n",
       "      <th>1007091</th>\n",
       "      <td>5701</td>\n",
       "      <td>4</td>\n",
       "    </tr>\n",
       "    <tr>\n",
       "      <th>1007092</th>\n",
       "      <td>6050</td>\n",
       "      <td>2</td>\n",
       "    </tr>\n",
       "    <tr>\n",
       "      <th>1007095</th>\n",
       "      <td>1750</td>\n",
       "      <td>1</td>\n",
       "    </tr>\n",
       "    <tr>\n",
       "      <th>1007099</th>\n",
       "      <td>4847</td>\n",
       "      <td>3</td>\n",
       "    </tr>\n",
       "  </tbody>\n",
       "</table>\n",
       "<p>5885 rows × 2 columns</p>\n",
       "</div>"
      ],
      "text/plain": [
       "         Purchase  Product_ID\n",
       "User_ID                      \n",
       "1000001      9979          12\n",
       "1000002     28416          37\n",
       "1000003      7329          10\n",
       "1000005     38641          55\n",
       "1000006     14162          19\n",
       "...           ...         ...\n",
       "1007081      3550           1\n",
       "1007091      5701           4\n",
       "1007092      6050           2\n",
       "1007095      1750           1\n",
       "1007099      4847           3\n",
       "\n",
       "[5885 rows x 2 columns]"
      ]
     },
     "execution_count": 178,
     "metadata": {},
     "output_type": "execute_result"
    }
   ],
   "source": [
    "highest_revenue_customer = transactions.\\\n",
    "            groupby('User_ID', as_index=False).\\\n",
    "            agg({'Purchase': 'sum'})\n",
    "highest_revenue_customer"
   ]
  },
  {
   "cell_type": "code",
   "execution_count": 87,
   "metadata": {},
   "outputs": [
    {
     "data": {
      "text/html": [
       "<div>\n",
       "<style scoped>\n",
       "    .dataframe tbody tr th:only-of-type {\n",
       "        vertical-align: middle;\n",
       "    }\n",
       "\n",
       "    .dataframe tbody tr th {\n",
       "        vertical-align: top;\n",
       "    }\n",
       "\n",
       "    .dataframe thead th {\n",
       "        text-align: right;\n",
       "    }\n",
       "</style>\n",
       "<table border=\"1\" class=\"dataframe\">\n",
       "  <thead>\n",
       "    <tr style=\"text-align: right;\">\n",
       "      <th></th>\n",
       "      <th>User_ID</th>\n",
       "      <th>Purchase</th>\n",
       "    </tr>\n",
       "  </thead>\n",
       "  <tbody>\n",
       "    <tr>\n",
       "      <th>1631</th>\n",
       "      <td>1001680</td>\n",
       "      <td>401302</td>\n",
       "    </tr>\n",
       "    <tr>\n",
       "      <th>4157</th>\n",
       "      <td>1004277</td>\n",
       "      <td>382836</td>\n",
       "    </tr>\n",
       "    <tr>\n",
       "      <th>979</th>\n",
       "      <td>1001015</td>\n",
       "      <td>317057</td>\n",
       "    </tr>\n",
       "  </tbody>\n",
       "</table>\n",
       "</div>"
      ],
      "text/plain": [
       "      User_ID  Purchase\n",
       "1631  1001680    401302\n",
       "4157  1004277    382836\n",
       "979   1001015    317057"
      ]
     },
     "execution_count": 87,
     "metadata": {},
     "output_type": "execute_result"
    }
   ],
   "source": [
    "highest_revenue_customer.sort_values('Purchase', ascending=False).head(3)"
   ]
  },
  {
   "cell_type": "markdown",
   "metadata": {},
   "source": [
    "**Question: Find the highest revenue generating customer for the product line **`P00143342`****?"
   ]
  },
  {
   "cell_type": "code",
   "execution_count": 88,
   "metadata": {},
   "outputs": [
    {
     "data": {
      "text/html": [
       "<div>\n",
       "<style scoped>\n",
       "    .dataframe tbody tr th:only-of-type {\n",
       "        vertical-align: middle;\n",
       "    }\n",
       "\n",
       "    .dataframe tbody tr th {\n",
       "        vertical-align: top;\n",
       "    }\n",
       "\n",
       "    .dataframe thead th {\n",
       "        text-align: right;\n",
       "    }\n",
       "</style>\n",
       "<table border=\"1\" class=\"dataframe\">\n",
       "  <thead>\n",
       "    <tr style=\"text-align: right;\">\n",
       "      <th></th>\n",
       "      <th>User_ID</th>\n",
       "      <th>Purchase</th>\n",
       "    </tr>\n",
       "  </thead>\n",
       "  <tbody>\n",
       "    <tr>\n",
       "      <th>48</th>\n",
       "      <td>1003778</td>\n",
       "      <td>834</td>\n",
       "    </tr>\n",
       "  </tbody>\n",
       "</table>\n",
       "</div>"
      ],
      "text/plain": [
       "    User_ID  Purchase\n",
       "48  1003778       834"
      ]
     },
     "execution_count": 88,
     "metadata": {},
     "output_type": "execute_result"
    }
   ],
   "source": [
    "# P00143342_data = transactions[transactions.Product_ID == 'P00143342']\n",
    "P00143342_data = transactions[transactions['Product_ID'] == 'P00143342']\n",
    "\n",
    "P00143342_data.groupby('User_ID', as_index=False).\\\n",
    "    agg({'Purchase': 'sum'}).\\\n",
    "    sort_values('Purchase').\\\n",
    "    tail(1)"
   ]
  },
  {
   "cell_type": "code",
   "execution_count": 89,
   "metadata": {},
   "outputs": [
    {
     "data": {
      "text/html": [
       "<div>\n",
       "<style scoped>\n",
       "    .dataframe tbody tr th:only-of-type {\n",
       "        vertical-align: middle;\n",
       "    }\n",
       "\n",
       "    .dataframe tbody tr th {\n",
       "        vertical-align: top;\n",
       "    }\n",
       "\n",
       "    .dataframe thead th {\n",
       "        text-align: right;\n",
       "    }\n",
       "</style>\n",
       "<table border=\"1\" class=\"dataframe\">\n",
       "  <thead>\n",
       "    <tr style=\"text-align: right;\">\n",
       "      <th></th>\n",
       "      <th>User_ID</th>\n",
       "      <th>Product_ID</th>\n",
       "      <th>Purchase</th>\n",
       "    </tr>\n",
       "  </thead>\n",
       "  <tbody>\n",
       "    <tr>\n",
       "      <th>166527</th>\n",
       "      <td>1003778</td>\n",
       "      <td>P00143342</td>\n",
       "      <td>834</td>\n",
       "    </tr>\n",
       "  </tbody>\n",
       "</table>\n",
       "</div>"
      ],
      "text/plain": [
       "        User_ID Product_ID  Purchase\n",
       "166527  1003778  P00143342       834"
      ]
     },
     "execution_count": 89,
     "metadata": {},
     "output_type": "execute_result"
    }
   ],
   "source": [
    "# another way to acheive the same\n",
    "\n",
    "P00143342_data = transactions.\\\n",
    "    groupby(['User_ID','Product_ID'], as_index=False).\\\n",
    "    agg({'Purchase':'sum'})\n",
    "\n",
    "P00143342_data[P00143342_data.Product_ID == 'P00143342'].\\\n",
    "    sort_values('Purchase').\\\n",
    "    tail(1)"
   ]
  },
  {
   "cell_type": "markdown",
   "metadata": {},
   "source": [
    "**Question: Find the highest purchase details such as who made the purchase, on which product and when?**"
   ]
  },
  {
   "cell_type": "code",
   "execution_count": 90,
   "metadata": {},
   "outputs": [],
   "source": [
    "highest_details = transactions.\\\n",
    "        groupby('User_ID').\\\n",
    "        max()"
   ]
  },
  {
   "cell_type": "code",
   "execution_count": 91,
   "metadata": {},
   "outputs": [
    {
     "data": {
      "text/html": [
       "<div>\n",
       "<style scoped>\n",
       "    .dataframe tbody tr th:only-of-type {\n",
       "        vertical-align: middle;\n",
       "    }\n",
       "\n",
       "    .dataframe tbody tr th {\n",
       "        vertical-align: top;\n",
       "    }\n",
       "\n",
       "    .dataframe thead th {\n",
       "        text-align: right;\n",
       "    }\n",
       "</style>\n",
       "<table border=\"1\" class=\"dataframe\">\n",
       "  <thead>\n",
       "    <tr style=\"text-align: right;\">\n",
       "      <th></th>\n",
       "      <th>Date</th>\n",
       "      <th>Product_ID</th>\n",
       "      <th>Purchase</th>\n",
       "    </tr>\n",
       "    <tr>\n",
       "      <th>User_ID</th>\n",
       "      <th></th>\n",
       "      <th></th>\n",
       "      <th></th>\n",
       "    </tr>\n",
       "  </thead>\n",
       "  <tbody>\n",
       "    <tr>\n",
       "      <th>1000001</th>\n",
       "      <td>30-9-2018</td>\n",
       "      <td>P00297042</td>\n",
       "      <td>995</td>\n",
       "    </tr>\n",
       "    <tr>\n",
       "      <th>1000002</th>\n",
       "      <td>30-9-2018</td>\n",
       "      <td>P00356742</td>\n",
       "      <td>996</td>\n",
       "    </tr>\n",
       "    <tr>\n",
       "      <th>1000003</th>\n",
       "      <td>30-8-2018</td>\n",
       "      <td>P00343042</td>\n",
       "      <td>889</td>\n",
       "    </tr>\n",
       "    <tr>\n",
       "      <th>1000005</th>\n",
       "      <td>30-9-2018</td>\n",
       "      <td>P00355142</td>\n",
       "      <td>1000</td>\n",
       "    </tr>\n",
       "    <tr>\n",
       "      <th>1000006</th>\n",
       "      <td>30-9-2018</td>\n",
       "      <td>P0097942</td>\n",
       "      <td>999</td>\n",
       "    </tr>\n",
       "  </tbody>\n",
       "</table>\n",
       "</div>"
      ],
      "text/plain": [
       "              Date Product_ID  Purchase\n",
       "User_ID                                \n",
       "1000001  30-9-2018  P00297042       995\n",
       "1000002  30-9-2018  P00356742       996\n",
       "1000003  30-8-2018  P00343042       889\n",
       "1000005  30-9-2018  P00355142      1000\n",
       "1000006  30-9-2018   P0097942       999"
      ]
     },
     "execution_count": 91,
     "metadata": {},
     "output_type": "execute_result"
    }
   ],
   "source": [
    "highest_details.head()"
   ]
  },
  {
   "cell_type": "code",
   "execution_count": 92,
   "metadata": {},
   "outputs": [
    {
     "data": {
      "text/html": [
       "<div>\n",
       "<style scoped>\n",
       "    .dataframe tbody tr th:only-of-type {\n",
       "        vertical-align: middle;\n",
       "    }\n",
       "\n",
       "    .dataframe tbody tr th {\n",
       "        vertical-align: top;\n",
       "    }\n",
       "\n",
       "    .dataframe thead th {\n",
       "        text-align: right;\n",
       "    }\n",
       "</style>\n",
       "<table border=\"1\" class=\"dataframe\">\n",
       "  <thead>\n",
       "    <tr style=\"text-align: right;\">\n",
       "      <th></th>\n",
       "      <th>User_ID</th>\n",
       "      <th>Date</th>\n",
       "      <th>Product_ID</th>\n",
       "      <th>Purchase</th>\n",
       "    </tr>\n",
       "  </thead>\n",
       "  <tbody>\n",
       "    <tr>\n",
       "      <th>5879</th>\n",
       "      <td>1007028</td>\n",
       "      <td>8-9-2018</td>\n",
       "      <td>P1005887</td>\n",
       "      <td>3850</td>\n",
       "    </tr>\n",
       "  </tbody>\n",
       "</table>\n",
       "</div>"
      ],
      "text/plain": [
       "      User_ID      Date Product_ID  Purchase\n",
       "5879  1007028  8-9-2018   P1005887      3850"
      ]
     },
     "execution_count": 92,
     "metadata": {},
     "output_type": "execute_result"
    }
   ],
   "source": [
    "highest_details.\\\n",
    "    reset_index().\\\n",
    "    sort_values('Purchase', ascending=False).\\\n",
    "    head(1)"
   ]
  },
  {
   "cell_type": "code",
   "execution_count": 93,
   "metadata": {},
   "outputs": [
    {
     "data": {
      "text/plain": [
       "(261507, 4)"
      ]
     },
     "execution_count": 93,
     "metadata": {},
     "output_type": "execute_result"
    }
   ],
   "source": [
    "transactions.shape"
   ]
  },
  {
   "cell_type": "code",
   "execution_count": 94,
   "metadata": {},
   "outputs": [
    {
     "data": {
      "text/plain": [
       "(3449, 2)"
      ]
     },
     "execution_count": 94,
     "metadata": {},
     "output_type": "execute_result"
    }
   ],
   "source": [
    "products.shape"
   ]
  },
  {
   "cell_type": "code",
   "execution_count": 95,
   "metadata": {},
   "outputs": [
    {
     "data": {
      "text/plain": [
       "3264"
      ]
     },
     "execution_count": 95,
     "metadata": {},
     "output_type": "execute_result"
    }
   ],
   "source": [
    "transactions.Product_ID.nunique()"
   ]
  },
  {
   "cell_type": "code",
   "execution_count": 96,
   "metadata": {},
   "outputs": [
    {
     "data": {
      "text/plain": [
       "3449"
      ]
     },
     "execution_count": 96,
     "metadata": {},
     "output_type": "execute_result"
    }
   ],
   "source": [
    "products.Product_ID.nunique()"
   ]
  },
  {
   "cell_type": "markdown",
   "metadata": {},
   "source": [
    "Not all the products are involved in transactions this may be because some products are not sold in the given time period."
   ]
  },
  {
   "cell_type": "code",
   "execution_count": 97,
   "metadata": {},
   "outputs": [
    {
     "data": {
      "text/plain": [
       "array(['P00000142', 'P00000242', 'P00000342', ..., 'P1003221', 'P1003381',\n",
       "       'P1005887'], dtype=object)"
      ]
     },
     "execution_count": 97,
     "metadata": {},
     "output_type": "execute_result"
    }
   ],
   "source": [
    "products.Product_ID.unique()"
   ]
  },
  {
   "cell_type": "code",
   "execution_count": 98,
   "metadata": {},
   "outputs": [],
   "source": [
    "# Which products have zero transactions\n",
    "\n",
    "notransprod_list = list(set(products.Product_ID.unique()) - set(transactions.Product_ID.unique()))"
   ]
  },
  {
   "cell_type": "code",
   "execution_count": 99,
   "metadata": {},
   "outputs": [
    {
     "data": {
      "text/plain": [
       "['P00298342',\n",
       " 'P00126742',\n",
       " 'P00296842',\n",
       " 'P00188642',\n",
       " 'P00321242',\n",
       " 'P00013442',\n",
       " 'P00213842',\n",
       " 'P00073142',\n",
       " 'P00159642',\n",
       " 'P00363542',\n",
       " 'P00185942',\n",
       " 'P00149742',\n",
       " 'P00039142',\n",
       " 'P00053242',\n",
       " 'P00238242',\n",
       " 'P00152142',\n",
       " 'P00325342',\n",
       " 'P00172242',\n",
       " 'P0093742',\n",
       " 'P00348142',\n",
       " 'P00369642',\n",
       " 'P00364542',\n",
       " 'P00290642',\n",
       " 'P00353042',\n",
       " 'P00202842',\n",
       " 'P00012942',\n",
       " 'P00307842',\n",
       " 'P00299042',\n",
       " 'P00360542',\n",
       " 'P00341142',\n",
       " 'P00201942',\n",
       " 'P00065842',\n",
       " 'P00166442',\n",
       " 'P00357542',\n",
       " 'P00274742',\n",
       " 'P00106342',\n",
       " 'P00107842',\n",
       " 'P00310942',\n",
       " 'P00194942',\n",
       " 'P00077242',\n",
       " 'P00353742',\n",
       " 'P00272342',\n",
       " 'P00090242',\n",
       " 'P00150242',\n",
       " 'P00262842',\n",
       " 'P00013342',\n",
       " 'P00308042',\n",
       " 'P00054642',\n",
       " 'P00074542',\n",
       " 'P00011242',\n",
       " 'P00107942',\n",
       " 'P00091542',\n",
       " 'P00301442',\n",
       " 'P00106842',\n",
       " 'P00295642',\n",
       " 'P00063442',\n",
       " 'P00245742',\n",
       " 'P00352042',\n",
       " 'P00107342',\n",
       " 'P00342442',\n",
       " 'P00312042',\n",
       " 'P00162842',\n",
       " 'P00200542',\n",
       " 'P00062342',\n",
       " 'P00337042',\n",
       " 'P00306742',\n",
       " 'P00104042',\n",
       " 'P00329142',\n",
       " 'P00172642',\n",
       " 'P00252342',\n",
       " 'P00135942',\n",
       " 'P00203642',\n",
       " 'P00215142',\n",
       " 'P00132742',\n",
       " 'P00341542',\n",
       " 'P00106142',\n",
       " 'P00038842',\n",
       " 'P00264842',\n",
       " 'P00290442',\n",
       " 'P00169842',\n",
       " 'P00311242',\n",
       " 'P00286342',\n",
       " 'P00155542',\n",
       " 'P00342542',\n",
       " 'P00334742',\n",
       " 'P00012342',\n",
       " 'P00059342',\n",
       " 'P00206542',\n",
       " 'P00314742',\n",
       " 'P00181042',\n",
       " 'P00159142',\n",
       " 'P00260942',\n",
       " 'P0097542',\n",
       " 'P00138742',\n",
       " 'P00083142',\n",
       " 'P00121842',\n",
       " 'P00324242',\n",
       " 'P00203242',\n",
       " 'P00343942',\n",
       " 'P00167342',\n",
       " 'P00090042',\n",
       " 'P00203042',\n",
       " 'P00230142',\n",
       " 'P00309642',\n",
       " 'P00035442',\n",
       " 'P00065942',\n",
       " 'P00072242',\n",
       " 'P00069642',\n",
       " 'P00284342',\n",
       " 'P00335342',\n",
       " 'P00069742',\n",
       " 'P00164242',\n",
       " 'P00262042',\n",
       " 'P00107442',\n",
       " 'P00338242',\n",
       " 'P00161342',\n",
       " 'P00368742',\n",
       " 'P00365442',\n",
       " 'P00061442',\n",
       " 'P00201842',\n",
       " 'P00277342',\n",
       " 'P00066142',\n",
       " 'P00261042',\n",
       " 'P00070142',\n",
       " 'P00143242',\n",
       " 'P00106442',\n",
       " 'P00333842',\n",
       " 'P00300742',\n",
       " 'P00261942',\n",
       " 'P00054342',\n",
       " 'P00208642',\n",
       " 'P00286942',\n",
       " 'P00169942',\n",
       " 'P00013242',\n",
       " 'P00081742',\n",
       " 'P00100042',\n",
       " 'P00298842',\n",
       " 'P00083542',\n",
       " 'P00279142',\n",
       " 'P00122642',\n",
       " 'P00315142',\n",
       " 'P00012442',\n",
       " 'P00071042',\n",
       " 'P00142542',\n",
       " 'P00275342',\n",
       " 'P00122842',\n",
       " 'P00290842',\n",
       " 'P00355442',\n",
       " 'P00287042',\n",
       " 'P00201242',\n",
       " 'P00013542',\n",
       " 'P00234442',\n",
       " 'P00105842',\n",
       " 'P00206942',\n",
       " 'P00088242',\n",
       " 'P00038142',\n",
       " 'P00281342',\n",
       " 'P00324042',\n",
       " 'P00308942',\n",
       " 'P00365942',\n",
       " 'P00069942',\n",
       " 'P00173142',\n",
       " 'P00281442',\n",
       " 'P00305842',\n",
       " 'P00065742',\n",
       " 'P00137842',\n",
       " 'P00065142',\n",
       " 'P00229542',\n",
       " 'P00143442',\n",
       " 'P00066342',\n",
       " 'P00100342',\n",
       " 'P00238042',\n",
       " 'P00292142',\n",
       " 'P00204442',\n",
       " 'P00131442',\n",
       " 'P00106642',\n",
       " 'P00317742',\n",
       " 'P00203842',\n",
       " 'P00013842',\n",
       " 'P00077542',\n",
       " 'P00027842',\n",
       " 'P00257942',\n",
       " 'P00133142',\n",
       " 'P00075042',\n",
       " 'P00341042']"
      ]
     },
     "execution_count": 99,
     "metadata": {},
     "output_type": "execute_result"
    }
   ],
   "source": [
    "notransprod_list"
   ]
  },
  {
   "cell_type": "markdown",
   "metadata": {},
   "source": [
    "**Question: Which Product Category has more number of products with zero transactions**"
   ]
  },
  {
   "cell_type": "code",
   "execution_count": 100,
   "metadata": {},
   "outputs": [
    {
     "data": {
      "text/html": [
       "<div>\n",
       "<style scoped>\n",
       "    .dataframe tbody tr th:only-of-type {\n",
       "        vertical-align: middle;\n",
       "    }\n",
       "\n",
       "    .dataframe tbody tr th {\n",
       "        vertical-align: top;\n",
       "    }\n",
       "\n",
       "    .dataframe thead th {\n",
       "        text-align: right;\n",
       "    }\n",
       "</style>\n",
       "<table border=\"1\" class=\"dataframe\">\n",
       "  <thead>\n",
       "    <tr style=\"text-align: right;\">\n",
       "      <th></th>\n",
       "      <th>Product_ID</th>\n",
       "      <th>Product_Category</th>\n",
       "    </tr>\n",
       "  </thead>\n",
       "  <tbody>\n",
       "    <tr>\n",
       "      <th>106</th>\n",
       "      <td>P00011242</td>\n",
       "      <td>6</td>\n",
       "    </tr>\n",
       "    <tr>\n",
       "      <th>117</th>\n",
       "      <td>P00012342</td>\n",
       "      <td>7</td>\n",
       "    </tr>\n",
       "    <tr>\n",
       "      <th>118</th>\n",
       "      <td>P00012442</td>\n",
       "      <td>6</td>\n",
       "    </tr>\n",
       "    <tr>\n",
       "      <th>122</th>\n",
       "      <td>P00012942</td>\n",
       "      <td>4</td>\n",
       "    </tr>\n",
       "    <tr>\n",
       "      <th>124</th>\n",
       "      <td>P00013242</td>\n",
       "      <td>6</td>\n",
       "    </tr>\n",
       "    <tr>\n",
       "      <th>...</th>\n",
       "      <td>...</td>\n",
       "      <td>...</td>\n",
       "    </tr>\n",
       "    <tr>\n",
       "      <th>3348</th>\n",
       "      <td>P00365942</td>\n",
       "      <td>7</td>\n",
       "    </tr>\n",
       "    <tr>\n",
       "      <th>3376</th>\n",
       "      <td>P00368742</td>\n",
       "      <td>10</td>\n",
       "    </tr>\n",
       "    <tr>\n",
       "      <th>3385</th>\n",
       "      <td>P00369642</td>\n",
       "      <td>10</td>\n",
       "    </tr>\n",
       "    <tr>\n",
       "      <th>3396</th>\n",
       "      <td>P0093742</td>\n",
       "      <td>5</td>\n",
       "    </tr>\n",
       "    <tr>\n",
       "      <th>3421</th>\n",
       "      <td>P0097542</td>\n",
       "      <td>6</td>\n",
       "    </tr>\n",
       "  </tbody>\n",
       "</table>\n",
       "<p>185 rows × 2 columns</p>\n",
       "</div>"
      ],
      "text/plain": [
       "     Product_ID Product_Category\n",
       "106   P00011242                6\n",
       "117   P00012342                7\n",
       "118   P00012442                6\n",
       "122   P00012942                4\n",
       "124   P00013242                6\n",
       "...         ...              ...\n",
       "3348  P00365942                7\n",
       "3376  P00368742               10\n",
       "3385  P00369642               10\n",
       "3396   P0093742                5\n",
       "3421   P0097542                6\n",
       "\n",
       "[185 rows x 2 columns]"
      ]
     },
     "execution_count": 100,
     "metadata": {},
     "output_type": "execute_result"
    }
   ],
   "source": [
    "notransprod_df = products[products.Product_ID.isin(notransprod_list)]\n",
    "notransprod_df"
   ]
  },
  {
   "cell_type": "code",
   "execution_count": 101,
   "metadata": {},
   "outputs": [
    {
     "data": {
      "text/html": [
       "<div>\n",
       "<style scoped>\n",
       "    .dataframe tbody tr th:only-of-type {\n",
       "        vertical-align: middle;\n",
       "    }\n",
       "\n",
       "    .dataframe tbody tr th {\n",
       "        vertical-align: top;\n",
       "    }\n",
       "\n",
       "    .dataframe thead th {\n",
       "        text-align: right;\n",
       "    }\n",
       "</style>\n",
       "<table border=\"1\" class=\"dataframe\">\n",
       "  <thead>\n",
       "    <tr style=\"text-align: right;\">\n",
       "      <th></th>\n",
       "      <th>Product_Category</th>\n",
       "      <th>zero_transaction_products</th>\n",
       "    </tr>\n",
       "  </thead>\n",
       "  <tbody>\n",
       "    <tr>\n",
       "      <th>5</th>\n",
       "      <td>6</td>\n",
       "      <td>41</td>\n",
       "    </tr>\n",
       "    <tr>\n",
       "      <th>6</th>\n",
       "      <td>7</td>\n",
       "      <td>35</td>\n",
       "    </tr>\n",
       "    <tr>\n",
       "      <th>9</th>\n",
       "      <td>10</td>\n",
       "      <td>23</td>\n",
       "    </tr>\n",
       "    <tr>\n",
       "      <th>3</th>\n",
       "      <td>4</td>\n",
       "      <td>19</td>\n",
       "    </tr>\n",
       "    <tr>\n",
       "      <th>0</th>\n",
       "      <td>1</td>\n",
       "      <td>18</td>\n",
       "    </tr>\n",
       "    <tr>\n",
       "      <th>4</th>\n",
       "      <td>5</td>\n",
       "      <td>14</td>\n",
       "    </tr>\n",
       "    <tr>\n",
       "      <th>11</th>\n",
       "      <td>12</td>\n",
       "      <td>14</td>\n",
       "    </tr>\n",
       "    <tr>\n",
       "      <th>8</th>\n",
       "      <td>9</td>\n",
       "      <td>8</td>\n",
       "    </tr>\n",
       "    <tr>\n",
       "      <th>12</th>\n",
       "      <td>13</td>\n",
       "      <td>6</td>\n",
       "    </tr>\n",
       "    <tr>\n",
       "      <th>1</th>\n",
       "      <td>2</td>\n",
       "      <td>4</td>\n",
       "    </tr>\n",
       "    <tr>\n",
       "      <th>2</th>\n",
       "      <td>3</td>\n",
       "      <td>1</td>\n",
       "    </tr>\n",
       "    <tr>\n",
       "      <th>7</th>\n",
       "      <td>8</td>\n",
       "      <td>1</td>\n",
       "    </tr>\n",
       "    <tr>\n",
       "      <th>13</th>\n",
       "      <td>14</td>\n",
       "      <td>1</td>\n",
       "    </tr>\n",
       "    <tr>\n",
       "      <th>10</th>\n",
       "      <td>11</td>\n",
       "      <td>0</td>\n",
       "    </tr>\n",
       "  </tbody>\n",
       "</table>\n",
       "</div>"
      ],
      "text/plain": [
       "   Product_Category  zero_transaction_products\n",
       "5                 6                         41\n",
       "6                 7                         35\n",
       "9                10                         23\n",
       "3                 4                         19\n",
       "0                 1                         18\n",
       "4                 5                         14\n",
       "11               12                         14\n",
       "8                 9                          8\n",
       "12               13                          6\n",
       "1                 2                          4\n",
       "2                 3                          1\n",
       "7                 8                          1\n",
       "13               14                          1\n",
       "10               11                          0"
      ]
     },
     "execution_count": 101,
     "metadata": {},
     "output_type": "execute_result"
    }
   ],
   "source": [
    "# add total number of products as column, \n",
    "prod_cats = notransprod_df.groupby('Product_Category', as_index=False).count()\n",
    "\n",
    "prod_cats = prod_cats.rename({\n",
    "    'Product_ID':'zero_transaction_products'\n",
    "},\n",
    "axis=1)\n",
    "\n",
    "prod_cats.sort_values('zero_transaction_products', ascending = False)"
   ]
  },
  {
   "cell_type": "code",
   "execution_count": 102,
   "metadata": {},
   "outputs": [
    {
     "data": {
      "text/html": [
       "<div>\n",
       "<style scoped>\n",
       "    .dataframe tbody tr th:only-of-type {\n",
       "        vertical-align: middle;\n",
       "    }\n",
       "\n",
       "    .dataframe tbody tr th {\n",
       "        vertical-align: top;\n",
       "    }\n",
       "\n",
       "    .dataframe thead th {\n",
       "        text-align: right;\n",
       "    }\n",
       "</style>\n",
       "<table border=\"1\" class=\"dataframe\">\n",
       "  <thead>\n",
       "    <tr style=\"text-align: right;\">\n",
       "      <th></th>\n",
       "      <th>Product_Category</th>\n",
       "      <th>total_products</th>\n",
       "    </tr>\n",
       "  </thead>\n",
       "  <tbody>\n",
       "    <tr>\n",
       "      <th>0</th>\n",
       "      <td>1</td>\n",
       "      <td>491</td>\n",
       "    </tr>\n",
       "    <tr>\n",
       "      <th>1</th>\n",
       "      <td>2</td>\n",
       "      <td>152</td>\n",
       "    </tr>\n",
       "    <tr>\n",
       "      <th>2</th>\n",
       "      <td>3</td>\n",
       "      <td>90</td>\n",
       "    </tr>\n",
       "    <tr>\n",
       "      <th>3</th>\n",
       "      <td>4</td>\n",
       "      <td>966</td>\n",
       "    </tr>\n",
       "    <tr>\n",
       "      <th>4</th>\n",
       "      <td>5</td>\n",
       "      <td>119</td>\n",
       "    </tr>\n",
       "    <tr>\n",
       "      <th>5</th>\n",
       "      <td>6</td>\n",
       "      <td>102</td>\n",
       "    </tr>\n",
       "    <tr>\n",
       "      <th>6</th>\n",
       "      <td>7</td>\n",
       "      <td>1047</td>\n",
       "    </tr>\n",
       "    <tr>\n",
       "      <th>7</th>\n",
       "      <td>8</td>\n",
       "      <td>2</td>\n",
       "    </tr>\n",
       "    <tr>\n",
       "      <th>8</th>\n",
       "      <td>9</td>\n",
       "      <td>25</td>\n",
       "    </tr>\n",
       "    <tr>\n",
       "      <th>9</th>\n",
       "      <td>10</td>\n",
       "      <td>254</td>\n",
       "    </tr>\n",
       "    <tr>\n",
       "      <th>10</th>\n",
       "      <td>11</td>\n",
       "      <td>4</td>\n",
       "    </tr>\n",
       "    <tr>\n",
       "      <th>11</th>\n",
       "      <td>12</td>\n",
       "      <td>88</td>\n",
       "    </tr>\n",
       "    <tr>\n",
       "      <th>12</th>\n",
       "      <td>13</td>\n",
       "      <td>98</td>\n",
       "    </tr>\n",
       "    <tr>\n",
       "      <th>13</th>\n",
       "      <td>14</td>\n",
       "      <td>11</td>\n",
       "    </tr>\n",
       "  </tbody>\n",
       "</table>\n",
       "</div>"
      ],
      "text/plain": [
       "   Product_Category  total_products\n",
       "0                 1             491\n",
       "1                 2             152\n",
       "2                 3              90\n",
       "3                 4             966\n",
       "4                 5             119\n",
       "5                 6             102\n",
       "6                 7            1047\n",
       "7                 8               2\n",
       "8                 9              25\n",
       "9                10             254\n",
       "10               11               4\n",
       "11               12              88\n",
       "12               13              98\n",
       "13               14              11"
      ]
     },
     "execution_count": 102,
     "metadata": {},
     "output_type": "execute_result"
    }
   ],
   "source": [
    "# product categories with count of products\n",
    "tmp2 = products.groupby('Product_Category', as_index=False).count()\n",
    "tmp2 = tmp2.rename({\n",
    "    'Product_ID':'total_products',\n",
    "}, axis=1)\n",
    "\n",
    "tmp2"
   ]
  },
  {
   "cell_type": "markdown",
   "metadata": {},
   "source": [
    "Since there are so many products, instead of going with product_id, can we go with product category. For this, we may need to merge the data of POS with products so that we can map each product to their respective product category\n",
    "- Let's understand the merge"
   ]
  },
  {
   "cell_type": "markdown",
   "metadata": {},
   "source": [
    "### Example\n",
    "\n",
    "Read merge dataset"
   ]
  },
  {
   "cell_type": "code",
   "execution_count": 103,
   "metadata": {},
   "outputs": [],
   "source": [
    "Age       = pd.read_excel(merg_path, sheet_name=\"Ages\")\n",
    "Education = pd.read_excel(merg_path, sheet_name=\"Education\")"
   ]
  },
  {
   "cell_type": "code",
   "execution_count": 104,
   "metadata": {},
   "outputs": [
    {
     "data": {
      "text/html": [
       "<div>\n",
       "<style scoped>\n",
       "    .dataframe tbody tr th:only-of-type {\n",
       "        vertical-align: middle;\n",
       "    }\n",
       "\n",
       "    .dataframe tbody tr th {\n",
       "        vertical-align: top;\n",
       "    }\n",
       "\n",
       "    .dataframe thead th {\n",
       "        text-align: right;\n",
       "    }\n",
       "</style>\n",
       "<table border=\"1\" class=\"dataframe\">\n",
       "  <thead>\n",
       "    <tr style=\"text-align: right;\">\n",
       "      <th></th>\n",
       "      <th>Name</th>\n",
       "      <th>Age</th>\n",
       "    </tr>\n",
       "  </thead>\n",
       "  <tbody>\n",
       "    <tr>\n",
       "      <th>0</th>\n",
       "      <td>Alpha</td>\n",
       "      <td>21</td>\n",
       "    </tr>\n",
       "    <tr>\n",
       "      <th>1</th>\n",
       "      <td>Beta</td>\n",
       "      <td>28</td>\n",
       "    </tr>\n",
       "    <tr>\n",
       "      <th>2</th>\n",
       "      <td>Gamma</td>\n",
       "      <td>25</td>\n",
       "    </tr>\n",
       "    <tr>\n",
       "      <th>3</th>\n",
       "      <td>Delta</td>\n",
       "      <td>29</td>\n",
       "    </tr>\n",
       "  </tbody>\n",
       "</table>\n",
       "</div>"
      ],
      "text/plain": [
       "    Name  Age\n",
       "0  Alpha   21\n",
       "1   Beta   28\n",
       "2  Gamma   25\n",
       "3  Delta   29"
      ]
     },
     "execution_count": 104,
     "metadata": {},
     "output_type": "execute_result"
    }
   ],
   "source": [
    "Age"
   ]
  },
  {
   "cell_type": "code",
   "execution_count": 105,
   "metadata": {},
   "outputs": [
    {
     "data": {
      "text/html": [
       "<div>\n",
       "<style scoped>\n",
       "    .dataframe tbody tr th:only-of-type {\n",
       "        vertical-align: middle;\n",
       "    }\n",
       "\n",
       "    .dataframe tbody tr th {\n",
       "        vertical-align: top;\n",
       "    }\n",
       "\n",
       "    .dataframe thead th {\n",
       "        text-align: right;\n",
       "    }\n",
       "</style>\n",
       "<table border=\"1\" class=\"dataframe\">\n",
       "  <thead>\n",
       "    <tr style=\"text-align: right;\">\n",
       "      <th></th>\n",
       "      <th>Name</th>\n",
       "      <th>Education</th>\n",
       "    </tr>\n",
       "  </thead>\n",
       "  <tbody>\n",
       "    <tr>\n",
       "      <th>0</th>\n",
       "      <td>Alpha</td>\n",
       "      <td>Bachelors</td>\n",
       "    </tr>\n",
       "    <tr>\n",
       "      <th>1</th>\n",
       "      <td>Kappa</td>\n",
       "      <td>Doctorate</td>\n",
       "    </tr>\n",
       "    <tr>\n",
       "      <th>2</th>\n",
       "      <td>Eta</td>\n",
       "      <td>Masters</td>\n",
       "    </tr>\n",
       "    <tr>\n",
       "      <th>3</th>\n",
       "      <td>Delta</td>\n",
       "      <td>Bachelors</td>\n",
       "    </tr>\n",
       "  </tbody>\n",
       "</table>\n",
       "</div>"
      ],
      "text/plain": [
       "    Name  Education\n",
       "0  Alpha  Bachelors\n",
       "1  Kappa  Doctorate\n",
       "2    Eta    Masters\n",
       "3  Delta  Bachelors"
      ]
     },
     "execution_count": 105,
     "metadata": {},
     "output_type": "execute_result"
    }
   ],
   "source": [
    "Education"
   ]
  },
  {
   "cell_type": "markdown",
   "metadata": {},
   "source": [
    "### Combining and Merging Datasets\n",
    "\n",
    "Data contained in pandas objects can be combined together in a number of ways.\n",
    "- `pandas.merge` connects rows in DataFrames based on one or more keys. This will be familiar to users of SQL or other relational databases, as it implements\n",
    "database join operations.\n",
    "- `pandas.concat` concatenates or “stacks” together objects along an axis.\n",
    "- The `combine_first` instance method enables splicing together overlapping data to fill in missing values in one object with values from another.\n",
    "\n",
    "**Database-Style DataFrame Joins**\n",
    "\n",
    "Merge or join operations combine datasets by linking rows using one or more keys.\n",
    "These operations are central to relational databases (e.g., SQL-based). The merge\n",
    "function in pandas is the main entry point for using these algorithms on your data."
   ]
  },
  {
   "cell_type": "code",
   "execution_count": 106,
   "metadata": {},
   "outputs": [
    {
     "data": {
      "text/html": [
       "<div>\n",
       "<style scoped>\n",
       "    .dataframe tbody tr th:only-of-type {\n",
       "        vertical-align: middle;\n",
       "    }\n",
       "\n",
       "    .dataframe tbody tr th {\n",
       "        vertical-align: top;\n",
       "    }\n",
       "\n",
       "    .dataframe thead th {\n",
       "        text-align: right;\n",
       "    }\n",
       "</style>\n",
       "<table border=\"1\" class=\"dataframe\">\n",
       "  <thead>\n",
       "    <tr style=\"text-align: right;\">\n",
       "      <th></th>\n",
       "      <th>Name</th>\n",
       "      <th>Age</th>\n",
       "      <th>Education</th>\n",
       "    </tr>\n",
       "  </thead>\n",
       "  <tbody>\n",
       "    <tr>\n",
       "      <th>0</th>\n",
       "      <td>Alpha</td>\n",
       "      <td>21</td>\n",
       "      <td>Bachelors</td>\n",
       "    </tr>\n",
       "    <tr>\n",
       "      <th>1</th>\n",
       "      <td>Delta</td>\n",
       "      <td>29</td>\n",
       "      <td>Bachelors</td>\n",
       "    </tr>\n",
       "  </tbody>\n",
       "</table>\n",
       "</div>"
      ],
      "text/plain": [
       "    Name  Age  Education\n",
       "0  Alpha   21  Bachelors\n",
       "1  Delta   29  Bachelors"
      ]
     },
     "execution_count": 106,
     "metadata": {},
     "output_type": "execute_result"
    }
   ],
   "source": [
    "combined_inner=pd.merge(Age, Education, on='Name')\n",
    "combined_inner"
   ]
  },
  {
   "cell_type": "markdown",
   "metadata": {},
   "source": [
    "By default merge does an ``inner`` join.\n",
    "\n",
    "The keys in the result are the intersection,\n",
    "or the common set found in both tables. \n",
    "\n",
    "Other possible options are `left`, `right`, and `outer`. \n",
    "\n",
    "The `outer join` takes the union of the keys, combining the\n",
    "effect of applying both left and right joins.\n",
    "\n",
    "***Different join types with how argument***\n",
    "- `inner` Use only the key combinations observed in both tables\n",
    "- `left` Use all key combinations found in the left table\n",
    "- `right` Use all key combinations found in the right table\n",
    "- `outer` Use all key combinations observed in both tables together\n"
   ]
  },
  {
   "cell_type": "code",
   "execution_count": 107,
   "metadata": {},
   "outputs": [
    {
     "data": {
      "text/html": [
       "<div>\n",
       "<style scoped>\n",
       "    .dataframe tbody tr th:only-of-type {\n",
       "        vertical-align: middle;\n",
       "    }\n",
       "\n",
       "    .dataframe tbody tr th {\n",
       "        vertical-align: top;\n",
       "    }\n",
       "\n",
       "    .dataframe thead th {\n",
       "        text-align: right;\n",
       "    }\n",
       "</style>\n",
       "<table border=\"1\" class=\"dataframe\">\n",
       "  <thead>\n",
       "    <tr style=\"text-align: right;\">\n",
       "      <th></th>\n",
       "      <th>Name</th>\n",
       "      <th>Age</th>\n",
       "      <th>Education</th>\n",
       "    </tr>\n",
       "  </thead>\n",
       "  <tbody>\n",
       "    <tr>\n",
       "      <th>0</th>\n",
       "      <td>Alpha</td>\n",
       "      <td>21.0</td>\n",
       "      <td>Bachelors</td>\n",
       "    </tr>\n",
       "    <tr>\n",
       "      <th>1</th>\n",
       "      <td>Beta</td>\n",
       "      <td>28.0</td>\n",
       "      <td>NaN</td>\n",
       "    </tr>\n",
       "    <tr>\n",
       "      <th>2</th>\n",
       "      <td>Gamma</td>\n",
       "      <td>25.0</td>\n",
       "      <td>NaN</td>\n",
       "    </tr>\n",
       "    <tr>\n",
       "      <th>3</th>\n",
       "      <td>Delta</td>\n",
       "      <td>29.0</td>\n",
       "      <td>Bachelors</td>\n",
       "    </tr>\n",
       "    <tr>\n",
       "      <th>4</th>\n",
       "      <td>Kappa</td>\n",
       "      <td>NaN</td>\n",
       "      <td>Doctorate</td>\n",
       "    </tr>\n",
       "    <tr>\n",
       "      <th>5</th>\n",
       "      <td>Eta</td>\n",
       "      <td>NaN</td>\n",
       "      <td>Masters</td>\n",
       "    </tr>\n",
       "  </tbody>\n",
       "</table>\n",
       "</div>"
      ],
      "text/plain": [
       "    Name   Age  Education\n",
       "0  Alpha  21.0  Bachelors\n",
       "1   Beta  28.0        NaN\n",
       "2  Gamma  25.0        NaN\n",
       "3  Delta  29.0  Bachelors\n",
       "4  Kappa   NaN  Doctorate\n",
       "5    Eta   NaN    Masters"
      ]
     },
     "execution_count": 107,
     "metadata": {},
     "output_type": "execute_result"
    }
   ],
   "source": [
    "combined_outer = pd.merge(Age, Education, on='Name', how='outer')\n",
    "combined_outer"
   ]
  },
  {
   "cell_type": "code",
   "execution_count": 108,
   "metadata": {},
   "outputs": [
    {
     "data": {
      "text/html": [
       "<div>\n",
       "<style scoped>\n",
       "    .dataframe tbody tr th:only-of-type {\n",
       "        vertical-align: middle;\n",
       "    }\n",
       "\n",
       "    .dataframe tbody tr th {\n",
       "        vertical-align: top;\n",
       "    }\n",
       "\n",
       "    .dataframe thead th {\n",
       "        text-align: right;\n",
       "    }\n",
       "</style>\n",
       "<table border=\"1\" class=\"dataframe\">\n",
       "  <thead>\n",
       "    <tr style=\"text-align: right;\">\n",
       "      <th></th>\n",
       "      <th>Name</th>\n",
       "      <th>Age</th>\n",
       "      <th>Education</th>\n",
       "    </tr>\n",
       "  </thead>\n",
       "  <tbody>\n",
       "    <tr>\n",
       "      <th>0</th>\n",
       "      <td>Alpha</td>\n",
       "      <td>21</td>\n",
       "      <td>Bachelors</td>\n",
       "    </tr>\n",
       "    <tr>\n",
       "      <th>1</th>\n",
       "      <td>Beta</td>\n",
       "      <td>28</td>\n",
       "      <td>NaN</td>\n",
       "    </tr>\n",
       "    <tr>\n",
       "      <th>2</th>\n",
       "      <td>Gamma</td>\n",
       "      <td>25</td>\n",
       "      <td>NaN</td>\n",
       "    </tr>\n",
       "    <tr>\n",
       "      <th>3</th>\n",
       "      <td>Delta</td>\n",
       "      <td>29</td>\n",
       "      <td>Bachelors</td>\n",
       "    </tr>\n",
       "  </tbody>\n",
       "</table>\n",
       "</div>"
      ],
      "text/plain": [
       "    Name  Age  Education\n",
       "0  Alpha   21  Bachelors\n",
       "1   Beta   28        NaN\n",
       "2  Gamma   25        NaN\n",
       "3  Delta   29  Bachelors"
      ]
     },
     "execution_count": 108,
     "metadata": {},
     "output_type": "execute_result"
    }
   ],
   "source": [
    "combined_left = pd.merge(Age, Education, on='Name', how='left')\n",
    "combined_left"
   ]
  },
  {
   "cell_type": "code",
   "execution_count": 109,
   "metadata": {},
   "outputs": [
    {
     "data": {
      "text/html": [
       "<div>\n",
       "<style scoped>\n",
       "    .dataframe tbody tr th:only-of-type {\n",
       "        vertical-align: middle;\n",
       "    }\n",
       "\n",
       "    .dataframe tbody tr th {\n",
       "        vertical-align: top;\n",
       "    }\n",
       "\n",
       "    .dataframe thead th {\n",
       "        text-align: right;\n",
       "    }\n",
       "</style>\n",
       "<table border=\"1\" class=\"dataframe\">\n",
       "  <thead>\n",
       "    <tr style=\"text-align: right;\">\n",
       "      <th></th>\n",
       "      <th>Name</th>\n",
       "      <th>Age</th>\n",
       "      <th>Education</th>\n",
       "    </tr>\n",
       "  </thead>\n",
       "  <tbody>\n",
       "    <tr>\n",
       "      <th>0</th>\n",
       "      <td>Alpha</td>\n",
       "      <td>21.0</td>\n",
       "      <td>Bachelors</td>\n",
       "    </tr>\n",
       "    <tr>\n",
       "      <th>1</th>\n",
       "      <td>Kappa</td>\n",
       "      <td>NaN</td>\n",
       "      <td>Doctorate</td>\n",
       "    </tr>\n",
       "    <tr>\n",
       "      <th>2</th>\n",
       "      <td>Eta</td>\n",
       "      <td>NaN</td>\n",
       "      <td>Masters</td>\n",
       "    </tr>\n",
       "    <tr>\n",
       "      <th>3</th>\n",
       "      <td>Delta</td>\n",
       "      <td>29.0</td>\n",
       "      <td>Bachelors</td>\n",
       "    </tr>\n",
       "  </tbody>\n",
       "</table>\n",
       "</div>"
      ],
      "text/plain": [
       "    Name   Age  Education\n",
       "0  Alpha  21.0  Bachelors\n",
       "1  Kappa   NaN  Doctorate\n",
       "2    Eta   NaN    Masters\n",
       "3  Delta  29.0  Bachelors"
      ]
     },
     "execution_count": 109,
     "metadata": {},
     "output_type": "execute_result"
    }
   ],
   "source": [
    "combined_right = pd.merge(Age, Education, on='Name', how='right')\n",
    "combined_right"
   ]
  },
  {
   "cell_type": "markdown",
   "metadata": {},
   "source": [
    "***merge function arguments***\n",
    "- `left` DataFrame to be merged on the left side.\n",
    "- `right` DataFrame to be merged on the right side.\n",
    "- `how` One of `inner`, `outer`, `left`, or `right`; defaults to `inner`.\n",
    "- `on` Column names to join on. Must be found in both DataFrame objects. If not specified and no other join keys\n",
    "given, will use the intersection of the column names in left and right as the join keys.\n",
    "- `left_on` Columns in left DataFrame to use as join keys.\n",
    "- `right_on` Analogous to left_on for left DataFrame.\n",
    "- `left_index` Use row index in left as its join key (or keys, if a MultiIndex).\n",
    "- `right_index` Analogous to left_index.\n",
    "- `sort` Sort merged data lexicographically by join keys; True by default (disable to get better performance in\n",
    "some cases on large datasets).\n",
    "- `suffixes` Tuple of string values to append to column names in case of overlap; defaults to ('_x', '_y') (e.g., if\n",
    "'data' in both DataFrame objects, would appear as 'data_x' and 'data_y' in result).\n",
    "- `copy` If False, avoid copying data into resulting data structure in some exceptional cases; by default always\n",
    "copies.\n",
    "- `indicator` Adds a special column _merge that indicates the source of each row; values will be"
   ]
  },
  {
   "cell_type": "markdown",
   "metadata": {},
   "source": [
    "**Concatenating Along an Axis**"
   ]
  },
  {
   "cell_type": "code",
   "execution_count": 110,
   "metadata": {},
   "outputs": [
    {
     "data": {
      "text/html": [
       "<div>\n",
       "<style scoped>\n",
       "    .dataframe tbody tr th:only-of-type {\n",
       "        vertical-align: middle;\n",
       "    }\n",
       "\n",
       "    .dataframe tbody tr th {\n",
       "        vertical-align: top;\n",
       "    }\n",
       "\n",
       "    .dataframe thead th {\n",
       "        text-align: right;\n",
       "    }\n",
       "</style>\n",
       "<table border=\"1\" class=\"dataframe\">\n",
       "  <thead>\n",
       "    <tr style=\"text-align: right;\">\n",
       "      <th></th>\n",
       "      <th>one</th>\n",
       "      <th>two</th>\n",
       "    </tr>\n",
       "  </thead>\n",
       "  <tbody>\n",
       "    <tr>\n",
       "      <th>a</th>\n",
       "      <td>0</td>\n",
       "      <td>1</td>\n",
       "    </tr>\n",
       "    <tr>\n",
       "      <th>b</th>\n",
       "      <td>2</td>\n",
       "      <td>3</td>\n",
       "    </tr>\n",
       "    <tr>\n",
       "      <th>c</th>\n",
       "      <td>4</td>\n",
       "      <td>5</td>\n",
       "    </tr>\n",
       "  </tbody>\n",
       "</table>\n",
       "</div>"
      ],
      "text/plain": [
       "   one  two\n",
       "a    0    1\n",
       "b    2    3\n",
       "c    4    5"
      ]
     },
     "execution_count": 110,
     "metadata": {},
     "output_type": "execute_result"
    }
   ],
   "source": [
    "df1 = pd.DataFrame(np.arange(6).reshape(3, 2), \n",
    "                   index=['a', 'b', 'c'],\n",
    "                   columns=['one', 'two'])\n",
    "\n",
    "df1"
   ]
  },
  {
   "cell_type": "code",
   "execution_count": 111,
   "metadata": {},
   "outputs": [
    {
     "data": {
      "text/html": [
       "<div>\n",
       "<style scoped>\n",
       "    .dataframe tbody tr th:only-of-type {\n",
       "        vertical-align: middle;\n",
       "    }\n",
       "\n",
       "    .dataframe tbody tr th {\n",
       "        vertical-align: top;\n",
       "    }\n",
       "\n",
       "    .dataframe thead th {\n",
       "        text-align: right;\n",
       "    }\n",
       "</style>\n",
       "<table border=\"1\" class=\"dataframe\">\n",
       "  <thead>\n",
       "    <tr style=\"text-align: right;\">\n",
       "      <th></th>\n",
       "      <th>three</th>\n",
       "      <th>four</th>\n",
       "    </tr>\n",
       "  </thead>\n",
       "  <tbody>\n",
       "    <tr>\n",
       "      <th>a</th>\n",
       "      <td>5</td>\n",
       "      <td>6</td>\n",
       "    </tr>\n",
       "    <tr>\n",
       "      <th>c</th>\n",
       "      <td>7</td>\n",
       "      <td>8</td>\n",
       "    </tr>\n",
       "  </tbody>\n",
       "</table>\n",
       "</div>"
      ],
      "text/plain": [
       "   three  four\n",
       "a      5     6\n",
       "c      7     8"
      ]
     },
     "execution_count": 111,
     "metadata": {},
     "output_type": "execute_result"
    }
   ],
   "source": [
    "df2 = pd.DataFrame(5 + np.arange(4).reshape(2, 2), \n",
    "                   index=['a', 'c'],\n",
    "                   columns=['three', 'four'])\n",
    "\n",
    "df2"
   ]
  },
  {
   "cell_type": "code",
   "execution_count": 112,
   "metadata": {},
   "outputs": [
    {
     "data": {
      "text/html": [
       "<div>\n",
       "<style scoped>\n",
       "    .dataframe tbody tr th:only-of-type {\n",
       "        vertical-align: middle;\n",
       "    }\n",
       "\n",
       "    .dataframe tbody tr th {\n",
       "        vertical-align: top;\n",
       "    }\n",
       "\n",
       "    .dataframe thead th {\n",
       "        text-align: right;\n",
       "    }\n",
       "</style>\n",
       "<table border=\"1\" class=\"dataframe\">\n",
       "  <thead>\n",
       "    <tr style=\"text-align: right;\">\n",
       "      <th></th>\n",
       "      <th>one</th>\n",
       "      <th>two</th>\n",
       "      <th>three</th>\n",
       "      <th>four</th>\n",
       "    </tr>\n",
       "  </thead>\n",
       "  <tbody>\n",
       "    <tr>\n",
       "      <th>a</th>\n",
       "      <td>0.0</td>\n",
       "      <td>1.0</td>\n",
       "      <td>NaN</td>\n",
       "      <td>NaN</td>\n",
       "    </tr>\n",
       "    <tr>\n",
       "      <th>b</th>\n",
       "      <td>2.0</td>\n",
       "      <td>3.0</td>\n",
       "      <td>NaN</td>\n",
       "      <td>NaN</td>\n",
       "    </tr>\n",
       "    <tr>\n",
       "      <th>c</th>\n",
       "      <td>4.0</td>\n",
       "      <td>5.0</td>\n",
       "      <td>NaN</td>\n",
       "      <td>NaN</td>\n",
       "    </tr>\n",
       "    <tr>\n",
       "      <th>a</th>\n",
       "      <td>NaN</td>\n",
       "      <td>NaN</td>\n",
       "      <td>5.0</td>\n",
       "      <td>6.0</td>\n",
       "    </tr>\n",
       "    <tr>\n",
       "      <th>c</th>\n",
       "      <td>NaN</td>\n",
       "      <td>NaN</td>\n",
       "      <td>7.0</td>\n",
       "      <td>8.0</td>\n",
       "    </tr>\n",
       "  </tbody>\n",
       "</table>\n",
       "</div>"
      ],
      "text/plain": [
       "   one  two  three  four\n",
       "a  0.0  1.0    NaN   NaN\n",
       "b  2.0  3.0    NaN   NaN\n",
       "c  4.0  5.0    NaN   NaN\n",
       "a  NaN  NaN    5.0   6.0\n",
       "c  NaN  NaN    7.0   8.0"
      ]
     },
     "execution_count": 112,
     "metadata": {},
     "output_type": "execute_result"
    }
   ],
   "source": [
    "# Concatenate along rows\n",
    "pd.concat([df1, df2], axis=0, sort=False)"
   ]
  },
  {
   "cell_type": "code",
   "execution_count": 113,
   "metadata": {},
   "outputs": [
    {
     "data": {
      "text/html": [
       "<div>\n",
       "<style scoped>\n",
       "    .dataframe tbody tr th:only-of-type {\n",
       "        vertical-align: middle;\n",
       "    }\n",
       "\n",
       "    .dataframe tbody tr th {\n",
       "        vertical-align: top;\n",
       "    }\n",
       "\n",
       "    .dataframe thead th {\n",
       "        text-align: right;\n",
       "    }\n",
       "</style>\n",
       "<table border=\"1\" class=\"dataframe\">\n",
       "  <thead>\n",
       "    <tr style=\"text-align: right;\">\n",
       "      <th></th>\n",
       "      <th>one</th>\n",
       "      <th>two</th>\n",
       "      <th>three</th>\n",
       "      <th>four</th>\n",
       "    </tr>\n",
       "  </thead>\n",
       "  <tbody>\n",
       "    <tr>\n",
       "      <th>a</th>\n",
       "      <td>0</td>\n",
       "      <td>1</td>\n",
       "      <td>5.0</td>\n",
       "      <td>6.0</td>\n",
       "    </tr>\n",
       "    <tr>\n",
       "      <th>b</th>\n",
       "      <td>2</td>\n",
       "      <td>3</td>\n",
       "      <td>NaN</td>\n",
       "      <td>NaN</td>\n",
       "    </tr>\n",
       "    <tr>\n",
       "      <th>c</th>\n",
       "      <td>4</td>\n",
       "      <td>5</td>\n",
       "      <td>7.0</td>\n",
       "      <td>8.0</td>\n",
       "    </tr>\n",
       "  </tbody>\n",
       "</table>\n",
       "</div>"
      ],
      "text/plain": [
       "   one  two  three  four\n",
       "a    0    1    5.0   6.0\n",
       "b    2    3    NaN   NaN\n",
       "c    4    5    7.0   8.0"
      ]
     },
     "execution_count": 113,
     "metadata": {},
     "output_type": "execute_result"
    }
   ],
   "source": [
    "# Concatenate along columns\n",
    "pd.concat([df1, df2], axis=1, sort=False)"
   ]
  },
  {
   "cell_type": "markdown",
   "metadata": {},
   "source": [
    "**Merge transactions and products dataframes**"
   ]
  },
  {
   "cell_type": "code",
   "execution_count": 114,
   "metadata": {},
   "outputs": [
    {
     "data": {
      "text/plain": [
       "Index(['Date', 'User_ID', 'Product_ID', 'Purchase'], dtype='object')"
      ]
     },
     "execution_count": 114,
     "metadata": {},
     "output_type": "execute_result"
    }
   ],
   "source": [
    "transactions.columns"
   ]
  },
  {
   "cell_type": "code",
   "execution_count": 115,
   "metadata": {},
   "outputs": [
    {
     "data": {
      "text/plain": [
       "Index(['Product_ID', 'Product_Category'], dtype='object')"
      ]
     },
     "execution_count": 115,
     "metadata": {},
     "output_type": "execute_result"
    }
   ],
   "source": [
    "products.columns"
   ]
  },
  {
   "cell_type": "code",
   "execution_count": 116,
   "metadata": {},
   "outputs": [],
   "source": [
    "# Merging the data frames\n",
    "prod_trans = pd.merge(transactions, products, on='Product_ID', how='left')"
   ]
  },
  {
   "cell_type": "code",
   "execution_count": 117,
   "metadata": {},
   "outputs": [
    {
     "data": {
      "text/html": [
       "<div>\n",
       "<style scoped>\n",
       "    .dataframe tbody tr th:only-of-type {\n",
       "        vertical-align: middle;\n",
       "    }\n",
       "\n",
       "    .dataframe tbody tr th {\n",
       "        vertical-align: top;\n",
       "    }\n",
       "\n",
       "    .dataframe thead th {\n",
       "        text-align: right;\n",
       "    }\n",
       "</style>\n",
       "<table border=\"1\" class=\"dataframe\">\n",
       "  <thead>\n",
       "    <tr style=\"text-align: right;\">\n",
       "      <th></th>\n",
       "      <th>Date</th>\n",
       "      <th>User_ID</th>\n",
       "      <th>Product_ID</th>\n",
       "      <th>Purchase</th>\n",
       "      <th>Product_Category</th>\n",
       "    </tr>\n",
       "  </thead>\n",
       "  <tbody>\n",
       "    <tr>\n",
       "      <th>0</th>\n",
       "      <td>28-9-2018</td>\n",
       "      <td>1000001</td>\n",
       "      <td>P00069042</td>\n",
       "      <td>837</td>\n",
       "      <td>3</td>\n",
       "    </tr>\n",
       "    <tr>\n",
       "      <th>1</th>\n",
       "      <td>29-7-2018</td>\n",
       "      <td>1000001</td>\n",
       "      <td>P00117942</td>\n",
       "      <td>884</td>\n",
       "      <td>4</td>\n",
       "    </tr>\n",
       "    <tr>\n",
       "      <th>2</th>\n",
       "      <td>28-7-2018</td>\n",
       "      <td>1000001</td>\n",
       "      <td>P00258742</td>\n",
       "      <td>691</td>\n",
       "      <td>4</td>\n",
       "    </tr>\n",
       "    <tr>\n",
       "      <th>3</th>\n",
       "      <td>27-7-2018</td>\n",
       "      <td>1000001</td>\n",
       "      <td>P00142242</td>\n",
       "      <td>788</td>\n",
       "      <td>7</td>\n",
       "    </tr>\n",
       "    <tr>\n",
       "      <th>4</th>\n",
       "      <td>29-7-2018</td>\n",
       "      <td>1000001</td>\n",
       "      <td>P00297042</td>\n",
       "      <td>784</td>\n",
       "      <td>7</td>\n",
       "    </tr>\n",
       "  </tbody>\n",
       "</table>\n",
       "</div>"
      ],
      "text/plain": [
       "        Date  User_ID Product_ID  Purchase Product_Category\n",
       "0  28-9-2018  1000001  P00069042       837                3\n",
       "1  29-7-2018  1000001  P00117942       884                4\n",
       "2  28-7-2018  1000001  P00258742       691                4\n",
       "3  27-7-2018  1000001  P00142242       788                7\n",
       "4  29-7-2018  1000001  P00297042       784                7"
      ]
     },
     "execution_count": 117,
     "metadata": {},
     "output_type": "execute_result"
    }
   ],
   "source": [
    "prod_trans.head()"
   ]
  },
  {
   "cell_type": "code",
   "execution_count": 118,
   "metadata": {},
   "outputs": [
    {
     "data": {
      "text/plain": [
       "Date                  object\n",
       "User_ID                int64\n",
       "Product_ID            object\n",
       "Purchase               int64\n",
       "Product_Category    category\n",
       "dtype: object"
      ]
     },
     "execution_count": 118,
     "metadata": {},
     "output_type": "execute_result"
    }
   ],
   "source": [
    "prod_trans.dtypes"
   ]
  },
  {
   "cell_type": "code",
   "execution_count": 119,
   "metadata": {},
   "outputs": [
    {
     "data": {
      "text/plain": [
       "4     123311\n",
       "7      92941\n",
       "1      16842\n",
       "10      9681\n",
       "2       8167\n",
       "3       6400\n",
       "5       1360\n",
       "13      1069\n",
       "12      1047\n",
       "9        216\n",
       "6        216\n",
       "14       164\n",
       "8         81\n",
       "11        12\n",
       "Name: Product_Category, dtype: int64"
      ]
     },
     "execution_count": 119,
     "metadata": {},
     "output_type": "execute_result"
    }
   ],
   "source": [
    "prod_trans['Product_Category'].value_counts()"
   ]
  },
  {
   "cell_type": "markdown",
   "metadata": {},
   "source": [
    "**Question: How many products are there in each product category?**"
   ]
  },
  {
   "cell_type": "code",
   "execution_count": 120,
   "metadata": {},
   "outputs": [
    {
     "data": {
      "text/plain": [
       "Product_Category\n",
       "7     1012\n",
       "4      947\n",
       "1      473\n",
       "10     231\n",
       "2      148\n",
       "5      105\n",
       "13      92\n",
       "3       89\n",
       "12      74\n",
       "6       61\n",
       "9       17\n",
       "14      10\n",
       "11       4\n",
       "8        1\n",
       "Name: Product_ID, dtype: int64"
      ]
     },
     "execution_count": 120,
     "metadata": {},
     "output_type": "execute_result"
    }
   ],
   "source": [
    "prod_trans.groupby(['Product_Category'])['Product_ID'].nunique().sort_values(ascending = False)"
   ]
  },
  {
   "cell_type": "markdown",
   "metadata": {},
   "source": [
    "Observe that more number of products are available in product category 7"
   ]
  },
  {
   "cell_type": "markdown",
   "metadata": {},
   "source": [
    "**Question: High revenue product categories?**"
   ]
  },
  {
   "cell_type": "code",
   "execution_count": 121,
   "metadata": {},
   "outputs": [
    {
     "data": {
      "text/plain": [
       "Product_Category\n",
       "4     85083356\n",
       "7     73176675\n",
       "1     13403429\n",
       "2      7036410\n",
       "10     6322255\n",
       "3      4851457\n",
       "5      1136601\n",
       "13      904098\n",
       "12      892889\n",
       "9       193190\n",
       "Name: Purchase, dtype: int64"
      ]
     },
     "execution_count": 121,
     "metadata": {},
     "output_type": "execute_result"
    }
   ],
   "source": [
    "high_revenue_prod_cats = prod_trans.groupby(['Product_Category'])['Purchase'].sum()\n",
    "high_revenue_prod_cats.sort_values(ascending = False)[:10]"
   ]
  },
  {
   "cell_type": "markdown",
   "metadata": {},
   "source": [
    "Observe that though there are more number of products in category 7, the highest revenue is from category 4."
   ]
  },
  {
   "cell_type": "markdown",
   "metadata": {},
   "source": [
    "**Task**\n",
    "\n",
    "What is the `Product_Category` with the highest average `sale amount (Purchase)` into `prod_highest_avg_sale`?"
   ]
  },
  {
   "cell_type": "code",
   "execution_count": 122,
   "metadata": {
    "deletable": false,
    "nbgrader": {
     "cell_type": "code",
     "checksum": "23e01d3429ed359237060aa99fe6027e",
     "grade": false,
     "grade_id": "Task_1",
     "locked": false,
     "schema_version": 3,
     "solution": true,
     "task": false
    }
   },
   "outputs": [],
   "source": [
    "## Write 1 or 2 lines of code.\n",
    "# YOUR CODE HERE\n",
    "avg_revenue_prod_cat = prod_trans.groupby('Product_Category')['Purchase'].mean()"
   ]
  },
  {
   "cell_type": "code",
   "execution_count": 123,
   "metadata": {},
   "outputs": [],
   "source": [
    "prod_highest_avg_sale = avg_revenue_prod_cat.sort_values(ascending=False)[0]"
   ]
  },
  {
   "cell_type": "code",
   "execution_count": 124,
   "metadata": {
    "deletable": false,
    "editable": false,
    "nbgrader": {
     "cell_type": "code",
     "checksum": "db675341f68e93366d4483844c7dc2a7",
     "grade": true,
     "grade_id": "Task_1_Ans",
     "locked": true,
     "points": 0,
     "schema_version": 3,
     "solution": false,
     "task": false
    }
   },
   "outputs": [
    {
     "name": "stdout",
     "output_type": "stream",
     "text": [
      "2887.5\n"
     ]
    }
   ],
   "source": [
    "# Check\n",
    "print(prod_highest_avg_sale)"
   ]
  },
  {
   "cell_type": "markdown",
   "metadata": {},
   "source": [
    "### Understanding anomalies in the data"
   ]
  },
  {
   "cell_type": "code",
   "execution_count": 125,
   "metadata": {},
   "outputs": [
    {
     "name": "stderr",
     "output_type": "stream",
     "text": [
      "/usr/share/anaconda3/lib/python3.7/site-packages/ipykernel_launcher.py:1: UserWarning: Pandas doesn't allow columns to be created via a new attribute name - see https://pandas.pydata.org/pandas-docs/stable/indexing.html#attribute-access\n",
      "  \"\"\"Entry point for launching an IPython kernel.\n"
     ]
    }
   ],
   "source": [
    "prod_trans.Z_score = (prod_trans.Purchase - prod_trans.Purchase.mean())/prod_trans.Purchase.std()"
   ]
  },
  {
   "cell_type": "code",
   "execution_count": 126,
   "metadata": {},
   "outputs": [
    {
     "data": {
      "text/html": [
       "<div>\n",
       "<style scoped>\n",
       "    .dataframe tbody tr th:only-of-type {\n",
       "        vertical-align: middle;\n",
       "    }\n",
       "\n",
       "    .dataframe tbody tr th {\n",
       "        vertical-align: top;\n",
       "    }\n",
       "\n",
       "    .dataframe thead th {\n",
       "        text-align: right;\n",
       "    }\n",
       "</style>\n",
       "<table border=\"1\" class=\"dataframe\">\n",
       "  <thead>\n",
       "    <tr style=\"text-align: right;\">\n",
       "      <th></th>\n",
       "      <th>Date</th>\n",
       "      <th>User_ID</th>\n",
       "      <th>Product_ID</th>\n",
       "      <th>Purchase</th>\n",
       "      <th>Product_Category</th>\n",
       "    </tr>\n",
       "  </thead>\n",
       "  <tbody>\n",
       "    <tr>\n",
       "      <th>0</th>\n",
       "      <td>28-9-2018</td>\n",
       "      <td>1000001</td>\n",
       "      <td>P00069042</td>\n",
       "      <td>837</td>\n",
       "      <td>3</td>\n",
       "    </tr>\n",
       "    <tr>\n",
       "      <th>1</th>\n",
       "      <td>29-7-2018</td>\n",
       "      <td>1000001</td>\n",
       "      <td>P00117942</td>\n",
       "      <td>884</td>\n",
       "      <td>4</td>\n",
       "    </tr>\n",
       "    <tr>\n",
       "      <th>2</th>\n",
       "      <td>28-7-2018</td>\n",
       "      <td>1000001</td>\n",
       "      <td>P00258742</td>\n",
       "      <td>691</td>\n",
       "      <td>4</td>\n",
       "    </tr>\n",
       "    <tr>\n",
       "      <th>3</th>\n",
       "      <td>27-7-2018</td>\n",
       "      <td>1000001</td>\n",
       "      <td>P00142242</td>\n",
       "      <td>788</td>\n",
       "      <td>7</td>\n",
       "    </tr>\n",
       "    <tr>\n",
       "      <th>4</th>\n",
       "      <td>29-7-2018</td>\n",
       "      <td>1000001</td>\n",
       "      <td>P00297042</td>\n",
       "      <td>784</td>\n",
       "      <td>7</td>\n",
       "    </tr>\n",
       "  </tbody>\n",
       "</table>\n",
       "</div>"
      ],
      "text/plain": [
       "        Date  User_ID Product_ID  Purchase Product_Category\n",
       "0  28-9-2018  1000001  P00069042       837                3\n",
       "1  29-7-2018  1000001  P00117942       884                4\n",
       "2  28-7-2018  1000001  P00258742       691                4\n",
       "3  27-7-2018  1000001  P00142242       788                7\n",
       "4  29-7-2018  1000001  P00297042       784                7"
      ]
     },
     "execution_count": 126,
     "metadata": {},
     "output_type": "execute_result"
    }
   ],
   "source": [
    "prod_trans.head()"
   ]
  },
  {
   "cell_type": "code",
   "execution_count": 127,
   "metadata": {},
   "outputs": [],
   "source": [
    "prod_trans['Z_score'] = (prod_trans.Purchase - prod_trans.Purchase.mean())/prod_trans.Purchase.std()"
   ]
  },
  {
   "cell_type": "code",
   "execution_count": 128,
   "metadata": {},
   "outputs": [
    {
     "data": {
      "text/html": [
       "<div>\n",
       "<style scoped>\n",
       "    .dataframe tbody tr th:only-of-type {\n",
       "        vertical-align: middle;\n",
       "    }\n",
       "\n",
       "    .dataframe tbody tr th {\n",
       "        vertical-align: top;\n",
       "    }\n",
       "\n",
       "    .dataframe thead th {\n",
       "        text-align: right;\n",
       "    }\n",
       "</style>\n",
       "<table border=\"1\" class=\"dataframe\">\n",
       "  <thead>\n",
       "    <tr style=\"text-align: right;\">\n",
       "      <th></th>\n",
       "      <th>Date</th>\n",
       "      <th>User_ID</th>\n",
       "      <th>Product_ID</th>\n",
       "      <th>Purchase</th>\n",
       "      <th>Product_Category</th>\n",
       "      <th>Z_score</th>\n",
       "    </tr>\n",
       "  </thead>\n",
       "  <tbody>\n",
       "    <tr>\n",
       "      <th>0</th>\n",
       "      <td>28-9-2018</td>\n",
       "      <td>1000001</td>\n",
       "      <td>P00069042</td>\n",
       "      <td>837</td>\n",
       "      <td>3</td>\n",
       "      <td>0.693665</td>\n",
       "    </tr>\n",
       "    <tr>\n",
       "      <th>1</th>\n",
       "      <td>29-7-2018</td>\n",
       "      <td>1000001</td>\n",
       "      <td>P00117942</td>\n",
       "      <td>884</td>\n",
       "      <td>4</td>\n",
       "      <td>1.028394</td>\n",
       "    </tr>\n",
       "    <tr>\n",
       "      <th>2</th>\n",
       "      <td>28-7-2018</td>\n",
       "      <td>1000001</td>\n",
       "      <td>P00258742</td>\n",
       "      <td>691</td>\n",
       "      <td>4</td>\n",
       "      <td>-0.346133</td>\n",
       "    </tr>\n",
       "    <tr>\n",
       "      <th>3</th>\n",
       "      <td>27-7-2018</td>\n",
       "      <td>1000001</td>\n",
       "      <td>P00142242</td>\n",
       "      <td>788</td>\n",
       "      <td>7</td>\n",
       "      <td>0.344692</td>\n",
       "    </tr>\n",
       "    <tr>\n",
       "      <th>4</th>\n",
       "      <td>29-7-2018</td>\n",
       "      <td>1000001</td>\n",
       "      <td>P00297042</td>\n",
       "      <td>784</td>\n",
       "      <td>7</td>\n",
       "      <td>0.316204</td>\n",
       "    </tr>\n",
       "  </tbody>\n",
       "</table>\n",
       "</div>"
      ],
      "text/plain": [
       "        Date  User_ID Product_ID  Purchase Product_Category   Z_score\n",
       "0  28-9-2018  1000001  P00069042       837                3  0.693665\n",
       "1  29-7-2018  1000001  P00117942       884                4  1.028394\n",
       "2  28-7-2018  1000001  P00258742       691                4 -0.346133\n",
       "3  27-7-2018  1000001  P00142242       788                7  0.344692\n",
       "4  29-7-2018  1000001  P00297042       784                7  0.316204"
      ]
     },
     "execution_count": 128,
     "metadata": {},
     "output_type": "execute_result"
    }
   ],
   "source": [
    "prod_trans.head()"
   ]
  },
  {
   "cell_type": "code",
   "execution_count": 129,
   "metadata": {},
   "outputs": [
    {
     "name": "stdout",
     "output_type": "stream",
     "text": [
      "Dimensions: \n",
      "(261507, 6)\n",
      "12\n"
     ]
    },
    {
     "data": {
      "text/plain": [
       "Int64Index([261488, 261489, 261490, 261491, 261492, 261493, 261496, 261497,\n",
       "            261501, 261502, 261503, 261506],\n",
       "           dtype='int64')"
      ]
     },
     "execution_count": 129,
     "metadata": {},
     "output_type": "execute_result"
    }
   ],
   "source": [
    "print(\"Dimensions: \")\n",
    "print(prod_trans.shape)\n",
    "\n",
    "# Find outliers +/- 3 \n",
    "Outliers = prod_trans[(np.abs(prod_trans['Z_score']) > 3)].index\n",
    "# Outliers count\n",
    "print(len(Outliers))\n",
    "Outliers"
   ]
  },
  {
   "cell_type": "code",
   "execution_count": 130,
   "metadata": {},
   "outputs": [
    {
     "data": {
      "text/html": [
       "<div>\n",
       "<style scoped>\n",
       "    .dataframe tbody tr th:only-of-type {\n",
       "        vertical-align: middle;\n",
       "    }\n",
       "\n",
       "    .dataframe tbody tr th {\n",
       "        vertical-align: top;\n",
       "    }\n",
       "\n",
       "    .dataframe thead th {\n",
       "        text-align: right;\n",
       "    }\n",
       "</style>\n",
       "<table border=\"1\" class=\"dataframe\">\n",
       "  <thead>\n",
       "    <tr style=\"text-align: right;\">\n",
       "      <th></th>\n",
       "      <th>Date</th>\n",
       "      <th>User_ID</th>\n",
       "      <th>Product_ID</th>\n",
       "      <th>Purchase</th>\n",
       "      <th>Product_Category</th>\n",
       "      <th>Z_score</th>\n",
       "    </tr>\n",
       "  </thead>\n",
       "  <tbody>\n",
       "    <tr>\n",
       "      <th>261488</th>\n",
       "      <td>16-8-2018</td>\n",
       "      <td>1007021</td>\n",
       "      <td>P1003112</td>\n",
       "      <td>2500</td>\n",
       "      <td>11</td>\n",
       "      <td>12.537388</td>\n",
       "    </tr>\n",
       "    <tr>\n",
       "      <th>261489</th>\n",
       "      <td>6-7-2018</td>\n",
       "      <td>1007021</td>\n",
       "      <td>P1005887</td>\n",
       "      <td>3850</td>\n",
       "      <td>11</td>\n",
       "      <td>22.151956</td>\n",
       "    </tr>\n",
       "    <tr>\n",
       "      <th>261490</th>\n",
       "      <td>13-8-2018</td>\n",
       "      <td>1007021</td>\n",
       "      <td>P1003381</td>\n",
       "      <td>1750</td>\n",
       "      <td>11</td>\n",
       "      <td>7.195962</td>\n",
       "    </tr>\n",
       "    <tr>\n",
       "      <th>261491</th>\n",
       "      <td>5-8-2018</td>\n",
       "      <td>1007028</td>\n",
       "      <td>P1003381</td>\n",
       "      <td>1750</td>\n",
       "      <td>11</td>\n",
       "      <td>7.195962</td>\n",
       "    </tr>\n",
       "    <tr>\n",
       "      <th>261492</th>\n",
       "      <td>11-7-2018</td>\n",
       "      <td>1007028</td>\n",
       "      <td>P1003112</td>\n",
       "      <td>2500</td>\n",
       "      <td>11</td>\n",
       "      <td>12.537388</td>\n",
       "    </tr>\n",
       "    <tr>\n",
       "      <th>261493</th>\n",
       "      <td>18-7-2018</td>\n",
       "      <td>1007028</td>\n",
       "      <td>P1005887</td>\n",
       "      <td>3850</td>\n",
       "      <td>11</td>\n",
       "      <td>22.151956</td>\n",
       "    </tr>\n",
       "    <tr>\n",
       "      <th>261496</th>\n",
       "      <td>12-9-2018</td>\n",
       "      <td>1007081</td>\n",
       "      <td>P1003221</td>\n",
       "      <td>3550</td>\n",
       "      <td>11</td>\n",
       "      <td>20.015386</td>\n",
       "    </tr>\n",
       "    <tr>\n",
       "      <th>261497</th>\n",
       "      <td>10-7-2018</td>\n",
       "      <td>1007091</td>\n",
       "      <td>P1003221</td>\n",
       "      <td>3550</td>\n",
       "      <td>11</td>\n",
       "      <td>20.015386</td>\n",
       "    </tr>\n",
       "    <tr>\n",
       "      <th>261501</th>\n",
       "      <td>20-9-2018</td>\n",
       "      <td>1007092</td>\n",
       "      <td>P1003221</td>\n",
       "      <td>3550</td>\n",
       "      <td>11</td>\n",
       "      <td>20.015386</td>\n",
       "    </tr>\n",
       "    <tr>\n",
       "      <th>261502</th>\n",
       "      <td>12-9-2018</td>\n",
       "      <td>1007092</td>\n",
       "      <td>P1003112</td>\n",
       "      <td>2500</td>\n",
       "      <td>11</td>\n",
       "      <td>12.537388</td>\n",
       "    </tr>\n",
       "  </tbody>\n",
       "</table>\n",
       "</div>"
      ],
      "text/plain": [
       "             Date  User_ID Product_ID  Purchase Product_Category    Z_score\n",
       "261488  16-8-2018  1007021   P1003112      2500               11  12.537388\n",
       "261489   6-7-2018  1007021   P1005887      3850               11  22.151956\n",
       "261490  13-8-2018  1007021   P1003381      1750               11   7.195962\n",
       "261491   5-8-2018  1007028   P1003381      1750               11   7.195962\n",
       "261492  11-7-2018  1007028   P1003112      2500               11  12.537388\n",
       "261493  18-7-2018  1007028   P1005887      3850               11  22.151956\n",
       "261496  12-9-2018  1007081   P1003221      3550               11  20.015386\n",
       "261497  10-7-2018  1007091   P1003221      3550               11  20.015386\n",
       "261501  20-9-2018  1007092   P1003221      3550               11  20.015386\n",
       "261502  12-9-2018  1007092   P1003112      2500               11  12.537388"
      ]
     },
     "execution_count": 130,
     "metadata": {},
     "output_type": "execute_result"
    }
   ],
   "source": [
    "prod_trans.iloc[Outliers].head(10)"
   ]
  },
  {
   "cell_type": "code",
   "execution_count": 131,
   "metadata": {},
   "outputs": [
    {
     "name": "stdout",
     "output_type": "stream",
     "text": [
      "-1.692172360600414\n",
      "22.151956419617328\n"
     ]
    }
   ],
   "source": [
    "print(prod_trans['Z_score'].min())\n",
    "print(prod_trans['Z_score'].max())"
   ]
  },
  {
   "cell_type": "markdown",
   "metadata": {},
   "source": [
    "- Observe that all the records that have very high value of purchase belong to item category 11\n",
    "- With this observation, what can be done? Can we include category 11 with all other categories and perform the analysis or since they are very different (in terms of revenue) should they be analysed separately?"
   ]
  },
  {
   "cell_type": "markdown",
   "metadata": {},
   "source": [
    "### Date and Time related data"
   ]
  },
  {
   "cell_type": "code",
   "execution_count": 132,
   "metadata": {},
   "outputs": [
    {
     "data": {
      "text/html": [
       "<div>\n",
       "<style scoped>\n",
       "    .dataframe tbody tr th:only-of-type {\n",
       "        vertical-align: middle;\n",
       "    }\n",
       "\n",
       "    .dataframe tbody tr th {\n",
       "        vertical-align: top;\n",
       "    }\n",
       "\n",
       "    .dataframe thead th {\n",
       "        text-align: right;\n",
       "    }\n",
       "</style>\n",
       "<table border=\"1\" class=\"dataframe\">\n",
       "  <thead>\n",
       "    <tr style=\"text-align: right;\">\n",
       "      <th></th>\n",
       "      <th>Date</th>\n",
       "      <th>User_ID</th>\n",
       "      <th>Product_ID</th>\n",
       "      <th>Purchase</th>\n",
       "      <th>Product_Category</th>\n",
       "      <th>Z_score</th>\n",
       "    </tr>\n",
       "  </thead>\n",
       "  <tbody>\n",
       "    <tr>\n",
       "      <th>0</th>\n",
       "      <td>28-9-2018</td>\n",
       "      <td>1000001</td>\n",
       "      <td>P00069042</td>\n",
       "      <td>837</td>\n",
       "      <td>3</td>\n",
       "      <td>0.693665</td>\n",
       "    </tr>\n",
       "    <tr>\n",
       "      <th>1</th>\n",
       "      <td>29-7-2018</td>\n",
       "      <td>1000001</td>\n",
       "      <td>P00117942</td>\n",
       "      <td>884</td>\n",
       "      <td>4</td>\n",
       "      <td>1.028394</td>\n",
       "    </tr>\n",
       "    <tr>\n",
       "      <th>2</th>\n",
       "      <td>28-7-2018</td>\n",
       "      <td>1000001</td>\n",
       "      <td>P00258742</td>\n",
       "      <td>691</td>\n",
       "      <td>4</td>\n",
       "      <td>-0.346133</td>\n",
       "    </tr>\n",
       "    <tr>\n",
       "      <th>3</th>\n",
       "      <td>27-7-2018</td>\n",
       "      <td>1000001</td>\n",
       "      <td>P00142242</td>\n",
       "      <td>788</td>\n",
       "      <td>7</td>\n",
       "      <td>0.344692</td>\n",
       "    </tr>\n",
       "    <tr>\n",
       "      <th>4</th>\n",
       "      <td>29-7-2018</td>\n",
       "      <td>1000001</td>\n",
       "      <td>P00297042</td>\n",
       "      <td>784</td>\n",
       "      <td>7</td>\n",
       "      <td>0.316204</td>\n",
       "    </tr>\n",
       "  </tbody>\n",
       "</table>\n",
       "</div>"
      ],
      "text/plain": [
       "        Date  User_ID Product_ID  Purchase Product_Category   Z_score\n",
       "0  28-9-2018  1000001  P00069042       837                3  0.693665\n",
       "1  29-7-2018  1000001  P00117942       884                4  1.028394\n",
       "2  28-7-2018  1000001  P00258742       691                4 -0.346133\n",
       "3  27-7-2018  1000001  P00142242       788                7  0.344692\n",
       "4  29-7-2018  1000001  P00297042       784                7  0.316204"
      ]
     },
     "execution_count": 132,
     "metadata": {},
     "output_type": "execute_result"
    }
   ],
   "source": [
    "prod_trans.head()"
   ]
  },
  {
   "cell_type": "code",
   "execution_count": 133,
   "metadata": {},
   "outputs": [
    {
     "data": {
      "text/plain": [
       "Date                  object\n",
       "User_ID                int64\n",
       "Product_ID            object\n",
       "Purchase               int64\n",
       "Product_Category    category\n",
       "Z_score              float64\n",
       "dtype: object"
      ]
     },
     "execution_count": 133,
     "metadata": {},
     "output_type": "execute_result"
    }
   ],
   "source": [
    "prod_trans.dtypes"
   ]
  },
  {
   "cell_type": "markdown",
   "metadata": {},
   "source": [
    "Observe, there is a date column which is interpreted as an object. \n",
    "\n",
    "We need to convert this to date format for further manipulation."
   ]
  },
  {
   "cell_type": "code",
   "execution_count": 134,
   "metadata": {},
   "outputs": [
    {
     "data": {
      "text/plain": [
       "Date                datetime64[ns]\n",
       "User_ID                      int64\n",
       "Product_ID                  object\n",
       "Purchase                     int64\n",
       "Product_Category          category\n",
       "Z_score                    float64\n",
       "dtype: object"
      ]
     },
     "execution_count": 134,
     "metadata": {},
     "output_type": "execute_result"
    }
   ],
   "source": [
    "# Coversion of date to date time object\n",
    "prod_trans['Date'] = pd.to_datetime(prod_trans['Date'], format=\"%d-%m-%Y\")\n",
    "prod_trans.dtypes"
   ]
  },
  {
   "cell_type": "code",
   "execution_count": 135,
   "metadata": {},
   "outputs": [
    {
     "name": "stderr",
     "output_type": "stream",
     "text": [
      "/usr/share/anaconda3/lib/python3.7/site-packages/ipykernel_launcher.py:2: FutureWarning: Series.dt.weekofyear and Series.dt.week have been deprecated.  Please use Series.dt.isocalendar().week instead.\n",
      "  \n"
     ]
    },
    {
     "data": {
      "text/html": [
       "<div>\n",
       "<style scoped>\n",
       "    .dataframe tbody tr th:only-of-type {\n",
       "        vertical-align: middle;\n",
       "    }\n",
       "\n",
       "    .dataframe tbody tr th {\n",
       "        vertical-align: top;\n",
       "    }\n",
       "\n",
       "    .dataframe thead th {\n",
       "        text-align: right;\n",
       "    }\n",
       "</style>\n",
       "<table border=\"1\" class=\"dataframe\">\n",
       "  <thead>\n",
       "    <tr style=\"text-align: right;\">\n",
       "      <th></th>\n",
       "      <th>Date</th>\n",
       "      <th>User_ID</th>\n",
       "      <th>Product_ID</th>\n",
       "      <th>Purchase</th>\n",
       "      <th>Product_Category</th>\n",
       "      <th>Z_score</th>\n",
       "      <th>Week</th>\n",
       "      <th>Month</th>\n",
       "    </tr>\n",
       "  </thead>\n",
       "  <tbody>\n",
       "    <tr>\n",
       "      <th>0</th>\n",
       "      <td>2018-09-28</td>\n",
       "      <td>1000001</td>\n",
       "      <td>P00069042</td>\n",
       "      <td>837</td>\n",
       "      <td>3</td>\n",
       "      <td>0.693665</td>\n",
       "      <td>39</td>\n",
       "      <td>9</td>\n",
       "    </tr>\n",
       "    <tr>\n",
       "      <th>1</th>\n",
       "      <td>2018-07-29</td>\n",
       "      <td>1000001</td>\n",
       "      <td>P00117942</td>\n",
       "      <td>884</td>\n",
       "      <td>4</td>\n",
       "      <td>1.028394</td>\n",
       "      <td>30</td>\n",
       "      <td>7</td>\n",
       "    </tr>\n",
       "    <tr>\n",
       "      <th>2</th>\n",
       "      <td>2018-07-28</td>\n",
       "      <td>1000001</td>\n",
       "      <td>P00258742</td>\n",
       "      <td>691</td>\n",
       "      <td>4</td>\n",
       "      <td>-0.346133</td>\n",
       "      <td>30</td>\n",
       "      <td>7</td>\n",
       "    </tr>\n",
       "    <tr>\n",
       "      <th>3</th>\n",
       "      <td>2018-07-27</td>\n",
       "      <td>1000001</td>\n",
       "      <td>P00142242</td>\n",
       "      <td>788</td>\n",
       "      <td>7</td>\n",
       "      <td>0.344692</td>\n",
       "      <td>30</td>\n",
       "      <td>7</td>\n",
       "    </tr>\n",
       "    <tr>\n",
       "      <th>4</th>\n",
       "      <td>2018-07-29</td>\n",
       "      <td>1000001</td>\n",
       "      <td>P00297042</td>\n",
       "      <td>784</td>\n",
       "      <td>7</td>\n",
       "      <td>0.316204</td>\n",
       "      <td>30</td>\n",
       "      <td>7</td>\n",
       "    </tr>\n",
       "  </tbody>\n",
       "</table>\n",
       "</div>"
      ],
      "text/plain": [
       "        Date  User_ID Product_ID  Purchase Product_Category   Z_score  Week  \\\n",
       "0 2018-09-28  1000001  P00069042       837                3  0.693665    39   \n",
       "1 2018-07-29  1000001  P00117942       884                4  1.028394    30   \n",
       "2 2018-07-28  1000001  P00258742       691                4 -0.346133    30   \n",
       "3 2018-07-27  1000001  P00142242       788                7  0.344692    30   \n",
       "4 2018-07-29  1000001  P00297042       784                7  0.316204    30   \n",
       "\n",
       "   Month  \n",
       "0      9  \n",
       "1      7  \n",
       "2      7  \n",
       "3      7  \n",
       "4      7  "
      ]
     },
     "execution_count": 135,
     "metadata": {},
     "output_type": "execute_result"
    }
   ],
   "source": [
    "# Extract the week and months from the data\n",
    "prod_trans['Week'] = prod_trans['Date'].dt.week\n",
    "prod_trans['Month'] = prod_trans['Date'].dt.month\n",
    "prod_trans.head(5)"
   ]
  },
  {
   "cell_type": "markdown",
   "metadata": {},
   "source": [
    "**Question: Which month have highest amount of sales? (sales value)**"
   ]
  },
  {
   "cell_type": "code",
   "execution_count": 136,
   "metadata": {},
   "outputs": [
    {
     "data": {
      "text/plain": [
       "Month\n",
       "7    64918618\n",
       "9    64283305\n",
       "8    64208962\n",
       "Name: Purchase, dtype: int64"
      ]
     },
     "execution_count": 136,
     "metadata": {},
     "output_type": "execute_result"
    }
   ],
   "source": [
    "sales_by_month_amt = prod_trans.groupby(['Month'])['Purchase'].sum()\n",
    "sales_by_month_amt.sort_values(ascending = False)"
   ]
  },
  {
   "cell_type": "markdown",
   "metadata": {},
   "source": [
    "**Question: Which month have highest amount of sales? (sales transactions)**"
   ]
  },
  {
   "cell_type": "code",
   "execution_count": 137,
   "metadata": {},
   "outputs": [
    {
     "data": {
      "text/plain": [
       "Month\n",
       "7    87791\n",
       "9    86927\n",
       "8    86789\n",
       "Name: Purchase, dtype: int64"
      ]
     },
     "execution_count": 137,
     "metadata": {},
     "output_type": "execute_result"
    }
   ],
   "source": [
    "sales_by_month_volume = prod_trans.groupby(['Month'])['Purchase'].count()\n",
    "sales_by_month_volume.sort_values(ascending = False)"
   ]
  },
  {
   "cell_type": "markdown",
   "metadata": {},
   "source": [
    "### Pivot\n",
    "\n",
    "A pivot table is a table of statistics that summarizes the data of a more extensive table (such as from a database, spreadsheet, or business intelligence program). This summary might include sums, averages, or other statistics, which the pivot table groups together in a meaningful way.\n",
    "\n",
    "Pivot tables are a technique in data processing. They arrange and rearrange (or \"pivot\") statistics in order to draw attention to useful information.\n",
    "\n",
    "#### Pivot - Long to Wide format"
   ]
  },
  {
   "cell_type": "code",
   "execution_count": 138,
   "metadata": {},
   "outputs": [
    {
     "data": {
      "text/plain": [
       "User_ID  Product_Category\n",
       "1000001  1                   0\n",
       "         2                   0\n",
       "         3                   3\n",
       "         4                   2\n",
       "         5                   0\n",
       "Name: Product_ID, dtype: int64"
      ]
     },
     "execution_count": 138,
     "metadata": {},
     "output_type": "execute_result"
    }
   ],
   "source": [
    "# To identify if the person has a favorite product category or explore all categories\n",
    "user_profile1 = prod_trans.groupby(['User_ID','Product_Category'])['Product_ID'].count()\n",
    "user_profile1.head()"
   ]
  },
  {
   "cell_type": "code",
   "execution_count": 139,
   "metadata": {},
   "outputs": [
    {
     "data": {
      "text/html": [
       "<div>\n",
       "<style scoped>\n",
       "    .dataframe tbody tr th:only-of-type {\n",
       "        vertical-align: middle;\n",
       "    }\n",
       "\n",
       "    .dataframe tbody tr th {\n",
       "        vertical-align: top;\n",
       "    }\n",
       "\n",
       "    .dataframe thead th {\n",
       "        text-align: right;\n",
       "    }\n",
       "</style>\n",
       "<table border=\"1\" class=\"dataframe\">\n",
       "  <thead>\n",
       "    <tr style=\"text-align: right;\">\n",
       "      <th></th>\n",
       "      <th>User_ID</th>\n",
       "      <th>Product_Category</th>\n",
       "      <th>Product_ID</th>\n",
       "    </tr>\n",
       "  </thead>\n",
       "  <tbody>\n",
       "    <tr>\n",
       "      <th>0</th>\n",
       "      <td>1000001</td>\n",
       "      <td>1</td>\n",
       "      <td>0</td>\n",
       "    </tr>\n",
       "    <tr>\n",
       "      <th>1</th>\n",
       "      <td>1000001</td>\n",
       "      <td>2</td>\n",
       "      <td>0</td>\n",
       "    </tr>\n",
       "    <tr>\n",
       "      <th>2</th>\n",
       "      <td>1000001</td>\n",
       "      <td>3</td>\n",
       "      <td>3</td>\n",
       "    </tr>\n",
       "    <tr>\n",
       "      <th>3</th>\n",
       "      <td>1000001</td>\n",
       "      <td>4</td>\n",
       "      <td>2</td>\n",
       "    </tr>\n",
       "    <tr>\n",
       "      <th>4</th>\n",
       "      <td>1000001</td>\n",
       "      <td>5</td>\n",
       "      <td>0</td>\n",
       "    </tr>\n",
       "  </tbody>\n",
       "</table>\n",
       "</div>"
      ],
      "text/plain": [
       "   User_ID Product_Category  Product_ID\n",
       "0  1000001                1           0\n",
       "1  1000001                2           0\n",
       "2  1000001                3           3\n",
       "3  1000001                4           2\n",
       "4  1000001                5           0"
      ]
     },
     "execution_count": 139,
     "metadata": {},
     "output_type": "execute_result"
    }
   ],
   "source": [
    "user_profile1 = user_profile1.reset_index()\n",
    "user_profile1.head()"
   ]
  },
  {
   "cell_type": "code",
   "execution_count": 140,
   "metadata": {},
   "outputs": [],
   "source": [
    "# Casting the data so that we know how many product categories user brought\n",
    "user_pivot = user_profile1.pivot(index='User_ID', \n",
    "                                 columns='Product_Category',\n",
    "                                 values=\"Product_ID\")\n",
    "\n",
    "# user_pivot = user_pivot.fillna(0)"
   ]
  },
  {
   "cell_type": "code",
   "execution_count": 141,
   "metadata": {},
   "outputs": [
    {
     "data": {
      "text/html": [
       "<div>\n",
       "<style scoped>\n",
       "    .dataframe tbody tr th:only-of-type {\n",
       "        vertical-align: middle;\n",
       "    }\n",
       "\n",
       "    .dataframe tbody tr th {\n",
       "        vertical-align: top;\n",
       "    }\n",
       "\n",
       "    .dataframe thead th {\n",
       "        text-align: right;\n",
       "    }\n",
       "</style>\n",
       "<table border=\"1\" class=\"dataframe\">\n",
       "  <thead>\n",
       "    <tr style=\"text-align: right;\">\n",
       "      <th>Product_Category</th>\n",
       "      <th>1</th>\n",
       "      <th>2</th>\n",
       "      <th>3</th>\n",
       "      <th>4</th>\n",
       "      <th>5</th>\n",
       "      <th>6</th>\n",
       "      <th>7</th>\n",
       "      <th>8</th>\n",
       "      <th>9</th>\n",
       "      <th>10</th>\n",
       "      <th>11</th>\n",
       "      <th>12</th>\n",
       "      <th>13</th>\n",
       "      <th>14</th>\n",
       "    </tr>\n",
       "    <tr>\n",
       "      <th>User_ID</th>\n",
       "      <th></th>\n",
       "      <th></th>\n",
       "      <th></th>\n",
       "      <th></th>\n",
       "      <th></th>\n",
       "      <th></th>\n",
       "      <th></th>\n",
       "      <th></th>\n",
       "      <th></th>\n",
       "      <th></th>\n",
       "      <th></th>\n",
       "      <th></th>\n",
       "      <th></th>\n",
       "      <th></th>\n",
       "    </tr>\n",
       "  </thead>\n",
       "  <tbody>\n",
       "    <tr>\n",
       "      <th>1000001</th>\n",
       "      <td>0</td>\n",
       "      <td>0</td>\n",
       "      <td>3</td>\n",
       "      <td>2</td>\n",
       "      <td>0</td>\n",
       "      <td>0</td>\n",
       "      <td>7</td>\n",
       "      <td>0</td>\n",
       "      <td>0</td>\n",
       "      <td>0</td>\n",
       "      <td>0</td>\n",
       "      <td>0</td>\n",
       "      <td>0</td>\n",
       "      <td>0</td>\n",
       "    </tr>\n",
       "    <tr>\n",
       "      <th>1000002</th>\n",
       "      <td>4</td>\n",
       "      <td>0</td>\n",
       "      <td>0</td>\n",
       "      <td>12</td>\n",
       "      <td>1</td>\n",
       "      <td>0</td>\n",
       "      <td>20</td>\n",
       "      <td>0</td>\n",
       "      <td>0</td>\n",
       "      <td>0</td>\n",
       "      <td>0</td>\n",
       "      <td>0</td>\n",
       "      <td>0</td>\n",
       "      <td>0</td>\n",
       "    </tr>\n",
       "    <tr>\n",
       "      <th>1000003</th>\n",
       "      <td>1</td>\n",
       "      <td>0</td>\n",
       "      <td>0</td>\n",
       "      <td>8</td>\n",
       "      <td>0</td>\n",
       "      <td>0</td>\n",
       "      <td>1</td>\n",
       "      <td>0</td>\n",
       "      <td>0</td>\n",
       "      <td>0</td>\n",
       "      <td>0</td>\n",
       "      <td>0</td>\n",
       "      <td>0</td>\n",
       "      <td>0</td>\n",
       "    </tr>\n",
       "    <tr>\n",
       "      <th>1000005</th>\n",
       "      <td>5</td>\n",
       "      <td>0</td>\n",
       "      <td>0</td>\n",
       "      <td>16</td>\n",
       "      <td>2</td>\n",
       "      <td>1</td>\n",
       "      <td>29</td>\n",
       "      <td>0</td>\n",
       "      <td>0</td>\n",
       "      <td>1</td>\n",
       "      <td>0</td>\n",
       "      <td>0</td>\n",
       "      <td>1</td>\n",
       "      <td>0</td>\n",
       "    </tr>\n",
       "    <tr>\n",
       "      <th>1000006</th>\n",
       "      <td>0</td>\n",
       "      <td>1</td>\n",
       "      <td>0</td>\n",
       "      <td>11</td>\n",
       "      <td>1</td>\n",
       "      <td>0</td>\n",
       "      <td>6</td>\n",
       "      <td>0</td>\n",
       "      <td>0</td>\n",
       "      <td>0</td>\n",
       "      <td>0</td>\n",
       "      <td>0</td>\n",
       "      <td>0</td>\n",
       "      <td>0</td>\n",
       "    </tr>\n",
       "    <tr>\n",
       "      <th>...</th>\n",
       "      <td>...</td>\n",
       "      <td>...</td>\n",
       "      <td>...</td>\n",
       "      <td>...</td>\n",
       "      <td>...</td>\n",
       "      <td>...</td>\n",
       "      <td>...</td>\n",
       "      <td>...</td>\n",
       "      <td>...</td>\n",
       "      <td>...</td>\n",
       "      <td>...</td>\n",
       "      <td>...</td>\n",
       "      <td>...</td>\n",
       "      <td>...</td>\n",
       "    </tr>\n",
       "    <tr>\n",
       "      <th>1007081</th>\n",
       "      <td>0</td>\n",
       "      <td>0</td>\n",
       "      <td>0</td>\n",
       "      <td>0</td>\n",
       "      <td>0</td>\n",
       "      <td>0</td>\n",
       "      <td>0</td>\n",
       "      <td>0</td>\n",
       "      <td>0</td>\n",
       "      <td>0</td>\n",
       "      <td>1</td>\n",
       "      <td>0</td>\n",
       "      <td>0</td>\n",
       "      <td>0</td>\n",
       "    </tr>\n",
       "    <tr>\n",
       "      <th>1007091</th>\n",
       "      <td>0</td>\n",
       "      <td>0</td>\n",
       "      <td>0</td>\n",
       "      <td>2</td>\n",
       "      <td>0</td>\n",
       "      <td>0</td>\n",
       "      <td>0</td>\n",
       "      <td>0</td>\n",
       "      <td>0</td>\n",
       "      <td>1</td>\n",
       "      <td>1</td>\n",
       "      <td>0</td>\n",
       "      <td>0</td>\n",
       "      <td>0</td>\n",
       "    </tr>\n",
       "    <tr>\n",
       "      <th>1007092</th>\n",
       "      <td>0</td>\n",
       "      <td>0</td>\n",
       "      <td>0</td>\n",
       "      <td>0</td>\n",
       "      <td>0</td>\n",
       "      <td>0</td>\n",
       "      <td>0</td>\n",
       "      <td>0</td>\n",
       "      <td>0</td>\n",
       "      <td>0</td>\n",
       "      <td>2</td>\n",
       "      <td>0</td>\n",
       "      <td>0</td>\n",
       "      <td>0</td>\n",
       "    </tr>\n",
       "    <tr>\n",
       "      <th>1007095</th>\n",
       "      <td>0</td>\n",
       "      <td>0</td>\n",
       "      <td>0</td>\n",
       "      <td>0</td>\n",
       "      <td>0</td>\n",
       "      <td>0</td>\n",
       "      <td>0</td>\n",
       "      <td>0</td>\n",
       "      <td>0</td>\n",
       "      <td>0</td>\n",
       "      <td>1</td>\n",
       "      <td>0</td>\n",
       "      <td>0</td>\n",
       "      <td>0</td>\n",
       "    </tr>\n",
       "    <tr>\n",
       "      <th>1007099</th>\n",
       "      <td>0</td>\n",
       "      <td>0</td>\n",
       "      <td>0</td>\n",
       "      <td>1</td>\n",
       "      <td>0</td>\n",
       "      <td>0</td>\n",
       "      <td>0</td>\n",
       "      <td>0</td>\n",
       "      <td>0</td>\n",
       "      <td>1</td>\n",
       "      <td>1</td>\n",
       "      <td>0</td>\n",
       "      <td>0</td>\n",
       "      <td>0</td>\n",
       "    </tr>\n",
       "  </tbody>\n",
       "</table>\n",
       "<p>5885 rows × 14 columns</p>\n",
       "</div>"
      ],
      "text/plain": [
       "Product_Category  1  2  3   4  5  6   7  8  9  10  11  12  13  14\n",
       "User_ID                                                          \n",
       "1000001           0  0  3   2  0  0   7  0  0   0   0   0   0   0\n",
       "1000002           4  0  0  12  1  0  20  0  0   0   0   0   0   0\n",
       "1000003           1  0  0   8  0  0   1  0  0   0   0   0   0   0\n",
       "1000005           5  0  0  16  2  1  29  0  0   1   0   0   1   0\n",
       "1000006           0  1  0  11  1  0   6  0  0   0   0   0   0   0\n",
       "...              .. .. ..  .. .. ..  .. .. ..  ..  ..  ..  ..  ..\n",
       "1007081           0  0  0   0  0  0   0  0  0   0   1   0   0   0\n",
       "1007091           0  0  0   2  0  0   0  0  0   1   1   0   0   0\n",
       "1007092           0  0  0   0  0  0   0  0  0   0   2   0   0   0\n",
       "1007095           0  0  0   0  0  0   0  0  0   0   1   0   0   0\n",
       "1007099           0  0  0   1  0  0   0  0  0   1   1   0   0   0\n",
       "\n",
       "[5885 rows x 14 columns]"
      ]
     },
     "execution_count": 141,
     "metadata": {},
     "output_type": "execute_result"
    }
   ],
   "source": [
    "user_pivot"
   ]
  },
  {
   "cell_type": "code",
   "execution_count": 142,
   "metadata": {},
   "outputs": [
    {
     "data": {
      "text/plain": [
       "Int64Index([1000001, 1000002, 1000003, 1000005, 1000006, 1000007, 1000008,\n",
       "            1000009, 1000010, 1000011,\n",
       "            ...\n",
       "            1006038, 1006039, 1006040, 1007021, 1007028, 1007081, 1007091,\n",
       "            1007092, 1007095, 1007099],\n",
       "           dtype='int64', name='User_ID', length=5885)"
      ]
     },
     "execution_count": 142,
     "metadata": {},
     "output_type": "execute_result"
    }
   ],
   "source": [
    "user_pivot.index"
   ]
  },
  {
   "cell_type": "code",
   "execution_count": 143,
   "metadata": {},
   "outputs": [
    {
     "data": {
      "text/html": [
       "<div>\n",
       "<style scoped>\n",
       "    .dataframe tbody tr th:only-of-type {\n",
       "        vertical-align: middle;\n",
       "    }\n",
       "\n",
       "    .dataframe tbody tr th {\n",
       "        vertical-align: top;\n",
       "    }\n",
       "\n",
       "    .dataframe thead th {\n",
       "        text-align: right;\n",
       "    }\n",
       "</style>\n",
       "<table border=\"1\" class=\"dataframe\">\n",
       "  <thead>\n",
       "    <tr style=\"text-align: right;\">\n",
       "      <th>Product_Category</th>\n",
       "      <th>1</th>\n",
       "      <th>2</th>\n",
       "      <th>3</th>\n",
       "      <th>4</th>\n",
       "      <th>5</th>\n",
       "      <th>6</th>\n",
       "      <th>7</th>\n",
       "      <th>8</th>\n",
       "      <th>9</th>\n",
       "      <th>10</th>\n",
       "      <th>11</th>\n",
       "      <th>12</th>\n",
       "      <th>13</th>\n",
       "      <th>14</th>\n",
       "    </tr>\n",
       "    <tr>\n",
       "      <th>User_ID</th>\n",
       "      <th></th>\n",
       "      <th></th>\n",
       "      <th></th>\n",
       "      <th></th>\n",
       "      <th></th>\n",
       "      <th></th>\n",
       "      <th></th>\n",
       "      <th></th>\n",
       "      <th></th>\n",
       "      <th></th>\n",
       "      <th></th>\n",
       "      <th></th>\n",
       "      <th></th>\n",
       "      <th></th>\n",
       "    </tr>\n",
       "  </thead>\n",
       "  <tbody>\n",
       "    <tr>\n",
       "      <th>1000001</th>\n",
       "      <td>0</td>\n",
       "      <td>0</td>\n",
       "      <td>3</td>\n",
       "      <td>2</td>\n",
       "      <td>0</td>\n",
       "      <td>0</td>\n",
       "      <td>7</td>\n",
       "      <td>0</td>\n",
       "      <td>0</td>\n",
       "      <td>0</td>\n",
       "      <td>0</td>\n",
       "      <td>0</td>\n",
       "      <td>0</td>\n",
       "      <td>0</td>\n",
       "    </tr>\n",
       "    <tr>\n",
       "      <th>1000002</th>\n",
       "      <td>4</td>\n",
       "      <td>0</td>\n",
       "      <td>0</td>\n",
       "      <td>12</td>\n",
       "      <td>1</td>\n",
       "      <td>0</td>\n",
       "      <td>20</td>\n",
       "      <td>0</td>\n",
       "      <td>0</td>\n",
       "      <td>0</td>\n",
       "      <td>0</td>\n",
       "      <td>0</td>\n",
       "      <td>0</td>\n",
       "      <td>0</td>\n",
       "    </tr>\n",
       "    <tr>\n",
       "      <th>1000003</th>\n",
       "      <td>1</td>\n",
       "      <td>0</td>\n",
       "      <td>0</td>\n",
       "      <td>8</td>\n",
       "      <td>0</td>\n",
       "      <td>0</td>\n",
       "      <td>1</td>\n",
       "      <td>0</td>\n",
       "      <td>0</td>\n",
       "      <td>0</td>\n",
       "      <td>0</td>\n",
       "      <td>0</td>\n",
       "      <td>0</td>\n",
       "      <td>0</td>\n",
       "    </tr>\n",
       "    <tr>\n",
       "      <th>1000005</th>\n",
       "      <td>5</td>\n",
       "      <td>0</td>\n",
       "      <td>0</td>\n",
       "      <td>16</td>\n",
       "      <td>2</td>\n",
       "      <td>1</td>\n",
       "      <td>29</td>\n",
       "      <td>0</td>\n",
       "      <td>0</td>\n",
       "      <td>1</td>\n",
       "      <td>0</td>\n",
       "      <td>0</td>\n",
       "      <td>1</td>\n",
       "      <td>0</td>\n",
       "    </tr>\n",
       "    <tr>\n",
       "      <th>1000006</th>\n",
       "      <td>0</td>\n",
       "      <td>1</td>\n",
       "      <td>0</td>\n",
       "      <td>11</td>\n",
       "      <td>1</td>\n",
       "      <td>0</td>\n",
       "      <td>6</td>\n",
       "      <td>0</td>\n",
       "      <td>0</td>\n",
       "      <td>0</td>\n",
       "      <td>0</td>\n",
       "      <td>0</td>\n",
       "      <td>0</td>\n",
       "      <td>0</td>\n",
       "    </tr>\n",
       "  </tbody>\n",
       "</table>\n",
       "</div>"
      ],
      "text/plain": [
       "Product_Category  1  2  3   4  5  6   7  8  9  10  11  12  13  14\n",
       "User_ID                                                          \n",
       "1000001           0  0  3   2  0  0   7  0  0   0   0   0   0   0\n",
       "1000002           4  0  0  12  1  0  20  0  0   0   0   0   0   0\n",
       "1000003           1  0  0   8  0  0   1  0  0   0   0   0   0   0\n",
       "1000005           5  0  0  16  2  1  29  0  0   1   0   0   1   0\n",
       "1000006           0  1  0  11  1  0   6  0  0   0   0   0   0   0"
      ]
     },
     "execution_count": 143,
     "metadata": {},
     "output_type": "execute_result"
    }
   ],
   "source": [
    "user_pivot.head()"
   ]
  },
  {
   "cell_type": "code",
   "execution_count": 144,
   "metadata": {},
   "outputs": [
    {
     "data": {
      "text/plain": [
       "FrozenList(['User_ID'])"
      ]
     },
     "execution_count": 144,
     "metadata": {},
     "output_type": "execute_result"
    }
   ],
   "source": [
    "user_pivot.index.names"
   ]
  },
  {
   "cell_type": "code",
   "execution_count": 145,
   "metadata": {},
   "outputs": [
    {
     "data": {
      "text/html": [
       "<div>\n",
       "<style scoped>\n",
       "    .dataframe tbody tr th:only-of-type {\n",
       "        vertical-align: middle;\n",
       "    }\n",
       "\n",
       "    .dataframe tbody tr th {\n",
       "        vertical-align: top;\n",
       "    }\n",
       "\n",
       "    .dataframe thead th {\n",
       "        text-align: right;\n",
       "    }\n",
       "</style>\n",
       "<table border=\"1\" class=\"dataframe\">\n",
       "  <thead>\n",
       "    <tr style=\"text-align: right;\">\n",
       "      <th>Product_Category</th>\n",
       "      <th>User_ID</th>\n",
       "      <th>1</th>\n",
       "      <th>2</th>\n",
       "      <th>3</th>\n",
       "      <th>4</th>\n",
       "      <th>5</th>\n",
       "      <th>6</th>\n",
       "      <th>7</th>\n",
       "      <th>8</th>\n",
       "      <th>9</th>\n",
       "      <th>10</th>\n",
       "      <th>11</th>\n",
       "      <th>12</th>\n",
       "      <th>13</th>\n",
       "      <th>14</th>\n",
       "    </tr>\n",
       "  </thead>\n",
       "  <tbody>\n",
       "    <tr>\n",
       "      <th>0</th>\n",
       "      <td>1000001</td>\n",
       "      <td>0</td>\n",
       "      <td>0</td>\n",
       "      <td>3</td>\n",
       "      <td>2</td>\n",
       "      <td>0</td>\n",
       "      <td>0</td>\n",
       "      <td>7</td>\n",
       "      <td>0</td>\n",
       "      <td>0</td>\n",
       "      <td>0</td>\n",
       "      <td>0</td>\n",
       "      <td>0</td>\n",
       "      <td>0</td>\n",
       "      <td>0</td>\n",
       "    </tr>\n",
       "    <tr>\n",
       "      <th>1</th>\n",
       "      <td>1000002</td>\n",
       "      <td>4</td>\n",
       "      <td>0</td>\n",
       "      <td>0</td>\n",
       "      <td>12</td>\n",
       "      <td>1</td>\n",
       "      <td>0</td>\n",
       "      <td>20</td>\n",
       "      <td>0</td>\n",
       "      <td>0</td>\n",
       "      <td>0</td>\n",
       "      <td>0</td>\n",
       "      <td>0</td>\n",
       "      <td>0</td>\n",
       "      <td>0</td>\n",
       "    </tr>\n",
       "    <tr>\n",
       "      <th>2</th>\n",
       "      <td>1000003</td>\n",
       "      <td>1</td>\n",
       "      <td>0</td>\n",
       "      <td>0</td>\n",
       "      <td>8</td>\n",
       "      <td>0</td>\n",
       "      <td>0</td>\n",
       "      <td>1</td>\n",
       "      <td>0</td>\n",
       "      <td>0</td>\n",
       "      <td>0</td>\n",
       "      <td>0</td>\n",
       "      <td>0</td>\n",
       "      <td>0</td>\n",
       "      <td>0</td>\n",
       "    </tr>\n",
       "    <tr>\n",
       "      <th>3</th>\n",
       "      <td>1000005</td>\n",
       "      <td>5</td>\n",
       "      <td>0</td>\n",
       "      <td>0</td>\n",
       "      <td>16</td>\n",
       "      <td>2</td>\n",
       "      <td>1</td>\n",
       "      <td>29</td>\n",
       "      <td>0</td>\n",
       "      <td>0</td>\n",
       "      <td>1</td>\n",
       "      <td>0</td>\n",
       "      <td>0</td>\n",
       "      <td>1</td>\n",
       "      <td>0</td>\n",
       "    </tr>\n",
       "    <tr>\n",
       "      <th>4</th>\n",
       "      <td>1000006</td>\n",
       "      <td>0</td>\n",
       "      <td>1</td>\n",
       "      <td>0</td>\n",
       "      <td>11</td>\n",
       "      <td>1</td>\n",
       "      <td>0</td>\n",
       "      <td>6</td>\n",
       "      <td>0</td>\n",
       "      <td>0</td>\n",
       "      <td>0</td>\n",
       "      <td>0</td>\n",
       "      <td>0</td>\n",
       "      <td>0</td>\n",
       "      <td>0</td>\n",
       "    </tr>\n",
       "  </tbody>\n",
       "</table>\n",
       "</div>"
      ],
      "text/plain": [
       "Product_Category  User_ID  1  2  3   4  5  6   7  8  9  10  11  12  13  14\n",
       "0                 1000001  0  0  3   2  0  0   7  0  0   0   0   0   0   0\n",
       "1                 1000002  4  0  0  12  1  0  20  0  0   0   0   0   0   0\n",
       "2                 1000003  1  0  0   8  0  0   1  0  0   0   0   0   0   0\n",
       "3                 1000005  5  0  0  16  2  1  29  0  0   1   0   0   1   0\n",
       "4                 1000006  0  1  0  11  1  0   6  0  0   0   0   0   0   0"
      ]
     },
     "execution_count": 145,
     "metadata": {},
     "output_type": "execute_result"
    }
   ],
   "source": [
    "# To make manipulations on data, we shall convert columns of categorical index to string type\n",
    "user_pivot.columns = user_pivot.columns.astype('str')\n",
    "user_pivot = user_pivot.reset_index()\n",
    "user_pivot.head()"
   ]
  },
  {
   "cell_type": "code",
   "execution_count": 146,
   "metadata": {},
   "outputs": [
    {
     "data": {
      "text/plain": [
       "Index(['User_ID', '1', '2', '3', '4', '5', '6', '7', '8', '9', '10', '11',\n",
       "       '12', '13', '14'],\n",
       "      dtype='object', name='Product_Category')"
      ]
     },
     "execution_count": 146,
     "metadata": {},
     "output_type": "execute_result"
    }
   ],
   "source": [
    "user_pivot.columns"
   ]
  },
  {
   "cell_type": "markdown",
   "metadata": {},
   "source": [
    "#### Pivot - Wide to Long format"
   ]
  },
  {
   "cell_type": "code",
   "execution_count": 147,
   "metadata": {},
   "outputs": [
    {
     "data": {
      "text/html": [
       "<div>\n",
       "<style scoped>\n",
       "    .dataframe tbody tr th:only-of-type {\n",
       "        vertical-align: middle;\n",
       "    }\n",
       "\n",
       "    .dataframe tbody tr th {\n",
       "        vertical-align: top;\n",
       "    }\n",
       "\n",
       "    .dataframe thead th {\n",
       "        text-align: right;\n",
       "    }\n",
       "</style>\n",
       "<table border=\"1\" class=\"dataframe\">\n",
       "  <thead>\n",
       "    <tr style=\"text-align: right;\">\n",
       "      <th></th>\n",
       "      <th>User_ID</th>\n",
       "      <th>Product_Category</th>\n",
       "      <th>value</th>\n",
       "    </tr>\n",
       "  </thead>\n",
       "  <tbody>\n",
       "    <tr>\n",
       "      <th>0</th>\n",
       "      <td>1000001</td>\n",
       "      <td>1</td>\n",
       "      <td>0</td>\n",
       "    </tr>\n",
       "    <tr>\n",
       "      <th>1</th>\n",
       "      <td>1000002</td>\n",
       "      <td>1</td>\n",
       "      <td>4</td>\n",
       "    </tr>\n",
       "    <tr>\n",
       "      <th>2</th>\n",
       "      <td>1000003</td>\n",
       "      <td>1</td>\n",
       "      <td>1</td>\n",
       "    </tr>\n",
       "    <tr>\n",
       "      <th>3</th>\n",
       "      <td>1000005</td>\n",
       "      <td>1</td>\n",
       "      <td>5</td>\n",
       "    </tr>\n",
       "    <tr>\n",
       "      <th>4</th>\n",
       "      <td>1000006</td>\n",
       "      <td>1</td>\n",
       "      <td>0</td>\n",
       "    </tr>\n",
       "    <tr>\n",
       "      <th>5</th>\n",
       "      <td>1000007</td>\n",
       "      <td>1</td>\n",
       "      <td>0</td>\n",
       "    </tr>\n",
       "    <tr>\n",
       "      <th>6</th>\n",
       "      <td>1000008</td>\n",
       "      <td>1</td>\n",
       "      <td>3</td>\n",
       "    </tr>\n",
       "    <tr>\n",
       "      <th>7</th>\n",
       "      <td>1000009</td>\n",
       "      <td>1</td>\n",
       "      <td>2</td>\n",
       "    </tr>\n",
       "    <tr>\n",
       "      <th>8</th>\n",
       "      <td>1000010</td>\n",
       "      <td>1</td>\n",
       "      <td>2</td>\n",
       "    </tr>\n",
       "    <tr>\n",
       "      <th>9</th>\n",
       "      <td>1000011</td>\n",
       "      <td>1</td>\n",
       "      <td>0</td>\n",
       "    </tr>\n",
       "  </tbody>\n",
       "</table>\n",
       "</div>"
      ],
      "text/plain": [
       "   User_ID Product_Category  value\n",
       "0  1000001                1      0\n",
       "1  1000002                1      4\n",
       "2  1000003                1      1\n",
       "3  1000005                1      5\n",
       "4  1000006                1      0\n",
       "5  1000007                1      0\n",
       "6  1000008                1      3\n",
       "7  1000009                1      2\n",
       "8  1000010                1      2\n",
       "9  1000011                1      0"
      ]
     },
     "execution_count": 147,
     "metadata": {},
     "output_type": "execute_result"
    }
   ],
   "source": [
    "melted = pd.melt(user_pivot, ['User_ID'])\n",
    "melted.head(10)"
   ]
  },
  {
   "cell_type": "code",
   "execution_count": 148,
   "metadata": {},
   "outputs": [
    {
     "data": {
      "text/html": [
       "<div>\n",
       "<style scoped>\n",
       "    .dataframe tbody tr th:only-of-type {\n",
       "        vertical-align: middle;\n",
       "    }\n",
       "\n",
       "    .dataframe tbody tr th {\n",
       "        vertical-align: top;\n",
       "    }\n",
       "\n",
       "    .dataframe thead th {\n",
       "        text-align: right;\n",
       "    }\n",
       "</style>\n",
       "<table border=\"1\" class=\"dataframe\">\n",
       "  <thead>\n",
       "    <tr style=\"text-align: right;\">\n",
       "      <th></th>\n",
       "      <th>User_ID</th>\n",
       "      <th>Product_Category</th>\n",
       "      <th>value</th>\n",
       "    </tr>\n",
       "  </thead>\n",
       "  <tbody>\n",
       "    <tr>\n",
       "      <th>11770</th>\n",
       "      <td>1000001</td>\n",
       "      <td>3</td>\n",
       "      <td>3</td>\n",
       "    </tr>\n",
       "    <tr>\n",
       "      <th>17655</th>\n",
       "      <td>1000001</td>\n",
       "      <td>4</td>\n",
       "      <td>2</td>\n",
       "    </tr>\n",
       "    <tr>\n",
       "      <th>35310</th>\n",
       "      <td>1000001</td>\n",
       "      <td>7</td>\n",
       "      <td>7</td>\n",
       "    </tr>\n",
       "    <tr>\n",
       "      <th>1</th>\n",
       "      <td>1000002</td>\n",
       "      <td>1</td>\n",
       "      <td>4</td>\n",
       "    </tr>\n",
       "    <tr>\n",
       "      <th>17656</th>\n",
       "      <td>1000002</td>\n",
       "      <td>4</td>\n",
       "      <td>12</td>\n",
       "    </tr>\n",
       "    <tr>\n",
       "      <th>23541</th>\n",
       "      <td>1000002</td>\n",
       "      <td>5</td>\n",
       "      <td>1</td>\n",
       "    </tr>\n",
       "    <tr>\n",
       "      <th>35311</th>\n",
       "      <td>1000002</td>\n",
       "      <td>7</td>\n",
       "      <td>20</td>\n",
       "    </tr>\n",
       "    <tr>\n",
       "      <th>2</th>\n",
       "      <td>1000003</td>\n",
       "      <td>1</td>\n",
       "      <td>1</td>\n",
       "    </tr>\n",
       "    <tr>\n",
       "      <th>17657</th>\n",
       "      <td>1000003</td>\n",
       "      <td>4</td>\n",
       "      <td>8</td>\n",
       "    </tr>\n",
       "    <tr>\n",
       "      <th>35312</th>\n",
       "      <td>1000003</td>\n",
       "      <td>7</td>\n",
       "      <td>1</td>\n",
       "    </tr>\n",
       "  </tbody>\n",
       "</table>\n",
       "</div>"
      ],
      "text/plain": [
       "       User_ID Product_Category  value\n",
       "11770  1000001                3      3\n",
       "17655  1000001                4      2\n",
       "35310  1000001                7      7\n",
       "1      1000002                1      4\n",
       "17656  1000002                4     12\n",
       "23541  1000002                5      1\n",
       "35311  1000002                7     20\n",
       "2      1000003                1      1\n",
       "17657  1000003                4      8\n",
       "35312  1000003                7      1"
      ]
     },
     "execution_count": 148,
     "metadata": {},
     "output_type": "execute_result"
    }
   ],
   "source": [
    "melted[melted.value != 0].sort_values(['User_ID', 'Product_Category']).head(10)"
   ]
  },
  {
   "cell_type": "markdown",
   "metadata": {},
   "source": [
    "### Custom functions"
   ]
  },
  {
   "cell_type": "code",
   "execution_count": 149,
   "metadata": {},
   "outputs": [
    {
     "data": {
      "text/html": [
       "<div>\n",
       "<style scoped>\n",
       "    .dataframe tbody tr th:only-of-type {\n",
       "        vertical-align: middle;\n",
       "    }\n",
       "\n",
       "    .dataframe tbody tr th {\n",
       "        vertical-align: top;\n",
       "    }\n",
       "\n",
       "    .dataframe thead th {\n",
       "        text-align: right;\n",
       "    }\n",
       "</style>\n",
       "<table border=\"1\" class=\"dataframe\">\n",
       "  <thead>\n",
       "    <tr style=\"text-align: right;\">\n",
       "      <th>Product_Category</th>\n",
       "      <th>1</th>\n",
       "      <th>2</th>\n",
       "      <th>3</th>\n",
       "      <th>4</th>\n",
       "      <th>5</th>\n",
       "      <th>6</th>\n",
       "      <th>7</th>\n",
       "      <th>8</th>\n",
       "      <th>9</th>\n",
       "      <th>10</th>\n",
       "      <th>11</th>\n",
       "      <th>12</th>\n",
       "      <th>13</th>\n",
       "      <th>14</th>\n",
       "    </tr>\n",
       "    <tr>\n",
       "      <th>User_ID</th>\n",
       "      <th></th>\n",
       "      <th></th>\n",
       "      <th></th>\n",
       "      <th></th>\n",
       "      <th></th>\n",
       "      <th></th>\n",
       "      <th></th>\n",
       "      <th></th>\n",
       "      <th></th>\n",
       "      <th></th>\n",
       "      <th></th>\n",
       "      <th></th>\n",
       "      <th></th>\n",
       "      <th></th>\n",
       "    </tr>\n",
       "  </thead>\n",
       "  <tbody>\n",
       "    <tr>\n",
       "      <th>1000001</th>\n",
       "      <td>0</td>\n",
       "      <td>0</td>\n",
       "      <td>3</td>\n",
       "      <td>2</td>\n",
       "      <td>0</td>\n",
       "      <td>0</td>\n",
       "      <td>7</td>\n",
       "      <td>0</td>\n",
       "      <td>0</td>\n",
       "      <td>0</td>\n",
       "      <td>0</td>\n",
       "      <td>0</td>\n",
       "      <td>0</td>\n",
       "      <td>0</td>\n",
       "    </tr>\n",
       "    <tr>\n",
       "      <th>1000002</th>\n",
       "      <td>4</td>\n",
       "      <td>0</td>\n",
       "      <td>0</td>\n",
       "      <td>12</td>\n",
       "      <td>1</td>\n",
       "      <td>0</td>\n",
       "      <td>20</td>\n",
       "      <td>0</td>\n",
       "      <td>0</td>\n",
       "      <td>0</td>\n",
       "      <td>0</td>\n",
       "      <td>0</td>\n",
       "      <td>0</td>\n",
       "      <td>0</td>\n",
       "    </tr>\n",
       "    <tr>\n",
       "      <th>1000003</th>\n",
       "      <td>1</td>\n",
       "      <td>0</td>\n",
       "      <td>0</td>\n",
       "      <td>8</td>\n",
       "      <td>0</td>\n",
       "      <td>0</td>\n",
       "      <td>1</td>\n",
       "      <td>0</td>\n",
       "      <td>0</td>\n",
       "      <td>0</td>\n",
       "      <td>0</td>\n",
       "      <td>0</td>\n",
       "      <td>0</td>\n",
       "      <td>0</td>\n",
       "    </tr>\n",
       "    <tr>\n",
       "      <th>1000005</th>\n",
       "      <td>5</td>\n",
       "      <td>0</td>\n",
       "      <td>0</td>\n",
       "      <td>16</td>\n",
       "      <td>2</td>\n",
       "      <td>1</td>\n",
       "      <td>29</td>\n",
       "      <td>0</td>\n",
       "      <td>0</td>\n",
       "      <td>1</td>\n",
       "      <td>0</td>\n",
       "      <td>0</td>\n",
       "      <td>1</td>\n",
       "      <td>0</td>\n",
       "    </tr>\n",
       "    <tr>\n",
       "      <th>1000006</th>\n",
       "      <td>0</td>\n",
       "      <td>1</td>\n",
       "      <td>0</td>\n",
       "      <td>11</td>\n",
       "      <td>1</td>\n",
       "      <td>0</td>\n",
       "      <td>6</td>\n",
       "      <td>0</td>\n",
       "      <td>0</td>\n",
       "      <td>0</td>\n",
       "      <td>0</td>\n",
       "      <td>0</td>\n",
       "      <td>0</td>\n",
       "      <td>0</td>\n",
       "    </tr>\n",
       "  </tbody>\n",
       "</table>\n",
       "</div>"
      ],
      "text/plain": [
       "Product_Category  1  2  3   4  5  6   7  8  9  10  11  12  13  14\n",
       "User_ID                                                          \n",
       "1000001           0  0  3   2  0  0   7  0  0   0   0   0   0   0\n",
       "1000002           4  0  0  12  1  0  20  0  0   0   0   0   0   0\n",
       "1000003           1  0  0   8  0  0   1  0  0   0   0   0   0   0\n",
       "1000005           5  0  0  16  2  1  29  0  0   1   0   0   1   0\n",
       "1000006           0  1  0  11  1  0   6  0  0   0   0   0   0   0"
      ]
     },
     "execution_count": 149,
     "metadata": {},
     "output_type": "execute_result"
    }
   ],
   "source": [
    "user_pivot = user_pivot.set_index(\"User_ID\")\n",
    "user_pivot.head(5)"
   ]
  },
  {
   "cell_type": "code",
   "execution_count": 150,
   "metadata": {},
   "outputs": [],
   "source": [
    "# Writing a custom function to identify if user has a favourite product category\n",
    "def favorite(lst):\n",
    "    f=np.max(lst)/np.sum(lst)\n",
    "    return(f)\n",
    "\n",
    "user_pivot['val'] = pd.DataFrame(user_pivot.apply(favorite, axis=1))"
   ]
  },
  {
   "cell_type": "code",
   "execution_count": 151,
   "metadata": {},
   "outputs": [
    {
     "data": {
      "text/html": [
       "<div>\n",
       "<style scoped>\n",
       "    .dataframe tbody tr th:only-of-type {\n",
       "        vertical-align: middle;\n",
       "    }\n",
       "\n",
       "    .dataframe tbody tr th {\n",
       "        vertical-align: top;\n",
       "    }\n",
       "\n",
       "    .dataframe thead th {\n",
       "        text-align: right;\n",
       "    }\n",
       "</style>\n",
       "<table border=\"1\" class=\"dataframe\">\n",
       "  <thead>\n",
       "    <tr style=\"text-align: right;\">\n",
       "      <th>Product_Category</th>\n",
       "      <th>1</th>\n",
       "      <th>2</th>\n",
       "      <th>3</th>\n",
       "      <th>4</th>\n",
       "      <th>5</th>\n",
       "      <th>6</th>\n",
       "      <th>7</th>\n",
       "      <th>8</th>\n",
       "      <th>9</th>\n",
       "      <th>10</th>\n",
       "      <th>11</th>\n",
       "      <th>12</th>\n",
       "      <th>13</th>\n",
       "      <th>14</th>\n",
       "      <th>val</th>\n",
       "      <th>Fav</th>\n",
       "    </tr>\n",
       "    <tr>\n",
       "      <th>User_ID</th>\n",
       "      <th></th>\n",
       "      <th></th>\n",
       "      <th></th>\n",
       "      <th></th>\n",
       "      <th></th>\n",
       "      <th></th>\n",
       "      <th></th>\n",
       "      <th></th>\n",
       "      <th></th>\n",
       "      <th></th>\n",
       "      <th></th>\n",
       "      <th></th>\n",
       "      <th></th>\n",
       "      <th></th>\n",
       "      <th></th>\n",
       "      <th></th>\n",
       "    </tr>\n",
       "  </thead>\n",
       "  <tbody>\n",
       "    <tr>\n",
       "      <th>1000001</th>\n",
       "      <td>0</td>\n",
       "      <td>0</td>\n",
       "      <td>3</td>\n",
       "      <td>2</td>\n",
       "      <td>0</td>\n",
       "      <td>0</td>\n",
       "      <td>7</td>\n",
       "      <td>0</td>\n",
       "      <td>0</td>\n",
       "      <td>0</td>\n",
       "      <td>0</td>\n",
       "      <td>0</td>\n",
       "      <td>0</td>\n",
       "      <td>0</td>\n",
       "      <td>0.583333</td>\n",
       "      <td>0.0</td>\n",
       "    </tr>\n",
       "    <tr>\n",
       "      <th>1000002</th>\n",
       "      <td>4</td>\n",
       "      <td>0</td>\n",
       "      <td>0</td>\n",
       "      <td>12</td>\n",
       "      <td>1</td>\n",
       "      <td>0</td>\n",
       "      <td>20</td>\n",
       "      <td>0</td>\n",
       "      <td>0</td>\n",
       "      <td>0</td>\n",
       "      <td>0</td>\n",
       "      <td>0</td>\n",
       "      <td>0</td>\n",
       "      <td>0</td>\n",
       "      <td>0.540541</td>\n",
       "      <td>0.0</td>\n",
       "    </tr>\n",
       "    <tr>\n",
       "      <th>1000003</th>\n",
       "      <td>1</td>\n",
       "      <td>0</td>\n",
       "      <td>0</td>\n",
       "      <td>8</td>\n",
       "      <td>0</td>\n",
       "      <td>0</td>\n",
       "      <td>1</td>\n",
       "      <td>0</td>\n",
       "      <td>0</td>\n",
       "      <td>0</td>\n",
       "      <td>0</td>\n",
       "      <td>0</td>\n",
       "      <td>0</td>\n",
       "      <td>0</td>\n",
       "      <td>0.800000</td>\n",
       "      <td>1.0</td>\n",
       "    </tr>\n",
       "    <tr>\n",
       "      <th>1000005</th>\n",
       "      <td>5</td>\n",
       "      <td>0</td>\n",
       "      <td>0</td>\n",
       "      <td>16</td>\n",
       "      <td>2</td>\n",
       "      <td>1</td>\n",
       "      <td>29</td>\n",
       "      <td>0</td>\n",
       "      <td>0</td>\n",
       "      <td>1</td>\n",
       "      <td>0</td>\n",
       "      <td>0</td>\n",
       "      <td>1</td>\n",
       "      <td>0</td>\n",
       "      <td>0.527273</td>\n",
       "      <td>0.0</td>\n",
       "    </tr>\n",
       "    <tr>\n",
       "      <th>1000006</th>\n",
       "      <td>0</td>\n",
       "      <td>1</td>\n",
       "      <td>0</td>\n",
       "      <td>11</td>\n",
       "      <td>1</td>\n",
       "      <td>0</td>\n",
       "      <td>6</td>\n",
       "      <td>0</td>\n",
       "      <td>0</td>\n",
       "      <td>0</td>\n",
       "      <td>0</td>\n",
       "      <td>0</td>\n",
       "      <td>0</td>\n",
       "      <td>0</td>\n",
       "      <td>0.578947</td>\n",
       "      <td>0.0</td>\n",
       "    </tr>\n",
       "    <tr>\n",
       "      <th>1000007</th>\n",
       "      <td>0</td>\n",
       "      <td>0</td>\n",
       "      <td>0</td>\n",
       "      <td>1</td>\n",
       "      <td>0</td>\n",
       "      <td>0</td>\n",
       "      <td>0</td>\n",
       "      <td>0</td>\n",
       "      <td>0</td>\n",
       "      <td>1</td>\n",
       "      <td>0</td>\n",
       "      <td>0</td>\n",
       "      <td>0</td>\n",
       "      <td>0</td>\n",
       "      <td>0.500000</td>\n",
       "      <td>0.0</td>\n",
       "    </tr>\n",
       "    <tr>\n",
       "      <th>1000008</th>\n",
       "      <td>3</td>\n",
       "      <td>0</td>\n",
       "      <td>0</td>\n",
       "      <td>7</td>\n",
       "      <td>0</td>\n",
       "      <td>0</td>\n",
       "      <td>39</td>\n",
       "      <td>0</td>\n",
       "      <td>0</td>\n",
       "      <td>0</td>\n",
       "      <td>0</td>\n",
       "      <td>0</td>\n",
       "      <td>0</td>\n",
       "      <td>0</td>\n",
       "      <td>0.795918</td>\n",
       "      <td>1.0</td>\n",
       "    </tr>\n",
       "    <tr>\n",
       "      <th>1000009</th>\n",
       "      <td>2</td>\n",
       "      <td>0</td>\n",
       "      <td>0</td>\n",
       "      <td>7</td>\n",
       "      <td>0</td>\n",
       "      <td>0</td>\n",
       "      <td>20</td>\n",
       "      <td>0</td>\n",
       "      <td>0</td>\n",
       "      <td>0</td>\n",
       "      <td>0</td>\n",
       "      <td>0</td>\n",
       "      <td>0</td>\n",
       "      <td>0</td>\n",
       "      <td>0.689655</td>\n",
       "      <td>1.0</td>\n",
       "    </tr>\n",
       "    <tr>\n",
       "      <th>1000010</th>\n",
       "      <td>2</td>\n",
       "      <td>4</td>\n",
       "      <td>2</td>\n",
       "      <td>79</td>\n",
       "      <td>0</td>\n",
       "      <td>0</td>\n",
       "      <td>33</td>\n",
       "      <td>0</td>\n",
       "      <td>0</td>\n",
       "      <td>0</td>\n",
       "      <td>0</td>\n",
       "      <td>1</td>\n",
       "      <td>0</td>\n",
       "      <td>1</td>\n",
       "      <td>0.647541</td>\n",
       "      <td>1.0</td>\n",
       "    </tr>\n",
       "    <tr>\n",
       "      <th>1000011</th>\n",
       "      <td>0</td>\n",
       "      <td>1</td>\n",
       "      <td>0</td>\n",
       "      <td>28</td>\n",
       "      <td>0</td>\n",
       "      <td>0</td>\n",
       "      <td>11</td>\n",
       "      <td>0</td>\n",
       "      <td>0</td>\n",
       "      <td>0</td>\n",
       "      <td>0</td>\n",
       "      <td>0</td>\n",
       "      <td>0</td>\n",
       "      <td>0</td>\n",
       "      <td>0.700000</td>\n",
       "      <td>1.0</td>\n",
       "    </tr>\n",
       "  </tbody>\n",
       "</table>\n",
       "</div>"
      ],
      "text/plain": [
       "Product_Category  1  2  3   4  5  6   7  8  9  10  11  12  13  14       val  \\\n",
       "User_ID                                                                       \n",
       "1000001           0  0  3   2  0  0   7  0  0   0   0   0   0   0  0.583333   \n",
       "1000002           4  0  0  12  1  0  20  0  0   0   0   0   0   0  0.540541   \n",
       "1000003           1  0  0   8  0  0   1  0  0   0   0   0   0   0  0.800000   \n",
       "1000005           5  0  0  16  2  1  29  0  0   1   0   0   1   0  0.527273   \n",
       "1000006           0  1  0  11  1  0   6  0  0   0   0   0   0   0  0.578947   \n",
       "1000007           0  0  0   1  0  0   0  0  0   1   0   0   0   0  0.500000   \n",
       "1000008           3  0  0   7  0  0  39  0  0   0   0   0   0   0  0.795918   \n",
       "1000009           2  0  0   7  0  0  20  0  0   0   0   0   0   0  0.689655   \n",
       "1000010           2  4  2  79  0  0  33  0  0   0   0   1   0   1  0.647541   \n",
       "1000011           0  1  0  28  0  0  11  0  0   0   0   0   0   0  0.700000   \n",
       "\n",
       "Product_Category  Fav  \n",
       "User_ID                \n",
       "1000001           0.0  \n",
       "1000002           0.0  \n",
       "1000003           1.0  \n",
       "1000005           0.0  \n",
       "1000006           0.0  \n",
       "1000007           0.0  \n",
       "1000008           1.0  \n",
       "1000009           1.0  \n",
       "1000010           1.0  \n",
       "1000011           1.0  "
      ]
     },
     "execution_count": 151,
     "metadata": {},
     "output_type": "execute_result"
    }
   ],
   "source": [
    "user_pivot.loc[user_pivot.val >= 0.6, 'Fav'] = 1 \n",
    "user_pivot.loc[user_pivot.val <  0.6, 'Fav'] = 0 \n",
    "user_pivot.head(10)"
   ]
  },
  {
   "cell_type": "markdown",
   "metadata": {},
   "source": [
    "## Learning Outcomes"
   ]
  },
  {
   "cell_type": "markdown",
   "metadata": {},
   "source": [
    "* Be able to process, analyse and manipulate using Pandas .\n",
    "    * Be able to create pandas series and Dataframe\n",
    "    * Be able to subset data frames using pandas functions\n",
    "    * Be able to use pandas functions and methods on data frames to understand data and describe it\n",
    "* Be able to implement exploratory data analysis by applying required data preprocessing functions\n",
    "    * Be able to read data from different file formats\n",
    "    * Be able to differentiate numerical and categorical features and explicit type conversions if necessary\n",
    "    * Be able to use and apply functions for duplicates, missing value and extreme value analysis\n",
    "    * Be able to implement explicit data manipulation like standardization discretization and dummification which \n",
    "      might be necessary for certain ML algorithms\n",
    "    * Be able to implement data aggregations and data merging\n",
    "    * Be able to handle date manipulations for data analysis"
   ]
  }
 ],
 "metadata": {
  "colab": {
   "collapsed_sections": [],
   "name": "Pandas_Basics.ipynb",
   "provenance": []
  },
  "kernelspec": {
   "display_name": "Python 3",
   "language": "python",
   "name": "python3"
  },
  "language_info": {
   "codemirror_mode": {
    "name": "ipython",
    "version": 3
   },
   "file_extension": ".py",
   "mimetype": "text/x-python",
   "name": "python",
   "nbconvert_exporter": "python",
   "pygments_lexer": "ipython3",
   "version": "3.7.6"
  },
  "toc": {
   "base_numbering": 1,
   "nav_menu": {},
   "number_sections": true,
   "sideBar": true,
   "skip_h1_title": false,
   "title_cell": "Table of Contents",
   "title_sidebar": "Contents",
   "toc_cell": false,
   "toc_position": {},
   "toc_section_display": true,
   "toc_window_display": false
  },
  "varInspector": {
   "cols": {
    "lenName": 16,
    "lenType": 16,
    "lenVar": 40
   },
   "kernels_config": {
    "python": {
     "delete_cmd_postfix": "",
     "delete_cmd_prefix": "del ",
     "library": "var_list.py",
     "varRefreshCmd": "print(var_dic_list())"
    },
    "r": {
     "delete_cmd_postfix": ") ",
     "delete_cmd_prefix": "rm(",
     "library": "var_list.r",
     "varRefreshCmd": "cat(var_dic_list()) "
    }
   },
   "types_to_exclude": [
    "module",
    "function",
    "builtin_function_or_method",
    "instance",
    "_Feature"
   ],
   "window_display": false
  }
 },
 "nbformat": 4,
 "nbformat_minor": 1
}
