{
 "cells": [
  {
   "cell_type": "markdown",
   "metadata": {},
   "source": [
    "# <center>**Pandas Introduction**</center>\n",
    "---\n",
    "\n",
    "<br>\n"
   ]
  },
  {
   "cell_type": "markdown",
   "metadata": {},
   "source": [
    "## **Pandas DataFrame**"
   ]
  },
  {
   "cell_type": "markdown",
   "metadata": {},
   "source": [
    "Pandas is an open-source Python Library providing high-performance data manipulation and analysis tool using its powerful data structures. \n",
    "The name Pandas is derived from the word Panel Data – an Econometrics from Multidimensional data."
   ]
  },
  {
   "cell_type": "markdown",
   "metadata": {},
   "source": [
    "How does a Data Frame look like?.."
   ]
  },
  {
   "cell_type": "markdown",
   "metadata": {},
   "source": [
    "<img src='image.png' width='700 px'/>"
   ]
  },
  {
   "cell_type": "markdown",
   "metadata": {},
   "source": [
    "# Create an Empty DataFrame"
   ]
  },
  {
   "cell_type": "code",
   "execution_count": 1,
   "metadata": {
    "ExecuteTime": {
     "end_time": "2019-10-12T17:38:32.727934Z",
     "start_time": "2019-10-12T17:38:32.720996Z"
    }
   },
   "outputs": [
    {
     "name": "stdout",
     "output_type": "stream",
     "text": [
      "Empty DataFrame\n",
      "Columns: []\n",
      "Index: []\n"
     ]
    }
   ],
   "source": [
    "import pandas as pd\n",
    "df = pd.DataFrame()\n",
    "print (df)"
   ]
  },
  {
   "cell_type": "code",
   "execution_count": 2,
   "metadata": {
    "ExecuteTime": {
     "end_time": "2019-10-12T17:38:33.036336Z",
     "start_time": "2019-10-12T17:38:33.029353Z"
    }
   },
   "outputs": [
    {
     "name": "stdout",
     "output_type": "stream",
     "text": [
      "   0\n",
      "0  1\n",
      "1  2\n",
      "2  3\n",
      "3  4\n",
      "4  5\n",
      "<class 'pandas.core.frame.DataFrame'>\n"
     ]
    },
    {
     "data": {
      "text/plain": [
       "list"
      ]
     },
     "execution_count": 2,
     "metadata": {},
     "output_type": "execute_result"
    }
   ],
   "source": [
    "# Create a dataframe with a list as input\n",
    "data = [1,2,3,4,5]\n",
    "df = pd.DataFrame(data)\n",
    "print (df)\n",
    "print(type(df))\n",
    "type(data)"
   ]
  },
  {
   "cell_type": "code",
   "execution_count": 3,
   "metadata": {
    "ExecuteTime": {
     "end_time": "2019-10-12T17:38:33.367384Z",
     "start_time": "2019-10-12T17:38:33.359407Z"
    }
   },
   "outputs": [
    {
     "name": "stdout",
     "output_type": "stream",
     "text": [
      "     Name  Age\n",
      "0    Alex   10\n",
      "1     Bob   12\n",
      "2  Clarke   13\n"
     ]
    }
   ],
   "source": [
    "# Create a dataframe with a list as input\n",
    "data = [['Alex',10],['Bob',12],['Clarke',13]]\n",
    "df = pd.DataFrame(data,columns=['Name','Age'])\n",
    "print (df)"
   ]
  },
  {
   "cell_type": "code",
   "execution_count": 4,
   "metadata": {},
   "outputs": [
    {
     "data": {
      "text/plain": [
       "(3, 2)"
      ]
     },
     "execution_count": 4,
     "metadata": {},
     "output_type": "execute_result"
    }
   ],
   "source": [
    "df.shape"
   ]
  },
  {
   "cell_type": "markdown",
   "metadata": {},
   "source": [
    "## **Reading data**"
   ]
  },
  {
   "cell_type": "code",
   "execution_count": 5,
   "metadata": {
    "ExecuteTime": {
     "end_time": "2019-10-12T17:38:34.986693Z",
     "start_time": "2019-10-12T17:38:34.963238Z"
    }
   },
   "outputs": [],
   "source": [
    "# Read data from csv file\n",
    "ipl = pd.read_csv('matches2008-2016.csv')\n",
    "ipl_new = pd.read_csv('matches2017.csv')"
   ]
  },
  {
   "cell_type": "markdown",
   "metadata": {},
   "source": [
    "## **Checking data dimentions**"
   ]
  },
  {
   "cell_type": "code",
   "execution_count": 6,
   "metadata": {
    "ExecuteTime": {
     "end_time": "2019-10-12T17:38:36.025065Z",
     "start_time": "2019-10-12T17:38:36.019082Z"
    },
    "scrolled": true
   },
   "outputs": [
    {
     "name": "stdout",
     "output_type": "stream",
     "text": [
      "(577, 19)\n",
      "(59, 19)\n"
     ]
    }
   ],
   "source": [
    "print(ipl.shape)\n",
    "print(ipl_new.shape)"
   ]
  },
  {
   "cell_type": "code",
   "execution_count": 7,
   "metadata": {},
   "outputs": [
    {
     "data": {
      "text/html": [
       "<div>\n",
       "<style scoped>\n",
       "    .dataframe tbody tr th:only-of-type {\n",
       "        vertical-align: middle;\n",
       "    }\n",
       "\n",
       "    .dataframe tbody tr th {\n",
       "        vertical-align: top;\n",
       "    }\n",
       "\n",
       "    .dataframe thead th {\n",
       "        text-align: right;\n",
       "    }\n",
       "</style>\n",
       "<table border=\"1\" class=\"dataframe\">\n",
       "  <thead>\n",
       "    <tr style=\"text-align: right;\">\n",
       "      <th></th>\n",
       "      <th>match_id</th>\n",
       "      <th>season</th>\n",
       "      <th>city</th>\n",
       "      <th>date</th>\n",
       "      <th>team1_id</th>\n",
       "      <th>team2_id</th>\n",
       "      <th>toss_winner</th>\n",
       "      <th>toss_decision</th>\n",
       "      <th>result</th>\n",
       "      <th>dl_applied</th>\n",
       "      <th>winner</th>\n",
       "      <th>win_by_runs</th>\n",
       "      <th>win_by_wickets</th>\n",
       "      <th>player_of_match</th>\n",
       "      <th>player_of_match_id</th>\n",
       "      <th>venue</th>\n",
       "      <th>venue_id</th>\n",
       "      <th>umpire1</th>\n",
       "      <th>umpire2</th>\n",
       "    </tr>\n",
       "  </thead>\n",
       "  <tbody>\n",
       "    <tr>\n",
       "      <th>574</th>\n",
       "      <td>2016_58</td>\n",
       "      <td>2016</td>\n",
       "      <td>Delhi</td>\n",
       "      <td>25-05-2016</td>\n",
       "      <td>SRH</td>\n",
       "      <td>KKR</td>\n",
       "      <td>KKR</td>\n",
       "      <td>field</td>\n",
       "      <td>normal</td>\n",
       "      <td>0</td>\n",
       "      <td>SRH</td>\n",
       "      <td>22</td>\n",
       "      <td>0</td>\n",
       "      <td>Moises Henriques</td>\n",
       "      <td>212.0</td>\n",
       "      <td>Feroz Shah Kotla Stadium, Delhi</td>\n",
       "      <td>2</td>\n",
       "      <td>M Erasmus</td>\n",
       "      <td>C Shamshuddin</td>\n",
       "    </tr>\n",
       "    <tr>\n",
       "      <th>575</th>\n",
       "      <td>2016_59</td>\n",
       "      <td>2016</td>\n",
       "      <td>Delhi</td>\n",
       "      <td>27-05-2016</td>\n",
       "      <td>GL</td>\n",
       "      <td>SRH</td>\n",
       "      <td>SRH</td>\n",
       "      <td>field</td>\n",
       "      <td>normal</td>\n",
       "      <td>0</td>\n",
       "      <td>SRH</td>\n",
       "      <td>0</td>\n",
       "      <td>4</td>\n",
       "      <td>David Warner</td>\n",
       "      <td>207.0</td>\n",
       "      <td>Feroz Shah Kotla Stadium, Delhi</td>\n",
       "      <td>2</td>\n",
       "      <td>M Erasmus</td>\n",
       "      <td>CK Nandan</td>\n",
       "    </tr>\n",
       "    <tr>\n",
       "      <th>576</th>\n",
       "      <td>2016_60</td>\n",
       "      <td>2016</td>\n",
       "      <td>Bangalore</td>\n",
       "      <td>29-05-2016</td>\n",
       "      <td>SRH</td>\n",
       "      <td>RCB</td>\n",
       "      <td>SRH</td>\n",
       "      <td>bat</td>\n",
       "      <td>normal</td>\n",
       "      <td>0</td>\n",
       "      <td>SRH</td>\n",
       "      <td>8</td>\n",
       "      <td>0</td>\n",
       "      <td>Ben Cutting</td>\n",
       "      <td>526.0</td>\n",
       "      <td>M.Chinnaswamy Stadium Bengaluru, Karnataka</td>\n",
       "      <td>7</td>\n",
       "      <td>HDPK Dharmasena</td>\n",
       "      <td>BNJ Oxenford</td>\n",
       "    </tr>\n",
       "  </tbody>\n",
       "</table>\n",
       "</div>"
      ],
      "text/plain": [
       "    match_id  season       city        date team1_id team2_id toss_winner  \\\n",
       "574  2016_58    2016      Delhi  25-05-2016      SRH      KKR         KKR   \n",
       "575  2016_59    2016      Delhi  27-05-2016       GL      SRH         SRH   \n",
       "576  2016_60    2016  Bangalore  29-05-2016      SRH      RCB         SRH   \n",
       "\n",
       "    toss_decision  result  dl_applied winner  win_by_runs  win_by_wickets  \\\n",
       "574         field  normal           0    SRH           22               0   \n",
       "575         field  normal           0    SRH            0               4   \n",
       "576           bat  normal           0    SRH            8               0   \n",
       "\n",
       "      player_of_match  player_of_match_id  \\\n",
       "574  Moises Henriques               212.0   \n",
       "575      David Warner               207.0   \n",
       "576       Ben Cutting               526.0   \n",
       "\n",
       "                                          venue  venue_id          umpire1  \\\n",
       "574             Feroz Shah Kotla Stadium, Delhi         2        M Erasmus   \n",
       "575             Feroz Shah Kotla Stadium, Delhi         2        M Erasmus   \n",
       "576  M.Chinnaswamy Stadium Bengaluru, Karnataka         7  HDPK Dharmasena   \n",
       "\n",
       "           umpire2  \n",
       "574  C Shamshuddin  \n",
       "575      CK Nandan  \n",
       "576   BNJ Oxenford  "
      ]
     },
     "execution_count": 7,
     "metadata": {},
     "output_type": "execute_result"
    }
   ],
   "source": [
    "ipl.tail(3)"
   ]
  },
  {
   "cell_type": "code",
   "execution_count": 8,
   "metadata": {},
   "outputs": [
    {
     "data": {
      "text/html": [
       "<div>\n",
       "<style scoped>\n",
       "    .dataframe tbody tr th:only-of-type {\n",
       "        vertical-align: middle;\n",
       "    }\n",
       "\n",
       "    .dataframe tbody tr th {\n",
       "        vertical-align: top;\n",
       "    }\n",
       "\n",
       "    .dataframe thead th {\n",
       "        text-align: right;\n",
       "    }\n",
       "</style>\n",
       "<table border=\"1\" class=\"dataframe\">\n",
       "  <thead>\n",
       "    <tr style=\"text-align: right;\">\n",
       "      <th></th>\n",
       "      <th>match_id</th>\n",
       "      <th>season</th>\n",
       "      <th>city</th>\n",
       "      <th>date</th>\n",
       "      <th>team1_id</th>\n",
       "      <th>team2_id</th>\n",
       "      <th>toss_winner</th>\n",
       "      <th>toss_decision</th>\n",
       "      <th>result</th>\n",
       "      <th>dl_applied</th>\n",
       "      <th>winner</th>\n",
       "      <th>win_by_runs</th>\n",
       "      <th>win_by_wickets</th>\n",
       "      <th>player_of_match</th>\n",
       "      <th>player_of_match_id</th>\n",
       "      <th>venue</th>\n",
       "      <th>venue_id</th>\n",
       "      <th>umpire1</th>\n",
       "      <th>umpire2</th>\n",
       "    </tr>\n",
       "  </thead>\n",
       "  <tbody>\n",
       "    <tr>\n",
       "      <th>56</th>\n",
       "      <td>2017_57</td>\n",
       "      <td>2017</td>\n",
       "      <td>Bangalore</td>\n",
       "      <td>17-05-2017</td>\n",
       "      <td>SRH</td>\n",
       "      <td>KKR</td>\n",
       "      <td>KKR</td>\n",
       "      <td>field</td>\n",
       "      <td>normal</td>\n",
       "      <td>1</td>\n",
       "      <td>KKR</td>\n",
       "      <td>0</td>\n",
       "      <td>7</td>\n",
       "      <td>Nathan Coulter-Nile</td>\n",
       "      <td>484</td>\n",
       "      <td>M.Chinnaswamy Stadium Bengaluru, Karnataka</td>\n",
       "      <td>7</td>\n",
       "      <td>AK Chaudhary</td>\n",
       "      <td>Nitin Menon</td>\n",
       "    </tr>\n",
       "    <tr>\n",
       "      <th>57</th>\n",
       "      <td>2017_58</td>\n",
       "      <td>2017</td>\n",
       "      <td>Bangalore</td>\n",
       "      <td>19-05-2017</td>\n",
       "      <td>KKR</td>\n",
       "      <td>MI</td>\n",
       "      <td>MI</td>\n",
       "      <td>field</td>\n",
       "      <td>normal</td>\n",
       "      <td>0</td>\n",
       "      <td>MI</td>\n",
       "      <td>0</td>\n",
       "      <td>6</td>\n",
       "      <td>Karn Sharma</td>\n",
       "      <td>254</td>\n",
       "      <td>M.Chinnaswamy Stadium Bengaluru, Karnataka</td>\n",
       "      <td>7</td>\n",
       "      <td>NJ Llong</td>\n",
       "      <td>Nitin Menon</td>\n",
       "    </tr>\n",
       "    <tr>\n",
       "      <th>58</th>\n",
       "      <td>2017_59</td>\n",
       "      <td>2017</td>\n",
       "      <td>Hyderabad</td>\n",
       "      <td>21-05-2017</td>\n",
       "      <td>MI</td>\n",
       "      <td>RPS</td>\n",
       "      <td>MI</td>\n",
       "      <td>bat</td>\n",
       "      <td>normal</td>\n",
       "      <td>0</td>\n",
       "      <td>MI</td>\n",
       "      <td>1</td>\n",
       "      <td>0</td>\n",
       "      <td>Krunal Pandya</td>\n",
       "      <td>582</td>\n",
       "      <td>Rajiv Gandhi International Stadium, Hyderabad</td>\n",
       "      <td>4</td>\n",
       "      <td>NJ Llong</td>\n",
       "      <td>S Ravi</td>\n",
       "    </tr>\n",
       "  </tbody>\n",
       "</table>\n",
       "</div>"
      ],
      "text/plain": [
       "   match_id  season       city        date team1_id team2_id toss_winner  \\\n",
       "56  2017_57    2017  Bangalore  17-05-2017      SRH      KKR         KKR   \n",
       "57  2017_58    2017  Bangalore  19-05-2017      KKR       MI          MI   \n",
       "58  2017_59    2017  Hyderabad  21-05-2017       MI      RPS          MI   \n",
       "\n",
       "   toss_decision  result  dl_applied winner  win_by_runs  win_by_wickets  \\\n",
       "56         field  normal           1    KKR            0               7   \n",
       "57         field  normal           0     MI            0               6   \n",
       "58           bat  normal           0     MI            1               0   \n",
       "\n",
       "        player_of_match  player_of_match_id  \\\n",
       "56  Nathan Coulter-Nile                 484   \n",
       "57          Karn Sharma                 254   \n",
       "58        Krunal Pandya                 582   \n",
       "\n",
       "                                            venue  venue_id       umpire1  \\\n",
       "56     M.Chinnaswamy Stadium Bengaluru, Karnataka         7  AK Chaudhary   \n",
       "57     M.Chinnaswamy Stadium Bengaluru, Karnataka         7      NJ Llong   \n",
       "58  Rajiv Gandhi International Stadium, Hyderabad         4      NJ Llong   \n",
       "\n",
       "        umpire2  \n",
       "56  Nitin Menon  \n",
       "57  Nitin Menon  \n",
       "58       S Ravi  "
      ]
     },
     "execution_count": 8,
     "metadata": {},
     "output_type": "execute_result"
    }
   ],
   "source": [
    "ipl_new.tail(3)"
   ]
  },
  {
   "cell_type": "markdown",
   "metadata": {},
   "source": [
    "## **Appending DataFrame**"
   ]
  },
  {
   "cell_type": "code",
   "execution_count": 9,
   "metadata": {
    "ExecuteTime": {
     "end_time": "2019-10-12T17:38:36.998276Z",
     "start_time": "2019-10-12T17:38:36.987304Z"
    }
   },
   "outputs": [],
   "source": [
    "ipl_final = ipl.copy()             # Explicitly creating a copy of ipl. Just to make sure you don't modify your original data"
   ]
  },
  {
   "cell_type": "code",
   "execution_count": 10,
   "metadata": {},
   "outputs": [
    {
     "name": "stdout",
     "output_type": "stream",
     "text": [
      "(577, 19)\n"
     ]
    }
   ],
   "source": [
    "print(ipl_final.shape)"
   ]
  },
  {
   "cell_type": "code",
   "execution_count": 11,
   "metadata": {
    "ExecuteTime": {
     "end_time": "2019-10-12T17:38:36.998276Z",
     "start_time": "2019-10-12T17:38:36.987304Z"
    }
   },
   "outputs": [
    {
     "name": "stdout",
     "output_type": "stream",
     "text": [
      "(636, 19)\n"
     ]
    }
   ],
   "source": [
    "ipl_final = ipl_final.append(ipl_new)\n",
    "print(ipl_final.shape)"
   ]
  },
  {
   "cell_type": "markdown",
   "metadata": {},
   "source": [
    "## **Data Inspection**"
   ]
  },
  {
   "cell_type": "code",
   "execution_count": 12,
   "metadata": {
    "ExecuteTime": {
     "end_time": "2019-10-12T17:38:38.034263Z",
     "start_time": "2019-10-12T17:38:38.028276Z"
    }
   },
   "outputs": [
    {
     "name": "stdout",
     "output_type": "stream",
     "text": [
      "(636, 19)\n"
     ]
    }
   ],
   "source": [
    "## .shape gives dimentions of Data\n",
    "print(ipl_final.shape)                            # dim() in R - Dimentions of data"
   ]
  },
  {
   "cell_type": "code",
   "execution_count": 13,
   "metadata": {
    "ExecuteTime": {
     "end_time": "2019-10-12T17:38:39.100262Z",
     "start_time": "2019-10-12T17:38:39.083354Z"
    }
   },
   "outputs": [
    {
     "data": {
      "text/html": [
       "<div>\n",
       "<style scoped>\n",
       "    .dataframe tbody tr th:only-of-type {\n",
       "        vertical-align: middle;\n",
       "    }\n",
       "\n",
       "    .dataframe tbody tr th {\n",
       "        vertical-align: top;\n",
       "    }\n",
       "\n",
       "    .dataframe thead th {\n",
       "        text-align: right;\n",
       "    }\n",
       "</style>\n",
       "<table border=\"1\" class=\"dataframe\">\n",
       "  <thead>\n",
       "    <tr style=\"text-align: right;\">\n",
       "      <th></th>\n",
       "      <th>match_id</th>\n",
       "      <th>season</th>\n",
       "      <th>city</th>\n",
       "      <th>date</th>\n",
       "      <th>team1_id</th>\n",
       "      <th>team2_id</th>\n",
       "      <th>toss_winner</th>\n",
       "      <th>toss_decision</th>\n",
       "      <th>result</th>\n",
       "      <th>dl_applied</th>\n",
       "      <th>winner</th>\n",
       "      <th>win_by_runs</th>\n",
       "      <th>win_by_wickets</th>\n",
       "      <th>player_of_match</th>\n",
       "      <th>player_of_match_id</th>\n",
       "      <th>venue</th>\n",
       "      <th>venue_id</th>\n",
       "      <th>umpire1</th>\n",
       "      <th>umpire2</th>\n",
       "    </tr>\n",
       "  </thead>\n",
       "  <tbody>\n",
       "    <tr>\n",
       "      <th>0</th>\n",
       "      <td>2008_1</td>\n",
       "      <td>2008</td>\n",
       "      <td>Bangalore</td>\n",
       "      <td>18-04-2008</td>\n",
       "      <td>KKR</td>\n",
       "      <td>RCB</td>\n",
       "      <td>RCB</td>\n",
       "      <td>field</td>\n",
       "      <td>normal</td>\n",
       "      <td>0</td>\n",
       "      <td>KKR</td>\n",
       "      <td>140</td>\n",
       "      <td>0</td>\n",
       "      <td>Brendon McCullum</td>\n",
       "      <td>82.0</td>\n",
       "      <td>M.Chinnaswamy Stadium Bengaluru, Karnataka</td>\n",
       "      <td>7</td>\n",
       "      <td>Asad Rauf</td>\n",
       "      <td>RE Koertzen</td>\n",
       "    </tr>\n",
       "    <tr>\n",
       "      <th>1</th>\n",
       "      <td>2008_2</td>\n",
       "      <td>2008</td>\n",
       "      <td>Chandigarh</td>\n",
       "      <td>19-04-2008</td>\n",
       "      <td>CSK</td>\n",
       "      <td>KXI</td>\n",
       "      <td>CSK</td>\n",
       "      <td>bat</td>\n",
       "      <td>normal</td>\n",
       "      <td>0</td>\n",
       "      <td>CSK</td>\n",
       "      <td>33</td>\n",
       "      <td>0</td>\n",
       "      <td>Michael Hussey</td>\n",
       "      <td>18.0</td>\n",
       "      <td>I.S. Bindra Punjab Cricket Association Stadium...</td>\n",
       "      <td>9</td>\n",
       "      <td>MR Benson</td>\n",
       "      <td>SL Shastri</td>\n",
       "    </tr>\n",
       "    <tr>\n",
       "      <th>2</th>\n",
       "      <td>2008_3</td>\n",
       "      <td>2008</td>\n",
       "      <td>Delhi</td>\n",
       "      <td>19-04-2008</td>\n",
       "      <td>RR</td>\n",
       "      <td>DD</td>\n",
       "      <td>RR</td>\n",
       "      <td>bat</td>\n",
       "      <td>normal</td>\n",
       "      <td>0</td>\n",
       "      <td>DD</td>\n",
       "      <td>0</td>\n",
       "      <td>9</td>\n",
       "      <td>Farveez Maharoof</td>\n",
       "      <td>60.0</td>\n",
       "      <td>Feroz Shah Kotla Stadium, Delhi</td>\n",
       "      <td>2</td>\n",
       "      <td>Aleem Dar</td>\n",
       "      <td>GA Pratapkumar</td>\n",
       "    </tr>\n",
       "  </tbody>\n",
       "</table>\n",
       "</div>"
      ],
      "text/plain": [
       "  match_id  season        city        date team1_id team2_id toss_winner  \\\n",
       "0   2008_1    2008   Bangalore  18-04-2008      KKR      RCB         RCB   \n",
       "1   2008_2    2008  Chandigarh  19-04-2008      CSK      KXI         CSK   \n",
       "2   2008_3    2008       Delhi  19-04-2008       RR       DD          RR   \n",
       "\n",
       "  toss_decision  result  dl_applied winner  win_by_runs  win_by_wickets  \\\n",
       "0         field  normal           0    KKR          140               0   \n",
       "1           bat  normal           0    CSK           33               0   \n",
       "2           bat  normal           0     DD            0               9   \n",
       "\n",
       "    player_of_match  player_of_match_id  \\\n",
       "0  Brendon McCullum                82.0   \n",
       "1    Michael Hussey                18.0   \n",
       "2  Farveez Maharoof                60.0   \n",
       "\n",
       "                                               venue  venue_id    umpire1  \\\n",
       "0         M.Chinnaswamy Stadium Bengaluru, Karnataka         7  Asad Rauf   \n",
       "1  I.S. Bindra Punjab Cricket Association Stadium...         9  MR Benson   \n",
       "2                    Feroz Shah Kotla Stadium, Delhi         2  Aleem Dar   \n",
       "\n",
       "          umpire2  \n",
       "0     RE Koertzen  \n",
       "1      SL Shastri  \n",
       "2  GA Pratapkumar  "
      ]
     },
     "execution_count": 13,
     "metadata": {},
     "output_type": "execute_result"
    }
   ],
   "source": [
    "## Getting top 3 rows\n",
    "ipl_final.head(3)"
   ]
  },
  {
   "cell_type": "code",
   "execution_count": 14,
   "metadata": {
    "ExecuteTime": {
     "end_time": "2019-10-12T17:39:18.654743Z",
     "start_time": "2019-10-12T17:39:18.633525Z"
    }
   },
   "outputs": [
    {
     "data": {
      "text/html": [
       "<div>\n",
       "<style scoped>\n",
       "    .dataframe tbody tr th:only-of-type {\n",
       "        vertical-align: middle;\n",
       "    }\n",
       "\n",
       "    .dataframe tbody tr th {\n",
       "        vertical-align: top;\n",
       "    }\n",
       "\n",
       "    .dataframe thead th {\n",
       "        text-align: right;\n",
       "    }\n",
       "</style>\n",
       "<table border=\"1\" class=\"dataframe\">\n",
       "  <thead>\n",
       "    <tr style=\"text-align: right;\">\n",
       "      <th></th>\n",
       "      <th>match_id</th>\n",
       "      <th>season</th>\n",
       "      <th>city</th>\n",
       "      <th>date</th>\n",
       "      <th>team1_id</th>\n",
       "      <th>team2_id</th>\n",
       "      <th>toss_winner</th>\n",
       "      <th>toss_decision</th>\n",
       "      <th>result</th>\n",
       "      <th>dl_applied</th>\n",
       "      <th>winner</th>\n",
       "      <th>win_by_runs</th>\n",
       "      <th>win_by_wickets</th>\n",
       "      <th>player_of_match</th>\n",
       "      <th>player_of_match_id</th>\n",
       "      <th>venue</th>\n",
       "      <th>venue_id</th>\n",
       "      <th>umpire1</th>\n",
       "      <th>umpire2</th>\n",
       "    </tr>\n",
       "  </thead>\n",
       "  <tbody>\n",
       "    <tr>\n",
       "      <th>56</th>\n",
       "      <td>2017_57</td>\n",
       "      <td>2017</td>\n",
       "      <td>Bangalore</td>\n",
       "      <td>17-05-2017</td>\n",
       "      <td>SRH</td>\n",
       "      <td>KKR</td>\n",
       "      <td>KKR</td>\n",
       "      <td>field</td>\n",
       "      <td>normal</td>\n",
       "      <td>1</td>\n",
       "      <td>KKR</td>\n",
       "      <td>0</td>\n",
       "      <td>7</td>\n",
       "      <td>Nathan Coulter-Nile</td>\n",
       "      <td>484.0</td>\n",
       "      <td>M.Chinnaswamy Stadium Bengaluru, Karnataka</td>\n",
       "      <td>7</td>\n",
       "      <td>AK Chaudhary</td>\n",
       "      <td>Nitin Menon</td>\n",
       "    </tr>\n",
       "    <tr>\n",
       "      <th>57</th>\n",
       "      <td>2017_58</td>\n",
       "      <td>2017</td>\n",
       "      <td>Bangalore</td>\n",
       "      <td>19-05-2017</td>\n",
       "      <td>KKR</td>\n",
       "      <td>MI</td>\n",
       "      <td>MI</td>\n",
       "      <td>field</td>\n",
       "      <td>normal</td>\n",
       "      <td>0</td>\n",
       "      <td>MI</td>\n",
       "      <td>0</td>\n",
       "      <td>6</td>\n",
       "      <td>Karn Sharma</td>\n",
       "      <td>254.0</td>\n",
       "      <td>M.Chinnaswamy Stadium Bengaluru, Karnataka</td>\n",
       "      <td>7</td>\n",
       "      <td>NJ Llong</td>\n",
       "      <td>Nitin Menon</td>\n",
       "    </tr>\n",
       "    <tr>\n",
       "      <th>58</th>\n",
       "      <td>2017_59</td>\n",
       "      <td>2017</td>\n",
       "      <td>Hyderabad</td>\n",
       "      <td>21-05-2017</td>\n",
       "      <td>MI</td>\n",
       "      <td>RPS</td>\n",
       "      <td>MI</td>\n",
       "      <td>bat</td>\n",
       "      <td>normal</td>\n",
       "      <td>0</td>\n",
       "      <td>MI</td>\n",
       "      <td>1</td>\n",
       "      <td>0</td>\n",
       "      <td>Krunal Pandya</td>\n",
       "      <td>582.0</td>\n",
       "      <td>Rajiv Gandhi International Stadium, Hyderabad</td>\n",
       "      <td>4</td>\n",
       "      <td>NJ Llong</td>\n",
       "      <td>S Ravi</td>\n",
       "    </tr>\n",
       "  </tbody>\n",
       "</table>\n",
       "</div>"
      ],
      "text/plain": [
       "   match_id  season       city        date team1_id team2_id toss_winner  \\\n",
       "56  2017_57    2017  Bangalore  17-05-2017      SRH      KKR         KKR   \n",
       "57  2017_58    2017  Bangalore  19-05-2017      KKR       MI          MI   \n",
       "58  2017_59    2017  Hyderabad  21-05-2017       MI      RPS          MI   \n",
       "\n",
       "   toss_decision  result  dl_applied winner  win_by_runs  win_by_wickets  \\\n",
       "56         field  normal           1    KKR            0               7   \n",
       "57         field  normal           0     MI            0               6   \n",
       "58           bat  normal           0     MI            1               0   \n",
       "\n",
       "        player_of_match  player_of_match_id  \\\n",
       "56  Nathan Coulter-Nile               484.0   \n",
       "57          Karn Sharma               254.0   \n",
       "58        Krunal Pandya               582.0   \n",
       "\n",
       "                                            venue  venue_id       umpire1  \\\n",
       "56     M.Chinnaswamy Stadium Bengaluru, Karnataka         7  AK Chaudhary   \n",
       "57     M.Chinnaswamy Stadium Bengaluru, Karnataka         7      NJ Llong   \n",
       "58  Rajiv Gandhi International Stadium, Hyderabad         4      NJ Llong   \n",
       "\n",
       "        umpire2  \n",
       "56  Nitin Menon  \n",
       "57  Nitin Menon  \n",
       "58       S Ravi  "
      ]
     },
     "execution_count": 14,
     "metadata": {},
     "output_type": "execute_result"
    }
   ],
   "source": [
    "## Getting last 3 rows\n",
    "ipl_final.tail(3)"
   ]
  },
  {
   "cell_type": "code",
   "execution_count": 15,
   "metadata": {
    "ExecuteTime": {
     "end_time": "2019-10-12T17:15:26.238926Z",
     "start_time": "2019-10-12T17:15:26.214991Z"
    }
   },
   "outputs": [
    {
     "name": "stdout",
     "output_type": "stream",
     "text": [
      "(636, 19)\n"
     ]
    },
    {
     "data": {
      "text/html": [
       "<div>\n",
       "<style scoped>\n",
       "    .dataframe tbody tr th:only-of-type {\n",
       "        vertical-align: middle;\n",
       "    }\n",
       "\n",
       "    .dataframe tbody tr th {\n",
       "        vertical-align: top;\n",
       "    }\n",
       "\n",
       "    .dataframe thead th {\n",
       "        text-align: right;\n",
       "    }\n",
       "</style>\n",
       "<table border=\"1\" class=\"dataframe\">\n",
       "  <thead>\n",
       "    <tr style=\"text-align: right;\">\n",
       "      <th></th>\n",
       "      <th>match_id</th>\n",
       "      <th>season</th>\n",
       "      <th>city</th>\n",
       "      <th>date</th>\n",
       "      <th>team1_id</th>\n",
       "      <th>team2_id</th>\n",
       "      <th>toss_winner</th>\n",
       "      <th>toss_decision</th>\n",
       "      <th>result</th>\n",
       "      <th>dl_applied</th>\n",
       "      <th>winner</th>\n",
       "      <th>win_by_runs</th>\n",
       "      <th>win_by_wickets</th>\n",
       "      <th>player_of_match</th>\n",
       "      <th>player_of_match_id</th>\n",
       "      <th>venue</th>\n",
       "      <th>venue_id</th>\n",
       "      <th>umpire1</th>\n",
       "      <th>umpire2</th>\n",
       "    </tr>\n",
       "  </thead>\n",
       "  <tbody>\n",
       "    <tr>\n",
       "      <th>633</th>\n",
       "      <td>2017_57</td>\n",
       "      <td>2017</td>\n",
       "      <td>Bangalore</td>\n",
       "      <td>17-05-2017</td>\n",
       "      <td>SRH</td>\n",
       "      <td>KKR</td>\n",
       "      <td>KKR</td>\n",
       "      <td>field</td>\n",
       "      <td>normal</td>\n",
       "      <td>1</td>\n",
       "      <td>KKR</td>\n",
       "      <td>0</td>\n",
       "      <td>7</td>\n",
       "      <td>Nathan Coulter-Nile</td>\n",
       "      <td>484.0</td>\n",
       "      <td>M.Chinnaswamy Stadium Bengaluru, Karnataka</td>\n",
       "      <td>7</td>\n",
       "      <td>AK Chaudhary</td>\n",
       "      <td>Nitin Menon</td>\n",
       "    </tr>\n",
       "    <tr>\n",
       "      <th>634</th>\n",
       "      <td>2017_58</td>\n",
       "      <td>2017</td>\n",
       "      <td>Bangalore</td>\n",
       "      <td>19-05-2017</td>\n",
       "      <td>KKR</td>\n",
       "      <td>MI</td>\n",
       "      <td>MI</td>\n",
       "      <td>field</td>\n",
       "      <td>normal</td>\n",
       "      <td>0</td>\n",
       "      <td>MI</td>\n",
       "      <td>0</td>\n",
       "      <td>6</td>\n",
       "      <td>Karn Sharma</td>\n",
       "      <td>254.0</td>\n",
       "      <td>M.Chinnaswamy Stadium Bengaluru, Karnataka</td>\n",
       "      <td>7</td>\n",
       "      <td>NJ Llong</td>\n",
       "      <td>Nitin Menon</td>\n",
       "    </tr>\n",
       "    <tr>\n",
       "      <th>635</th>\n",
       "      <td>2017_59</td>\n",
       "      <td>2017</td>\n",
       "      <td>Hyderabad</td>\n",
       "      <td>21-05-2017</td>\n",
       "      <td>MI</td>\n",
       "      <td>RPS</td>\n",
       "      <td>MI</td>\n",
       "      <td>bat</td>\n",
       "      <td>normal</td>\n",
       "      <td>0</td>\n",
       "      <td>MI</td>\n",
       "      <td>1</td>\n",
       "      <td>0</td>\n",
       "      <td>Krunal Pandya</td>\n",
       "      <td>582.0</td>\n",
       "      <td>Rajiv Gandhi International Stadium, Hyderabad</td>\n",
       "      <td>4</td>\n",
       "      <td>NJ Llong</td>\n",
       "      <td>S Ravi</td>\n",
       "    </tr>\n",
       "  </tbody>\n",
       "</table>\n",
       "</div>"
      ],
      "text/plain": [
       "    match_id  season       city        date team1_id team2_id toss_winner  \\\n",
       "633  2017_57    2017  Bangalore  17-05-2017      SRH      KKR         KKR   \n",
       "634  2017_58    2017  Bangalore  19-05-2017      KKR       MI          MI   \n",
       "635  2017_59    2017  Hyderabad  21-05-2017       MI      RPS          MI   \n",
       "\n",
       "    toss_decision  result  dl_applied winner  win_by_runs  win_by_wickets  \\\n",
       "633         field  normal           1    KKR            0               7   \n",
       "634         field  normal           0     MI            0               6   \n",
       "635           bat  normal           0     MI            1               0   \n",
       "\n",
       "         player_of_match  player_of_match_id  \\\n",
       "633  Nathan Coulter-Nile               484.0   \n",
       "634          Karn Sharma               254.0   \n",
       "635        Krunal Pandya               582.0   \n",
       "\n",
       "                                             venue  venue_id       umpire1  \\\n",
       "633     M.Chinnaswamy Stadium Bengaluru, Karnataka         7  AK Chaudhary   \n",
       "634     M.Chinnaswamy Stadium Bengaluru, Karnataka         7      NJ Llong   \n",
       "635  Rajiv Gandhi International Stadium, Hyderabad         4      NJ Llong   \n",
       "\n",
       "         umpire2  \n",
       "633  Nitin Menon  \n",
       "634  Nitin Menon  \n",
       "635       S Ravi  "
      ]
     },
     "execution_count": 15,
     "metadata": {},
     "output_type": "execute_result"
    }
   ],
   "source": [
    "## Right way\n",
    "\n",
    "ipl_final = ipl.copy()             # Explicitly creating a copy of ipl. Just to make sure you don't modify your original data\n",
    "ipl_final = ipl_final.append(ipl_new,ignore_index=True)\n",
    "print(ipl_final.shape)\n",
    "\n",
    "## Getting top 3 rows\n",
    "ipl_final.tail(3)\n"
   ]
  },
  {
   "cell_type": "code",
   "execution_count": 16,
   "metadata": {
    "ExecuteTime": {
     "end_time": "2019-10-12T17:15:32.281430Z",
     "start_time": "2019-10-12T17:15:32.275447Z"
    }
   },
   "outputs": [
    {
     "name": "stdout",
     "output_type": "stream",
     "text": [
      "Index(['match_id', 'season', 'city', 'date', 'team1_id', 'team2_id',\n",
      "       'toss_winner', 'toss_decision', 'result', 'dl_applied', 'winner',\n",
      "       'win_by_runs', 'win_by_wickets', 'player_of_match',\n",
      "       'player_of_match_id', 'venue', 'venue_id', 'umpire1', 'umpire2'],\n",
      "      dtype='object')\n"
     ]
    }
   ],
   "source": [
    "## .columns gives column names\n",
    "print(ipl_final.columns)  # colnames() in R"
   ]
  },
  {
   "cell_type": "code",
   "execution_count": 17,
   "metadata": {
    "ExecuteTime": {
     "end_time": "2019-10-12T17:15:36.901496Z",
     "start_time": "2019-10-12T17:15:36.894480Z"
    }
   },
   "outputs": [
    {
     "name": "stdout",
     "output_type": "stream",
     "text": [
      "match_id               object\n",
      "season                  int64\n",
      "city                   object\n",
      "date                   object\n",
      "team1_id               object\n",
      "team2_id               object\n",
      "toss_winner            object\n",
      "toss_decision          object\n",
      "result                 object\n",
      "dl_applied              int64\n",
      "winner                 object\n",
      "win_by_runs             int64\n",
      "win_by_wickets          int64\n",
      "player_of_match        object\n",
      "player_of_match_id    float64\n",
      "venue                  object\n",
      "venue_id                int64\n",
      "umpire1                object\n",
      "umpire2                object\n",
      "dtype: object\n"
     ]
    }
   ],
   "source": [
    "## .dtypes gives data types for each column\n",
    "print(ipl_final.dtypes)                           # str() in R - Data types"
   ]
  },
  {
   "cell_type": "markdown",
   "metadata": {},
   "source": [
    "## **Setting match_id as row index** "
   ]
  },
  {
   "cell_type": "code",
   "execution_count": 18,
   "metadata": {},
   "outputs": [
    {
     "data": {
      "text/html": [
       "<div>\n",
       "<style scoped>\n",
       "    .dataframe tbody tr th:only-of-type {\n",
       "        vertical-align: middle;\n",
       "    }\n",
       "\n",
       "    .dataframe tbody tr th {\n",
       "        vertical-align: top;\n",
       "    }\n",
       "\n",
       "    .dataframe thead th {\n",
       "        text-align: right;\n",
       "    }\n",
       "</style>\n",
       "<table border=\"1\" class=\"dataframe\">\n",
       "  <thead>\n",
       "    <tr style=\"text-align: right;\">\n",
       "      <th></th>\n",
       "      <th>match_id</th>\n",
       "      <th>season</th>\n",
       "      <th>city</th>\n",
       "      <th>date</th>\n",
       "      <th>team1_id</th>\n",
       "      <th>team2_id</th>\n",
       "      <th>toss_winner</th>\n",
       "      <th>toss_decision</th>\n",
       "      <th>result</th>\n",
       "      <th>dl_applied</th>\n",
       "      <th>winner</th>\n",
       "      <th>win_by_runs</th>\n",
       "      <th>win_by_wickets</th>\n",
       "      <th>player_of_match</th>\n",
       "      <th>player_of_match_id</th>\n",
       "      <th>venue</th>\n",
       "      <th>venue_id</th>\n",
       "      <th>umpire1</th>\n",
       "      <th>umpire2</th>\n",
       "    </tr>\n",
       "  </thead>\n",
       "  <tbody>\n",
       "    <tr>\n",
       "      <th>0</th>\n",
       "      <td>2008_1</td>\n",
       "      <td>2008</td>\n",
       "      <td>Bangalore</td>\n",
       "      <td>18-04-2008</td>\n",
       "      <td>KKR</td>\n",
       "      <td>RCB</td>\n",
       "      <td>RCB</td>\n",
       "      <td>field</td>\n",
       "      <td>normal</td>\n",
       "      <td>0</td>\n",
       "      <td>KKR</td>\n",
       "      <td>140</td>\n",
       "      <td>0</td>\n",
       "      <td>Brendon McCullum</td>\n",
       "      <td>82.0</td>\n",
       "      <td>M.Chinnaswamy Stadium Bengaluru, Karnataka</td>\n",
       "      <td>7</td>\n",
       "      <td>Asad Rauf</td>\n",
       "      <td>RE Koertzen</td>\n",
       "    </tr>\n",
       "    <tr>\n",
       "      <th>1</th>\n",
       "      <td>2008_2</td>\n",
       "      <td>2008</td>\n",
       "      <td>Chandigarh</td>\n",
       "      <td>19-04-2008</td>\n",
       "      <td>CSK</td>\n",
       "      <td>KXI</td>\n",
       "      <td>CSK</td>\n",
       "      <td>bat</td>\n",
       "      <td>normal</td>\n",
       "      <td>0</td>\n",
       "      <td>CSK</td>\n",
       "      <td>33</td>\n",
       "      <td>0</td>\n",
       "      <td>Michael Hussey</td>\n",
       "      <td>18.0</td>\n",
       "      <td>I.S. Bindra Punjab Cricket Association Stadium...</td>\n",
       "      <td>9</td>\n",
       "      <td>MR Benson</td>\n",
       "      <td>SL Shastri</td>\n",
       "    </tr>\n",
       "    <tr>\n",
       "      <th>2</th>\n",
       "      <td>2008_3</td>\n",
       "      <td>2008</td>\n",
       "      <td>Delhi</td>\n",
       "      <td>19-04-2008</td>\n",
       "      <td>RR</td>\n",
       "      <td>DD</td>\n",
       "      <td>RR</td>\n",
       "      <td>bat</td>\n",
       "      <td>normal</td>\n",
       "      <td>0</td>\n",
       "      <td>DD</td>\n",
       "      <td>0</td>\n",
       "      <td>9</td>\n",
       "      <td>Farveez Maharoof</td>\n",
       "      <td>60.0</td>\n",
       "      <td>Feroz Shah Kotla Stadium, Delhi</td>\n",
       "      <td>2</td>\n",
       "      <td>Aleem Dar</td>\n",
       "      <td>GA Pratapkumar</td>\n",
       "    </tr>\n",
       "  </tbody>\n",
       "</table>\n",
       "</div>"
      ],
      "text/plain": [
       "  match_id  season        city        date team1_id team2_id toss_winner  \\\n",
       "0   2008_1    2008   Bangalore  18-04-2008      KKR      RCB         RCB   \n",
       "1   2008_2    2008  Chandigarh  19-04-2008      CSK      KXI         CSK   \n",
       "2   2008_3    2008       Delhi  19-04-2008       RR       DD          RR   \n",
       "\n",
       "  toss_decision  result  dl_applied winner  win_by_runs  win_by_wickets  \\\n",
       "0         field  normal           0    KKR          140               0   \n",
       "1           bat  normal           0    CSK           33               0   \n",
       "2           bat  normal           0     DD            0               9   \n",
       "\n",
       "    player_of_match  player_of_match_id  \\\n",
       "0  Brendon McCullum                82.0   \n",
       "1    Michael Hussey                18.0   \n",
       "2  Farveez Maharoof                60.0   \n",
       "\n",
       "                                               venue  venue_id    umpire1  \\\n",
       "0         M.Chinnaswamy Stadium Bengaluru, Karnataka         7  Asad Rauf   \n",
       "1  I.S. Bindra Punjab Cricket Association Stadium...         9  MR Benson   \n",
       "2                    Feroz Shah Kotla Stadium, Delhi         2  Aleem Dar   \n",
       "\n",
       "          umpire2  \n",
       "0     RE Koertzen  \n",
       "1      SL Shastri  \n",
       "2  GA Pratapkumar  "
      ]
     },
     "execution_count": 18,
     "metadata": {},
     "output_type": "execute_result"
    }
   ],
   "source": [
    "ipl_final.head(3)"
   ]
  },
  {
   "cell_type": "code",
   "execution_count": 19,
   "metadata": {
    "ExecuteTime": {
     "end_time": "2019-10-12T17:15:40.840919Z",
     "start_time": "2019-10-12T17:15:40.834896Z"
    }
   },
   "outputs": [],
   "source": [
    "ipl_final.set_index(['match_id'],inplace=True)"
   ]
  },
  {
   "cell_type": "code",
   "execution_count": 20,
   "metadata": {},
   "outputs": [
    {
     "data": {
      "text/html": [
       "<div>\n",
       "<style scoped>\n",
       "    .dataframe tbody tr th:only-of-type {\n",
       "        vertical-align: middle;\n",
       "    }\n",
       "\n",
       "    .dataframe tbody tr th {\n",
       "        vertical-align: top;\n",
       "    }\n",
       "\n",
       "    .dataframe thead th {\n",
       "        text-align: right;\n",
       "    }\n",
       "</style>\n",
       "<table border=\"1\" class=\"dataframe\">\n",
       "  <thead>\n",
       "    <tr style=\"text-align: right;\">\n",
       "      <th></th>\n",
       "      <th>season</th>\n",
       "      <th>city</th>\n",
       "      <th>date</th>\n",
       "      <th>team1_id</th>\n",
       "      <th>team2_id</th>\n",
       "      <th>toss_winner</th>\n",
       "      <th>toss_decision</th>\n",
       "      <th>result</th>\n",
       "      <th>dl_applied</th>\n",
       "      <th>winner</th>\n",
       "      <th>win_by_runs</th>\n",
       "      <th>win_by_wickets</th>\n",
       "      <th>player_of_match</th>\n",
       "      <th>player_of_match_id</th>\n",
       "      <th>venue</th>\n",
       "      <th>venue_id</th>\n",
       "      <th>umpire1</th>\n",
       "      <th>umpire2</th>\n",
       "    </tr>\n",
       "    <tr>\n",
       "      <th>match_id</th>\n",
       "      <th></th>\n",
       "      <th></th>\n",
       "      <th></th>\n",
       "      <th></th>\n",
       "      <th></th>\n",
       "      <th></th>\n",
       "      <th></th>\n",
       "      <th></th>\n",
       "      <th></th>\n",
       "      <th></th>\n",
       "      <th></th>\n",
       "      <th></th>\n",
       "      <th></th>\n",
       "      <th></th>\n",
       "      <th></th>\n",
       "      <th></th>\n",
       "      <th></th>\n",
       "      <th></th>\n",
       "    </tr>\n",
       "  </thead>\n",
       "  <tbody>\n",
       "    <tr>\n",
       "      <th>2008_1</th>\n",
       "      <td>2008</td>\n",
       "      <td>Bangalore</td>\n",
       "      <td>18-04-2008</td>\n",
       "      <td>KKR</td>\n",
       "      <td>RCB</td>\n",
       "      <td>RCB</td>\n",
       "      <td>field</td>\n",
       "      <td>normal</td>\n",
       "      <td>0</td>\n",
       "      <td>KKR</td>\n",
       "      <td>140</td>\n",
       "      <td>0</td>\n",
       "      <td>Brendon McCullum</td>\n",
       "      <td>82.0</td>\n",
       "      <td>M.Chinnaswamy Stadium Bengaluru, Karnataka</td>\n",
       "      <td>7</td>\n",
       "      <td>Asad Rauf</td>\n",
       "      <td>RE Koertzen</td>\n",
       "    </tr>\n",
       "    <tr>\n",
       "      <th>2008_2</th>\n",
       "      <td>2008</td>\n",
       "      <td>Chandigarh</td>\n",
       "      <td>19-04-2008</td>\n",
       "      <td>CSK</td>\n",
       "      <td>KXI</td>\n",
       "      <td>CSK</td>\n",
       "      <td>bat</td>\n",
       "      <td>normal</td>\n",
       "      <td>0</td>\n",
       "      <td>CSK</td>\n",
       "      <td>33</td>\n",
       "      <td>0</td>\n",
       "      <td>Michael Hussey</td>\n",
       "      <td>18.0</td>\n",
       "      <td>I.S. Bindra Punjab Cricket Association Stadium...</td>\n",
       "      <td>9</td>\n",
       "      <td>MR Benson</td>\n",
       "      <td>SL Shastri</td>\n",
       "    </tr>\n",
       "    <tr>\n",
       "      <th>2008_3</th>\n",
       "      <td>2008</td>\n",
       "      <td>Delhi</td>\n",
       "      <td>19-04-2008</td>\n",
       "      <td>RR</td>\n",
       "      <td>DD</td>\n",
       "      <td>RR</td>\n",
       "      <td>bat</td>\n",
       "      <td>normal</td>\n",
       "      <td>0</td>\n",
       "      <td>DD</td>\n",
       "      <td>0</td>\n",
       "      <td>9</td>\n",
       "      <td>Farveez Maharoof</td>\n",
       "      <td>60.0</td>\n",
       "      <td>Feroz Shah Kotla Stadium, Delhi</td>\n",
       "      <td>2</td>\n",
       "      <td>Aleem Dar</td>\n",
       "      <td>GA Pratapkumar</td>\n",
       "    </tr>\n",
       "  </tbody>\n",
       "</table>\n",
       "</div>"
      ],
      "text/plain": [
       "          season        city        date team1_id team2_id toss_winner  \\\n",
       "match_id                                                                 \n",
       "2008_1      2008   Bangalore  18-04-2008      KKR      RCB         RCB   \n",
       "2008_2      2008  Chandigarh  19-04-2008      CSK      KXI         CSK   \n",
       "2008_3      2008       Delhi  19-04-2008       RR       DD          RR   \n",
       "\n",
       "         toss_decision  result  dl_applied winner  win_by_runs  \\\n",
       "match_id                                                         \n",
       "2008_1           field  normal           0    KKR          140   \n",
       "2008_2             bat  normal           0    CSK           33   \n",
       "2008_3             bat  normal           0     DD            0   \n",
       "\n",
       "          win_by_wickets   player_of_match  player_of_match_id  \\\n",
       "match_id                                                         \n",
       "2008_1                 0  Brendon McCullum                82.0   \n",
       "2008_2                 0    Michael Hussey                18.0   \n",
       "2008_3                 9  Farveez Maharoof                60.0   \n",
       "\n",
       "                                                      venue  venue_id  \\\n",
       "match_id                                                                \n",
       "2008_1           M.Chinnaswamy Stadium Bengaluru, Karnataka         7   \n",
       "2008_2    I.S. Bindra Punjab Cricket Association Stadium...         9   \n",
       "2008_3                      Feroz Shah Kotla Stadium, Delhi         2   \n",
       "\n",
       "            umpire1         umpire2  \n",
       "match_id                             \n",
       "2008_1    Asad Rauf     RE Koertzen  \n",
       "2008_2    MR Benson      SL Shastri  \n",
       "2008_3    Aleem Dar  GA Pratapkumar  "
      ]
     },
     "execution_count": 20,
     "metadata": {},
     "output_type": "execute_result"
    }
   ],
   "source": [
    "ipl_final.head(3)"
   ]
  },
  {
   "cell_type": "markdown",
   "metadata": {},
   "source": [
    "## **Summary statistics**"
   ]
  },
  {
   "cell_type": "code",
   "execution_count": 21,
   "metadata": {
    "ExecuteTime": {
     "end_time": "2019-10-12T17:15:44.142906Z",
     "start_time": "2019-10-12T17:15:44.107960Z"
    }
   },
   "outputs": [
    {
     "data": {
      "text/html": [
       "<div>\n",
       "<style scoped>\n",
       "    .dataframe tbody tr th:only-of-type {\n",
       "        vertical-align: middle;\n",
       "    }\n",
       "\n",
       "    .dataframe tbody tr th {\n",
       "        vertical-align: top;\n",
       "    }\n",
       "\n",
       "    .dataframe thead th {\n",
       "        text-align: right;\n",
       "    }\n",
       "</style>\n",
       "<table border=\"1\" class=\"dataframe\">\n",
       "  <thead>\n",
       "    <tr style=\"text-align: right;\">\n",
       "      <th></th>\n",
       "      <th>season</th>\n",
       "      <th>dl_applied</th>\n",
       "      <th>win_by_runs</th>\n",
       "      <th>win_by_wickets</th>\n",
       "      <th>player_of_match_id</th>\n",
       "      <th>venue_id</th>\n",
       "    </tr>\n",
       "  </thead>\n",
       "  <tbody>\n",
       "    <tr>\n",
       "      <th>count</th>\n",
       "      <td>636.000000</td>\n",
       "      <td>636.000000</td>\n",
       "      <td>636.000000</td>\n",
       "      <td>636.000000</td>\n",
       "      <td>633.000000</td>\n",
       "      <td>636.000000</td>\n",
       "    </tr>\n",
       "    <tr>\n",
       "      <th>mean</th>\n",
       "      <td>2012.490566</td>\n",
       "      <td>0.025157</td>\n",
       "      <td>13.682390</td>\n",
       "      <td>3.372642</td>\n",
       "      <td>209.751975</td>\n",
       "      <td>10.179245</td>\n",
       "    </tr>\n",
       "    <tr>\n",
       "      <th>std</th>\n",
       "      <td>2.773026</td>\n",
       "      <td>0.156726</td>\n",
       "      <td>23.908877</td>\n",
       "      <td>3.420338</td>\n",
       "      <td>180.132037</td>\n",
       "      <td>9.403096</td>\n",
       "    </tr>\n",
       "    <tr>\n",
       "      <th>min</th>\n",
       "      <td>2008.000000</td>\n",
       "      <td>0.000000</td>\n",
       "      <td>0.000000</td>\n",
       "      <td>0.000000</td>\n",
       "      <td>1.000000</td>\n",
       "      <td>1.000000</td>\n",
       "    </tr>\n",
       "    <tr>\n",
       "      <th>25%</th>\n",
       "      <td>2010.000000</td>\n",
       "      <td>0.000000</td>\n",
       "      <td>0.000000</td>\n",
       "      <td>0.000000</td>\n",
       "      <td>69.000000</td>\n",
       "      <td>3.000000</td>\n",
       "    </tr>\n",
       "    <tr>\n",
       "      <th>50%</th>\n",
       "      <td>2012.000000</td>\n",
       "      <td>0.000000</td>\n",
       "      <td>0.000000</td>\n",
       "      <td>4.000000</td>\n",
       "      <td>149.000000</td>\n",
       "      <td>7.000000</td>\n",
       "    </tr>\n",
       "    <tr>\n",
       "      <th>75%</th>\n",
       "      <td>2015.000000</td>\n",
       "      <td>0.000000</td>\n",
       "      <td>20.000000</td>\n",
       "      <td>7.000000</td>\n",
       "      <td>321.000000</td>\n",
       "      <td>14.000000</td>\n",
       "    </tr>\n",
       "    <tr>\n",
       "      <th>max</th>\n",
       "      <td>2017.000000</td>\n",
       "      <td>1.000000</td>\n",
       "      <td>146.000000</td>\n",
       "      <td>10.000000</td>\n",
       "      <td>691.000000</td>\n",
       "      <td>34.000000</td>\n",
       "    </tr>\n",
       "  </tbody>\n",
       "</table>\n",
       "</div>"
      ],
      "text/plain": [
       "            season  dl_applied  win_by_runs  win_by_wickets  \\\n",
       "count   636.000000  636.000000   636.000000      636.000000   \n",
       "mean   2012.490566    0.025157    13.682390        3.372642   \n",
       "std       2.773026    0.156726    23.908877        3.420338   \n",
       "min    2008.000000    0.000000     0.000000        0.000000   \n",
       "25%    2010.000000    0.000000     0.000000        0.000000   \n",
       "50%    2012.000000    0.000000     0.000000        4.000000   \n",
       "75%    2015.000000    0.000000    20.000000        7.000000   \n",
       "max    2017.000000    1.000000   146.000000       10.000000   \n",
       "\n",
       "       player_of_match_id    venue_id  \n",
       "count          633.000000  636.000000  \n",
       "mean           209.751975   10.179245  \n",
       "std            180.132037    9.403096  \n",
       "min              1.000000    1.000000  \n",
       "25%             69.000000    3.000000  \n",
       "50%            149.000000    7.000000  \n",
       "75%            321.000000   14.000000  \n",
       "max            691.000000   34.000000  "
      ]
     },
     "execution_count": 21,
     "metadata": {},
     "output_type": "execute_result"
    }
   ],
   "source": [
    "ipl_final.describe()"
   ]
  },
  {
   "cell_type": "code",
   "execution_count": 22,
   "metadata": {},
   "outputs": [
    {
     "data": {
      "text/html": [
       "<div>\n",
       "<style scoped>\n",
       "    .dataframe tbody tr th:only-of-type {\n",
       "        vertical-align: middle;\n",
       "    }\n",
       "\n",
       "    .dataframe tbody tr th {\n",
       "        vertical-align: top;\n",
       "    }\n",
       "\n",
       "    .dataframe thead th {\n",
       "        text-align: right;\n",
       "    }\n",
       "</style>\n",
       "<table border=\"1\" class=\"dataframe\">\n",
       "  <thead>\n",
       "    <tr style=\"text-align: right;\">\n",
       "      <th></th>\n",
       "      <th>season</th>\n",
       "      <th>city</th>\n",
       "      <th>date</th>\n",
       "      <th>team1_id</th>\n",
       "      <th>team2_id</th>\n",
       "      <th>toss_winner</th>\n",
       "      <th>toss_decision</th>\n",
       "      <th>result</th>\n",
       "      <th>dl_applied</th>\n",
       "      <th>winner</th>\n",
       "      <th>win_by_runs</th>\n",
       "      <th>win_by_wickets</th>\n",
       "      <th>player_of_match</th>\n",
       "      <th>player_of_match_id</th>\n",
       "      <th>venue</th>\n",
       "      <th>venue_id</th>\n",
       "      <th>umpire1</th>\n",
       "      <th>umpire2</th>\n",
       "    </tr>\n",
       "  </thead>\n",
       "  <tbody>\n",
       "    <tr>\n",
       "      <th>count</th>\n",
       "      <td>636.000000</td>\n",
       "      <td>629</td>\n",
       "      <td>636</td>\n",
       "      <td>636</td>\n",
       "      <td>636</td>\n",
       "      <td>636</td>\n",
       "      <td>636</td>\n",
       "      <td>636</td>\n",
       "      <td>636.000000</td>\n",
       "      <td>633</td>\n",
       "      <td>636.000000</td>\n",
       "      <td>636.000000</td>\n",
       "      <td>633</td>\n",
       "      <td>633.000000</td>\n",
       "      <td>636</td>\n",
       "      <td>636.000000</td>\n",
       "      <td>635</td>\n",
       "      <td>635</td>\n",
       "    </tr>\n",
       "    <tr>\n",
       "      <th>unique</th>\n",
       "      <td>NaN</td>\n",
       "      <td>30</td>\n",
       "      <td>450</td>\n",
       "      <td>13</td>\n",
       "      <td>13</td>\n",
       "      <td>13</td>\n",
       "      <td>2</td>\n",
       "      <td>3</td>\n",
       "      <td>NaN</td>\n",
       "      <td>13</td>\n",
       "      <td>NaN</td>\n",
       "      <td>NaN</td>\n",
       "      <td>201</td>\n",
       "      <td>NaN</td>\n",
       "      <td>34</td>\n",
       "      <td>NaN</td>\n",
       "      <td>44</td>\n",
       "      <td>45</td>\n",
       "    </tr>\n",
       "    <tr>\n",
       "      <th>top</th>\n",
       "      <td>NaN</td>\n",
       "      <td>Mumbai</td>\n",
       "      <td>04-05-2008</td>\n",
       "      <td>MI</td>\n",
       "      <td>DD</td>\n",
       "      <td>MI</td>\n",
       "      <td>field</td>\n",
       "      <td>normal</td>\n",
       "      <td>NaN</td>\n",
       "      <td>MI</td>\n",
       "      <td>NaN</td>\n",
       "      <td>NaN</td>\n",
       "      <td>Chris Gayle</td>\n",
       "      <td>NaN</td>\n",
       "      <td>M.Chinnaswamy Stadium Bengaluru, Karnataka</td>\n",
       "      <td>NaN</td>\n",
       "      <td>HDPK Dharmasena</td>\n",
       "      <td>SJA Taufel</td>\n",
       "    </tr>\n",
       "    <tr>\n",
       "      <th>freq</th>\n",
       "      <td>NaN</td>\n",
       "      <td>85</td>\n",
       "      <td>2</td>\n",
       "      <td>82</td>\n",
       "      <td>84</td>\n",
       "      <td>85</td>\n",
       "      <td>363</td>\n",
       "      <td>626</td>\n",
       "      <td>NaN</td>\n",
       "      <td>92</td>\n",
       "      <td>NaN</td>\n",
       "      <td>NaN</td>\n",
       "      <td>18</td>\n",
       "      <td>NaN</td>\n",
       "      <td>66</td>\n",
       "      <td>NaN</td>\n",
       "      <td>73</td>\n",
       "      <td>54</td>\n",
       "    </tr>\n",
       "    <tr>\n",
       "      <th>mean</th>\n",
       "      <td>2012.490566</td>\n",
       "      <td>NaN</td>\n",
       "      <td>NaN</td>\n",
       "      <td>NaN</td>\n",
       "      <td>NaN</td>\n",
       "      <td>NaN</td>\n",
       "      <td>NaN</td>\n",
       "      <td>NaN</td>\n",
       "      <td>0.025157</td>\n",
       "      <td>NaN</td>\n",
       "      <td>13.682390</td>\n",
       "      <td>3.372642</td>\n",
       "      <td>NaN</td>\n",
       "      <td>209.751975</td>\n",
       "      <td>NaN</td>\n",
       "      <td>10.179245</td>\n",
       "      <td>NaN</td>\n",
       "      <td>NaN</td>\n",
       "    </tr>\n",
       "    <tr>\n",
       "      <th>std</th>\n",
       "      <td>2.773026</td>\n",
       "      <td>NaN</td>\n",
       "      <td>NaN</td>\n",
       "      <td>NaN</td>\n",
       "      <td>NaN</td>\n",
       "      <td>NaN</td>\n",
       "      <td>NaN</td>\n",
       "      <td>NaN</td>\n",
       "      <td>0.156726</td>\n",
       "      <td>NaN</td>\n",
       "      <td>23.908877</td>\n",
       "      <td>3.420338</td>\n",
       "      <td>NaN</td>\n",
       "      <td>180.132037</td>\n",
       "      <td>NaN</td>\n",
       "      <td>9.403096</td>\n",
       "      <td>NaN</td>\n",
       "      <td>NaN</td>\n",
       "    </tr>\n",
       "    <tr>\n",
       "      <th>min</th>\n",
       "      <td>2008.000000</td>\n",
       "      <td>NaN</td>\n",
       "      <td>NaN</td>\n",
       "      <td>NaN</td>\n",
       "      <td>NaN</td>\n",
       "      <td>NaN</td>\n",
       "      <td>NaN</td>\n",
       "      <td>NaN</td>\n",
       "      <td>0.000000</td>\n",
       "      <td>NaN</td>\n",
       "      <td>0.000000</td>\n",
       "      <td>0.000000</td>\n",
       "      <td>NaN</td>\n",
       "      <td>1.000000</td>\n",
       "      <td>NaN</td>\n",
       "      <td>1.000000</td>\n",
       "      <td>NaN</td>\n",
       "      <td>NaN</td>\n",
       "    </tr>\n",
       "    <tr>\n",
       "      <th>25%</th>\n",
       "      <td>2010.000000</td>\n",
       "      <td>NaN</td>\n",
       "      <td>NaN</td>\n",
       "      <td>NaN</td>\n",
       "      <td>NaN</td>\n",
       "      <td>NaN</td>\n",
       "      <td>NaN</td>\n",
       "      <td>NaN</td>\n",
       "      <td>0.000000</td>\n",
       "      <td>NaN</td>\n",
       "      <td>0.000000</td>\n",
       "      <td>0.000000</td>\n",
       "      <td>NaN</td>\n",
       "      <td>69.000000</td>\n",
       "      <td>NaN</td>\n",
       "      <td>3.000000</td>\n",
       "      <td>NaN</td>\n",
       "      <td>NaN</td>\n",
       "    </tr>\n",
       "    <tr>\n",
       "      <th>50%</th>\n",
       "      <td>2012.000000</td>\n",
       "      <td>NaN</td>\n",
       "      <td>NaN</td>\n",
       "      <td>NaN</td>\n",
       "      <td>NaN</td>\n",
       "      <td>NaN</td>\n",
       "      <td>NaN</td>\n",
       "      <td>NaN</td>\n",
       "      <td>0.000000</td>\n",
       "      <td>NaN</td>\n",
       "      <td>0.000000</td>\n",
       "      <td>4.000000</td>\n",
       "      <td>NaN</td>\n",
       "      <td>149.000000</td>\n",
       "      <td>NaN</td>\n",
       "      <td>7.000000</td>\n",
       "      <td>NaN</td>\n",
       "      <td>NaN</td>\n",
       "    </tr>\n",
       "    <tr>\n",
       "      <th>75%</th>\n",
       "      <td>2015.000000</td>\n",
       "      <td>NaN</td>\n",
       "      <td>NaN</td>\n",
       "      <td>NaN</td>\n",
       "      <td>NaN</td>\n",
       "      <td>NaN</td>\n",
       "      <td>NaN</td>\n",
       "      <td>NaN</td>\n",
       "      <td>0.000000</td>\n",
       "      <td>NaN</td>\n",
       "      <td>20.000000</td>\n",
       "      <td>7.000000</td>\n",
       "      <td>NaN</td>\n",
       "      <td>321.000000</td>\n",
       "      <td>NaN</td>\n",
       "      <td>14.000000</td>\n",
       "      <td>NaN</td>\n",
       "      <td>NaN</td>\n",
       "    </tr>\n",
       "    <tr>\n",
       "      <th>max</th>\n",
       "      <td>2017.000000</td>\n",
       "      <td>NaN</td>\n",
       "      <td>NaN</td>\n",
       "      <td>NaN</td>\n",
       "      <td>NaN</td>\n",
       "      <td>NaN</td>\n",
       "      <td>NaN</td>\n",
       "      <td>NaN</td>\n",
       "      <td>1.000000</td>\n",
       "      <td>NaN</td>\n",
       "      <td>146.000000</td>\n",
       "      <td>10.000000</td>\n",
       "      <td>NaN</td>\n",
       "      <td>691.000000</td>\n",
       "      <td>NaN</td>\n",
       "      <td>34.000000</td>\n",
       "      <td>NaN</td>\n",
       "      <td>NaN</td>\n",
       "    </tr>\n",
       "  </tbody>\n",
       "</table>\n",
       "</div>"
      ],
      "text/plain": [
       "             season    city        date team1_id team2_id toss_winner  \\\n",
       "count    636.000000     629         636      636      636         636   \n",
       "unique          NaN      30         450       13       13          13   \n",
       "top             NaN  Mumbai  04-05-2008       MI       DD          MI   \n",
       "freq            NaN      85           2       82       84          85   \n",
       "mean    2012.490566     NaN         NaN      NaN      NaN         NaN   \n",
       "std        2.773026     NaN         NaN      NaN      NaN         NaN   \n",
       "min     2008.000000     NaN         NaN      NaN      NaN         NaN   \n",
       "25%     2010.000000     NaN         NaN      NaN      NaN         NaN   \n",
       "50%     2012.000000     NaN         NaN      NaN      NaN         NaN   \n",
       "75%     2015.000000     NaN         NaN      NaN      NaN         NaN   \n",
       "max     2017.000000     NaN         NaN      NaN      NaN         NaN   \n",
       "\n",
       "       toss_decision  result  dl_applied winner  win_by_runs  win_by_wickets  \\\n",
       "count            636     636  636.000000    633   636.000000      636.000000   \n",
       "unique             2       3         NaN     13          NaN             NaN   \n",
       "top            field  normal         NaN     MI          NaN             NaN   \n",
       "freq             363     626         NaN     92          NaN             NaN   \n",
       "mean             NaN     NaN    0.025157    NaN    13.682390        3.372642   \n",
       "std              NaN     NaN    0.156726    NaN    23.908877        3.420338   \n",
       "min              NaN     NaN    0.000000    NaN     0.000000        0.000000   \n",
       "25%              NaN     NaN    0.000000    NaN     0.000000        0.000000   \n",
       "50%              NaN     NaN    0.000000    NaN     0.000000        4.000000   \n",
       "75%              NaN     NaN    0.000000    NaN    20.000000        7.000000   \n",
       "max              NaN     NaN    1.000000    NaN   146.000000       10.000000   \n",
       "\n",
       "       player_of_match  player_of_match_id  \\\n",
       "count              633          633.000000   \n",
       "unique             201                 NaN   \n",
       "top        Chris Gayle                 NaN   \n",
       "freq                18                 NaN   \n",
       "mean               NaN          209.751975   \n",
       "std                NaN          180.132037   \n",
       "min                NaN            1.000000   \n",
       "25%                NaN           69.000000   \n",
       "50%                NaN          149.000000   \n",
       "75%                NaN          321.000000   \n",
       "max                NaN          691.000000   \n",
       "\n",
       "                                             venue    venue_id  \\\n",
       "count                                          636  636.000000   \n",
       "unique                                          34         NaN   \n",
       "top     M.Chinnaswamy Stadium Bengaluru, Karnataka         NaN   \n",
       "freq                                            66         NaN   \n",
       "mean                                           NaN   10.179245   \n",
       "std                                            NaN    9.403096   \n",
       "min                                            NaN    1.000000   \n",
       "25%                                            NaN    3.000000   \n",
       "50%                                            NaN    7.000000   \n",
       "75%                                            NaN   14.000000   \n",
       "max                                            NaN   34.000000   \n",
       "\n",
       "                umpire1     umpire2  \n",
       "count               635         635  \n",
       "unique               44          45  \n",
       "top     HDPK Dharmasena  SJA Taufel  \n",
       "freq                 73          54  \n",
       "mean                NaN         NaN  \n",
       "std                 NaN         NaN  \n",
       "min                 NaN         NaN  \n",
       "25%                 NaN         NaN  \n",
       "50%                 NaN         NaN  \n",
       "75%                 NaN         NaN  \n",
       "max                 NaN         NaN  "
      ]
     },
     "execution_count": 22,
     "metadata": {},
     "output_type": "execute_result"
    }
   ],
   "source": [
    "ipl_final.describe(include='all')"
   ]
  },
  {
   "cell_type": "markdown",
   "metadata": {},
   "source": [
    "## **Dropping columns**"
   ]
  },
  {
   "cell_type": "code",
   "execution_count": 23,
   "metadata": {},
   "outputs": [
    {
     "data": {
      "text/plain": [
       "Index(['season', 'city', 'date', 'team1_id', 'team2_id', 'toss_winner',\n",
       "       'toss_decision', 'result', 'dl_applied', 'winner', 'win_by_runs',\n",
       "       'win_by_wickets', 'player_of_match', 'player_of_match_id', 'venue',\n",
       "       'venue_id', 'umpire1', 'umpire2'],\n",
       "      dtype='object')"
      ]
     },
     "execution_count": 23,
     "metadata": {},
     "output_type": "execute_result"
    }
   ],
   "source": [
    "ipl_final.columns"
   ]
  },
  {
   "cell_type": "code",
   "execution_count": 24,
   "metadata": {
    "ExecuteTime": {
     "end_time": "2019-10-12T17:15:46.853623Z",
     "start_time": "2019-10-12T17:15:46.828694Z"
    }
   },
   "outputs": [
    {
     "data": {
      "text/html": [
       "<div>\n",
       "<style scoped>\n",
       "    .dataframe tbody tr th:only-of-type {\n",
       "        vertical-align: middle;\n",
       "    }\n",
       "\n",
       "    .dataframe tbody tr th {\n",
       "        vertical-align: top;\n",
       "    }\n",
       "\n",
       "    .dataframe thead th {\n",
       "        text-align: right;\n",
       "    }\n",
       "</style>\n",
       "<table border=\"1\" class=\"dataframe\">\n",
       "  <thead>\n",
       "    <tr style=\"text-align: right;\">\n",
       "      <th></th>\n",
       "      <th>season</th>\n",
       "      <th>city</th>\n",
       "      <th>date</th>\n",
       "      <th>team1_id</th>\n",
       "      <th>team2_id</th>\n",
       "      <th>toss_winner</th>\n",
       "      <th>toss_decision</th>\n",
       "      <th>result</th>\n",
       "      <th>dl_applied</th>\n",
       "      <th>winner</th>\n",
       "      <th>win_by_runs</th>\n",
       "      <th>win_by_wickets</th>\n",
       "      <th>player_of_match</th>\n",
       "      <th>player_of_match_id</th>\n",
       "      <th>venue</th>\n",
       "      <th>umpire1</th>\n",
       "      <th>umpire2</th>\n",
       "    </tr>\n",
       "    <tr>\n",
       "      <th>match_id</th>\n",
       "      <th></th>\n",
       "      <th></th>\n",
       "      <th></th>\n",
       "      <th></th>\n",
       "      <th></th>\n",
       "      <th></th>\n",
       "      <th></th>\n",
       "      <th></th>\n",
       "      <th></th>\n",
       "      <th></th>\n",
       "      <th></th>\n",
       "      <th></th>\n",
       "      <th></th>\n",
       "      <th></th>\n",
       "      <th></th>\n",
       "      <th></th>\n",
       "      <th></th>\n",
       "    </tr>\n",
       "  </thead>\n",
       "  <tbody>\n",
       "    <tr>\n",
       "      <th>2008_1</th>\n",
       "      <td>2008</td>\n",
       "      <td>Bangalore</td>\n",
       "      <td>18-04-2008</td>\n",
       "      <td>KKR</td>\n",
       "      <td>RCB</td>\n",
       "      <td>RCB</td>\n",
       "      <td>field</td>\n",
       "      <td>normal</td>\n",
       "      <td>0</td>\n",
       "      <td>KKR</td>\n",
       "      <td>140</td>\n",
       "      <td>0</td>\n",
       "      <td>Brendon McCullum</td>\n",
       "      <td>82.0</td>\n",
       "      <td>M.Chinnaswamy Stadium Bengaluru, Karnataka</td>\n",
       "      <td>Asad Rauf</td>\n",
       "      <td>RE Koertzen</td>\n",
       "    </tr>\n",
       "    <tr>\n",
       "      <th>2008_2</th>\n",
       "      <td>2008</td>\n",
       "      <td>Chandigarh</td>\n",
       "      <td>19-04-2008</td>\n",
       "      <td>CSK</td>\n",
       "      <td>KXI</td>\n",
       "      <td>CSK</td>\n",
       "      <td>bat</td>\n",
       "      <td>normal</td>\n",
       "      <td>0</td>\n",
       "      <td>CSK</td>\n",
       "      <td>33</td>\n",
       "      <td>0</td>\n",
       "      <td>Michael Hussey</td>\n",
       "      <td>18.0</td>\n",
       "      <td>I.S. Bindra Punjab Cricket Association Stadium...</td>\n",
       "      <td>MR Benson</td>\n",
       "      <td>SL Shastri</td>\n",
       "    </tr>\n",
       "    <tr>\n",
       "      <th>2008_3</th>\n",
       "      <td>2008</td>\n",
       "      <td>Delhi</td>\n",
       "      <td>19-04-2008</td>\n",
       "      <td>RR</td>\n",
       "      <td>DD</td>\n",
       "      <td>RR</td>\n",
       "      <td>bat</td>\n",
       "      <td>normal</td>\n",
       "      <td>0</td>\n",
       "      <td>DD</td>\n",
       "      <td>0</td>\n",
       "      <td>9</td>\n",
       "      <td>Farveez Maharoof</td>\n",
       "      <td>60.0</td>\n",
       "      <td>Feroz Shah Kotla Stadium, Delhi</td>\n",
       "      <td>Aleem Dar</td>\n",
       "      <td>GA Pratapkumar</td>\n",
       "    </tr>\n",
       "  </tbody>\n",
       "</table>\n",
       "</div>"
      ],
      "text/plain": [
       "          season        city        date team1_id team2_id toss_winner  \\\n",
       "match_id                                                                 \n",
       "2008_1      2008   Bangalore  18-04-2008      KKR      RCB         RCB   \n",
       "2008_2      2008  Chandigarh  19-04-2008      CSK      KXI         CSK   \n",
       "2008_3      2008       Delhi  19-04-2008       RR       DD          RR   \n",
       "\n",
       "         toss_decision  result  dl_applied winner  win_by_runs  \\\n",
       "match_id                                                         \n",
       "2008_1           field  normal           0    KKR          140   \n",
       "2008_2             bat  normal           0    CSK           33   \n",
       "2008_3             bat  normal           0     DD            0   \n",
       "\n",
       "          win_by_wickets   player_of_match  player_of_match_id  \\\n",
       "match_id                                                         \n",
       "2008_1                 0  Brendon McCullum                82.0   \n",
       "2008_2                 0    Michael Hussey                18.0   \n",
       "2008_3                 9  Farveez Maharoof                60.0   \n",
       "\n",
       "                                                      venue    umpire1  \\\n",
       "match_id                                                                 \n",
       "2008_1           M.Chinnaswamy Stadium Bengaluru, Karnataka  Asad Rauf   \n",
       "2008_2    I.S. Bindra Punjab Cricket Association Stadium...  MR Benson   \n",
       "2008_3                      Feroz Shah Kotla Stadium, Delhi  Aleem Dar   \n",
       "\n",
       "                 umpire2  \n",
       "match_id                  \n",
       "2008_1       RE Koertzen  \n",
       "2008_2        SL Shastri  \n",
       "2008_3    GA Pratapkumar  "
      ]
     },
     "execution_count": 24,
     "metadata": {},
     "output_type": "execute_result"
    }
   ],
   "source": [
    "# Dropping Column\n",
    "ipl_final.drop(['venue_id'], axis=1, inplace=True)    # Axis = 1 for columns\n",
    "\n",
    "ipl_final.head(3)"
   ]
  },
  {
   "cell_type": "markdown",
   "metadata": {},
   "source": [
    "## **Dropping row**"
   ]
  },
  {
   "cell_type": "code",
   "execution_count": 25,
   "metadata": {
    "ExecuteTime": {
     "end_time": "2019-10-12T17:15:50.079910Z",
     "start_time": "2019-10-12T17:15:50.059922Z"
    }
   },
   "outputs": [
    {
     "data": {
      "text/html": [
       "<div>\n",
       "<style scoped>\n",
       "    .dataframe tbody tr th:only-of-type {\n",
       "        vertical-align: middle;\n",
       "    }\n",
       "\n",
       "    .dataframe tbody tr th {\n",
       "        vertical-align: top;\n",
       "    }\n",
       "\n",
       "    .dataframe thead th {\n",
       "        text-align: right;\n",
       "    }\n",
       "</style>\n",
       "<table border=\"1\" class=\"dataframe\">\n",
       "  <thead>\n",
       "    <tr style=\"text-align: right;\">\n",
       "      <th></th>\n",
       "      <th>season</th>\n",
       "      <th>city</th>\n",
       "      <th>date</th>\n",
       "      <th>team1_id</th>\n",
       "      <th>team2_id</th>\n",
       "      <th>toss_winner</th>\n",
       "      <th>toss_decision</th>\n",
       "      <th>result</th>\n",
       "      <th>dl_applied</th>\n",
       "      <th>winner</th>\n",
       "      <th>win_by_runs</th>\n",
       "      <th>win_by_wickets</th>\n",
       "      <th>player_of_match</th>\n",
       "      <th>player_of_match_id</th>\n",
       "      <th>venue</th>\n",
       "      <th>umpire1</th>\n",
       "      <th>umpire2</th>\n",
       "    </tr>\n",
       "    <tr>\n",
       "      <th>match_id</th>\n",
       "      <th></th>\n",
       "      <th></th>\n",
       "      <th></th>\n",
       "      <th></th>\n",
       "      <th></th>\n",
       "      <th></th>\n",
       "      <th></th>\n",
       "      <th></th>\n",
       "      <th></th>\n",
       "      <th></th>\n",
       "      <th></th>\n",
       "      <th></th>\n",
       "      <th></th>\n",
       "      <th></th>\n",
       "      <th></th>\n",
       "      <th></th>\n",
       "      <th></th>\n",
       "    </tr>\n",
       "  </thead>\n",
       "  <tbody>\n",
       "    <tr>\n",
       "      <th>2008_2</th>\n",
       "      <td>2008</td>\n",
       "      <td>Chandigarh</td>\n",
       "      <td>19-04-2008</td>\n",
       "      <td>CSK</td>\n",
       "      <td>KXI</td>\n",
       "      <td>CSK</td>\n",
       "      <td>bat</td>\n",
       "      <td>normal</td>\n",
       "      <td>0</td>\n",
       "      <td>CSK</td>\n",
       "      <td>33</td>\n",
       "      <td>0</td>\n",
       "      <td>Michael Hussey</td>\n",
       "      <td>18.0</td>\n",
       "      <td>I.S. Bindra Punjab Cricket Association Stadium...</td>\n",
       "      <td>MR Benson</td>\n",
       "      <td>SL Shastri</td>\n",
       "    </tr>\n",
       "    <tr>\n",
       "      <th>2008_3</th>\n",
       "      <td>2008</td>\n",
       "      <td>Delhi</td>\n",
       "      <td>19-04-2008</td>\n",
       "      <td>RR</td>\n",
       "      <td>DD</td>\n",
       "      <td>RR</td>\n",
       "      <td>bat</td>\n",
       "      <td>normal</td>\n",
       "      <td>0</td>\n",
       "      <td>DD</td>\n",
       "      <td>0</td>\n",
       "      <td>9</td>\n",
       "      <td>Farveez Maharoof</td>\n",
       "      <td>60.0</td>\n",
       "      <td>Feroz Shah Kotla Stadium, Delhi</td>\n",
       "      <td>Aleem Dar</td>\n",
       "      <td>GA Pratapkumar</td>\n",
       "    </tr>\n",
       "    <tr>\n",
       "      <th>2008_4</th>\n",
       "      <td>2008</td>\n",
       "      <td>Mumbai</td>\n",
       "      <td>20-04-2008</td>\n",
       "      <td>MI</td>\n",
       "      <td>RCB</td>\n",
       "      <td>MI</td>\n",
       "      <td>bat</td>\n",
       "      <td>normal</td>\n",
       "      <td>0</td>\n",
       "      <td>RCB</td>\n",
       "      <td>0</td>\n",
       "      <td>5</td>\n",
       "      <td>Mark Boucher</td>\n",
       "      <td>145.0</td>\n",
       "      <td>Wankhede Stadium, Mumbai, Maharashtra</td>\n",
       "      <td>SJ Davis</td>\n",
       "      <td>DJ Harper</td>\n",
       "    </tr>\n",
       "  </tbody>\n",
       "</table>\n",
       "</div>"
      ],
      "text/plain": [
       "          season        city        date team1_id team2_id toss_winner  \\\n",
       "match_id                                                                 \n",
       "2008_2      2008  Chandigarh  19-04-2008      CSK      KXI         CSK   \n",
       "2008_3      2008       Delhi  19-04-2008       RR       DD          RR   \n",
       "2008_4      2008      Mumbai  20-04-2008       MI      RCB          MI   \n",
       "\n",
       "         toss_decision  result  dl_applied winner  win_by_runs  \\\n",
       "match_id                                                         \n",
       "2008_2             bat  normal           0    CSK           33   \n",
       "2008_3             bat  normal           0     DD            0   \n",
       "2008_4             bat  normal           0    RCB            0   \n",
       "\n",
       "          win_by_wickets   player_of_match  player_of_match_id  \\\n",
       "match_id                                                         \n",
       "2008_2                 0    Michael Hussey                18.0   \n",
       "2008_3                 9  Farveez Maharoof                60.0   \n",
       "2008_4                 5      Mark Boucher               145.0   \n",
       "\n",
       "                                                      venue    umpire1  \\\n",
       "match_id                                                                 \n",
       "2008_2    I.S. Bindra Punjab Cricket Association Stadium...  MR Benson   \n",
       "2008_3                      Feroz Shah Kotla Stadium, Delhi  Aleem Dar   \n",
       "2008_4                Wankhede Stadium, Mumbai, Maharashtra   SJ Davis   \n",
       "\n",
       "                 umpire2  \n",
       "match_id                  \n",
       "2008_2        SL Shastri  \n",
       "2008_3    GA Pratapkumar  \n",
       "2008_4         DJ Harper  "
      ]
     },
     "execution_count": 25,
     "metadata": {},
     "output_type": "execute_result"
    }
   ],
   "source": [
    "# Dropping rows\n",
    "ipl_final.drop(['2008_1','2009_1','2010_1'], axis=0, inplace=True)  # Axis = 0 for rows\n",
    "\n",
    "ipl_final.head(3)"
   ]
  },
  {
   "cell_type": "markdown",
   "metadata": {},
   "source": [
    "## **Frequency distribution**"
   ]
  },
  {
   "cell_type": "code",
   "execution_count": 26,
   "metadata": {
    "scrolled": true
   },
   "outputs": [
    {
     "data": {
      "text/plain": [
       "MI     91\n",
       "CSK    79\n",
       "KKR    75\n",
       "RCB    73\n",
       "KXI    70\n",
       "RR     63\n",
       "DD     62\n",
       "SRH    42\n",
       "DC     29\n",
       "RPS    15\n",
       "GL     13\n",
       "PW     12\n",
       "KTK     6\n",
       "Name: winner, dtype: int64"
      ]
     },
     "execution_count": 26,
     "metadata": {},
     "output_type": "execute_result"
    }
   ],
   "source": [
    "ipl_final['winner'].value_counts()       # table() in R - Frequency count"
   ]
  },
  {
   "cell_type": "markdown",
   "metadata": {},
   "source": [
    "## **loc (to subset data by Row/Column labels)**"
   ]
  },
  {
   "cell_type": "code",
   "execution_count": 27,
   "metadata": {},
   "outputs": [
    {
     "data": {
      "text/html": [
       "<div>\n",
       "<style scoped>\n",
       "    .dataframe tbody tr th:only-of-type {\n",
       "        vertical-align: middle;\n",
       "    }\n",
       "\n",
       "    .dataframe tbody tr th {\n",
       "        vertical-align: top;\n",
       "    }\n",
       "\n",
       "    .dataframe thead th {\n",
       "        text-align: right;\n",
       "    }\n",
       "</style>\n",
       "<table border=\"1\" class=\"dataframe\">\n",
       "  <thead>\n",
       "    <tr style=\"text-align: right;\">\n",
       "      <th></th>\n",
       "      <th>venue</th>\n",
       "      <th>winner</th>\n",
       "    </tr>\n",
       "    <tr>\n",
       "      <th>match_id</th>\n",
       "      <th></th>\n",
       "      <th></th>\n",
       "    </tr>\n",
       "  </thead>\n",
       "  <tbody>\n",
       "    <tr>\n",
       "      <th>2008_2</th>\n",
       "      <td>I.S. Bindra Punjab Cricket Association Stadium...</td>\n",
       "      <td>CSK</td>\n",
       "    </tr>\n",
       "    <tr>\n",
       "      <th>2008_3</th>\n",
       "      <td>Feroz Shah Kotla Stadium, Delhi</td>\n",
       "      <td>DD</td>\n",
       "    </tr>\n",
       "    <tr>\n",
       "      <th>2008_4</th>\n",
       "      <td>Wankhede Stadium, Mumbai, Maharashtra</td>\n",
       "      <td>RCB</td>\n",
       "    </tr>\n",
       "  </tbody>\n",
       "</table>\n",
       "</div>"
      ],
      "text/plain": [
       "                                                      venue winner\n",
       "match_id                                                          \n",
       "2008_2    I.S. Bindra Punjab Cricket Association Stadium...    CSK\n",
       "2008_3                      Feroz Shah Kotla Stadium, Delhi     DD\n",
       "2008_4                Wankhede Stadium, Mumbai, Maharashtra    RCB"
      ]
     },
     "execution_count": 27,
     "metadata": {},
     "output_type": "execute_result"
    }
   ],
   "source": [
    "## Label based indexing make more sense for column subsetting\n",
    "subset1 = ipl_final.loc[:,['venue','winner']]\n",
    "subset1.head(3)"
   ]
  },
  {
   "cell_type": "code",
   "execution_count": 28,
   "metadata": {},
   "outputs": [
    {
     "data": {
      "text/html": [
       "<div>\n",
       "<style scoped>\n",
       "    .dataframe tbody tr th:only-of-type {\n",
       "        vertical-align: middle;\n",
       "    }\n",
       "\n",
       "    .dataframe tbody tr th {\n",
       "        vertical-align: top;\n",
       "    }\n",
       "\n",
       "    .dataframe thead th {\n",
       "        text-align: right;\n",
       "    }\n",
       "</style>\n",
       "<table border=\"1\" class=\"dataframe\">\n",
       "  <thead>\n",
       "    <tr style=\"text-align: right;\">\n",
       "      <th></th>\n",
       "      <th>venue</th>\n",
       "      <th>winner</th>\n",
       "    </tr>\n",
       "    <tr>\n",
       "      <th>match_id</th>\n",
       "      <th></th>\n",
       "      <th></th>\n",
       "    </tr>\n",
       "  </thead>\n",
       "  <tbody>\n",
       "    <tr>\n",
       "      <th>2008_2</th>\n",
       "      <td>I.S. Bindra Punjab Cricket Association Stadium...</td>\n",
       "      <td>CSK</td>\n",
       "    </tr>\n",
       "    <tr>\n",
       "      <th>2009_2</th>\n",
       "      <td>Newlands</td>\n",
       "      <td>RCB</td>\n",
       "    </tr>\n",
       "    <tr>\n",
       "      <th>2010_2</th>\n",
       "      <td>Brabourne Stadium</td>\n",
       "      <td>MI</td>\n",
       "    </tr>\n",
       "  </tbody>\n",
       "</table>\n",
       "</div>"
      ],
      "text/plain": [
       "                                                      venue winner\n",
       "match_id                                                          \n",
       "2008_2    I.S. Bindra Punjab Cricket Association Stadium...    CSK\n",
       "2009_2                                             Newlands    RCB\n",
       "2010_2                                    Brabourne Stadium     MI"
      ]
     },
     "execution_count": 28,
     "metadata": {},
     "output_type": "execute_result"
    }
   ],
   "source": [
    "## For loc based subsetting using row and column indexer together is rare.\n",
    "subset2 = ipl_final.loc[['2008_2','2009_2','2010_2',],['venue','winner']]\n",
    "subset2.head(3)"
   ]
  },
  {
   "cell_type": "markdown",
   "metadata": {},
   "source": [
    "## **iloc    (to subset data based on Row/Column number)**"
   ]
  },
  {
   "cell_type": "code",
   "execution_count": 29,
   "metadata": {},
   "outputs": [
    {
     "data": {
      "text/html": [
       "<div>\n",
       "<style scoped>\n",
       "    .dataframe tbody tr th:only-of-type {\n",
       "        vertical-align: middle;\n",
       "    }\n",
       "\n",
       "    .dataframe tbody tr th {\n",
       "        vertical-align: top;\n",
       "    }\n",
       "\n",
       "    .dataframe thead th {\n",
       "        text-align: right;\n",
       "    }\n",
       "</style>\n",
       "<table border=\"1\" class=\"dataframe\">\n",
       "  <thead>\n",
       "    <tr style=\"text-align: right;\">\n",
       "      <th></th>\n",
       "      <th>match_id</th>\n",
       "      <th>season</th>\n",
       "      <th>city</th>\n",
       "      <th>date</th>\n",
       "      <th>team1_id</th>\n",
       "      <th>team2_id</th>\n",
       "      <th>toss_winner</th>\n",
       "      <th>toss_decision</th>\n",
       "      <th>result</th>\n",
       "      <th>dl_applied</th>\n",
       "      <th>winner</th>\n",
       "      <th>win_by_runs</th>\n",
       "      <th>win_by_wickets</th>\n",
       "      <th>player_of_match</th>\n",
       "      <th>player_of_match_id</th>\n",
       "      <th>venue</th>\n",
       "      <th>venue_id</th>\n",
       "      <th>umpire1</th>\n",
       "      <th>umpire2</th>\n",
       "    </tr>\n",
       "  </thead>\n",
       "  <tbody>\n",
       "    <tr>\n",
       "      <th>0</th>\n",
       "      <td>2008_1</td>\n",
       "      <td>2008</td>\n",
       "      <td>Bangalore</td>\n",
       "      <td>18-04-2008</td>\n",
       "      <td>KKR</td>\n",
       "      <td>RCB</td>\n",
       "      <td>RCB</td>\n",
       "      <td>field</td>\n",
       "      <td>normal</td>\n",
       "      <td>0</td>\n",
       "      <td>KKR</td>\n",
       "      <td>140</td>\n",
       "      <td>0</td>\n",
       "      <td>Brendon McCullum</td>\n",
       "      <td>82.0</td>\n",
       "      <td>M.Chinnaswamy Stadium Bengaluru, Karnataka</td>\n",
       "      <td>7</td>\n",
       "      <td>Asad Rauf</td>\n",
       "      <td>RE Koertzen</td>\n",
       "    </tr>\n",
       "    <tr>\n",
       "      <th>1</th>\n",
       "      <td>2008_2</td>\n",
       "      <td>2008</td>\n",
       "      <td>Chandigarh</td>\n",
       "      <td>19-04-2008</td>\n",
       "      <td>CSK</td>\n",
       "      <td>KXI</td>\n",
       "      <td>CSK</td>\n",
       "      <td>bat</td>\n",
       "      <td>normal</td>\n",
       "      <td>0</td>\n",
       "      <td>CSK</td>\n",
       "      <td>33</td>\n",
       "      <td>0</td>\n",
       "      <td>Michael Hussey</td>\n",
       "      <td>18.0</td>\n",
       "      <td>I.S. Bindra Punjab Cricket Association Stadium...</td>\n",
       "      <td>9</td>\n",
       "      <td>MR Benson</td>\n",
       "      <td>SL Shastri</td>\n",
       "    </tr>\n",
       "    <tr>\n",
       "      <th>2</th>\n",
       "      <td>2008_3</td>\n",
       "      <td>2008</td>\n",
       "      <td>Delhi</td>\n",
       "      <td>19-04-2008</td>\n",
       "      <td>RR</td>\n",
       "      <td>DD</td>\n",
       "      <td>RR</td>\n",
       "      <td>bat</td>\n",
       "      <td>normal</td>\n",
       "      <td>0</td>\n",
       "      <td>DD</td>\n",
       "      <td>0</td>\n",
       "      <td>9</td>\n",
       "      <td>Farveez Maharoof</td>\n",
       "      <td>60.0</td>\n",
       "      <td>Feroz Shah Kotla Stadium, Delhi</td>\n",
       "      <td>2</td>\n",
       "      <td>Aleem Dar</td>\n",
       "      <td>GA Pratapkumar</td>\n",
       "    </tr>\n",
       "  </tbody>\n",
       "</table>\n",
       "</div>"
      ],
      "text/plain": [
       "  match_id  season        city        date team1_id team2_id toss_winner  \\\n",
       "0   2008_1    2008   Bangalore  18-04-2008      KKR      RCB         RCB   \n",
       "1   2008_2    2008  Chandigarh  19-04-2008      CSK      KXI         CSK   \n",
       "2   2008_3    2008       Delhi  19-04-2008       RR       DD          RR   \n",
       "\n",
       "  toss_decision  result  dl_applied winner  win_by_runs  win_by_wickets  \\\n",
       "0         field  normal           0    KKR          140               0   \n",
       "1           bat  normal           0    CSK           33               0   \n",
       "2           bat  normal           0     DD            0               9   \n",
       "\n",
       "    player_of_match  player_of_match_id  \\\n",
       "0  Brendon McCullum                82.0   \n",
       "1    Michael Hussey                18.0   \n",
       "2  Farveez Maharoof                60.0   \n",
       "\n",
       "                                               venue  venue_id    umpire1  \\\n",
       "0         M.Chinnaswamy Stadium Bengaluru, Karnataka         7  Asad Rauf   \n",
       "1  I.S. Bindra Punjab Cricket Association Stadium...         9  MR Benson   \n",
       "2                    Feroz Shah Kotla Stadium, Delhi         2  Aleem Dar   \n",
       "\n",
       "          umpire2  \n",
       "0     RE Koertzen  \n",
       "1      SL Shastri  \n",
       "2  GA Pratapkumar  "
      ]
     },
     "execution_count": 29,
     "metadata": {},
     "output_type": "execute_result"
    }
   ],
   "source": [
    "ipl.head(3)"
   ]
  },
  {
   "cell_type": "code",
   "execution_count": 30,
   "metadata": {
    "ExecuteTime": {
     "end_time": "2019-10-12T17:51:45.287007Z",
     "start_time": "2019-10-12T17:51:45.278031Z"
    }
   },
   "outputs": [
    {
     "data": {
      "text/html": [
       "<div>\n",
       "<style scoped>\n",
       "    .dataframe tbody tr th:only-of-type {\n",
       "        vertical-align: middle;\n",
       "    }\n",
       "\n",
       "    .dataframe tbody tr th {\n",
       "        vertical-align: top;\n",
       "    }\n",
       "\n",
       "    .dataframe thead th {\n",
       "        text-align: right;\n",
       "    }\n",
       "</style>\n",
       "<table border=\"1\" class=\"dataframe\">\n",
       "  <thead>\n",
       "    <tr style=\"text-align: right;\">\n",
       "      <th></th>\n",
       "      <th>season</th>\n",
       "      <th>city</th>\n",
       "      <th>date</th>\n",
       "      <th>team1_id</th>\n",
       "    </tr>\n",
       "  </thead>\n",
       "  <tbody>\n",
       "    <tr>\n",
       "      <th>50</th>\n",
       "      <td>2008</td>\n",
       "      <td>Chennai</td>\n",
       "      <td>24-05-2008</td>\n",
       "      <td>RR</td>\n",
       "    </tr>\n",
       "    <tr>\n",
       "      <th>51</th>\n",
       "      <td>2008</td>\n",
       "      <td>Bangalore</td>\n",
       "      <td>03-05-2008</td>\n",
       "      <td>RCB</td>\n",
       "    </tr>\n",
       "    <tr>\n",
       "      <th>52</th>\n",
       "      <td>2008</td>\n",
       "      <td>Kolkata</td>\n",
       "      <td>25-05-2008</td>\n",
       "      <td>KXI</td>\n",
       "    </tr>\n",
       "    <tr>\n",
       "      <th>53</th>\n",
       "      <td>2008</td>\n",
       "      <td>Jaipur</td>\n",
       "      <td>26-05-2008</td>\n",
       "      <td>MI</td>\n",
       "    </tr>\n",
       "  </tbody>\n",
       "</table>\n",
       "</div>"
      ],
      "text/plain": [
       "    season       city        date team1_id\n",
       "50    2008    Chennai  24-05-2008       RR\n",
       "51    2008  Bangalore  03-05-2008      RCB\n",
       "52    2008    Kolkata  25-05-2008      KXI\n",
       "53    2008     Jaipur  26-05-2008       MI"
      ]
     },
     "execution_count": 30,
     "metadata": {},
     "output_type": "execute_result"
    }
   ],
   "source": [
    "## Numeric based indexing usually makes sense for row subsetting \n",
    "ipl.iloc[50:54,1:5]"
   ]
  },
  {
   "cell_type": "markdown",
   "metadata": {},
   "source": [
    "## **Boolean indexing (to subset based on value in each cell of the column )**\n",
    "**Here we subsetting the data where the cell value in \"City\" column is equal to \"Hyderabad\"**"
   ]
  },
  {
   "cell_type": "code",
   "execution_count": 31,
   "metadata": {
    "ExecuteTime": {
     "end_time": "2019-10-12T17:51:47.334553Z",
     "start_time": "2019-10-12T17:51:47.318594Z"
    }
   },
   "outputs": [
    {
     "data": {
      "text/plain": [
       "(41, 19)"
      ]
     },
     "execution_count": 31,
     "metadata": {},
     "output_type": "execute_result"
    }
   ],
   "source": [
    "subset3 = ipl.loc[ipl['city']=='Hyderabad',:]\n",
    "subset3.shape"
   ]
  },
  {
   "cell_type": "markdown",
   "metadata": {},
   "source": [
    "## **Replace specific values**\n",
    "\n",
    "### Replace DC with SRH"
   ]
  },
  {
   "cell_type": "code",
   "execution_count": 32,
   "metadata": {},
   "outputs": [
    {
     "data": {
      "text/plain": [
       "MI     80\n",
       "CSK    79\n",
       "RCB    70\n",
       "KKR    68\n",
       "KXI    63\n",
       "RR     63\n",
       "DD     56\n",
       "SRH    34\n",
       "DC     29\n",
       "PW     12\n",
       "GL      9\n",
       "KTK     6\n",
       "RPS     5\n",
       "Name: winner, dtype: int64"
      ]
     },
     "execution_count": 32,
     "metadata": {},
     "output_type": "execute_result"
    }
   ],
   "source": [
    "ipl['winner'].value_counts()"
   ]
  },
  {
   "cell_type": "code",
   "execution_count": 33,
   "metadata": {
    "scrolled": true
   },
   "outputs": [
    {
     "data": {
      "text/plain": [
       "MI     80\n",
       "CSK    79\n",
       "RCB    70\n",
       "KKR    68\n",
       "SRH    63\n",
       "KXI    63\n",
       "RR     63\n",
       "DD     56\n",
       "PW     12\n",
       "GL      9\n",
       "KTK     6\n",
       "RPS     5\n",
       "Name: winner, dtype: int64"
      ]
     },
     "execution_count": 33,
     "metadata": {},
     "output_type": "execute_result"
    }
   ],
   "source": [
    "ipl.replace(['DC'], 'SRH', inplace=True)\n",
    "\n",
    "ipl['winner'].value_counts()"
   ]
  },
  {
   "cell_type": "markdown",
   "metadata": {},
   "source": [
    "## **ACTIVITY**"
   ]
  },
  {
   "cell_type": "markdown",
   "metadata": {},
   "source": [
    "1. Which matches were played on **2008-04-20** and who is the **winner**?\n",
    "2. Select all matches where CSK wins in Chennai, and should contain only **team1_id,team2_id,winner,city**"
   ]
  },
  {
   "cell_type": "code",
   "execution_count": 34,
   "metadata": {},
   "outputs": [
    {
     "data": {
      "text/html": [
       "<div>\n",
       "<style scoped>\n",
       "    .dataframe tbody tr th:only-of-type {\n",
       "        vertical-align: middle;\n",
       "    }\n",
       "\n",
       "    .dataframe tbody tr th {\n",
       "        vertical-align: top;\n",
       "    }\n",
       "\n",
       "    .dataframe thead th {\n",
       "        text-align: right;\n",
       "    }\n",
       "</style>\n",
       "<table border=\"1\" class=\"dataframe\">\n",
       "  <thead>\n",
       "    <tr style=\"text-align: right;\">\n",
       "      <th></th>\n",
       "      <th>team1_id</th>\n",
       "      <th>team2_id</th>\n",
       "      <th>winner</th>\n",
       "      <th>city</th>\n",
       "    </tr>\n",
       "  </thead>\n",
       "  <tbody>\n",
       "    <tr>\n",
       "      <th>7</th>\n",
       "      <td>CSK</td>\n",
       "      <td>MI</td>\n",
       "      <td>CSK</td>\n",
       "      <td>Chennai</td>\n",
       "    </tr>\n",
       "    <tr>\n",
       "      <th>11</th>\n",
       "      <td>KKR</td>\n",
       "      <td>CSK</td>\n",
       "      <td>CSK</td>\n",
       "      <td>Chennai</td>\n",
       "    </tr>\n",
       "    <tr>\n",
       "      <th>31</th>\n",
       "      <td>CSK</td>\n",
       "      <td>KXI</td>\n",
       "      <td>CSK</td>\n",
       "      <td>Chennai</td>\n",
       "    </tr>\n",
       "    <tr>\n",
       "      <th>142</th>\n",
       "      <td>RCB</td>\n",
       "      <td>CSK</td>\n",
       "      <td>CSK</td>\n",
       "      <td>Chennai</td>\n",
       "    </tr>\n",
       "    <tr>\n",
       "      <th>146</th>\n",
       "      <td>CSK</td>\n",
       "      <td>RR</td>\n",
       "      <td>CSK</td>\n",
       "      <td>Chennai</td>\n",
       "    </tr>\n",
       "  </tbody>\n",
       "</table>\n",
       "</div>"
      ],
      "text/plain": [
       "    team1_id team2_id winner     city\n",
       "7        CSK       MI    CSK  Chennai\n",
       "11       KKR      CSK    CSK  Chennai\n",
       "31       CSK      KXI    CSK  Chennai\n",
       "142      RCB      CSK    CSK  Chennai\n",
       "146      CSK       RR    CSK  Chennai"
      ]
     },
     "execution_count": 34,
     "metadata": {},
     "output_type": "execute_result"
    }
   ],
   "source": [
    "subset4 = ipl.loc[(ipl['city']=='Chennai') & (ipl['winner']=='CSK'),['team1_id','team2_id','winner','city']]\n",
    "\n",
    "subset4.head()"
   ]
  },
  {
   "cell_type": "code",
   "execution_count": 35,
   "metadata": {
    "scrolled": true
   },
   "outputs": [
    {
     "data": {
      "text/html": [
       "<div>\n",
       "<style scoped>\n",
       "    .dataframe tbody tr th:only-of-type {\n",
       "        vertical-align: middle;\n",
       "    }\n",
       "\n",
       "    .dataframe tbody tr th {\n",
       "        vertical-align: top;\n",
       "    }\n",
       "\n",
       "    .dataframe thead th {\n",
       "        text-align: right;\n",
       "    }\n",
       "</style>\n",
       "<table border=\"1\" class=\"dataframe\">\n",
       "  <thead>\n",
       "    <tr style=\"text-align: right;\">\n",
       "      <th></th>\n",
       "      <th>winner</th>\n",
       "    </tr>\n",
       "  </thead>\n",
       "  <tbody>\n",
       "    <tr>\n",
       "      <th>3</th>\n",
       "      <td>RCB</td>\n",
       "    </tr>\n",
       "    <tr>\n",
       "      <th>4</th>\n",
       "      <td>KKR</td>\n",
       "    </tr>\n",
       "  </tbody>\n",
       "</table>\n",
       "</div>"
      ],
      "text/plain": [
       "  winner\n",
       "3    RCB\n",
       "4    KKR"
      ]
     },
     "execution_count": 35,
     "metadata": {},
     "output_type": "execute_result"
    }
   ],
   "source": [
    "ipl.loc[ipl['date']=='20-04-2008',['winner']]"
   ]
  },
  {
   "cell_type": "markdown",
   "metadata": {},
   "source": [
    "## Additional Information"
   ]
  },
  {
   "cell_type": "markdown",
   "metadata": {
    "colab_type": "text",
    "id": "wZ0UHb2eAk1v"
   },
   "source": [
    "``Pandas`` is an open source Python library for data analysis. It gives Python the\n",
    "ability to work with spreadsheet-like data for fast data loading, manipulating,\n",
    "aligning, merging, etc. To give Python these enhanced features, Pandas\n",
    "introduces two new data types to Python: ``Series`` and ``DataFrame``. The\n",
    "DataFrame will represent your entire spreadsheet or rectangular data, whereas\n",
    "the Series is a single column of the DataFrame. A Pandas DataFrame can also\n",
    "be thought of as a dictionary or collection of Series.\n",
    "\n",
    "While NumPy and its ndarray object, which provides efficient storage and manipulation \n",
    "of dense typed arrays in Python. Pandas is a package built on top of NumPy, and provides an\n",
    "efficient implementation of a DataFrame. DataFrames are essentially multidimensional\n",
    "arrays with attached row and column labels, and often with heterogeneous\n",
    "types and/or missing data. As well as offering a convenient storage interface for\n",
    "labeled data, Pandas implements a number of powerful data operations familiar to\n",
    "users of both database frameworks and spreadsheet programs.\n",
    "\n",
    "NumPy’s ndarray data structure provides essential features for the type of\n",
    "clean, well-organized data typically seen in numerical computing tasks. While it\n",
    "serves this purpose very well, its limitations become clear when we need more flexibility\n",
    "(attaching labels to data, working with missing data, etc.) and when attempting\n",
    "operations that do not map well to element-wise broadcasting (groupings, pivots,\n",
    "etc.), each of which is an important piece of analyzing the less structured data available\n",
    "in many forms in the world around us. Pandas, and in particular its Series and\n",
    "DataFrame objects, builds on the NumPy array structure and provides efficient access\n",
    "to these sorts of “data munging” tasks that occupy much of a data scientist’s time."
   ]
  },
  {
   "cell_type": "markdown",
   "metadata": {
    "colab_type": "text",
    "id": "dY7dGeLdAk1x"
   },
   "source": [
    "Import ``pandas`` under the alias pd and check the version:"
   ]
  },
  {
   "cell_type": "code",
   "execution_count": 36,
   "metadata": {
    "colab": {
     "base_uri": "https://localhost:8080/",
     "height": 34
    },
    "colab_type": "code",
    "executionInfo": {
     "elapsed": 77255,
     "status": "ok",
     "timestamp": 1585196947498,
     "user": {
      "displayName": "Ramesh Melapu",
      "photoUrl": "",
      "userId": "14700472000537727532"
     },
     "user_tz": -330
    },
    "id": "gd3rVV52Ak1y",
    "outputId": "7c68b4a5-dcba-40dc-a3be-e500b99ea1db"
   },
   "outputs": [
    {
     "data": {
      "text/plain": [
       "'1.0.1'"
      ]
     },
     "execution_count": 36,
     "metadata": {},
     "output_type": "execute_result"
    }
   ],
   "source": [
    "import pandas as pd\n",
    "pd.__version__"
   ]
  },
  {
   "cell_type": "markdown",
   "metadata": {
    "colab_type": "text",
    "id": "PBL9Ls-1Ak15"
   },
   "source": [
    "***Reminder About Built-In Documentation***\n",
    "\n",
    "Remember, IPython gives you the ability to quickly explore the contents of a package \n",
    "(by using the tab-completion feature) as well as the documentation of various functions \n",
    "(using the ? character)."
   ]
  },
  {
   "cell_type": "markdown",
   "metadata": {
    "colab_type": "text",
    "id": "S6NRaPVUAk16"
   },
   "source": [
    "For example, to display all the contents of the pandas namespace, you can type this:"
   ]
  },
  {
   "cell_type": "markdown",
   "metadata": {
    "colab_type": "raw",
    "id": "YFomHniFAk18"
   },
   "source": [
    "pd.<TAB>"
   ]
  },
  {
   "cell_type": "markdown",
   "metadata": {
    "colab_type": "text",
    "id": "xLqREs2XAk19"
   },
   "source": [
    "And to display the built-in Pandas documentation, you can use this:"
   ]
  },
  {
   "cell_type": "markdown",
   "metadata": {
    "colab_type": "raw",
    "id": "y-uD-Jl5Ak1-"
   },
   "source": [
    "pd?"
   ]
  },
  {
   "cell_type": "markdown",
   "metadata": {
    "colab_type": "text",
    "id": "EUFwvLkBAk1_"
   },
   "source": [
    "More detailed documentation, along with tutorials and other resources, can be found\n",
    "at [Pandas](http://pandas.pydata.org/.)"
   ]
  }
 ],
 "metadata": {
  "kernelspec": {
   "display_name": "Python 3",
   "language": "python",
   "name": "python3"
  },
  "language_info": {
   "codemirror_mode": {
    "name": "ipython",
    "version": 3
   },
   "file_extension": ".py",
   "mimetype": "text/x-python",
   "name": "python",
   "nbconvert_exporter": "python",
   "pygments_lexer": "ipython3",
   "version": "3.7.6"
  }
 },
 "nbformat": 4,
 "nbformat_minor": 1
}
